{
 "cells": [
  {
   "cell_type": "markdown",
   "metadata": {},
   "source": [
    "# HyperSpy Fitting tutorial"
   ]
  },
  {
   "cell_type": "markdown",
   "metadata": {},
   "source": [
    "This tutorial shows the basics of model (currently only 1D) fitting in HyperSpy from the grounds up.\n",
    "\n",
    "__Minimum required version:__ HyperSpy 1.6"
   ]
  },
  {
   "cell_type": "markdown",
   "metadata": {},
   "source": [
    "## Authors:\n",
    "\n",
    "- 13/04/2015 Tomas Ostasevicius - Developed for HyperSpy workshop at University of Cambridge\n",
    "- 01/06/2016 Tomas Ostasevicius - updated and expanded for HyperSpy workshop at Scandem conference 2016\n",
    "- 22/07/2016 Tomas Ostasevicius - updated for HyperSpy version 1.0\n",
    "- 19/04/2021 Francisco de la Peña - new synthetic dataset. Add standard deviation discussion.\n",
    "- 20/04/2021 Francisco de la Peña - Tweak dataset to always fail with `iterpath=\"flyback\"`. Add bounds, fixing parameters and standard deviation check."
   ]
  },
  {
   "cell_type": "markdown",
   "metadata": {},
   "source": [
    "<a id='terms'></a>\n",
    "## Terminology and relationships\n",
    "<a href='#top'>[back to top]</a> \n",
    "\n",
    "In order to use fitting in HyperSpy more effectively, it is useful to understand our structure for curve fitting.\n",
    "\n",
    "There are three main things, related to fitting:\n",
    "\n",
    "__1. Model__\n",
    "can be thought of as a simple box (cooking pot), where we have to put our ingredients. Without anything inside, it is not of much use in this case. Once we add some things to it and mix it a bit (do the actual fitting), however, we have our complete dish!\n",
    "\n",
    "__2. Component__ is the main building block (ingredient) of our model. Here we mix and match what components we need (or want) for the particular case of signal. \n",
    "\n",
    "Examples: \n",
    "- Lorentzian (Cauchy)\n",
    "- Gaussian\n",
    "- Voigt (a combination of Lorentzian and Gaussian)\n",
    "- Offset (i.e. constant background)\n",
    "- Exponential function\n",
    "- ...\n",
    "- [create your own or use the very specialised ones!]\n",
    "\n",
    "Each of the components is ultimately just a function that has variables that change the (shape of the) output. Such a variable in HyperSpy is called a __parameter__. The model is built by combining *linearly* the components.\n",
    "\n",
    "\n",
    "__3. Parameter__ is the knob that the fitting routine adjusts for a good fit. Each component must include at least one parameter in order to be able to change when fitting. A parameter is also the object that we may limit or have to adjust when the result of the fit is not satisfactory. \n",
    "\n",
    "Ultimately, a parameter is the only important thing, as far as the fitting is concerned - components are just smart and convenient boxes to combine parameters into functions, and a model is just a box for a collection of components.\n",
    "\n",
    "For now, let's just keep the rough structure in our heads and look at other things!\n",
    "\n"
   ]
  },
  {
   "cell_type": "markdown",
   "metadata": {},
   "source": [
    "<a id='top'></a>\n",
    "## Importing and exploring the relevant docstrings\n",
    "\n",
    "HyperSpy, like all other Python libraries, first has to be imported in your Python setup in order to be used.\n",
    "Once it is, all the relevant commands can be looped up using the autocompletion feature of the IPython. \n",
    "\n",
    "Lets import the HyperSpy and set up plotting."
   ]
  },
  {
   "cell_type": "code",
   "execution_count": 1,
   "metadata": {},
   "outputs": [
    {
     "name": "stderr",
     "output_type": "stream",
     "text": [
      "WARNING:hyperspy_gui_traitsui:The module://ipympl.backend_nbagg matplotlib backend is not compatible with the traitsui GUI elements. For more information, read http://hyperspy.readthedocs.io/en/stable/user_guide/getting_started.html#possible-warnings-when-importing-hyperspy.\n",
      "WARNING:hyperspy_gui_traitsui:The traitsui GUI elements are not available.\n"
     ]
    }
   ],
   "source": [
    "%matplotlib notebook\n",
    "import hyperspy.api as hs"
   ]
  },
  {
   "cell_type": "markdown",
   "metadata": {},
   "source": [
    "Once imported, all the HyperSpy commands are available via the \n",
    "> `hs.<something>`\n",
    "\n",
    "interface. You can also look for the help with any Python object like this\n",
    "> `help(<something>)`"
   ]
  },
  {
   "cell_type": "code",
   "execution_count": 2,
   "metadata": {},
   "outputs": [
    {
     "name": "stdout",
     "output_type": "stream",
     "text": [
      "Help on module hyperspy.api in hyperspy:\n",
      "\n",
      "NAME\n",
      "    hyperspy.api - All public packages, functions and classes are available in this module.\n",
      "\n",
      "DESCRIPTION\n",
      "    When starting HyperSpy using the ``hyperspy`` script (e.g. by executing\n",
      "    ``hyperspy`` in a console, using the context menu entries or using the links in\n",
      "    the ``Start Menu``, the :mod:`~hyperspy.api` package is imported in the user\n",
      "    namespace as ``hs``, i.e. by executing the following:\n",
      "    \n",
      "        >>> import hyperspy.api as hs\n",
      "    \n",
      "    \n",
      "    (Note that code snippets are indicated by three greater-than signs)\n",
      "    \n",
      "    We recommend to import the HyperSpy API as above also when doing it manually.\n",
      "    The docstring examples assume that `hyperspy` has been imported as `hs`,\n",
      "    numpy as ``np`` and ``matplotlib.pyplot`` as ``plt``. \n",
      "    \n",
      "    Functions:\n",
      "    \n",
      "        create_model\n",
      "            Create a model for curve fitting.\n",
      "    \n",
      "        get_configuration_directory_path\n",
      "            Return the configuration directory path.\n",
      "    \n",
      "        load\n",
      "            Load data into BaseSignal instances from supported files.\n",
      "    \n",
      "        preferences\n",
      "            Preferences class instance to configure the default value of different\n",
      "            parameters. It has a CLI and a GUI that can be started by execting its\n",
      "            `gui` method i.e. `preferences.gui()`.\n",
      "    \n",
      "        stack\n",
      "            Stack several signals.\n",
      "    \n",
      "        interactive\n",
      "            Define operations that are automatically recomputed on event changes.\n",
      "    \n",
      "        set_log_level\n",
      "            Convenience function to set HyperSpy's the log level.\n",
      "    \n",
      "    \n",
      "    The :mod:`~hyperspy.api` package contains the following submodules/packages:\n",
      "    \n",
      "        :mod:`~hyperspy.api.signals`\n",
      "            `Signal` classes which are the core of HyperSpy. Use this modules to\n",
      "            create `Signal` instances manually from numpy arrays. Note that to\n",
      "            load data from supported file formats is more convenient to use the\n",
      "            `load` function.\n",
      "        :mod:`~hyperspy.api.model`\n",
      "            Contains the :mod:`~hyperspy.api.model.components` module with\n",
      "            components that can be used to create a model for curve fitting.\n",
      "        :mod:`~hyperspy.api.eds`\n",
      "            Functions for energy dispersive X-rays data analysis.\n",
      "        :mod:`~hyperspy.api.material`\n",
      "            Useful functions for materials properties and elements database that\n",
      "            includes physical properties and X-rays and EELS energies.\n",
      "        :mod:`~hyperspy.api.plot`\n",
      "            Plotting functions that operate on multiple signals.\n",
      "        :mod:`~hyperspy.api.datasets`\n",
      "            Example datasets.\n",
      "        :mod:`~hyperspy.api.roi`\n",
      "            Region of interests (ROIs) that operate on `BaseSignal` instances and\n",
      "            include widgets for interactive operation.\n",
      "        :mod:`~hyperspy.api.samfire`\n",
      "            SAMFire utilities (strategies, Pool, fit convergence tests)\n",
      "    \n",
      "    \n",
      "    For more details see their doctrings.\n",
      "\n",
      "DATA\n",
      "    preferences = <hyperspy.defaults_parser.Preferences object>\n",
      "\n",
      "FILE\n",
      "    /home/francisco/Git/hyperspy/hyperspy/api.py\n",
      "\n",
      "\n"
     ]
    }
   ],
   "source": [
    "help(hs)"
   ]
  },
  {
   "cell_type": "code",
   "execution_count": 3,
   "metadata": {},
   "outputs": [
    {
     "name": "stdout",
     "output_type": "stream",
     "text": [
      "Help on module hyperspy.components1d in hyperspy:\n",
      "\n",
      "NAME\n",
      "    hyperspy.components1d - Components that can be used to define a 1D model for e.g. curve fitting.\n",
      "\n",
      "DESCRIPTION\n",
      "    There are some components that are only useful for one particular kind of signal\n",
      "    and therefore their name are preceded by the signal name: eg. eels_cl_edge.\n",
      "    \n",
      "    Writing a new template is easy: see the user guide documentation on creating\n",
      "    components.\n",
      "    \n",
      "    For more details see each component docstring.\n",
      "    ====================================================================\n",
      "    Arctan                    This is the legacy Arctan component dedicat..\n",
      "    Bleasdale                 Bleasdale function component...\n",
      "    Doniach                    Doniach Sunjic lineshape..\n",
      "    DoublePowerLaw            Double power law component for EELS spectra..\n",
      "    EELSArctan                Arctan function component for EELS (with mi..\n",
      "    EELSCLEdge                EELS core loss ionisation edge from hydroge..\n",
      "    Erf                       Error function component...\n",
      "    Exponential               Exponential function component...\n",
      "    Expression                Create a component from a string expression..\n",
      "    Gaussian                  Normalized Gaussian function component...\n",
      "    GaussianHF                Normalized gaussian function component, wit..\n",
      "    HeavisideStep             The Heaviside step function...\n",
      "    Logistic                  Logistic function (sigmoid or s-shaped curv..\n",
      "    Lorentzian                Cauchy-Lorentz distribution (a.k.a. Lorentz..\n",
      "    Offset                    Component to add a constant value in the y-..\n",
      "    PESCoreLineShape          ..\n",
      "    PESVoigt                   Voigt component for photoemission spectros..\n",
      "    Polynomial                n-order polynomial component. (DEPRECATED)..\n",
      "    PowerLaw                  Power law component...\n",
      "    RC                        ..\n",
      "    SEE                       Secondary electron emission component for P..\n",
      "    ScalableFixedPattern      Fixed pattern component with interpolation ..\n",
      "    SkewNormal                Skew normal distribution component...\n",
      "    SplitVoigt                Split pseudo-Voigt..\n",
      "    Vignetting                ..\n",
      "    Voigt                     This is the legacy Voigt profile component ..\n",
      "    VolumePlasmonDrude        Drude volume plasmon energy loss function c..\n",
      "\n",
      "FILE\n",
      "    /home/francisco/Git/hyperspy/hyperspy/components1d.py\n",
      "\n",
      "\n"
     ]
    }
   ],
   "source": [
    "help(hs.model.components1D)"
   ]
  },
  {
   "cell_type": "markdown",
   "metadata": {},
   "source": [
    "<a id='loading'></a>\n",
    "## Loading the data and creating the model\n",
    "<a href='#top'>[back to top]</a> \n",
    "\n",
    "First you should have a spectrum (a particular kind of the `Signal` subclass!) you want to fit. Let's load a synthetic dataset with some curves named \n",
    "> `\"two_peaks.hspy\"`\n",
    "\n",
    "and have a look at it.\n",
    "\n",
    "If you can't load the dataset, it means you most likely have not generated it yet. Please run the two cells <a href='#two_peaks'>at the end</a> of the notebook to do so."
   ]
  },
  {
   "cell_type": "code",
   "execution_count": 4,
   "metadata": {},
   "outputs": [],
   "source": [
    "s = hs.load(\"two_peaks.hspy\")"
   ]
  },
  {
   "cell_type": "code",
   "execution_count": 5,
   "metadata": {},
   "outputs": [
    {
     "data": {
      "text/plain": [
       "<Signal1D, title: Two gaussians, dimensions: (32, 32|1024)>"
      ]
     },
     "execution_count": 5,
     "metadata": {},
     "output_type": "execute_result"
    }
   ],
   "source": [
    "s"
   ]
  },
  {
   "cell_type": "code",
   "execution_count": 6,
   "metadata": {},
   "outputs": [
    {
     "data": {
      "application/vnd.jupyter.widget-view+json": {
       "model_id": "e9622c84c2a64421811f3efa211af3e5",
       "version_major": 2,
       "version_minor": 0
      },
      "text/plain": [
       "Canvas(toolbar=Toolbar(toolitems=[('Home', 'Reset original view', 'home', 'home'), ('Back', 'Back to previous …"
      ]
     },
     "metadata": {},
     "output_type": "display_data"
    },
    {
     "data": {
      "application/vnd.jupyter.widget-view+json": {
       "model_id": "017da53efe8e4e339c795a5c40a93164",
       "version_major": 2,
       "version_minor": 0
      },
      "text/plain": [
       "Canvas(toolbar=Toolbar(toolitems=[('Home', 'Reset original view', 'home', 'home'), ('Back', 'Back to previous …"
      ]
     },
     "metadata": {},
     "output_type": "display_data"
    }
   ],
   "source": [
    "s.plot()"
   ]
  },
  {
   "cell_type": "markdown",
   "metadata": {},
   "source": [
    "Exploring the dataset we notice that it consists of two peaks that at different points change position and height. In oder to measure the position, height and width of the two peaks at all position we will create a ``Model`` that consists of 2 gaussian functions."
   ]
  },
  {
   "cell_type": "markdown",
   "metadata": {},
   "source": [
    "<a id='creating_model'></a>\n",
    "<a href='#top'>[back to top]</a> \n",
    "\n",
    "Creating a model now is simple - just pass the spectrum to the function \n",
    "> `model_reference = signal_reference.create_model()`\n",
    "\n",
    "Let's reference the model by \"`m`\"."
   ]
  },
  {
   "cell_type": "code",
   "execution_count": 7,
   "metadata": {},
   "outputs": [],
   "source": [
    "m = s.create_model()"
   ]
  },
  {
   "cell_type": "markdown",
   "metadata": {},
   "source": [
    "Let's look what's inside:"
   ]
  },
  {
   "cell_type": "code",
   "execution_count": 8,
   "metadata": {},
   "outputs": [
    {
     "data": {
      "text/plain": [
       "   # |      Attribute Name |      Component Name |      Component Type\n",
       "---- | ------------------- | ------------------- | -------------------"
      ]
     },
     "execution_count": 8,
     "metadata": {},
     "output_type": "execute_result"
    }
   ],
   "source": [
    "m.components"
   ]
  },
  {
   "cell_type": "markdown",
   "metadata": {},
   "source": [
    "As we can see, the model is still empty. That will not always be the case - for some types of signals, an automatic background component is added when creating a model, hence it's always good to check.\n",
    "\n",
    "We can plot the model in exactly the same way as the signal:"
   ]
  },
  {
   "cell_type": "markdown",
   "metadata": {},
   "source": [
    "The only difference from the model plot is that each data point is displayed individually. \n",
    "\n",
    "<a id='creating_components'></a>\n",
    "<a href='#top'>[back to top]</a> \n",
    "\n",
    "To do anything with the model, we should __create__ some __components__ and add them. Let's create two gaussians, referenced as \"g1\" and \"g2\":\n",
    "\n",
    "-----------------\n",
    "P.S.: keep in mind that creating a component is a function - hence there should be brackets at the end! Such as \n",
    "> `our_component_reference = hs.model.components1D.example_component()`"
   ]
  },
  {
   "cell_type": "code",
   "execution_count": 9,
   "metadata": {},
   "outputs": [],
   "source": [
    "g1 = hs.model.components1D.GaussianHF()\n",
    "g2 = hs.model.components1D.GaussianHF()"
   ]
  },
  {
   "cell_type": "markdown",
   "metadata": {},
   "source": [
    "<a id='adding_comps'></a>\n",
    "<a href='#top'>[back to top]</a> \n",
    "\n",
    "... and __add the components to__ our __model__. For that there are generally two ways:\n",
    "\n",
    "Individually\n",
    "> `our_model_reference.append(our_component_reference)`\n",
    "\n",
    "or in lists (i.e. grouped by square brackets)\n",
    "> `our_model_reference.extend([first_component_reference, second_component_reference])`"
   ]
  },
  {
   "cell_type": "code",
   "execution_count": 10,
   "metadata": {},
   "outputs": [],
   "source": [
    "m.extend([g1, g2])"
   ]
  },
  {
   "cell_type": "markdown",
   "metadata": {},
   "source": [
    "Let's check how the model looks now:"
   ]
  },
  {
   "cell_type": "code",
   "execution_count": 11,
   "metadata": {},
   "outputs": [
    {
     "data": {
      "text/plain": [
       "   # |      Attribute Name |      Component Name |      Component Type\n",
       "---- | ------------------- | ------------------- | -------------------\n",
       "   0 |          GaussianHF |          GaussianHF |          GaussianHF\n",
       "   1 |        GaussianHF_0 |        GaussianHF_0 |          GaussianHF"
      ]
     },
     "execution_count": 11,
     "metadata": {},
     "output_type": "execute_result"
    }
   ],
   "source": [
    "m.components"
   ]
  },
  {
   "cell_type": "markdown",
   "metadata": {},
   "source": [
    "<a id='renaming_components'></a>\n",
    "<a href='#top'>[back to top]</a> \n",
    "\n",
    "For our convenience we can __rename__ the __components__ as we choose, for example \"wide\" and \"narrow\" (note that the \"g1\" and \"g2\" are only references we created for them, not names of the components)"
   ]
  },
  {
   "cell_type": "code",
   "execution_count": 12,
   "metadata": {},
   "outputs": [],
   "source": [
    "g1.name = \"wide\"\n",
    "g2.name = \"narrow\""
   ]
  },
  {
   "cell_type": "markdown",
   "metadata": {},
   "source": [
    "We can look at the model again to see the result"
   ]
  },
  {
   "cell_type": "code",
   "execution_count": 13,
   "metadata": {},
   "outputs": [
    {
     "data": {
      "text/plain": [
       "   # |      Attribute Name |      Component Name |      Component Type\n",
       "---- | ------------------- | ------------------- | -------------------\n",
       "   0 |                wide |                wide |          GaussianHF\n",
       "   1 |              narrow |              narrow |          GaussianHF"
      ]
     },
     "execution_count": 13,
     "metadata": {},
     "output_type": "execute_result"
    }
   ],
   "source": [
    "m.components"
   ]
  },
  {
   "cell_type": "markdown",
   "metadata": {},
   "source": [
    "<a id='checking_values'></a>\n",
    "<a href='#top'>[back to top]</a>\n",
    "\n",
    "To finally see the full structure (the one we looked at <a href='#terms'>here</a>), we can __print all of the parameter values__ of all components of the model."
   ]
  },
  {
   "cell_type": "code",
   "execution_count": 14,
   "metadata": {},
   "outputs": [
    {
     "data": {
      "text/html": [
       "<h4>Model1D: Two gaussians</h4><p><b>current_component_values: wide</b><br />Active: True</p><table style=\"width:100%\"><tr><th>Parameter Name</th><th>Free</th>\n",
       "            <th>Value</th><th>Std</th><th>Min</th><th>Max</th></tr><tr><td>centre</td><td>True</td><td>     0</td>\n",
       "                    <td></td><td></td><td></td></tr><tr><td>fwhm</td><td>True</td><td>     1</td>\n",
       "                    <td></td><td>     0</td><td></td></tr><tr><td>height</td><td>True</td><td>     1</td>\n",
       "                    <td></td><td>     0</td><td></td></tr></table><p><b>current_component_values: narrow</b><br />Active: True</p><table style=\"width:100%\"><tr><th>Parameter Name</th><th>Free</th>\n",
       "            <th>Value</th><th>Std</th><th>Min</th><th>Max</th></tr><tr><td>centre</td><td>True</td><td>     0</td>\n",
       "                    <td></td><td></td><td></td></tr><tr><td>fwhm</td><td>True</td><td>     1</td>\n",
       "                    <td></td><td>     0</td><td></td></tr><tr><td>height</td><td>True</td><td>     1</td>\n",
       "                    <td></td><td>     0</td><td></td></tr></table>"
      ],
      "text/plain": [
       "Model1D: Two gaussians\n",
       "current_component_values: wide\n",
       "Active: True\n",
       "Parameter Name |  Free |      Value |        Std |        Min |        Max\n",
       "============== | ===== | ========== | ========== | ========== | ==========\n",
       "        centre |  True |        0.0 |       None |       None |       None\n",
       "          fwhm |  True |        1.0 |       None |        0.0 |       None\n",
       "        height |  True |        1.0 |       None |        0.0 |       None\n",
       "\n",
       "current_component_values: narrow\n",
       "Active: True\n",
       "Parameter Name |  Free |      Value |        Std |        Min |        Max\n",
       "============== | ===== | ========== | ========== | ========== | ==========\n",
       "        centre |  True |        0.0 |       None |       None |       None\n",
       "          fwhm |  True |        1.0 |       None |        0.0 |       None\n",
       "        height |  True |        1.0 |       None |        0.0 |       None\n"
      ]
     },
     "metadata": {},
     "output_type": "display_data"
    }
   ],
   "source": [
    "m.print_current_values()"
   ]
  },
  {
   "cell_type": "markdown",
   "metadata": {},
   "source": [
    "To access the values, we have to look inside the components for the parameters. It can simply be done by following the pattern:\n",
    "> `some_component_reference.parameter_name.value`\n",
    "\n",
    "In this case the component references are the __g1__ and __g2__, while parameter names are __centre__, __A__ and __sigma__."
   ]
  },
  {
   "cell_type": "markdown",
   "metadata": {},
   "source": [
    "At this point it is good practice to store the model so that, if something goes wrong, we can go back to this stage:"
   ]
  },
  {
   "cell_type": "code",
   "execution_count": 15,
   "metadata": {},
   "outputs": [],
   "source": [
    "m.store(name=\"new\")"
   ]
  },
  {
   "cell_type": "code",
   "execution_count": 16,
   "metadata": {},
   "outputs": [
    {
     "data": {
      "text/plain": [
       "├── ground_truth\n",
       "│   ├── components\n",
       "│   │   ├── narrow\n",
       "│   │   └── wide\n",
       "│   ├── date = 2021-04-20 12:47:51\n",
       "│   └── dimensions = (32, 32|1024)\n",
       "└── new\n",
       "    ├── components\n",
       "    │   ├── narrow\n",
       "    │   └── wide\n",
       "    ├── date = 2021-04-20 12:48:53\n",
       "    └── dimensions = (32, 32|1024)"
      ]
     },
     "execution_count": 16,
     "metadata": {},
     "output_type": "execute_result"
    }
   ],
   "source": [
    "m.signal.models"
   ]
  },
  {
   "cell_type": "markdown",
   "metadata": {},
   "source": [
    "Notice that there is another model stored in the signal, `ground truth`. We'll put it to use at end of this tutorial."
   ]
  },
  {
   "cell_type": "code",
   "execution_count": 17,
   "metadata": {},
   "outputs": [
    {
     "data": {
      "text/plain": [
       "1.0"
      ]
     },
     "execution_count": 17,
     "metadata": {},
     "output_type": "execute_result"
    }
   ],
   "source": [
    "g1.fwhm.value"
   ]
  },
  {
   "cell_type": "markdown",
   "metadata": {},
   "source": [
    "Notice that we can access the component more conveniently using its name as follows:"
   ]
  },
  {
   "cell_type": "code",
   "execution_count": 18,
   "metadata": {},
   "outputs": [
    {
     "data": {
      "text/plain": [
       "1.0"
      ]
     },
     "execution_count": 18,
     "metadata": {},
     "output_type": "execute_result"
    }
   ],
   "source": [
    "m.components.wide.fwhm.value"
   ]
  },
  {
   "cell_type": "markdown",
   "metadata": {},
   "source": [
    "<a id='setting_values'></a>\n",
    "<a href='#top'>[back to top]</a>\n",
    "\n",
    "We can __set parameter values__ in exactly the same way. Let set `g1` `sigma` value to 30:"
   ]
  },
  {
   "cell_type": "code",
   "execution_count": 19,
   "metadata": {},
   "outputs": [],
   "source": [
    "m.components.wide.fwhm.value = 30"
   ]
  },
  {
   "cell_type": "code",
   "execution_count": 20,
   "metadata": {},
   "outputs": [
    {
     "data": {
      "text/html": [
       "<h4>Model1D: Two gaussians</h4><p><b>current_component_values: wide</b><br />Active: True</p><table style=\"width:100%\"><tr><th>Parameter Name</th><th>Free</th>\n",
       "            <th>Value</th><th>Std</th><th>Min</th><th>Max</th></tr><tr><td>centre</td><td>True</td><td>     0</td>\n",
       "                    <td></td><td></td><td></td></tr><tr><td>fwhm</td><td>True</td><td>    30</td>\n",
       "                    <td></td><td>     0</td><td></td></tr><tr><td>height</td><td>True</td><td>     1</td>\n",
       "                    <td></td><td>     0</td><td></td></tr></table><p><b>current_component_values: narrow</b><br />Active: True</p><table style=\"width:100%\"><tr><th>Parameter Name</th><th>Free</th>\n",
       "            <th>Value</th><th>Std</th><th>Min</th><th>Max</th></tr><tr><td>centre</td><td>True</td><td>     0</td>\n",
       "                    <td></td><td></td><td></td></tr><tr><td>fwhm</td><td>True</td><td>     1</td>\n",
       "                    <td></td><td>     0</td><td></td></tr><tr><td>height</td><td>True</td><td>     1</td>\n",
       "                    <td></td><td>     0</td><td></td></tr></table>"
      ],
      "text/plain": [
       "Model1D: Two gaussians\n",
       "current_component_values: wide\n",
       "Active: True\n",
       "Parameter Name |  Free |      Value |        Std |        Min |        Max\n",
       "============== | ===== | ========== | ========== | ========== | ==========\n",
       "        centre |  True |        0.0 |       None |       None |       None\n",
       "          fwhm |  True |       30.0 |       None |        0.0 |       None\n",
       "        height |  True |        1.0 |       None |        0.0 |       None\n",
       "\n",
       "current_component_values: narrow\n",
       "Active: True\n",
       "Parameter Name |  Free |      Value |        Std |        Min |        Max\n",
       "============== | ===== | ========== | ========== | ========== | ==========\n",
       "        centre |  True |        0.0 |       None |       None |       None\n",
       "          fwhm |  True |        1.0 |       None |        0.0 |       None\n",
       "        height |  True |        1.0 |       None |        0.0 |       None\n"
      ]
     },
     "metadata": {},
     "output_type": "display_data"
    }
   ],
   "source": [
    "m.print_current_values()"
   ]
  },
  {
   "cell_type": "markdown",
   "metadata": {},
   "source": [
    "For convenience, we can also __set values \"in bulk\"__ for all components in the model. The required command is\n",
    "> `m.set_parameters_value`\n",
    "\n",
    "Set the area (\"A\" parameter) of both peaks to 500"
   ]
  },
  {
   "cell_type": "code",
   "execution_count": 21,
   "metadata": {},
   "outputs": [],
   "source": [
    "m.set_parameters_value('height', 100)"
   ]
  },
  {
   "cell_type": "code",
   "execution_count": 22,
   "metadata": {},
   "outputs": [
    {
     "data": {
      "text/html": [
       "<h4>Model1D: Two gaussians</h4><p><b>current_component_values: wide</b><br />Active: True</p><table style=\"width:100%\"><tr><th>Parameter Name</th><th>Free</th>\n",
       "            <th>Value</th><th>Std</th><th>Min</th><th>Max</th></tr><tr><td>centre</td><td>True</td><td>     0</td>\n",
       "                    <td></td><td></td><td></td></tr><tr><td>fwhm</td><td>True</td><td>    30</td>\n",
       "                    <td></td><td>     0</td><td></td></tr><tr><td>height</td><td>True</td><td>   100</td>\n",
       "                    <td></td><td>     0</td><td></td></tr></table><p><b>current_component_values: narrow</b><br />Active: True</p><table style=\"width:100%\"><tr><th>Parameter Name</th><th>Free</th>\n",
       "            <th>Value</th><th>Std</th><th>Min</th><th>Max</th></tr><tr><td>centre</td><td>True</td><td>     0</td>\n",
       "                    <td></td><td></td><td></td></tr><tr><td>fwhm</td><td>True</td><td>     1</td>\n",
       "                    <td></td><td>     0</td><td></td></tr><tr><td>height</td><td>True</td><td>   100</td>\n",
       "                    <td></td><td>     0</td><td></td></tr></table>"
      ],
      "text/plain": [
       "Model1D: Two gaussians\n",
       "current_component_values: wide\n",
       "Active: True\n",
       "Parameter Name |  Free |      Value |        Std |        Min |        Max\n",
       "============== | ===== | ========== | ========== | ========== | ==========\n",
       "        centre |  True |        0.0 |       None |       None |       None\n",
       "          fwhm |  True |       30.0 |       None |        0.0 |       None\n",
       "        height |  True |      100.0 |       None |        0.0 |       None\n",
       "\n",
       "current_component_values: narrow\n",
       "Active: True\n",
       "Parameter Name |  Free |      Value |        Std |        Min |        Max\n",
       "============== | ===== | ========== | ========== | ========== | ==========\n",
       "        centre |  True |        0.0 |       None |       None |       None\n",
       "          fwhm |  True |        1.0 |       None |        0.0 |       None\n",
       "        height |  True |      100.0 |       None |        0.0 |       None\n"
      ]
     },
     "metadata": {},
     "output_type": "display_data"
    }
   ],
   "source": [
    "m.print_current_values()"
   ]
  },
  {
   "cell_type": "markdown",
   "metadata": {},
   "source": [
    "## Indexing the model and fitting a single spectrum"
   ]
  },
  {
   "cell_type": "markdown",
   "metadata": {},
   "source": [
    "We will start by analyzing the data at one single pixel. For that we can using the same indexing syntax that we use for signals."
   ]
  },
  {
   "cell_type": "code",
   "execution_count": 23,
   "metadata": {},
   "outputs": [],
   "source": [
    "m00 = m.inav[0, 0]"
   ]
  },
  {
   "cell_type": "code",
   "execution_count": 24,
   "metadata": {},
   "outputs": [
    {
     "data": {
      "application/vnd.jupyter.widget-view+json": {
       "model_id": "cbe76fe1a4d3439caa8f761a550027be",
       "version_major": 2,
       "version_minor": 0
      },
      "text/plain": [
       "Canvas(toolbar=Toolbar(toolitems=[('Home', 'Reset original view', 'home', 'home'), ('Back', 'Back to previous …"
      ]
     },
     "metadata": {},
     "output_type": "display_data"
    }
   ],
   "source": [
    "m00.plot(plot_components=True)"
   ]
  },
  {
   "cell_type": "markdown",
   "metadata": {},
   "source": [
    "In order to increase the chances of obtaining a good fit to the data, we must provide better starting parameters."
   ]
  },
  {
   "cell_type": "markdown",
   "metadata": {},
   "source": [
    "We could do that interactively, using ``m.gui()`` or manually as follows:"
   ]
  },
  {
   "cell_type": "code",
   "execution_count": 25,
   "metadata": {},
   "outputs": [],
   "source": [
    "m00.components.narrow.centre.value = 60\n",
    "m00.components.wide.centre.value = 50"
   ]
  },
  {
   "cell_type": "markdown",
   "metadata": {},
   "source": [
    "We are now ready to fit"
   ]
  },
  {
   "cell_type": "code",
   "execution_count": 26,
   "metadata": {},
   "outputs": [
    {
     "data": {
      "text/plain": [
       "   covar: array([[ 1.76830147e-04, -5.11658338e-05,  1.93802041e-04,\n",
       "        -8.01526059e-06, -8.68573149e-05, -3.93832136e-04],\n",
       "       [-5.11658338e-05,  1.08993808e-03, -1.49141316e-03,\n",
       "        -3.06548331e-05,  1.62328408e-04,  7.76505163e-04],\n",
       "       [ 1.93802041e-04, -1.49141316e-03,  5.07437902e-03,\n",
       "         5.16094662e-05, -7.30358575e-04, -3.23763439e-03],\n",
       "       [-8.01526059e-06, -3.06548331e-05,  5.16094662e-05,\n",
       "         1.21034752e-04, -2.78305323e-06, -1.31480558e-05],\n",
       "       [-8.68573149e-05,  1.62328408e-04, -7.30358575e-04,\n",
       "        -2.78305323e-06,  7.92559428e-04, -2.15838794e-03],\n",
       "       [-3.93832136e-04,  7.76505163e-04, -3.23763439e-03,\n",
       "        -1.31480558e-05, -2.15838794e-03,  3.62907692e-02]])\n",
       "     fun: array([-0.28860998, -1.12330872,  1.04291008, ..., -4.09065073,\n",
       "       -2.22072033, -2.34996863])\n",
       " message: 'Both actual and predicted relative reductions in the sum of squares\\n  are at most 0.000000'\n",
       "    nfev: 64\n",
       "  status: 1\n",
       " success: True\n",
       "       x: array([ 49.08134201,  59.87208342, 139.92132633,  60.00915957,\n",
       "         5.90457142,  48.64318731])"
      ]
     },
     "execution_count": 26,
     "metadata": {},
     "output_type": "execute_result"
    }
   ],
   "source": [
    "m00.fit()"
   ]
  },
  {
   "cell_type": "markdown",
   "metadata": {},
   "source": [
    "The fit (notice that the model got updated in the figure) looks good!"
   ]
  },
  {
   "cell_type": "markdown",
   "metadata": {},
   "source": [
    "Notice that the value of the parameters have changed to their optimal value. Also notice that the standard deviation has been estimated too."
   ]
  },
  {
   "cell_type": "code",
   "execution_count": 27,
   "metadata": {},
   "outputs": [
    {
     "data": {
      "text/html": [
       "<h4>Model1D: Two gaussians</h4><p><b>current_component_values: wide</b><br />Active: True</p><table style=\"width:100%\"><tr><th>Parameter Name</th><th>Free</th>\n",
       "            <th>Value</th><th>Std</th><th>Min</th><th>Max</th></tr><tr><td>centre</td><td>True</td><td>49.0813</td>\n",
       "                    <td>0.125441</td><td></td><td></td></tr><tr><td>fwhm</td><td>True</td><td>59.8721</td>\n",
       "                    <td>0.311431</td><td>     0</td><td></td></tr><tr><td>height</td><td>True</td><td>139.921</td>\n",
       "                    <td>0.671974</td><td>     0</td><td></td></tr></table><p><b>current_component_values: narrow</b><br />Active: True</p><table style=\"width:100%\"><tr><th>Parameter Name</th><th>Free</th>\n",
       "            <th>Value</th><th>Std</th><th>Min</th><th>Max</th></tr><tr><td>centre</td><td>True</td><td>60.0092</td>\n",
       "                    <td>0.103781</td><td></td><td></td></tr><tr><td>fwhm</td><td>True</td><td>5.90457</td>\n",
       "                    <td>0.265569</td><td>     0</td><td></td></tr><tr><td>height</td><td>True</td><td>48.6432</td>\n",
       "                    <td>1.79704</td><td>     0</td><td></td></tr></table>"
      ],
      "text/plain": [
       "Model1D: Two gaussians\n",
       "current_component_values: wide\n",
       "Active: True\n",
       "Parameter Name |  Free |      Value |        Std |        Min |        Max\n",
       "============== | ===== | ========== | ========== | ========== | ==========\n",
       "        centre |  True | 49.0813420 | 0.12544082 |       None |       None\n",
       "          fwhm |  True | 59.8720834 | 0.31143087 |        0.0 |       None\n",
       "        height |  True | 139.921326 | 0.67197358 |        0.0 |       None\n",
       "\n",
       "current_component_values: narrow\n",
       "Active: True\n",
       "Parameter Name |  Free |      Value |        Std |        Min |        Max\n",
       "============== | ===== | ========== | ========== | ========== | ==========\n",
       "        centre |  True | 60.0091595 | 0.10378050 |       None |       None\n",
       "          fwhm |  True | 5.90457141 | 0.26556856 |        0.0 |       None\n",
       "        height |  True | 48.6431873 | 1.79704452 |        0.0 |       None\n"
      ]
     },
     "metadata": {},
     "output_type": "display_data"
    }
   ],
   "source": [
    "m00.print_current_values()"
   ]
  },
  {
   "cell_type": "markdown",
   "metadata": {},
   "source": [
    "But how to know how good is the fit? "
   ]
  },
  {
   "cell_type": "markdown",
   "metadata": {},
   "source": [
    "\n",
    "Once the fit was performed, chi-squared ($\\chi^2$), degrees of freedom and reduced chi-squared ($\\chi^2_\\nu$) of the fit are automatically calculated.\n",
    "\n",
    "They are accessible with, respectively:\n",
    "> `m2.chisq`\n",
    "\n",
    "> `m2.dof`\n",
    "\n",
    "> `m2.red_chisq`\n",
    "\n",
    "Let's have a look at reduced $\\chi^2$ by plotting it"
   ]
  },
  {
   "cell_type": "code",
   "execution_count": 28,
   "metadata": {},
   "outputs": [
    {
     "data": {
      "text/plain": [
       "array([89.07346101])"
      ]
     },
     "execution_count": 28,
     "metadata": {},
     "output_type": "execute_result"
    }
   ],
   "source": [
    "m00.red_chisq.data"
   ]
  },
  {
   "cell_type": "markdown",
   "metadata": {},
   "source": [
    "That's far too big! (A good fit should have $a\\chi^2_\\nu$ of around 1.)\n",
    "\n",
    "The issue is that we haven't defined the variance of the noise:"
   ]
  },
  {
   "cell_type": "code",
   "execution_count": 29,
   "metadata": {},
   "outputs": [
    {
     "data": {
      "text/html": [
       "<ul style=\"margin: 0px; list-style-position: outside;\">\n",
       "                    <details open>\n",
       "                    <summary style=\"display: list-item;\">\n",
       "                    <li style=\"display: inline;\">\n",
       "                    General\n",
       "                    </li></summary>\n",
       "                    \n",
       "    <ul style=\"margin: 0px; list-style-position: outside;\">\n",
       "    <li style='margin-left:1em; padding-left: 0.5em'>title = Two gaussians</li></ul>\n",
       "    </details></ul><ul style=\"margin: 0px; list-style-position: outside;\">\n",
       "                    <details open>\n",
       "                    <summary style=\"display: list-item;\">\n",
       "                    <li style=\"display: inline;\">\n",
       "                    Signal\n",
       "                    </li></summary>\n",
       "                    \n",
       "    <ul style=\"margin: 0px; list-style-position: outside;\">\n",
       "    <li style='margin-left:1em; padding-left: 0.5em'>binned = False</li></ul>\n",
       "    \n",
       "    <ul style=\"margin: 0px; list-style-position: outside;\">\n",
       "    <li style='margin-left:1em; padding-left: 0.5em'>signal_type = </li></ul>\n",
       "    </details></ul>"
      ],
      "text/plain": [
       "├── General\n",
       "│   └── title = Two gaussians\n",
       "└── Signal\n",
       "    ├── binned = False\n",
       "    └── signal_type = "
      ]
     },
     "execution_count": 29,
     "metadata": {},
     "output_type": "execute_result"
    }
   ],
   "source": [
    "m00.signal.metadata"
   ]
  },
  {
   "cell_type": "markdown",
   "metadata": {},
   "source": [
    "For that we can use the following ``Signal`` method:"
   ]
  },
  {
   "cell_type": "code",
   "execution_count": 30,
   "metadata": {},
   "outputs": [],
   "source": [
    "m00.signal.estimate_poissonian_noise_variance()"
   ]
  },
  {
   "cell_type": "markdown",
   "metadata": {},
   "source": [
    "Let's now fit. Because the noise variance is available, HyperSpy will now perform weighted non-linear least squares automatically."
   ]
  },
  {
   "cell_type": "code",
   "execution_count": 31,
   "metadata": {},
   "outputs": [
    {
     "data": {
      "text/plain": [
       "   covar: array([[ 1.05592398e-02, -3.91479407e-03,  1.34613574e-02,\n",
       "        -4.90584075e-04, -5.85925231e-03, -2.25958693e-02],\n",
       "       [-3.91479407e-03,  5.63446391e-02, -1.23981408e-01,\n",
       "        -1.92875392e-03,  1.65734689e-02,  6.84912325e-02],\n",
       "       [ 1.34613574e-02, -1.23981408e-01,  5.62520683e-01,\n",
       "         5.64066839e-03, -8.52446453e-02, -3.32862216e-01],\n",
       "       [-4.90584075e-04, -1.92875392e-03,  5.64066839e-03,\n",
       "         1.82595481e-02, -2.24068762e-03, -1.43013956e-03],\n",
       "       [-5.85925231e-03,  1.65734689e-02, -8.52446453e-02,\n",
       "        -2.24068762e-03,  1.11382133e-01, -3.78334532e-01],\n",
       "       [-2.25958693e-02,  6.84912325e-02, -3.32862216e-01,\n",
       "        -1.43013956e-03, -3.78334532e-01,  5.85821303e+00]])\n",
       "     fun: array([-0.18588423, -0.35635426,  0.09923745, ..., -1.06540541,\n",
       "       -0.68143743, -0.71105147])\n",
       " message: 'Both actual and predicted relative reductions in the sum of squares\\n  are at most 0.000000'\n",
       "    nfev: 29\n",
       "  status: 1\n",
       " success: True\n",
       "       x: array([ 49.00805359,  59.46045475, 138.94771078,  60.01140505,\n",
       "         5.9548883 ,  48.58265848])"
      ]
     },
     "execution_count": 31,
     "metadata": {},
     "output_type": "execute_result"
    }
   ],
   "source": [
    "m00.fit()"
   ]
  },
  {
   "cell_type": "code",
   "execution_count": 32,
   "metadata": {},
   "outputs": [
    {
     "data": {
      "text/plain": [
       "array([1.03117735])"
      ]
     },
     "execution_count": 32,
     "metadata": {},
     "output_type": "execute_result"
    }
   ],
   "source": [
    "m00.red_chisq.data"
   ]
  },
  {
   "cell_type": "markdown",
   "metadata": {},
   "source": [
    "That's much better!"
   ]
  },
  {
   "cell_type": "code",
   "execution_count": 33,
   "metadata": {},
   "outputs": [
    {
     "data": {
      "text/html": [
       "<h4>Model1D: Two gaussians</h4><p><b>current_component_values: wide</b><br />Active: True</p><table style=\"width:100%\"><tr><th>Parameter Name</th><th>Free</th>\n",
       "            <th>Value</th><th>Std</th><th>Min</th><th>Max</th></tr><tr><td>centre</td><td>True</td><td>49.0081</td>\n",
       "                    <td>0.104296</td><td></td><td></td></tr><tr><td>fwhm</td><td>True</td><td>59.4605</td>\n",
       "                    <td>0.240924</td><td>     0</td><td></td></tr><tr><td>height</td><td>True</td><td>138.948</td>\n",
       "                    <td>0.761242</td><td>     0</td><td></td></tr></table><p><b>current_component_values: narrow</b><br />Active: True</p><table style=\"width:100%\"><tr><th>Parameter Name</th><th>Free</th>\n",
       "            <th>Value</th><th>Std</th><th>Min</th><th>Max</th></tr><tr><td>centre</td><td>True</td><td>60.0114</td>\n",
       "                    <td>0.137151</td><td></td><td></td></tr><tr><td>fwhm</td><td>True</td><td>5.95489</td>\n",
       "                    <td>0.338736</td><td>     0</td><td></td></tr><tr><td>height</td><td>True</td><td>48.5827</td>\n",
       "                    <td>2.45661</td><td>     0</td><td></td></tr></table>"
      ],
      "text/plain": [
       "Model1D: Two gaussians\n",
       "current_component_values: wide\n",
       "Active: True\n",
       "Parameter Name |  Free |      Value |        Std |        Min |        Max\n",
       "============== | ===== | ========== | ========== | ========== | ==========\n",
       "        centre |  True | 49.0080535 | 0.10429646 |       None |       None\n",
       "          fwhm |  True | 59.4604547 | 0.24092372 |        0.0 |       None\n",
       "        height |  True | 138.947710 | 0.76124160 |        0.0 |       None\n",
       "\n",
       "current_component_values: narrow\n",
       "Active: True\n",
       "Parameter Name |  Free |      Value |        Std |        Min |        Max\n",
       "============== | ===== | ========== | ========== | ========== | ==========\n",
       "        centre |  True | 60.0114050 | 0.13715077 |       None |       None\n",
       "          fwhm |  True | 5.95488830 | 0.33873575 |        0.0 |       None\n",
       "        height |  True | 48.5826584 | 2.45660792 |        0.0 |       None\n"
      ]
     },
     "metadata": {},
     "output_type": "display_data"
    }
   ],
   "source": [
    "m00.print_current_values()"
   ]
  },
  {
   "cell_type": "markdown",
   "metadata": {},
   "source": [
    "Notice that the value of the parameters and their standard deviation has changed. The previous values were biased because we haven't defined the noise variance. These values should be more accurate."
   ]
  },
  {
   "cell_type": "markdown",
   "metadata": {},
   "source": [
    "We can obtain an even more accurate result by using the current model to better estimate the noise variance:"
   ]
  },
  {
   "cell_type": "code",
   "execution_count": 34,
   "metadata": {},
   "outputs": [
    {
     "data": {
      "text/html": [
       "<h4>Model1D: Two gaussians</h4><p><b>current_component_values: wide</b><br />Active: True</p><table style=\"width:100%\"><tr><th>Parameter Name</th><th>Free</th>\n",
       "            <th>Value</th><th>Std</th><th>Min</th><th>Max</th></tr><tr><td>centre</td><td>True</td><td> 49.06</td>\n",
       "                    <td>0.104386</td><td></td><td></td></tr><tr><td>fwhm</td><td>True</td><td>59.9619</td>\n",
       "                    <td>0.243351</td><td>     0</td><td></td></tr><tr><td>height</td><td>True</td><td>139.74</td>\n",
       "                    <td>0.764604</td><td>     0</td><td></td></tr></table><p><b>current_component_values: narrow</b><br />Active: True</p><table style=\"width:100%\"><tr><th>Parameter Name</th><th>Free</th>\n",
       "            <th>Value</th><th>Std</th><th>Min</th><th>Max</th></tr><tr><td>centre</td><td>True</td><td>59.9998</td>\n",
       "                    <td>0.139023</td><td></td><td></td></tr><tr><td>fwhm</td><td>True</td><td>5.98386</td>\n",
       "                    <td>0.341362</td><td>     0</td><td></td></tr><tr><td>height</td><td>True</td><td>48.501</td>\n",
       "                    <td>2.45872</td><td>     0</td><td></td></tr></table>"
      ],
      "text/plain": [
       "Model1D: Two gaussians\n",
       "current_component_values: wide\n",
       "Active: True\n",
       "Parameter Name |  Free |      Value |        Std |        Min |        Max\n",
       "============== | ===== | ========== | ========== | ========== | ==========\n",
       "        centre |  True | 49.0600457 | 0.10438558 |       None |       None\n",
       "          fwhm |  True | 59.9618538 | 0.24335118 |        0.0 |       None\n",
       "        height |  True | 139.740317 | 0.76460426 |        0.0 |       None\n",
       "\n",
       "current_component_values: narrow\n",
       "Active: True\n",
       "Parameter Name |  Free |      Value |        Std |        Min |        Max\n",
       "============== | ===== | ========== | ========== | ========== | ==========\n",
       "        centre |  True | 59.9998497 | 0.13902337 |       None |       None\n",
       "          fwhm |  True | 5.98386161 | 0.34136212 |        0.0 |       None\n",
       "        height |  True | 48.5009772 | 2.45872209 |        0.0 |       None\n"
      ]
     },
     "metadata": {},
     "output_type": "display_data"
    }
   ],
   "source": [
    "m00.signal.estimate_poissonian_noise_variance(expected_value=m00.as_signal())\n",
    "m00.fit()\n",
    "m00.print_current_values()"
   ]
  },
  {
   "cell_type": "code",
   "execution_count": 35,
   "metadata": {},
   "outputs": [
    {
     "data": {
      "text/plain": [
       "array([1.04536884])"
      ]
     },
     "execution_count": 35,
     "metadata": {},
     "output_type": "execute_result"
    }
   ],
   "source": [
    "m00.red_chisq.data"
   ]
  },
  {
   "cell_type": "markdown",
   "metadata": {},
   "source": [
    "## Fitting the first line"
   ]
  },
  {
   "cell_type": "markdown",
   "metadata": {},
   "source": [
    "Let's now analyze the first line before attempting to fit the whole dataset"
   ]
  },
  {
   "cell_type": "code",
   "execution_count": 36,
   "metadata": {},
   "outputs": [],
   "source": [
    "ml = m.inav[:, 0]"
   ]
  },
  {
   "cell_type": "code",
   "execution_count": 37,
   "metadata": {},
   "outputs": [
    {
     "data": {
      "application/vnd.jupyter.widget-view+json": {
       "model_id": "c669b649ad554be8a270b3f1b04d00e8",
       "version_major": 2,
       "version_minor": 0
      },
      "text/plain": [
       "Canvas(toolbar=Toolbar(toolitems=[('Home', 'Reset original view', 'home', 'home'), ('Back', 'Back to previous …"
      ]
     },
     "metadata": {},
     "output_type": "display_data"
    },
    {
     "data": {
      "application/vnd.jupyter.widget-view+json": {
       "model_id": "b7ae2a41d57041acb21bd6327a9cff12",
       "version_major": 2,
       "version_minor": 0
      },
      "text/plain": [
       "Canvas(toolbar=Toolbar(toolitems=[('Home', 'Reset original view', 'home', 'home'), ('Back', 'Back to previous …"
      ]
     },
     "metadata": {},
     "output_type": "display_data"
    }
   ],
   "source": [
    "ml.plot()"
   ]
  },
  {
   "cell_type": "markdown",
   "metadata": {},
   "source": [
    "Notice that the parameters of the first pixels that we have estimated are already set.\n",
    "\n",
    "Like before, we must estimate the noise variance"
   ]
  },
  {
   "cell_type": "code",
   "execution_count": 38,
   "metadata": {},
   "outputs": [],
   "source": [
    "ml.signal.estimate_poissonian_noise_variance()"
   ]
  },
  {
   "cell_type": "markdown",
   "metadata": {},
   "source": [
    "In order to fit the whole line we must use the ``multifit()`` method"
   ]
  },
  {
   "cell_type": "code",
   "execution_count": 39,
   "metadata": {},
   "outputs": [
    {
     "name": "stderr",
     "output_type": "stream",
     "text": [
      "/home/francisco/Git/hyperspy/hyperspy/model.py:1567: VisibleDeprecationWarning: The 'iterpath' default will change from 'flyback' to 'serpentine' in HyperSpy version 2.0. Change 'iterpath' to other than None to suppress this warning.\n",
      "  warnings.warn(\n"
     ]
    },
    {
     "data": {
      "application/vnd.jupyter.widget-view+json": {
       "model_id": "5825b0ee35bd447d9743f0ae73a4e65e",
       "version_major": 2,
       "version_minor": 0
      },
      "text/plain": [
       "  0%|          | 0/32 [00:00<?, ?it/s]"
      ]
     },
     "metadata": {},
     "output_type": "display_data"
    }
   ],
   "source": [
    "ml.multifit()"
   ]
  },
  {
   "cell_type": "code",
   "execution_count": 40,
   "metadata": {},
   "outputs": [
    {
     "data": {
      "application/vnd.jupyter.widget-view+json": {
       "model_id": "2829f567c9bd4ba2b0a43cd61d05545c",
       "version_major": 2,
       "version_minor": 0
      },
      "text/plain": [
       "Canvas(toolbar=Toolbar(toolitems=[('Home', 'Reset original view', 'home', 'home'), ('Back', 'Back to previous …"
      ]
     },
     "metadata": {},
     "output_type": "display_data"
    }
   ],
   "source": [
    "ml.red_chisq.plot()"
   ]
  },
  {
   "cell_type": "markdown",
   "metadata": {},
   "source": [
    "That looks pretty good!"
   ]
  },
  {
   "cell_type": "markdown",
   "metadata": {},
   "source": [
    "Let's have a look at the parameters"
   ]
  },
  {
   "cell_type": "code",
   "execution_count": 41,
   "metadata": {},
   "outputs": [
    {
     "data": {
      "application/vnd.jupyter.widget-view+json": {
       "model_id": "cf2d6cb0bfda4a798695d4bed41ebd33",
       "version_major": 2,
       "version_minor": 0
      },
      "text/plain": [
       "Canvas(toolbar=Toolbar(toolitems=[('Home', 'Reset original view', 'home', 'home'), ('Back', 'Back to previous …"
      ]
     },
     "metadata": {},
     "output_type": "display_data"
    }
   ],
   "source": [
    "ml.components.narrow.height.plot()"
   ]
  },
  {
   "cell_type": "markdown",
   "metadata": {},
   "source": [
    "Interesting, the height seems to vary between 30 and 120."
   ]
  },
  {
   "cell_type": "code",
   "execution_count": 42,
   "metadata": {},
   "outputs": [
    {
     "data": {
      "application/vnd.jupyter.widget-view+json": {
       "model_id": "2093fe4714d74633924f5012effb7115",
       "version_major": 2,
       "version_minor": 0
      },
      "text/plain": [
       "Canvas(toolbar=Toolbar(toolitems=[('Home', 'Reset original view', 'home', 'home'), ('Back', 'Back to previous …"
      ]
     },
     "metadata": {},
     "output_type": "display_data"
    }
   ],
   "source": [
    "ml.components.narrow.centre.plot()"
   ]
  },
  {
   "cell_type": "markdown",
   "metadata": {},
   "source": [
    "And the position varies sinusoidally between 40 and 60"
   ]
  },
  {
   "cell_type": "code",
   "execution_count": 43,
   "metadata": {},
   "outputs": [
    {
     "data": {
      "application/vnd.jupyter.widget-view+json": {
       "model_id": "3f8b00ff4f29485fba63e7901367931c",
       "version_major": 2,
       "version_minor": 0
      },
      "text/plain": [
       "Canvas(toolbar=Toolbar(toolitems=[('Home', 'Reset original view', 'home', 'home'), ('Back', 'Back to previous …"
      ]
     },
     "metadata": {},
     "output_type": "display_data"
    }
   ],
   "source": [
    "ml.components.narrow.fwhm.plot()"
   ]
  },
  {
   "cell_type": "markdown",
   "metadata": {},
   "source": [
    "There doesn't seem to be any pattern in the variation of the FWHM, it seems to vary randomly around 6. Let's check if its standard variation to value ratio:"
   ]
  },
  {
   "cell_type": "code",
   "execution_count": 44,
   "metadata": {},
   "outputs": [
    {
     "data": {
      "text/plain": [
       "0.059434453086137186"
      ]
     },
     "execution_count": 44,
     "metadata": {},
     "output_type": "execute_result"
    }
   ],
   "source": [
    "ml.components.narrow.fwhm.as_signal().data.std() / ml.components.narrow.fwhm.as_signal().data.mean()"
   ]
  },
  {
   "cell_type": "markdown",
   "metadata": {},
   "source": [
    "That's around 5%, which, given the noisiness of the data, is consistent with this  parameter not varying at all,"
   ]
  },
  {
   "cell_type": "code",
   "execution_count": 45,
   "metadata": {},
   "outputs": [
    {
     "data": {
      "text/plain": [
       "0.005805821949466616"
      ]
     },
     "execution_count": 45,
     "metadata": {},
     "output_type": "execute_result"
    }
   ],
   "source": [
    "ml.components.wide.fwhm.as_signal().data.std() / ml.components.wide.fwhm.as_signal().data.mean()"
   ]
  },
  {
   "cell_type": "markdown",
   "metadata": {},
   "source": [
    "The wide peaks std to value ratio is just .6%, therefore it is reasonable to think that this parameter is fixed too.\n",
    "\n",
    "More on this later."
   ]
  },
  {
   "cell_type": "markdown",
   "metadata": {},
   "source": [
    "## Fitting the whole model"
   ]
  },
  {
   "cell_type": "markdown",
   "metadata": {},
   "source": [
    "Before fitting, it is a good idea storing the current state of the model. In this way, if we do something wrong, we can always return to this state"
   ]
  },
  {
   "cell_type": "code",
   "execution_count": 46,
   "metadata": {},
   "outputs": [
    {
     "data": {
      "text/plain": [
       "├── ground_truth\n",
       "│   ├── components\n",
       "│   │   ├── narrow\n",
       "│   │   └── wide\n",
       "│   ├── date = 2021-04-20 12:47:51\n",
       "│   └── dimensions = (32, 32|1024)\n",
       "└── new\n",
       "    ├── components\n",
       "    │   ├── narrow\n",
       "    │   └── wide\n",
       "    ├── date = 2021-04-20 12:48:53\n",
       "    └── dimensions = (32, 32|1024)"
      ]
     },
     "execution_count": 46,
     "metadata": {},
     "output_type": "execute_result"
    }
   ],
   "source": [
    "s.models"
   ]
  },
  {
   "cell_type": "code",
   "execution_count": 47,
   "metadata": {},
   "outputs": [],
   "source": [
    "m.store(\"first line fitted\")"
   ]
  },
  {
   "cell_type": "code",
   "execution_count": 48,
   "metadata": {},
   "outputs": [
    {
     "data": {
      "text/plain": [
       "├── first_line_fitted\n",
       "│   ├── components\n",
       "│   │   ├── narrow\n",
       "│   │   └── wide\n",
       "│   ├── date = 2021-04-20 12:49:48\n",
       "│   └── dimensions = (32, 32|1024)\n",
       "├── ground_truth\n",
       "│   ├── components\n",
       "│   │   ├── narrow\n",
       "│   │   └── wide\n",
       "│   ├── date = 2021-04-20 12:47:51\n",
       "│   └── dimensions = (32, 32|1024)\n",
       "└── new\n",
       "    ├── components\n",
       "    │   ├── narrow\n",
       "    │   └── wide\n",
       "    ├── date = 2021-04-20 12:48:53\n",
       "    └── dimensions = (32, 32|1024)"
      ]
     },
     "execution_count": 48,
     "metadata": {},
     "output_type": "execute_result"
    }
   ],
   "source": [
    "m.signal.models"
   ]
  },
  {
   "cell_type": "code",
   "execution_count": 49,
   "metadata": {},
   "outputs": [],
   "source": [
    "m.signal.estimate_poissonian_noise_variance()"
   ]
  },
  {
   "cell_type": "code",
   "execution_count": 50,
   "metadata": {},
   "outputs": [
    {
     "name": "stderr",
     "output_type": "stream",
     "text": [
      "/home/francisco/Git/hyperspy/hyperspy/model.py:1567: VisibleDeprecationWarning: The 'iterpath' default will change from 'flyback' to 'serpentine' in HyperSpy version 2.0. Change 'iterpath' to other than None to suppress this warning.\n",
      "  warnings.warn(\n"
     ]
    },
    {
     "data": {
      "application/vnd.jupyter.widget-view+json": {
       "model_id": "6e275573f27444deba6f31ddcc63aa98",
       "version_major": 2,
       "version_minor": 0
      },
      "text/plain": [
       "  0%|          | 0/1024 [00:00<?, ?it/s]"
      ]
     },
     "metadata": {},
     "output_type": "display_data"
    },
    {
     "name": "stderr",
     "output_type": "stream",
     "text": [
      "WARNING:hyperspy.model:Covariance of the parameters could not be estimated. Estimated parameter standard deviations will be np.nan.\n",
      "WARNING:hyperspy.model:Covariance of the parameters could not be estimated. Estimated parameter standard deviations will be np.nan.\n",
      "WARNING:hyperspy.model:Covariance of the parameters could not be estimated. Estimated parameter standard deviations will be np.nan.\n",
      "WARNING:hyperspy.model:Covariance of the parameters could not be estimated. Estimated parameter standard deviations will be np.nan.\n",
      "WARNING:hyperspy.model:Covariance of the parameters could not be estimated. Estimated parameter standard deviations will be np.nan.\n",
      "WARNING:hyperspy.model:Covariance of the parameters could not be estimated. Estimated parameter standard deviations will be np.nan.\n",
      "WARNING:hyperspy.model:Covariance of the parameters could not be estimated. Estimated parameter standard deviations will be np.nan.\n",
      "WARNING:hyperspy.model:Covariance of the parameters could not be estimated. Estimated parameter standard deviations will be np.nan.\n",
      "WARNING:hyperspy.model:Covariance of the parameters could not be estimated. Estimated parameter standard deviations will be np.nan.\n",
      "WARNING:hyperspy.model:Covariance of the parameters could not be estimated. Estimated parameter standard deviations will be np.nan.\n",
      "WARNING:hyperspy.model:Covariance of the parameters could not be estimated. Estimated parameter standard deviations will be np.nan.\n",
      "WARNING:hyperspy.model:Covariance of the parameters could not be estimated. Estimated parameter standard deviations will be np.nan.\n",
      "WARNING:hyperspy.model:Covariance of the parameters could not be estimated. Estimated parameter standard deviations will be np.nan.\n",
      "WARNING:hyperspy.model:Covariance of the parameters could not be estimated. Estimated parameter standard deviations will be np.nan.\n",
      "WARNING:hyperspy.model:Covariance of the parameters could not be estimated. Estimated parameter standard deviations will be np.nan.\n",
      "WARNING:hyperspy.model:Covariance of the parameters could not be estimated. Estimated parameter standard deviations will be np.nan.\n",
      "WARNING:hyperspy.model:Covariance of the parameters could not be estimated. Estimated parameter standard deviations will be np.nan.\n",
      "WARNING:hyperspy.model:Covariance of the parameters could not be estimated. Estimated parameter standard deviations will be np.nan.\n",
      "WARNING:hyperspy.model:Covariance of the parameters could not be estimated. Estimated parameter standard deviations will be np.nan.\n",
      "WARNING:hyperspy.model:Covariance of the parameters could not be estimated. Estimated parameter standard deviations will be np.nan.\n",
      "WARNING:hyperspy.model:Covariance of the parameters could not be estimated. Estimated parameter standard deviations will be np.nan.\n",
      "WARNING:hyperspy.model:Covariance of the parameters could not be estimated. Estimated parameter standard deviations will be np.nan.\n",
      "WARNING:hyperspy.model:Covariance of the parameters could not be estimated. Estimated parameter standard deviations will be np.nan.\n",
      "WARNING:hyperspy.model:Covariance of the parameters could not be estimated. Estimated parameter standard deviations will be np.nan.\n",
      "WARNING:hyperspy.model:Covariance of the parameters could not be estimated. Estimated parameter standard deviations will be np.nan.\n",
      "WARNING:hyperspy.model:Covariance of the parameters could not be estimated. Estimated parameter standard deviations will be np.nan.\n",
      "WARNING:hyperspy.model:Covariance of the parameters could not be estimated. Estimated parameter standard deviations will be np.nan.\n",
      "WARNING:hyperspy.model:Covariance of the parameters could not be estimated. Estimated parameter standard deviations will be np.nan.\n",
      "WARNING:hyperspy.model:Covariance of the parameters could not be estimated. Estimated parameter standard deviations will be np.nan.\n",
      "WARNING:hyperspy.model:Covariance of the parameters could not be estimated. Estimated parameter standard deviations will be np.nan.\n",
      "WARNING:hyperspy.model:Covariance of the parameters could not be estimated. Estimated parameter standard deviations will be np.nan.\n",
      "WARNING:hyperspy.model:Covariance of the parameters could not be estimated. Estimated parameter standard deviations will be np.nan.\n",
      "WARNING:hyperspy.model:Covariance of the parameters could not be estimated. Estimated parameter standard deviations will be np.nan.\n",
      "WARNING:hyperspy.model:Covariance of the parameters could not be estimated. Estimated parameter standard deviations will be np.nan.\n",
      "WARNING:hyperspy.model:Covariance of the parameters could not be estimated. Estimated parameter standard deviations will be np.nan.\n",
      "WARNING:hyperspy.model:Covariance of the parameters could not be estimated. Estimated parameter standard deviations will be np.nan.\n",
      "WARNING:hyperspy.model:Covariance of the parameters could not be estimated. Estimated parameter standard deviations will be np.nan.\n",
      "WARNING:hyperspy.model:Covariance of the parameters could not be estimated. Estimated parameter standard deviations will be np.nan.\n",
      "WARNING:hyperspy.model:Covariance of the parameters could not be estimated. Estimated parameter standard deviations will be np.nan.\n",
      "WARNING:hyperspy.model:Covariance of the parameters could not be estimated. Estimated parameter standard deviations will be np.nan.\n",
      "WARNING:hyperspy.model:Covariance of the parameters could not be estimated. Estimated parameter standard deviations will be np.nan.\n",
      "WARNING:hyperspy.model:Covariance of the parameters could not be estimated. Estimated parameter standard deviations will be np.nan.\n",
      "WARNING:hyperspy.model:Covariance of the parameters could not be estimated. Estimated parameter standard deviations will be np.nan.\n",
      "WARNING:hyperspy.model:Covariance of the parameters could not be estimated. Estimated parameter standard deviations will be np.nan.\n",
      "WARNING:hyperspy.model:Covariance of the parameters could not be estimated. Estimated parameter standard deviations will be np.nan.\n",
      "WARNING:hyperspy.model:Covariance of the parameters could not be estimated. Estimated parameter standard deviations will be np.nan.\n",
      "WARNING:hyperspy.model:Covariance of the parameters could not be estimated. Estimated parameter standard deviations will be np.nan.\n",
      "WARNING:hyperspy.model:Covariance of the parameters could not be estimated. Estimated parameter standard deviations will be np.nan.\n",
      "WARNING:hyperspy.model:Covariance of the parameters could not be estimated. Estimated parameter standard deviations will be np.nan.\n",
      "WARNING:hyperspy.model:Covariance of the parameters could not be estimated. Estimated parameter standard deviations will be np.nan.\n",
      "WARNING:hyperspy.model:Covariance of the parameters could not be estimated. Estimated parameter standard deviations will be np.nan.\n",
      "WARNING:hyperspy.model:Covariance of the parameters could not be estimated. Estimated parameter standard deviations will be np.nan.\n",
      "WARNING:hyperspy.model:Covariance of the parameters could not be estimated. Estimated parameter standard deviations will be np.nan.\n",
      "WARNING:hyperspy.model:Covariance of the parameters could not be estimated. Estimated parameter standard deviations will be np.nan.\n",
      "WARNING:hyperspy.model:Covariance of the parameters could not be estimated. Estimated parameter standard deviations will be np.nan.\n",
      "WARNING:hyperspy.model:Covariance of the parameters could not be estimated. Estimated parameter standard deviations will be np.nan.\n",
      "WARNING:hyperspy.model:Covariance of the parameters could not be estimated. Estimated parameter standard deviations will be np.nan.\n",
      "WARNING:hyperspy.model:Covariance of the parameters could not be estimated. Estimated parameter standard deviations will be np.nan.\n",
      "WARNING:hyperspy.model:Covariance of the parameters could not be estimated. Estimated parameter standard deviations will be np.nan.\n",
      "WARNING:hyperspy.model:Covariance of the parameters could not be estimated. Estimated parameter standard deviations will be np.nan.\n",
      "WARNING:hyperspy.model:Covariance of the parameters could not be estimated. Estimated parameter standard deviations will be np.nan.\n",
      "WARNING:hyperspy.model:Covariance of the parameters could not be estimated. Estimated parameter standard deviations will be np.nan.\n",
      "WARNING:hyperspy.model:Covariance of the parameters could not be estimated. Estimated parameter standard deviations will be np.nan.\n",
      "WARNING:hyperspy.model:Covariance of the parameters could not be estimated. Estimated parameter standard deviations will be np.nan.\n",
      "WARNING:hyperspy.model:Covariance of the parameters could not be estimated. Estimated parameter standard deviations will be np.nan.\n",
      "WARNING:hyperspy.model:Covariance of the parameters could not be estimated. Estimated parameter standard deviations will be np.nan.\n",
      "WARNING:hyperspy.model:Covariance of the parameters could not be estimated. Estimated parameter standard deviations will be np.nan.\n",
      "WARNING:hyperspy.model:Covariance of the parameters could not be estimated. Estimated parameter standard deviations will be np.nan.\n",
      "WARNING:hyperspy.model:Covariance of the parameters could not be estimated. Estimated parameter standard deviations will be np.nan.\n",
      "WARNING:hyperspy.model:Covariance of the parameters could not be estimated. Estimated parameter standard deviations will be np.nan.\n",
      "WARNING:hyperspy.model:Covariance of the parameters could not be estimated. Estimated parameter standard deviations will be np.nan.\n",
      "WARNING:hyperspy.model:Covariance of the parameters could not be estimated. Estimated parameter standard deviations will be np.nan.\n",
      "WARNING:hyperspy.model:Covariance of the parameters could not be estimated. Estimated parameter standard deviations will be np.nan.\n",
      "WARNING:hyperspy.model:Covariance of the parameters could not be estimated. Estimated parameter standard deviations will be np.nan.\n",
      "WARNING:hyperspy.model:Covariance of the parameters could not be estimated. Estimated parameter standard deviations will be np.nan.\n",
      "WARNING:hyperspy.model:Covariance of the parameters could not be estimated. Estimated parameter standard deviations will be np.nan.\n",
      "WARNING:hyperspy.model:Covariance of the parameters could not be estimated. Estimated parameter standard deviations will be np.nan.\n",
      "WARNING:hyperspy.model:Covariance of the parameters could not be estimated. Estimated parameter standard deviations will be np.nan.\n",
      "WARNING:hyperspy.model:Covariance of the parameters could not be estimated. Estimated parameter standard deviations will be np.nan.\n",
      "WARNING:hyperspy.model:Covariance of the parameters could not be estimated. Estimated parameter standard deviations will be np.nan.\n",
      "WARNING:hyperspy.model:Covariance of the parameters could not be estimated. Estimated parameter standard deviations will be np.nan.\n",
      "WARNING:hyperspy.model:Covariance of the parameters could not be estimated. Estimated parameter standard deviations will be np.nan.\n",
      "WARNING:hyperspy.model:Covariance of the parameters could not be estimated. Estimated parameter standard deviations will be np.nan.\n",
      "WARNING:hyperspy.model:Covariance of the parameters could not be estimated. Estimated parameter standard deviations will be np.nan.\n",
      "WARNING:hyperspy.model:Covariance of the parameters could not be estimated. Estimated parameter standard deviations will be np.nan.\n",
      "WARNING:hyperspy.model:Covariance of the parameters could not be estimated. Estimated parameter standard deviations will be np.nan.\n",
      "WARNING:hyperspy.model:Covariance of the parameters could not be estimated. Estimated parameter standard deviations will be np.nan.\n",
      "WARNING:hyperspy.model:Covariance of the parameters could not be estimated. Estimated parameter standard deviations will be np.nan.\n",
      "WARNING:hyperspy.model:Covariance of the parameters could not be estimated. Estimated parameter standard deviations will be np.nan.\n",
      "WARNING:hyperspy.model:Covariance of the parameters could not be estimated. Estimated parameter standard deviations will be np.nan.\n",
      "WARNING:hyperspy.model:Covariance of the parameters could not be estimated. Estimated parameter standard deviations will be np.nan.\n",
      "WARNING:hyperspy.model:Covariance of the parameters could not be estimated. Estimated parameter standard deviations will be np.nan.\n",
      "WARNING:hyperspy.model:Covariance of the parameters could not be estimated. Estimated parameter standard deviations will be np.nan.\n",
      "WARNING:hyperspy.model:Covariance of the parameters could not be estimated. Estimated parameter standard deviations will be np.nan.\n",
      "WARNING:hyperspy.model:Covariance of the parameters could not be estimated. Estimated parameter standard deviations will be np.nan.\n",
      "WARNING:hyperspy.model:Covariance of the parameters could not be estimated. Estimated parameter standard deviations will be np.nan.\n",
      "WARNING:hyperspy.model:Covariance of the parameters could not be estimated. Estimated parameter standard deviations will be np.nan.\n",
      "WARNING:hyperspy.model:Covariance of the parameters could not be estimated. Estimated parameter standard deviations will be np.nan.\n",
      "WARNING:hyperspy.model:Covariance of the parameters could not be estimated. Estimated parameter standard deviations will be np.nan.\n",
      "WARNING:hyperspy.model:Covariance of the parameters could not be estimated. Estimated parameter standard deviations will be np.nan.\n",
      "WARNING:hyperspy.model:Covariance of the parameters could not be estimated. Estimated parameter standard deviations will be np.nan.\n",
      "WARNING:hyperspy.model:Covariance of the parameters could not be estimated. Estimated parameter standard deviations will be np.nan.\n",
      "WARNING:hyperspy.model:Covariance of the parameters could not be estimated. Estimated parameter standard deviations will be np.nan.\n",
      "WARNING:hyperspy.model:Covariance of the parameters could not be estimated. Estimated parameter standard deviations will be np.nan.\n",
      "WARNING:hyperspy.model:Covariance of the parameters could not be estimated. Estimated parameter standard deviations will be np.nan.\n",
      "WARNING:hyperspy.model:Covariance of the parameters could not be estimated. Estimated parameter standard deviations will be np.nan.\n",
      "WARNING:hyperspy.model:Covariance of the parameters could not be estimated. Estimated parameter standard deviations will be np.nan.\n",
      "WARNING:hyperspy.model:Covariance of the parameters could not be estimated. Estimated parameter standard deviations will be np.nan.\n",
      "WARNING:hyperspy.model:Covariance of the parameters could not be estimated. Estimated parameter standard deviations will be np.nan.\n",
      "WARNING:hyperspy.model:Covariance of the parameters could not be estimated. Estimated parameter standard deviations will be np.nan.\n",
      "WARNING:hyperspy.model:Covariance of the parameters could not be estimated. Estimated parameter standard deviations will be np.nan.\n",
      "WARNING:hyperspy.model:Covariance of the parameters could not be estimated. Estimated parameter standard deviations will be np.nan.\n",
      "WARNING:hyperspy.model:Covariance of the parameters could not be estimated. Estimated parameter standard deviations will be np.nan.\n",
      "WARNING:hyperspy.model:Covariance of the parameters could not be estimated. Estimated parameter standard deviations will be np.nan.\n",
      "WARNING:hyperspy.model:Covariance of the parameters could not be estimated. Estimated parameter standard deviations will be np.nan.\n",
      "WARNING:hyperspy.model:Covariance of the parameters could not be estimated. Estimated parameter standard deviations will be np.nan.\n",
      "WARNING:hyperspy.model:Covariance of the parameters could not be estimated. Estimated parameter standard deviations will be np.nan.\n",
      "WARNING:hyperspy.model:Covariance of the parameters could not be estimated. Estimated parameter standard deviations will be np.nan.\n",
      "WARNING:hyperspy.model:Covariance of the parameters could not be estimated. Estimated parameter standard deviations will be np.nan.\n",
      "WARNING:hyperspy.model:Covariance of the parameters could not be estimated. Estimated parameter standard deviations will be np.nan.\n",
      "WARNING:hyperspy.model:Covariance of the parameters could not be estimated. Estimated parameter standard deviations will be np.nan.\n",
      "WARNING:hyperspy.model:Covariance of the parameters could not be estimated. Estimated parameter standard deviations will be np.nan.\n",
      "WARNING:hyperspy.model:Covariance of the parameters could not be estimated. Estimated parameter standard deviations will be np.nan.\n",
      "WARNING:hyperspy.model:Covariance of the parameters could not be estimated. Estimated parameter standard deviations will be np.nan.\n",
      "WARNING:hyperspy.model:Covariance of the parameters could not be estimated. Estimated parameter standard deviations will be np.nan.\n",
      "WARNING:hyperspy.model:Covariance of the parameters could not be estimated. Estimated parameter standard deviations will be np.nan.\n",
      "WARNING:hyperspy.model:Covariance of the parameters could not be estimated. Estimated parameter standard deviations will be np.nan.\n",
      "WARNING:hyperspy.model:Covariance of the parameters could not be estimated. Estimated parameter standard deviations will be np.nan.\n",
      "WARNING:hyperspy.model:Covariance of the parameters could not be estimated. Estimated parameter standard deviations will be np.nan.\n",
      "WARNING:hyperspy.model:Covariance of the parameters could not be estimated. Estimated parameter standard deviations will be np.nan.\n",
      "WARNING:hyperspy.model:Covariance of the parameters could not be estimated. Estimated parameter standard deviations will be np.nan.\n",
      "WARNING:hyperspy.model:Covariance of the parameters could not be estimated. Estimated parameter standard deviations will be np.nan.\n",
      "WARNING:hyperspy.model:Covariance of the parameters could not be estimated. Estimated parameter standard deviations will be np.nan.\n",
      "WARNING:hyperspy.model:Covariance of the parameters could not be estimated. Estimated parameter standard deviations will be np.nan.\n",
      "WARNING:hyperspy.model:Covariance of the parameters could not be estimated. Estimated parameter standard deviations will be np.nan.\n",
      "WARNING:hyperspy.model:Covariance of the parameters could not be estimated. Estimated parameter standard deviations will be np.nan.\n",
      "WARNING:hyperspy.model:Covariance of the parameters could not be estimated. Estimated parameter standard deviations will be np.nan.\n",
      "WARNING:hyperspy.model:Covariance of the parameters could not be estimated. Estimated parameter standard deviations will be np.nan.\n",
      "WARNING:hyperspy.model:Covariance of the parameters could not be estimated. Estimated parameter standard deviations will be np.nan.\n",
      "WARNING:hyperspy.model:Covariance of the parameters could not be estimated. Estimated parameter standard deviations will be np.nan.\n",
      "WARNING:hyperspy.model:Covariance of the parameters could not be estimated. Estimated parameter standard deviations will be np.nan.\n",
      "WARNING:hyperspy.model:Covariance of the parameters could not be estimated. Estimated parameter standard deviations will be np.nan.\n",
      "WARNING:hyperspy.model:Covariance of the parameters could not be estimated. Estimated parameter standard deviations will be np.nan.\n",
      "WARNING:hyperspy.model:Covariance of the parameters could not be estimated. Estimated parameter standard deviations will be np.nan.\n",
      "WARNING:hyperspy.model:Covariance of the parameters could not be estimated. Estimated parameter standard deviations will be np.nan.\n",
      "WARNING:hyperspy.model:Covariance of the parameters could not be estimated. Estimated parameter standard deviations will be np.nan.\n",
      "WARNING:hyperspy.model:Covariance of the parameters could not be estimated. Estimated parameter standard deviations will be np.nan.\n",
      "WARNING:hyperspy.model:Covariance of the parameters could not be estimated. Estimated parameter standard deviations will be np.nan.\n",
      "WARNING:hyperspy.model:Covariance of the parameters could not be estimated. Estimated parameter standard deviations will be np.nan.\n",
      "WARNING:hyperspy.model:Covariance of the parameters could not be estimated. Estimated parameter standard deviations will be np.nan.\n",
      "WARNING:hyperspy.model:Covariance of the parameters could not be estimated. Estimated parameter standard deviations will be np.nan.\n",
      "WARNING:hyperspy.model:Covariance of the parameters could not be estimated. Estimated parameter standard deviations will be np.nan.\n",
      "WARNING:hyperspy.model:Covariance of the parameters could not be estimated. Estimated parameter standard deviations will be np.nan.\n",
      "WARNING:hyperspy.model:Covariance of the parameters could not be estimated. Estimated parameter standard deviations will be np.nan.\n",
      "WARNING:hyperspy.model:Covariance of the parameters could not be estimated. Estimated parameter standard deviations will be np.nan.\n",
      "WARNING:hyperspy.model:Covariance of the parameters could not be estimated. Estimated parameter standard deviations will be np.nan.\n",
      "WARNING:hyperspy.model:Covariance of the parameters could not be estimated. Estimated parameter standard deviations will be np.nan.\n",
      "WARNING:hyperspy.model:Covariance of the parameters could not be estimated. Estimated parameter standard deviations will be np.nan.\n",
      "WARNING:hyperspy.model:Covariance of the parameters could not be estimated. Estimated parameter standard deviations will be np.nan.\n",
      "WARNING:hyperspy.model:Covariance of the parameters could not be estimated. Estimated parameter standard deviations will be np.nan.\n",
      "WARNING:hyperspy.model:Covariance of the parameters could not be estimated. Estimated parameter standard deviations will be np.nan.\n",
      "WARNING:hyperspy.model:Covariance of the parameters could not be estimated. Estimated parameter standard deviations will be np.nan.\n",
      "WARNING:hyperspy.model:Covariance of the parameters could not be estimated. Estimated parameter standard deviations will be np.nan.\n",
      "WARNING:hyperspy.model:Covariance of the parameters could not be estimated. Estimated parameter standard deviations will be np.nan.\n",
      "WARNING:hyperspy.model:Covariance of the parameters could not be estimated. Estimated parameter standard deviations will be np.nan.\n",
      "WARNING:hyperspy.model:Covariance of the parameters could not be estimated. Estimated parameter standard deviations will be np.nan.\n",
      "WARNING:hyperspy.model:Covariance of the parameters could not be estimated. Estimated parameter standard deviations will be np.nan.\n",
      "WARNING:hyperspy.model:Covariance of the parameters could not be estimated. Estimated parameter standard deviations will be np.nan.\n",
      "WARNING:hyperspy.model:Covariance of the parameters could not be estimated. Estimated parameter standard deviations will be np.nan.\n",
      "WARNING:hyperspy.model:Covariance of the parameters could not be estimated. Estimated parameter standard deviations will be np.nan.\n",
      "WARNING:hyperspy.model:Covariance of the parameters could not be estimated. Estimated parameter standard deviations will be np.nan.\n",
      "WARNING:hyperspy.model:Covariance of the parameters could not be estimated. Estimated parameter standard deviations will be np.nan.\n",
      "WARNING:hyperspy.model:Covariance of the parameters could not be estimated. Estimated parameter standard deviations will be np.nan.\n",
      "WARNING:hyperspy.model:Covariance of the parameters could not be estimated. Estimated parameter standard deviations will be np.nan.\n",
      "WARNING:hyperspy.model:Covariance of the parameters could not be estimated. Estimated parameter standard deviations will be np.nan.\n",
      "WARNING:hyperspy.model:Covariance of the parameters could not be estimated. Estimated parameter standard deviations will be np.nan.\n",
      "WARNING:hyperspy.model:Covariance of the parameters could not be estimated. Estimated parameter standard deviations will be np.nan.\n",
      "WARNING:hyperspy.model:Covariance of the parameters could not be estimated. Estimated parameter standard deviations will be np.nan.\n",
      "WARNING:hyperspy.model:Covariance of the parameters could not be estimated. Estimated parameter standard deviations will be np.nan.\n",
      "WARNING:hyperspy.model:Covariance of the parameters could not be estimated. Estimated parameter standard deviations will be np.nan.\n",
      "WARNING:hyperspy.model:Covariance of the parameters could not be estimated. Estimated parameter standard deviations will be np.nan.\n",
      "WARNING:hyperspy.model:Covariance of the parameters could not be estimated. Estimated parameter standard deviations will be np.nan.\n",
      "WARNING:hyperspy.model:Covariance of the parameters could not be estimated. Estimated parameter standard deviations will be np.nan.\n",
      "WARNING:hyperspy.model:Covariance of the parameters could not be estimated. Estimated parameter standard deviations will be np.nan.\n",
      "WARNING:hyperspy.model:Covariance of the parameters could not be estimated. Estimated parameter standard deviations will be np.nan.\n",
      "WARNING:hyperspy.model:Covariance of the parameters could not be estimated. Estimated parameter standard deviations will be np.nan.\n",
      "WARNING:hyperspy.model:Covariance of the parameters could not be estimated. Estimated parameter standard deviations will be np.nan.\n",
      "WARNING:hyperspy.model:Covariance of the parameters could not be estimated. Estimated parameter standard deviations will be np.nan.\n",
      "WARNING:hyperspy.model:Covariance of the parameters could not be estimated. Estimated parameter standard deviations will be np.nan.\n",
      "WARNING:hyperspy.model:Covariance of the parameters could not be estimated. Estimated parameter standard deviations will be np.nan.\n",
      "WARNING:hyperspy.model:Covariance of the parameters could not be estimated. Estimated parameter standard deviations will be np.nan.\n",
      "WARNING:hyperspy.model:Covariance of the parameters could not be estimated. Estimated parameter standard deviations will be np.nan.\n",
      "WARNING:hyperspy.model:Covariance of the parameters could not be estimated. Estimated parameter standard deviations will be np.nan.\n",
      "WARNING:hyperspy.model:Covariance of the parameters could not be estimated. Estimated parameter standard deviations will be np.nan.\n",
      "WARNING:hyperspy.model:Covariance of the parameters could not be estimated. Estimated parameter standard deviations will be np.nan.\n",
      "WARNING:hyperspy.model:Covariance of the parameters could not be estimated. Estimated parameter standard deviations will be np.nan.\n",
      "WARNING:hyperspy.model:Covariance of the parameters could not be estimated. Estimated parameter standard deviations will be np.nan.\n",
      "WARNING:hyperspy.model:Covariance of the parameters could not be estimated. Estimated parameter standard deviations will be np.nan.\n",
      "WARNING:hyperspy.model:Covariance of the parameters could not be estimated. Estimated parameter standard deviations will be np.nan.\n",
      "WARNING:hyperspy.model:Covariance of the parameters could not be estimated. Estimated parameter standard deviations will be np.nan.\n",
      "WARNING:hyperspy.model:Covariance of the parameters could not be estimated. Estimated parameter standard deviations will be np.nan.\n",
      "WARNING:hyperspy.model:Covariance of the parameters could not be estimated. Estimated parameter standard deviations will be np.nan.\n",
      "WARNING:hyperspy.model:Covariance of the parameters could not be estimated. Estimated parameter standard deviations will be np.nan.\n",
      "WARNING:hyperspy.model:Covariance of the parameters could not be estimated. Estimated parameter standard deviations will be np.nan.\n",
      "WARNING:hyperspy.model:Covariance of the parameters could not be estimated. Estimated parameter standard deviations will be np.nan.\n",
      "WARNING:hyperspy.model:Covariance of the parameters could not be estimated. Estimated parameter standard deviations will be np.nan.\n",
      "WARNING:hyperspy.model:Covariance of the parameters could not be estimated. Estimated parameter standard deviations will be np.nan.\n",
      "WARNING:hyperspy.model:Covariance of the parameters could not be estimated. Estimated parameter standard deviations will be np.nan.\n",
      "WARNING:hyperspy.model:Covariance of the parameters could not be estimated. Estimated parameter standard deviations will be np.nan.\n",
      "WARNING:hyperspy.model:Covariance of the parameters could not be estimated. Estimated parameter standard deviations will be np.nan.\n",
      "WARNING:hyperspy.model:Covariance of the parameters could not be estimated. Estimated parameter standard deviations will be np.nan.\n",
      "WARNING:hyperspy.model:Covariance of the parameters could not be estimated. Estimated parameter standard deviations will be np.nan.\n",
      "WARNING:hyperspy.model:Covariance of the parameters could not be estimated. Estimated parameter standard deviations will be np.nan.\n",
      "WARNING:hyperspy.model:Covariance of the parameters could not be estimated. Estimated parameter standard deviations will be np.nan.\n",
      "WARNING:hyperspy.model:Covariance of the parameters could not be estimated. Estimated parameter standard deviations will be np.nan.\n",
      "WARNING:hyperspy.model:Covariance of the parameters could not be estimated. Estimated parameter standard deviations will be np.nan.\n",
      "WARNING:hyperspy.model:Covariance of the parameters could not be estimated. Estimated parameter standard deviations will be np.nan.\n",
      "WARNING:hyperspy.model:Covariance of the parameters could not be estimated. Estimated parameter standard deviations will be np.nan.\n",
      "WARNING:hyperspy.model:Covariance of the parameters could not be estimated. Estimated parameter standard deviations will be np.nan.\n",
      "WARNING:hyperspy.model:Covariance of the parameters could not be estimated. Estimated parameter standard deviations will be np.nan.\n",
      "WARNING:hyperspy.model:Covariance of the parameters could not be estimated. Estimated parameter standard deviations will be np.nan.\n",
      "WARNING:hyperspy.model:Covariance of the parameters could not be estimated. Estimated parameter standard deviations will be np.nan.\n",
      "WARNING:hyperspy.model:Covariance of the parameters could not be estimated. Estimated parameter standard deviations will be np.nan.\n",
      "WARNING:hyperspy.model:Covariance of the parameters could not be estimated. Estimated parameter standard deviations will be np.nan.\n",
      "WARNING:hyperspy.model:Covariance of the parameters could not be estimated. Estimated parameter standard deviations will be np.nan.\n",
      "WARNING:hyperspy.model:Covariance of the parameters could not be estimated. Estimated parameter standard deviations will be np.nan.\n",
      "WARNING:hyperspy.model:Covariance of the parameters could not be estimated. Estimated parameter standard deviations will be np.nan.\n",
      "WARNING:hyperspy.model:Covariance of the parameters could not be estimated. Estimated parameter standard deviations will be np.nan.\n",
      "WARNING:hyperspy.model:Covariance of the parameters could not be estimated. Estimated parameter standard deviations will be np.nan.\n",
      "WARNING:hyperspy.model:Covariance of the parameters could not be estimated. Estimated parameter standard deviations will be np.nan.\n",
      "WARNING:hyperspy.model:Covariance of the parameters could not be estimated. Estimated parameter standard deviations will be np.nan.\n",
      "WARNING:hyperspy.model:Covariance of the parameters could not be estimated. Estimated parameter standard deviations will be np.nan.\n",
      "WARNING:hyperspy.model:Covariance of the parameters could not be estimated. Estimated parameter standard deviations will be np.nan.\n",
      "WARNING:hyperspy.model:Covariance of the parameters could not be estimated. Estimated parameter standard deviations will be np.nan.\n",
      "WARNING:hyperspy.model:Covariance of the parameters could not be estimated. Estimated parameter standard deviations will be np.nan.\n",
      "WARNING:hyperspy.model:Covariance of the parameters could not be estimated. Estimated parameter standard deviations will be np.nan.\n",
      "WARNING:hyperspy.model:Covariance of the parameters could not be estimated. Estimated parameter standard deviations will be np.nan.\n",
      "WARNING:hyperspy.model:Covariance of the parameters could not be estimated. Estimated parameter standard deviations will be np.nan.\n",
      "WARNING:hyperspy.model:Covariance of the parameters could not be estimated. Estimated parameter standard deviations will be np.nan.\n",
      "WARNING:hyperspy.model:Covariance of the parameters could not be estimated. Estimated parameter standard deviations will be np.nan.\n",
      "WARNING:hyperspy.model:Covariance of the parameters could not be estimated. Estimated parameter standard deviations will be np.nan.\n",
      "WARNING:hyperspy.model:Covariance of the parameters could not be estimated. Estimated parameter standard deviations will be np.nan.\n",
      "WARNING:hyperspy.model:Covariance of the parameters could not be estimated. Estimated parameter standard deviations will be np.nan.\n",
      "WARNING:hyperspy.model:Covariance of the parameters could not be estimated. Estimated parameter standard deviations will be np.nan.\n",
      "WARNING:hyperspy.model:Covariance of the parameters could not be estimated. Estimated parameter standard deviations will be np.nan.\n",
      "WARNING:hyperspy.model:Covariance of the parameters could not be estimated. Estimated parameter standard deviations will be np.nan.\n",
      "WARNING:hyperspy.model:Covariance of the parameters could not be estimated. Estimated parameter standard deviations will be np.nan.\n",
      "WARNING:hyperspy.model:Covariance of the parameters could not be estimated. Estimated parameter standard deviations will be np.nan.\n",
      "WARNING:hyperspy.model:Covariance of the parameters could not be estimated. Estimated parameter standard deviations will be np.nan.\n",
      "WARNING:hyperspy.model:Covariance of the parameters could not be estimated. Estimated parameter standard deviations will be np.nan.\n",
      "WARNING:hyperspy.model:Covariance of the parameters could not be estimated. Estimated parameter standard deviations will be np.nan.\n",
      "WARNING:hyperspy.model:Covariance of the parameters could not be estimated. Estimated parameter standard deviations will be np.nan.\n",
      "WARNING:hyperspy.model:Covariance of the parameters could not be estimated. Estimated parameter standard deviations will be np.nan.\n",
      "WARNING:hyperspy.model:Covariance of the parameters could not be estimated. Estimated parameter standard deviations will be np.nan.\n",
      "WARNING:hyperspy.model:Covariance of the parameters could not be estimated. Estimated parameter standard deviations will be np.nan.\n",
      "WARNING:hyperspy.model:Covariance of the parameters could not be estimated. Estimated parameter standard deviations will be np.nan.\n",
      "WARNING:hyperspy.model:Covariance of the parameters could not be estimated. Estimated parameter standard deviations will be np.nan.\n",
      "WARNING:hyperspy.model:Covariance of the parameters could not be estimated. Estimated parameter standard deviations will be np.nan.\n",
      "WARNING:hyperspy.model:Covariance of the parameters could not be estimated. Estimated parameter standard deviations will be np.nan.\n",
      "WARNING:hyperspy.model:Covariance of the parameters could not be estimated. Estimated parameter standard deviations will be np.nan.\n",
      "WARNING:hyperspy.model:Covariance of the parameters could not be estimated. Estimated parameter standard deviations will be np.nan.\n",
      "WARNING:hyperspy.model:Covariance of the parameters could not be estimated. Estimated parameter standard deviations will be np.nan.\n",
      "WARNING:hyperspy.model:Covariance of the parameters could not be estimated. Estimated parameter standard deviations will be np.nan.\n",
      "WARNING:hyperspy.model:Covariance of the parameters could not be estimated. Estimated parameter standard deviations will be np.nan.\n",
      "WARNING:hyperspy.model:Covariance of the parameters could not be estimated. Estimated parameter standard deviations will be np.nan.\n",
      "WARNING:hyperspy.model:Covariance of the parameters could not be estimated. Estimated parameter standard deviations will be np.nan.\n",
      "WARNING:hyperspy.model:Covariance of the parameters could not be estimated. Estimated parameter standard deviations will be np.nan.\n",
      "WARNING:hyperspy.model:Covariance of the parameters could not be estimated. Estimated parameter standard deviations will be np.nan.\n",
      "WARNING:hyperspy.model:Covariance of the parameters could not be estimated. Estimated parameter standard deviations will be np.nan.\n",
      "WARNING:hyperspy.model:Covariance of the parameters could not be estimated. Estimated parameter standard deviations will be np.nan.\n",
      "WARNING:hyperspy.model:Covariance of the parameters could not be estimated. Estimated parameter standard deviations will be np.nan.\n",
      "WARNING:hyperspy.model:Covariance of the parameters could not be estimated. Estimated parameter standard deviations will be np.nan.\n",
      "WARNING:hyperspy.model:Covariance of the parameters could not be estimated. Estimated parameter standard deviations will be np.nan.\n",
      "WARNING:hyperspy.model:Covariance of the parameters could not be estimated. Estimated parameter standard deviations will be np.nan.\n",
      "WARNING:hyperspy.model:Covariance of the parameters could not be estimated. Estimated parameter standard deviations will be np.nan.\n",
      "WARNING:hyperspy.model:Covariance of the parameters could not be estimated. Estimated parameter standard deviations will be np.nan.\n",
      "WARNING:hyperspy.model:Covariance of the parameters could not be estimated. Estimated parameter standard deviations will be np.nan.\n",
      "WARNING:hyperspy.model:Covariance of the parameters could not be estimated. Estimated parameter standard deviations will be np.nan.\n",
      "WARNING:hyperspy.model:Covariance of the parameters could not be estimated. Estimated parameter standard deviations will be np.nan.\n",
      "WARNING:hyperspy.model:Covariance of the parameters could not be estimated. Estimated parameter standard deviations will be np.nan.\n",
      "WARNING:hyperspy.model:Covariance of the parameters could not be estimated. Estimated parameter standard deviations will be np.nan.\n",
      "WARNING:hyperspy.model:Covariance of the parameters could not be estimated. Estimated parameter standard deviations will be np.nan.\n",
      "WARNING:hyperspy.model:Covariance of the parameters could not be estimated. Estimated parameter standard deviations will be np.nan.\n",
      "WARNING:hyperspy.model:Covariance of the parameters could not be estimated. Estimated parameter standard deviations will be np.nan.\n",
      "WARNING:hyperspy.model:Covariance of the parameters could not be estimated. Estimated parameter standard deviations will be np.nan.\n",
      "WARNING:hyperspy.model:Covariance of the parameters could not be estimated. Estimated parameter standard deviations will be np.nan.\n",
      "WARNING:hyperspy.model:Covariance of the parameters could not be estimated. Estimated parameter standard deviations will be np.nan.\n",
      "WARNING:hyperspy.model:Covariance of the parameters could not be estimated. Estimated parameter standard deviations will be np.nan.\n",
      "WARNING:hyperspy.model:Covariance of the parameters could not be estimated. Estimated parameter standard deviations will be np.nan.\n",
      "WARNING:hyperspy.model:Covariance of the parameters could not be estimated. Estimated parameter standard deviations will be np.nan.\n",
      "WARNING:hyperspy.model:Covariance of the parameters could not be estimated. Estimated parameter standard deviations will be np.nan.\n",
      "WARNING:hyperspy.model:Covariance of the parameters could not be estimated. Estimated parameter standard deviations will be np.nan.\n",
      "WARNING:hyperspy.model:Covariance of the parameters could not be estimated. Estimated parameter standard deviations will be np.nan.\n",
      "WARNING:hyperspy.model:Covariance of the parameters could not be estimated. Estimated parameter standard deviations will be np.nan.\n",
      "WARNING:hyperspy.model:Covariance of the parameters could not be estimated. Estimated parameter standard deviations will be np.nan.\n",
      "WARNING:hyperspy.model:Covariance of the parameters could not be estimated. Estimated parameter standard deviations will be np.nan.\n",
      "WARNING:hyperspy.model:Covariance of the parameters could not be estimated. Estimated parameter standard deviations will be np.nan.\n",
      "WARNING:hyperspy.model:Covariance of the parameters could not be estimated. Estimated parameter standard deviations will be np.nan.\n",
      "WARNING:hyperspy.model:Covariance of the parameters could not be estimated. Estimated parameter standard deviations will be np.nan.\n",
      "WARNING:hyperspy.model:Covariance of the parameters could not be estimated. Estimated parameter standard deviations will be np.nan.\n",
      "WARNING:hyperspy.model:Covariance of the parameters could not be estimated. Estimated parameter standard deviations will be np.nan.\n",
      "WARNING:hyperspy.model:Covariance of the parameters could not be estimated. Estimated parameter standard deviations will be np.nan.\n",
      "WARNING:hyperspy.model:Covariance of the parameters could not be estimated. Estimated parameter standard deviations will be np.nan.\n",
      "WARNING:hyperspy.model:Covariance of the parameters could not be estimated. Estimated parameter standard deviations will be np.nan.\n",
      "WARNING:hyperspy.model:Covariance of the parameters could not be estimated. Estimated parameter standard deviations will be np.nan.\n",
      "WARNING:hyperspy.model:Covariance of the parameters could not be estimated. Estimated parameter standard deviations will be np.nan.\n",
      "WARNING:hyperspy.model:Covariance of the parameters could not be estimated. Estimated parameter standard deviations will be np.nan.\n",
      "WARNING:hyperspy.model:Covariance of the parameters could not be estimated. Estimated parameter standard deviations will be np.nan.\n",
      "WARNING:hyperspy.model:Covariance of the parameters could not be estimated. Estimated parameter standard deviations will be np.nan.\n",
      "WARNING:hyperspy.model:Covariance of the parameters could not be estimated. Estimated parameter standard deviations will be np.nan.\n",
      "WARNING:hyperspy.model:Covariance of the parameters could not be estimated. Estimated parameter standard deviations will be np.nan.\n",
      "WARNING:hyperspy.model:Covariance of the parameters could not be estimated. Estimated parameter standard deviations will be np.nan.\n",
      "WARNING:hyperspy.model:Covariance of the parameters could not be estimated. Estimated parameter standard deviations will be np.nan.\n",
      "WARNING:hyperspy.model:Covariance of the parameters could not be estimated. Estimated parameter standard deviations will be np.nan.\n",
      "WARNING:hyperspy.model:Covariance of the parameters could not be estimated. Estimated parameter standard deviations will be np.nan.\n",
      "WARNING:hyperspy.model:Covariance of the parameters could not be estimated. Estimated parameter standard deviations will be np.nan.\n",
      "WARNING:hyperspy.model:Covariance of the parameters could not be estimated. Estimated parameter standard deviations will be np.nan.\n",
      "WARNING:hyperspy.model:Covariance of the parameters could not be estimated. Estimated parameter standard deviations will be np.nan.\n",
      "WARNING:hyperspy.model:Covariance of the parameters could not be estimated. Estimated parameter standard deviations will be np.nan.\n",
      "WARNING:hyperspy.model:Covariance of the parameters could not be estimated. Estimated parameter standard deviations will be np.nan.\n",
      "WARNING:hyperspy.model:Covariance of the parameters could not be estimated. Estimated parameter standard deviations will be np.nan.\n",
      "WARNING:hyperspy.model:Covariance of the parameters could not be estimated. Estimated parameter standard deviations will be np.nan.\n",
      "WARNING:hyperspy.model:Covariance of the parameters could not be estimated. Estimated parameter standard deviations will be np.nan.\n",
      "WARNING:hyperspy.model:Covariance of the parameters could not be estimated. Estimated parameter standard deviations will be np.nan.\n",
      "WARNING:hyperspy.model:Covariance of the parameters could not be estimated. Estimated parameter standard deviations will be np.nan.\n",
      "WARNING:hyperspy.model:Covariance of the parameters could not be estimated. Estimated parameter standard deviations will be np.nan.\n",
      "WARNING:hyperspy.model:Covariance of the parameters could not be estimated. Estimated parameter standard deviations will be np.nan.\n",
      "WARNING:hyperspy.model:Covariance of the parameters could not be estimated. Estimated parameter standard deviations will be np.nan.\n",
      "WARNING:hyperspy.model:Covariance of the parameters could not be estimated. Estimated parameter standard deviations will be np.nan.\n",
      "WARNING:hyperspy.model:Covariance of the parameters could not be estimated. Estimated parameter standard deviations will be np.nan.\n",
      "WARNING:hyperspy.model:Covariance of the parameters could not be estimated. Estimated parameter standard deviations will be np.nan.\n",
      "WARNING:hyperspy.model:Covariance of the parameters could not be estimated. Estimated parameter standard deviations will be np.nan.\n",
      "WARNING:hyperspy.model:Covariance of the parameters could not be estimated. Estimated parameter standard deviations will be np.nan.\n",
      "WARNING:hyperspy.model:Covariance of the parameters could not be estimated. Estimated parameter standard deviations will be np.nan.\n",
      "WARNING:hyperspy.model:Covariance of the parameters could not be estimated. Estimated parameter standard deviations will be np.nan.\n",
      "WARNING:hyperspy.model:Covariance of the parameters could not be estimated. Estimated parameter standard deviations will be np.nan.\n",
      "WARNING:hyperspy.model:Covariance of the parameters could not be estimated. Estimated parameter standard deviations will be np.nan.\n",
      "WARNING:hyperspy.model:Covariance of the parameters could not be estimated. Estimated parameter standard deviations will be np.nan.\n",
      "WARNING:hyperspy.model:Covariance of the parameters could not be estimated. Estimated parameter standard deviations will be np.nan.\n",
      "WARNING:hyperspy.model:Covariance of the parameters could not be estimated. Estimated parameter standard deviations will be np.nan.\n",
      "WARNING:hyperspy.model:Covariance of the parameters could not be estimated. Estimated parameter standard deviations will be np.nan.\n",
      "WARNING:hyperspy.model:Covariance of the parameters could not be estimated. Estimated parameter standard deviations will be np.nan.\n",
      "WARNING:hyperspy.model:Covariance of the parameters could not be estimated. Estimated parameter standard deviations will be np.nan.\n",
      "WARNING:hyperspy.model:Covariance of the parameters could not be estimated. Estimated parameter standard deviations will be np.nan.\n",
      "WARNING:hyperspy.model:Covariance of the parameters could not be estimated. Estimated parameter standard deviations will be np.nan.\n",
      "WARNING:hyperspy.model:Covariance of the parameters could not be estimated. Estimated parameter standard deviations will be np.nan.\n",
      "WARNING:hyperspy.model:Covariance of the parameters could not be estimated. Estimated parameter standard deviations will be np.nan.\n",
      "WARNING:hyperspy.model:Covariance of the parameters could not be estimated. Estimated parameter standard deviations will be np.nan.\n",
      "WARNING:hyperspy.model:Covariance of the parameters could not be estimated. Estimated parameter standard deviations will be np.nan.\n",
      "WARNING:hyperspy.model:Covariance of the parameters could not be estimated. Estimated parameter standard deviations will be np.nan.\n",
      "WARNING:hyperspy.model:Covariance of the parameters could not be estimated. Estimated parameter standard deviations will be np.nan.\n",
      "WARNING:hyperspy.model:Covariance of the parameters could not be estimated. Estimated parameter standard deviations will be np.nan.\n",
      "WARNING:hyperspy.model:Covariance of the parameters could not be estimated. Estimated parameter standard deviations will be np.nan.\n",
      "WARNING:hyperspy.model:Covariance of the parameters could not be estimated. Estimated parameter standard deviations will be np.nan.\n",
      "WARNING:hyperspy.model:Covariance of the parameters could not be estimated. Estimated parameter standard deviations will be np.nan.\n",
      "WARNING:hyperspy.model:Covariance of the parameters could not be estimated. Estimated parameter standard deviations will be np.nan.\n",
      "WARNING:hyperspy.model:Covariance of the parameters could not be estimated. Estimated parameter standard deviations will be np.nan.\n",
      "WARNING:hyperspy.model:Covariance of the parameters could not be estimated. Estimated parameter standard deviations will be np.nan.\n",
      "WARNING:hyperspy.model:Covariance of the parameters could not be estimated. Estimated parameter standard deviations will be np.nan.\n",
      "WARNING:hyperspy.model:Covariance of the parameters could not be estimated. Estimated parameter standard deviations will be np.nan.\n",
      "WARNING:hyperspy.model:Covariance of the parameters could not be estimated. Estimated parameter standard deviations will be np.nan.\n",
      "WARNING:hyperspy.model:Covariance of the parameters could not be estimated. Estimated parameter standard deviations will be np.nan.\n",
      "WARNING:hyperspy.model:Covariance of the parameters could not be estimated. Estimated parameter standard deviations will be np.nan.\n",
      "WARNING:hyperspy.model:Covariance of the parameters could not be estimated. Estimated parameter standard deviations will be np.nan.\n",
      "WARNING:hyperspy.model:Covariance of the parameters could not be estimated. Estimated parameter standard deviations will be np.nan.\n",
      "WARNING:hyperspy.model:Covariance of the parameters could not be estimated. Estimated parameter standard deviations will be np.nan.\n",
      "WARNING:hyperspy.model:Covariance of the parameters could not be estimated. Estimated parameter standard deviations will be np.nan.\n",
      "WARNING:hyperspy.model:Covariance of the parameters could not be estimated. Estimated parameter standard deviations will be np.nan.\n",
      "WARNING:hyperspy.model:Covariance of the parameters could not be estimated. Estimated parameter standard deviations will be np.nan.\n",
      "WARNING:hyperspy.model:Covariance of the parameters could not be estimated. Estimated parameter standard deviations will be np.nan.\n",
      "WARNING:hyperspy.model:Covariance of the parameters could not be estimated. Estimated parameter standard deviations will be np.nan.\n",
      "WARNING:hyperspy.model:Covariance of the parameters could not be estimated. Estimated parameter standard deviations will be np.nan.\n",
      "WARNING:hyperspy.model:Covariance of the parameters could not be estimated. Estimated parameter standard deviations will be np.nan.\n",
      "WARNING:hyperspy.model:Covariance of the parameters could not be estimated. Estimated parameter standard deviations will be np.nan.\n",
      "WARNING:hyperspy.model:Covariance of the parameters could not be estimated. Estimated parameter standard deviations will be np.nan.\n",
      "WARNING:hyperspy.model:Covariance of the parameters could not be estimated. Estimated parameter standard deviations will be np.nan.\n",
      "WARNING:hyperspy.model:Covariance of the parameters could not be estimated. Estimated parameter standard deviations will be np.nan.\n",
      "WARNING:hyperspy.model:Covariance of the parameters could not be estimated. Estimated parameter standard deviations will be np.nan.\n",
      "WARNING:hyperspy.model:Covariance of the parameters could not be estimated. Estimated parameter standard deviations will be np.nan.\n",
      "WARNING:hyperspy.model:Covariance of the parameters could not be estimated. Estimated parameter standard deviations will be np.nan.\n",
      "WARNING:hyperspy.model:Covariance of the parameters could not be estimated. Estimated parameter standard deviations will be np.nan.\n",
      "WARNING:hyperspy.model:Covariance of the parameters could not be estimated. Estimated parameter standard deviations will be np.nan.\n",
      "WARNING:hyperspy.model:Covariance of the parameters could not be estimated. Estimated parameter standard deviations will be np.nan.\n",
      "WARNING:hyperspy.model:Covariance of the parameters could not be estimated. Estimated parameter standard deviations will be np.nan.\n",
      "WARNING:hyperspy.model:Covariance of the parameters could not be estimated. Estimated parameter standard deviations will be np.nan.\n",
      "WARNING:hyperspy.model:Covariance of the parameters could not be estimated. Estimated parameter standard deviations will be np.nan.\n",
      "WARNING:hyperspy.model:Covariance of the parameters could not be estimated. Estimated parameter standard deviations will be np.nan.\n",
      "WARNING:hyperspy.model:Covariance of the parameters could not be estimated. Estimated parameter standard deviations will be np.nan.\n",
      "WARNING:hyperspy.model:Covariance of the parameters could not be estimated. Estimated parameter standard deviations will be np.nan.\n",
      "WARNING:hyperspy.model:Covariance of the parameters could not be estimated. Estimated parameter standard deviations will be np.nan.\n",
      "WARNING:hyperspy.model:Covariance of the parameters could not be estimated. Estimated parameter standard deviations will be np.nan.\n",
      "WARNING:hyperspy.model:Covariance of the parameters could not be estimated. Estimated parameter standard deviations will be np.nan.\n",
      "WARNING:hyperspy.model:Covariance of the parameters could not be estimated. Estimated parameter standard deviations will be np.nan.\n",
      "WARNING:hyperspy.model:Covariance of the parameters could not be estimated. Estimated parameter standard deviations will be np.nan.\n",
      "WARNING:hyperspy.model:Covariance of the parameters could not be estimated. Estimated parameter standard deviations will be np.nan.\n",
      "WARNING:hyperspy.model:Covariance of the parameters could not be estimated. Estimated parameter standard deviations will be np.nan.\n",
      "WARNING:hyperspy.model:Covariance of the parameters could not be estimated. Estimated parameter standard deviations will be np.nan.\n",
      "WARNING:hyperspy.model:Covariance of the parameters could not be estimated. Estimated parameter standard deviations will be np.nan.\n",
      "WARNING:hyperspy.model:Covariance of the parameters could not be estimated. Estimated parameter standard deviations will be np.nan.\n",
      "WARNING:hyperspy.model:Covariance of the parameters could not be estimated. Estimated parameter standard deviations will be np.nan.\n",
      "WARNING:hyperspy.model:Covariance of the parameters could not be estimated. Estimated parameter standard deviations will be np.nan.\n",
      "WARNING:hyperspy.model:Covariance of the parameters could not be estimated. Estimated parameter standard deviations will be np.nan.\n",
      "WARNING:hyperspy.model:Covariance of the parameters could not be estimated. Estimated parameter standard deviations will be np.nan.\n",
      "WARNING:hyperspy.model:Covariance of the parameters could not be estimated. Estimated parameter standard deviations will be np.nan.\n",
      "WARNING:hyperspy.model:Covariance of the parameters could not be estimated. Estimated parameter standard deviations will be np.nan.\n",
      "WARNING:hyperspy.model:Covariance of the parameters could not be estimated. Estimated parameter standard deviations will be np.nan.\n",
      "WARNING:hyperspy.model:Covariance of the parameters could not be estimated. Estimated parameter standard deviations will be np.nan.\n",
      "WARNING:hyperspy.model:Covariance of the parameters could not be estimated. Estimated parameter standard deviations will be np.nan.\n",
      "WARNING:hyperspy.model:Covariance of the parameters could not be estimated. Estimated parameter standard deviations will be np.nan.\n",
      "WARNING:hyperspy.model:Covariance of the parameters could not be estimated. Estimated parameter standard deviations will be np.nan.\n",
      "WARNING:hyperspy.model:Covariance of the parameters could not be estimated. Estimated parameter standard deviations will be np.nan.\n",
      "WARNING:hyperspy.model:Covariance of the parameters could not be estimated. Estimated parameter standard deviations will be np.nan.\n",
      "WARNING:hyperspy.model:Covariance of the parameters could not be estimated. Estimated parameter standard deviations will be np.nan.\n",
      "WARNING:hyperspy.model:Covariance of the parameters could not be estimated. Estimated parameter standard deviations will be np.nan.\n",
      "WARNING:hyperspy.model:Covariance of the parameters could not be estimated. Estimated parameter standard deviations will be np.nan.\n",
      "WARNING:hyperspy.model:Covariance of the parameters could not be estimated. Estimated parameter standard deviations will be np.nan.\n",
      "WARNING:hyperspy.model:Covariance of the parameters could not be estimated. Estimated parameter standard deviations will be np.nan.\n",
      "WARNING:hyperspy.model:Covariance of the parameters could not be estimated. Estimated parameter standard deviations will be np.nan.\n",
      "WARNING:hyperspy.model:Covariance of the parameters could not be estimated. Estimated parameter standard deviations will be np.nan.\n",
      "WARNING:hyperspy.model:Covariance of the parameters could not be estimated. Estimated parameter standard deviations will be np.nan.\n",
      "WARNING:hyperspy.model:Covariance of the parameters could not be estimated. Estimated parameter standard deviations will be np.nan.\n",
      "WARNING:hyperspy.model:Covariance of the parameters could not be estimated. Estimated parameter standard deviations will be np.nan.\n",
      "WARNING:hyperspy.model:Covariance of the parameters could not be estimated. Estimated parameter standard deviations will be np.nan.\n",
      "WARNING:hyperspy.model:Covariance of the parameters could not be estimated. Estimated parameter standard deviations will be np.nan.\n",
      "WARNING:hyperspy.model:Covariance of the parameters could not be estimated. Estimated parameter standard deviations will be np.nan.\n",
      "WARNING:hyperspy.model:Covariance of the parameters could not be estimated. Estimated parameter standard deviations will be np.nan.\n",
      "WARNING:hyperspy.model:Covariance of the parameters could not be estimated. Estimated parameter standard deviations will be np.nan.\n",
      "WARNING:hyperspy.model:Covariance of the parameters could not be estimated. Estimated parameter standard deviations will be np.nan.\n",
      "WARNING:hyperspy.model:Covariance of the parameters could not be estimated. Estimated parameter standard deviations will be np.nan.\n",
      "WARNING:hyperspy.model:Covariance of the parameters could not be estimated. Estimated parameter standard deviations will be np.nan.\n",
      "WARNING:hyperspy.model:Covariance of the parameters could not be estimated. Estimated parameter standard deviations will be np.nan.\n",
      "WARNING:hyperspy.model:Covariance of the parameters could not be estimated. Estimated parameter standard deviations will be np.nan.\n",
      "WARNING:hyperspy.model:Covariance of the parameters could not be estimated. Estimated parameter standard deviations will be np.nan.\n",
      "WARNING:hyperspy.model:Covariance of the parameters could not be estimated. Estimated parameter standard deviations will be np.nan.\n",
      "WARNING:hyperspy.model:Covariance of the parameters could not be estimated. Estimated parameter standard deviations will be np.nan.\n",
      "WARNING:hyperspy.model:Covariance of the parameters could not be estimated. Estimated parameter standard deviations will be np.nan.\n",
      "WARNING:hyperspy.model:Covariance of the parameters could not be estimated. Estimated parameter standard deviations will be np.nan.\n",
      "WARNING:hyperspy.model:Covariance of the parameters could not be estimated. Estimated parameter standard deviations will be np.nan.\n",
      "WARNING:hyperspy.model:Covariance of the parameters could not be estimated. Estimated parameter standard deviations will be np.nan.\n",
      "WARNING:hyperspy.model:Covariance of the parameters could not be estimated. Estimated parameter standard deviations will be np.nan.\n",
      "WARNING:hyperspy.model:Covariance of the parameters could not be estimated. Estimated parameter standard deviations will be np.nan.\n",
      "WARNING:hyperspy.model:Covariance of the parameters could not be estimated. Estimated parameter standard deviations will be np.nan.\n",
      "WARNING:hyperspy.model:Covariance of the parameters could not be estimated. Estimated parameter standard deviations will be np.nan.\n",
      "WARNING:hyperspy.model:Covariance of the parameters could not be estimated. Estimated parameter standard deviations will be np.nan.\n",
      "WARNING:hyperspy.model:Covariance of the parameters could not be estimated. Estimated parameter standard deviations will be np.nan.\n",
      "WARNING:hyperspy.model:Covariance of the parameters could not be estimated. Estimated parameter standard deviations will be np.nan.\n",
      "WARNING:hyperspy.model:Covariance of the parameters could not be estimated. Estimated parameter standard deviations will be np.nan.\n",
      "WARNING:hyperspy.model:Covariance of the parameters could not be estimated. Estimated parameter standard deviations will be np.nan.\n",
      "WARNING:hyperspy.model:Covariance of the parameters could not be estimated. Estimated parameter standard deviations will be np.nan.\n",
      "WARNING:hyperspy.model:Covariance of the parameters could not be estimated. Estimated parameter standard deviations will be np.nan.\n",
      "WARNING:hyperspy.model:Covariance of the parameters could not be estimated. Estimated parameter standard deviations will be np.nan.\n",
      "WARNING:hyperspy.model:Covariance of the parameters could not be estimated. Estimated parameter standard deviations will be np.nan.\n",
      "WARNING:hyperspy.model:Covariance of the parameters could not be estimated. Estimated parameter standard deviations will be np.nan.\n",
      "WARNING:hyperspy.model:Covariance of the parameters could not be estimated. Estimated parameter standard deviations will be np.nan.\n",
      "WARNING:hyperspy.model:Covariance of the parameters could not be estimated. Estimated parameter standard deviations will be np.nan.\n",
      "WARNING:hyperspy.model:Covariance of the parameters could not be estimated. Estimated parameter standard deviations will be np.nan.\n",
      "WARNING:hyperspy.model:Covariance of the parameters could not be estimated. Estimated parameter standard deviations will be np.nan.\n",
      "WARNING:hyperspy.model:Covariance of the parameters could not be estimated. Estimated parameter standard deviations will be np.nan.\n",
      "WARNING:hyperspy.model:Covariance of the parameters could not be estimated. Estimated parameter standard deviations will be np.nan.\n",
      "WARNING:hyperspy.model:Covariance of the parameters could not be estimated. Estimated parameter standard deviations will be np.nan.\n",
      "WARNING:hyperspy.model:Covariance of the parameters could not be estimated. Estimated parameter standard deviations will be np.nan.\n",
      "WARNING:hyperspy.model:Covariance of the parameters could not be estimated. Estimated parameter standard deviations will be np.nan.\n",
      "WARNING:hyperspy.model:Covariance of the parameters could not be estimated. Estimated parameter standard deviations will be np.nan.\n",
      "WARNING:hyperspy.model:Covariance of the parameters could not be estimated. Estimated parameter standard deviations will be np.nan.\n",
      "WARNING:hyperspy.model:Covariance of the parameters could not be estimated. Estimated parameter standard deviations will be np.nan.\n",
      "WARNING:hyperspy.model:Covariance of the parameters could not be estimated. Estimated parameter standard deviations will be np.nan.\n",
      "WARNING:hyperspy.model:Covariance of the parameters could not be estimated. Estimated parameter standard deviations will be np.nan.\n",
      "WARNING:hyperspy.model:Covariance of the parameters could not be estimated. Estimated parameter standard deviations will be np.nan.\n",
      "WARNING:hyperspy.model:Covariance of the parameters could not be estimated. Estimated parameter standard deviations will be np.nan.\n",
      "WARNING:hyperspy.model:Covariance of the parameters could not be estimated. Estimated parameter standard deviations will be np.nan.\n",
      "WARNING:hyperspy.model:Covariance of the parameters could not be estimated. Estimated parameter standard deviations will be np.nan.\n",
      "WARNING:hyperspy.model:Covariance of the parameters could not be estimated. Estimated parameter standard deviations will be np.nan.\n",
      "WARNING:hyperspy.model:Covariance of the parameters could not be estimated. Estimated parameter standard deviations will be np.nan.\n",
      "WARNING:hyperspy.model:Covariance of the parameters could not be estimated. Estimated parameter standard deviations will be np.nan.\n",
      "WARNING:hyperspy.model:Covariance of the parameters could not be estimated. Estimated parameter standard deviations will be np.nan.\n",
      "WARNING:hyperspy.model:Covariance of the parameters could not be estimated. Estimated parameter standard deviations will be np.nan.\n",
      "WARNING:hyperspy.model:Covariance of the parameters could not be estimated. Estimated parameter standard deviations will be np.nan.\n",
      "WARNING:hyperspy.model:Covariance of the parameters could not be estimated. Estimated parameter standard deviations will be np.nan.\n",
      "WARNING:hyperspy.model:Covariance of the parameters could not be estimated. Estimated parameter standard deviations will be np.nan.\n",
      "WARNING:hyperspy.model:Covariance of the parameters could not be estimated. Estimated parameter standard deviations will be np.nan.\n",
      "WARNING:hyperspy.model:Covariance of the parameters could not be estimated. Estimated parameter standard deviations will be np.nan.\n",
      "WARNING:hyperspy.model:Covariance of the parameters could not be estimated. Estimated parameter standard deviations will be np.nan.\n",
      "WARNING:hyperspy.model:Covariance of the parameters could not be estimated. Estimated parameter standard deviations will be np.nan.\n",
      "WARNING:hyperspy.model:Covariance of the parameters could not be estimated. Estimated parameter standard deviations will be np.nan.\n",
      "WARNING:hyperspy.model:Covariance of the parameters could not be estimated. Estimated parameter standard deviations will be np.nan.\n",
      "WARNING:hyperspy.model:Covariance of the parameters could not be estimated. Estimated parameter standard deviations will be np.nan.\n",
      "WARNING:hyperspy.model:Covariance of the parameters could not be estimated. Estimated parameter standard deviations will be np.nan.\n",
      "WARNING:hyperspy.model:Covariance of the parameters could not be estimated. Estimated parameter standard deviations will be np.nan.\n",
      "WARNING:hyperspy.model:Covariance of the parameters could not be estimated. Estimated parameter standard deviations will be np.nan.\n",
      "WARNING:hyperspy.model:Covariance of the parameters could not be estimated. Estimated parameter standard deviations will be np.nan.\n",
      "WARNING:hyperspy.model:Covariance of the parameters could not be estimated. Estimated parameter standard deviations will be np.nan.\n",
      "WARNING:hyperspy.model:Covariance of the parameters could not be estimated. Estimated parameter standard deviations will be np.nan.\n",
      "WARNING:hyperspy.model:Covariance of the parameters could not be estimated. Estimated parameter standard deviations will be np.nan.\n",
      "WARNING:hyperspy.model:Covariance of the parameters could not be estimated. Estimated parameter standard deviations will be np.nan.\n",
      "WARNING:hyperspy.model:Covariance of the parameters could not be estimated. Estimated parameter standard deviations will be np.nan.\n",
      "WARNING:hyperspy.model:Covariance of the parameters could not be estimated. Estimated parameter standard deviations will be np.nan.\n",
      "WARNING:hyperspy.model:Covariance of the parameters could not be estimated. Estimated parameter standard deviations will be np.nan.\n",
      "WARNING:hyperspy.model:Covariance of the parameters could not be estimated. Estimated parameter standard deviations will be np.nan.\n",
      "WARNING:hyperspy.model:Covariance of the parameters could not be estimated. Estimated parameter standard deviations will be np.nan.\n",
      "WARNING:hyperspy.model:Covariance of the parameters could not be estimated. Estimated parameter standard deviations will be np.nan.\n",
      "WARNING:hyperspy.model:Covariance of the parameters could not be estimated. Estimated parameter standard deviations will be np.nan.\n",
      "WARNING:hyperspy.model:Covariance of the parameters could not be estimated. Estimated parameter standard deviations will be np.nan.\n",
      "WARNING:hyperspy.model:Covariance of the parameters could not be estimated. Estimated parameter standard deviations will be np.nan.\n",
      "WARNING:hyperspy.model:Covariance of the parameters could not be estimated. Estimated parameter standard deviations will be np.nan.\n",
      "WARNING:hyperspy.model:Covariance of the parameters could not be estimated. Estimated parameter standard deviations will be np.nan.\n",
      "WARNING:hyperspy.model:Covariance of the parameters could not be estimated. Estimated parameter standard deviations will be np.nan.\n",
      "WARNING:hyperspy.model:Covariance of the parameters could not be estimated. Estimated parameter standard deviations will be np.nan.\n",
      "WARNING:hyperspy.model:Covariance of the parameters could not be estimated. Estimated parameter standard deviations will be np.nan.\n",
      "WARNING:hyperspy.model:Covariance of the parameters could not be estimated. Estimated parameter standard deviations will be np.nan.\n",
      "WARNING:hyperspy.model:Covariance of the parameters could not be estimated. Estimated parameter standard deviations will be np.nan.\n",
      "WARNING:hyperspy.model:Covariance of the parameters could not be estimated. Estimated parameter standard deviations will be np.nan.\n",
      "WARNING:hyperspy.model:Covariance of the parameters could not be estimated. Estimated parameter standard deviations will be np.nan.\n",
      "WARNING:hyperspy.model:Covariance of the parameters could not be estimated. Estimated parameter standard deviations will be np.nan.\n",
      "WARNING:hyperspy.model:Covariance of the parameters could not be estimated. Estimated parameter standard deviations will be np.nan.\n",
      "WARNING:hyperspy.model:Covariance of the parameters could not be estimated. Estimated parameter standard deviations will be np.nan.\n",
      "WARNING:hyperspy.model:Covariance of the parameters could not be estimated. Estimated parameter standard deviations will be np.nan.\n",
      "WARNING:hyperspy.model:Covariance of the parameters could not be estimated. Estimated parameter standard deviations will be np.nan.\n",
      "WARNING:hyperspy.model:Covariance of the parameters could not be estimated. Estimated parameter standard deviations will be np.nan.\n",
      "WARNING:hyperspy.model:Covariance of the parameters could not be estimated. Estimated parameter standard deviations will be np.nan.\n",
      "WARNING:hyperspy.model:Covariance of the parameters could not be estimated. Estimated parameter standard deviations will be np.nan.\n",
      "WARNING:hyperspy.model:Covariance of the parameters could not be estimated. Estimated parameter standard deviations will be np.nan.\n",
      "WARNING:hyperspy.model:Covariance of the parameters could not be estimated. Estimated parameter standard deviations will be np.nan.\n",
      "WARNING:hyperspy.model:Covariance of the parameters could not be estimated. Estimated parameter standard deviations will be np.nan.\n",
      "WARNING:hyperspy.model:Covariance of the parameters could not be estimated. Estimated parameter standard deviations will be np.nan.\n",
      "WARNING:hyperspy.model:Covariance of the parameters could not be estimated. Estimated parameter standard deviations will be np.nan.\n",
      "WARNING:hyperspy.model:Covariance of the parameters could not be estimated. Estimated parameter standard deviations will be np.nan.\n",
      "WARNING:hyperspy.model:Covariance of the parameters could not be estimated. Estimated parameter standard deviations will be np.nan.\n",
      "WARNING:hyperspy.model:Covariance of the parameters could not be estimated. Estimated parameter standard deviations will be np.nan.\n",
      "WARNING:hyperspy.model:Covariance of the parameters could not be estimated. Estimated parameter standard deviations will be np.nan.\n",
      "WARNING:hyperspy.model:Covariance of the parameters could not be estimated. Estimated parameter standard deviations will be np.nan.\n",
      "WARNING:hyperspy.model:Covariance of the parameters could not be estimated. Estimated parameter standard deviations will be np.nan.\n",
      "WARNING:hyperspy.model:Covariance of the parameters could not be estimated. Estimated parameter standard deviations will be np.nan.\n",
      "WARNING:hyperspy.model:Covariance of the parameters could not be estimated. Estimated parameter standard deviations will be np.nan.\n",
      "WARNING:hyperspy.model:Covariance of the parameters could not be estimated. Estimated parameter standard deviations will be np.nan.\n",
      "WARNING:hyperspy.model:Covariance of the parameters could not be estimated. Estimated parameter standard deviations will be np.nan.\n",
      "WARNING:hyperspy.model:Covariance of the parameters could not be estimated. Estimated parameter standard deviations will be np.nan.\n",
      "WARNING:hyperspy.model:Covariance of the parameters could not be estimated. Estimated parameter standard deviations will be np.nan.\n",
      "WARNING:hyperspy.model:Covariance of the parameters could not be estimated. Estimated parameter standard deviations will be np.nan.\n",
      "WARNING:hyperspy.model:Covariance of the parameters could not be estimated. Estimated parameter standard deviations will be np.nan.\n",
      "WARNING:hyperspy.model:Covariance of the parameters could not be estimated. Estimated parameter standard deviations will be np.nan.\n",
      "WARNING:hyperspy.model:Covariance of the parameters could not be estimated. Estimated parameter standard deviations will be np.nan.\n",
      "WARNING:hyperspy.model:Covariance of the parameters could not be estimated. Estimated parameter standard deviations will be np.nan.\n",
      "WARNING:hyperspy.model:Covariance of the parameters could not be estimated. Estimated parameter standard deviations will be np.nan.\n",
      "WARNING:hyperspy.model:Covariance of the parameters could not be estimated. Estimated parameter standard deviations will be np.nan.\n",
      "WARNING:hyperspy.model:Covariance of the parameters could not be estimated. Estimated parameter standard deviations will be np.nan.\n",
      "WARNING:hyperspy.model:Covariance of the parameters could not be estimated. Estimated parameter standard deviations will be np.nan.\n",
      "WARNING:hyperspy.model:Covariance of the parameters could not be estimated. Estimated parameter standard deviations will be np.nan.\n",
      "WARNING:hyperspy.model:Covariance of the parameters could not be estimated. Estimated parameter standard deviations will be np.nan.\n",
      "WARNING:hyperspy.model:Covariance of the parameters could not be estimated. Estimated parameter standard deviations will be np.nan.\n",
      "WARNING:hyperspy.model:Covariance of the parameters could not be estimated. Estimated parameter standard deviations will be np.nan.\n",
      "WARNING:hyperspy.model:Covariance of the parameters could not be estimated. Estimated parameter standard deviations will be np.nan.\n",
      "WARNING:hyperspy.model:Covariance of the parameters could not be estimated. Estimated parameter standard deviations will be np.nan.\n",
      "WARNING:hyperspy.model:Covariance of the parameters could not be estimated. Estimated parameter standard deviations will be np.nan.\n",
      "WARNING:hyperspy.model:Covariance of the parameters could not be estimated. Estimated parameter standard deviations will be np.nan.\n",
      "WARNING:hyperspy.model:Covariance of the parameters could not be estimated. Estimated parameter standard deviations will be np.nan.\n",
      "WARNING:hyperspy.model:Covariance of the parameters could not be estimated. Estimated parameter standard deviations will be np.nan.\n",
      "WARNING:hyperspy.model:Covariance of the parameters could not be estimated. Estimated parameter standard deviations will be np.nan.\n",
      "WARNING:hyperspy.model:Covariance of the parameters could not be estimated. Estimated parameter standard deviations will be np.nan.\n",
      "WARNING:hyperspy.model:Covariance of the parameters could not be estimated. Estimated parameter standard deviations will be np.nan.\n",
      "WARNING:hyperspy.model:Covariance of the parameters could not be estimated. Estimated parameter standard deviations will be np.nan.\n",
      "WARNING:hyperspy.model:Covariance of the parameters could not be estimated. Estimated parameter standard deviations will be np.nan.\n",
      "WARNING:hyperspy.model:Covariance of the parameters could not be estimated. Estimated parameter standard deviations will be np.nan.\n",
      "WARNING:hyperspy.model:Covariance of the parameters could not be estimated. Estimated parameter standard deviations will be np.nan.\n",
      "WARNING:hyperspy.model:Covariance of the parameters could not be estimated. Estimated parameter standard deviations will be np.nan.\n",
      "WARNING:hyperspy.model:Covariance of the parameters could not be estimated. Estimated parameter standard deviations will be np.nan.\n",
      "WARNING:hyperspy.model:Covariance of the parameters could not be estimated. Estimated parameter standard deviations will be np.nan.\n",
      "WARNING:hyperspy.model:Covariance of the parameters could not be estimated. Estimated parameter standard deviations will be np.nan.\n",
      "WARNING:hyperspy.model:Covariance of the parameters could not be estimated. Estimated parameter standard deviations will be np.nan.\n",
      "WARNING:hyperspy.model:Covariance of the parameters could not be estimated. Estimated parameter standard deviations will be np.nan.\n",
      "WARNING:hyperspy.model:Covariance of the parameters could not be estimated. Estimated parameter standard deviations will be np.nan.\n",
      "WARNING:hyperspy.model:Covariance of the parameters could not be estimated. Estimated parameter standard deviations will be np.nan.\n",
      "WARNING:hyperspy.model:Covariance of the parameters could not be estimated. Estimated parameter standard deviations will be np.nan.\n",
      "WARNING:hyperspy.model:Covariance of the parameters could not be estimated. Estimated parameter standard deviations will be np.nan.\n",
      "WARNING:hyperspy.model:Covariance of the parameters could not be estimated. Estimated parameter standard deviations will be np.nan.\n",
      "WARNING:hyperspy.model:Covariance of the parameters could not be estimated. Estimated parameter standard deviations will be np.nan.\n",
      "WARNING:hyperspy.model:Covariance of the parameters could not be estimated. Estimated parameter standard deviations will be np.nan.\n",
      "WARNING:hyperspy.model:Covariance of the parameters could not be estimated. Estimated parameter standard deviations will be np.nan.\n",
      "WARNING:hyperspy.model:Covariance of the parameters could not be estimated. Estimated parameter standard deviations will be np.nan.\n",
      "WARNING:hyperspy.model:Covariance of the parameters could not be estimated. Estimated parameter standard deviations will be np.nan.\n",
      "WARNING:hyperspy.model:Covariance of the parameters could not be estimated. Estimated parameter standard deviations will be np.nan.\n",
      "WARNING:hyperspy.model:Covariance of the parameters could not be estimated. Estimated parameter standard deviations will be np.nan.\n",
      "WARNING:hyperspy.model:Covariance of the parameters could not be estimated. Estimated parameter standard deviations will be np.nan.\n",
      "WARNING:hyperspy.model:Covariance of the parameters could not be estimated. Estimated parameter standard deviations will be np.nan.\n",
      "WARNING:hyperspy.model:Covariance of the parameters could not be estimated. Estimated parameter standard deviations will be np.nan.\n",
      "WARNING:hyperspy.model:Covariance of the parameters could not be estimated. Estimated parameter standard deviations will be np.nan.\n",
      "WARNING:hyperspy.model:Covariance of the parameters could not be estimated. Estimated parameter standard deviations will be np.nan.\n",
      "WARNING:hyperspy.model:Covariance of the parameters could not be estimated. Estimated parameter standard deviations will be np.nan.\n",
      "WARNING:hyperspy.model:Covariance of the parameters could not be estimated. Estimated parameter standard deviations will be np.nan.\n",
      "WARNING:hyperspy.model:Covariance of the parameters could not be estimated. Estimated parameter standard deviations will be np.nan.\n",
      "WARNING:hyperspy.model:Covariance of the parameters could not be estimated. Estimated parameter standard deviations will be np.nan.\n",
      "WARNING:hyperspy.model:Covariance of the parameters could not be estimated. Estimated parameter standard deviations will be np.nan.\n",
      "WARNING:hyperspy.model:Covariance of the parameters could not be estimated. Estimated parameter standard deviations will be np.nan.\n",
      "WARNING:hyperspy.model:Covariance of the parameters could not be estimated. Estimated parameter standard deviations will be np.nan.\n",
      "WARNING:hyperspy.model:Covariance of the parameters could not be estimated. Estimated parameter standard deviations will be np.nan.\n",
      "WARNING:hyperspy.model:Covariance of the parameters could not be estimated. Estimated parameter standard deviations will be np.nan.\n",
      "WARNING:hyperspy.model:Covariance of the parameters could not be estimated. Estimated parameter standard deviations will be np.nan.\n",
      "WARNING:hyperspy.model:Covariance of the parameters could not be estimated. Estimated parameter standard deviations will be np.nan.\n",
      "WARNING:hyperspy.model:Covariance of the parameters could not be estimated. Estimated parameter standard deviations will be np.nan.\n",
      "WARNING:hyperspy.model:Covariance of the parameters could not be estimated. Estimated parameter standard deviations will be np.nan.\n",
      "WARNING:hyperspy.model:Covariance of the parameters could not be estimated. Estimated parameter standard deviations will be np.nan.\n",
      "WARNING:hyperspy.model:Covariance of the parameters could not be estimated. Estimated parameter standard deviations will be np.nan.\n",
      "WARNING:hyperspy.model:Covariance of the parameters could not be estimated. Estimated parameter standard deviations will be np.nan.\n",
      "WARNING:hyperspy.model:Covariance of the parameters could not be estimated. Estimated parameter standard deviations will be np.nan.\n",
      "WARNING:hyperspy.model:Covariance of the parameters could not be estimated. Estimated parameter standard deviations will be np.nan.\n",
      "WARNING:hyperspy.model:Covariance of the parameters could not be estimated. Estimated parameter standard deviations will be np.nan.\n",
      "WARNING:hyperspy.model:Covariance of the parameters could not be estimated. Estimated parameter standard deviations will be np.nan.\n",
      "WARNING:hyperspy.model:Covariance of the parameters could not be estimated. Estimated parameter standard deviations will be np.nan.\n",
      "WARNING:hyperspy.model:Covariance of the parameters could not be estimated. Estimated parameter standard deviations will be np.nan.\n",
      "WARNING:hyperspy.model:Covariance of the parameters could not be estimated. Estimated parameter standard deviations will be np.nan.\n",
      "WARNING:hyperspy.model:Covariance of the parameters could not be estimated. Estimated parameter standard deviations will be np.nan.\n",
      "WARNING:hyperspy.model:Covariance of the parameters could not be estimated. Estimated parameter standard deviations will be np.nan.\n",
      "WARNING:hyperspy.model:Covariance of the parameters could not be estimated. Estimated parameter standard deviations will be np.nan.\n",
      "WARNING:hyperspy.model:Covariance of the parameters could not be estimated. Estimated parameter standard deviations will be np.nan.\n",
      "WARNING:hyperspy.model:Covariance of the parameters could not be estimated. Estimated parameter standard deviations will be np.nan.\n",
      "WARNING:hyperspy.model:Covariance of the parameters could not be estimated. Estimated parameter standard deviations will be np.nan.\n",
      "WARNING:hyperspy.model:Covariance of the parameters could not be estimated. Estimated parameter standard deviations will be np.nan.\n",
      "WARNING:hyperspy.model:Covariance of the parameters could not be estimated. Estimated parameter standard deviations will be np.nan.\n",
      "WARNING:hyperspy.model:Covariance of the parameters could not be estimated. Estimated parameter standard deviations will be np.nan.\n",
      "WARNING:hyperspy.model:Covariance of the parameters could not be estimated. Estimated parameter standard deviations will be np.nan.\n",
      "WARNING:hyperspy.model:Covariance of the parameters could not be estimated. Estimated parameter standard deviations will be np.nan.\n",
      "WARNING:hyperspy.model:Covariance of the parameters could not be estimated. Estimated parameter standard deviations will be np.nan.\n",
      "WARNING:hyperspy.model:Covariance of the parameters could not be estimated. Estimated parameter standard deviations will be np.nan.\n",
      "WARNING:hyperspy.model:Covariance of the parameters could not be estimated. Estimated parameter standard deviations will be np.nan.\n",
      "WARNING:hyperspy.model:Covariance of the parameters could not be estimated. Estimated parameter standard deviations will be np.nan.\n",
      "WARNING:hyperspy.model:Covariance of the parameters could not be estimated. Estimated parameter standard deviations will be np.nan.\n",
      "WARNING:hyperspy.model:Covariance of the parameters could not be estimated. Estimated parameter standard deviations will be np.nan.\n",
      "WARNING:hyperspy.model:Covariance of the parameters could not be estimated. Estimated parameter standard deviations will be np.nan.\n",
      "WARNING:hyperspy.model:Covariance of the parameters could not be estimated. Estimated parameter standard deviations will be np.nan.\n",
      "WARNING:hyperspy.model:Covariance of the parameters could not be estimated. Estimated parameter standard deviations will be np.nan.\n",
      "WARNING:hyperspy.model:Covariance of the parameters could not be estimated. Estimated parameter standard deviations will be np.nan.\n",
      "WARNING:hyperspy.model:Covariance of the parameters could not be estimated. Estimated parameter standard deviations will be np.nan.\n",
      "WARNING:hyperspy.model:Covariance of the parameters could not be estimated. Estimated parameter standard deviations will be np.nan.\n",
      "WARNING:hyperspy.model:Covariance of the parameters could not be estimated. Estimated parameter standard deviations will be np.nan.\n",
      "WARNING:hyperspy.model:Covariance of the parameters could not be estimated. Estimated parameter standard deviations will be np.nan.\n",
      "WARNING:hyperspy.model:Covariance of the parameters could not be estimated. Estimated parameter standard deviations will be np.nan.\n",
      "WARNING:hyperspy.model:Covariance of the parameters could not be estimated. Estimated parameter standard deviations will be np.nan.\n",
      "WARNING:hyperspy.model:Covariance of the parameters could not be estimated. Estimated parameter standard deviations will be np.nan.\n",
      "WARNING:hyperspy.model:Covariance of the parameters could not be estimated. Estimated parameter standard deviations will be np.nan.\n",
      "WARNING:hyperspy.model:Covariance of the parameters could not be estimated. Estimated parameter standard deviations will be np.nan.\n",
      "WARNING:hyperspy.model:Covariance of the parameters could not be estimated. Estimated parameter standard deviations will be np.nan.\n",
      "WARNING:hyperspy.model:Covariance of the parameters could not be estimated. Estimated parameter standard deviations will be np.nan.\n",
      "WARNING:hyperspy.model:Covariance of the parameters could not be estimated. Estimated parameter standard deviations will be np.nan.\n",
      "WARNING:hyperspy.model:Covariance of the parameters could not be estimated. Estimated parameter standard deviations will be np.nan.\n",
      "WARNING:hyperspy.model:Covariance of the parameters could not be estimated. Estimated parameter standard deviations will be np.nan.\n",
      "WARNING:hyperspy.model:Covariance of the parameters could not be estimated. Estimated parameter standard deviations will be np.nan.\n",
      "WARNING:hyperspy.model:Covariance of the parameters could not be estimated. Estimated parameter standard deviations will be np.nan.\n",
      "WARNING:hyperspy.model:Covariance of the parameters could not be estimated. Estimated parameter standard deviations will be np.nan.\n",
      "WARNING:hyperspy.model:Covariance of the parameters could not be estimated. Estimated parameter standard deviations will be np.nan.\n",
      "WARNING:hyperspy.model:Covariance of the parameters could not be estimated. Estimated parameter standard deviations will be np.nan.\n",
      "WARNING:hyperspy.model:Covariance of the parameters could not be estimated. Estimated parameter standard deviations will be np.nan.\n",
      "WARNING:hyperspy.model:Covariance of the parameters could not be estimated. Estimated parameter standard deviations will be np.nan.\n",
      "WARNING:hyperspy.model:Covariance of the parameters could not be estimated. Estimated parameter standard deviations will be np.nan.\n",
      "WARNING:hyperspy.model:Covariance of the parameters could not be estimated. Estimated parameter standard deviations will be np.nan.\n",
      "WARNING:hyperspy.model:Covariance of the parameters could not be estimated. Estimated parameter standard deviations will be np.nan.\n",
      "WARNING:hyperspy.model:Covariance of the parameters could not be estimated. Estimated parameter standard deviations will be np.nan.\n",
      "WARNING:hyperspy.model:Covariance of the parameters could not be estimated. Estimated parameter standard deviations will be np.nan.\n",
      "WARNING:hyperspy.model:Covariance of the parameters could not be estimated. Estimated parameter standard deviations will be np.nan.\n",
      "WARNING:hyperspy.model:Covariance of the parameters could not be estimated. Estimated parameter standard deviations will be np.nan.\n",
      "WARNING:hyperspy.model:Covariance of the parameters could not be estimated. Estimated parameter standard deviations will be np.nan.\n",
      "WARNING:hyperspy.model:Covariance of the parameters could not be estimated. Estimated parameter standard deviations will be np.nan.\n",
      "WARNING:hyperspy.model:Covariance of the parameters could not be estimated. Estimated parameter standard deviations will be np.nan.\n",
      "WARNING:hyperspy.model:Covariance of the parameters could not be estimated. Estimated parameter standard deviations will be np.nan.\n",
      "WARNING:hyperspy.model:Covariance of the parameters could not be estimated. Estimated parameter standard deviations will be np.nan.\n",
      "WARNING:hyperspy.model:Covariance of the parameters could not be estimated. Estimated parameter standard deviations will be np.nan.\n",
      "WARNING:hyperspy.model:Covariance of the parameters could not be estimated. Estimated parameter standard deviations will be np.nan.\n",
      "WARNING:hyperspy.model:Covariance of the parameters could not be estimated. Estimated parameter standard deviations will be np.nan.\n",
      "WARNING:hyperspy.model:Covariance of the parameters could not be estimated. Estimated parameter standard deviations will be np.nan.\n",
      "WARNING:hyperspy.model:Covariance of the parameters could not be estimated. Estimated parameter standard deviations will be np.nan.\n",
      "WARNING:hyperspy.model:Covariance of the parameters could not be estimated. Estimated parameter standard deviations will be np.nan.\n",
      "WARNING:hyperspy.model:Covariance of the parameters could not be estimated. Estimated parameter standard deviations will be np.nan.\n",
      "WARNING:hyperspy.model:Covariance of the parameters could not be estimated. Estimated parameter standard deviations will be np.nan.\n",
      "WARNING:hyperspy.model:Covariance of the parameters could not be estimated. Estimated parameter standard deviations will be np.nan.\n",
      "WARNING:hyperspy.model:Covariance of the parameters could not be estimated. Estimated parameter standard deviations will be np.nan.\n",
      "WARNING:hyperspy.model:Covariance of the parameters could not be estimated. Estimated parameter standard deviations will be np.nan.\n",
      "WARNING:hyperspy.model:Covariance of the parameters could not be estimated. Estimated parameter standard deviations will be np.nan.\n",
      "WARNING:hyperspy.model:Covariance of the parameters could not be estimated. Estimated parameter standard deviations will be np.nan.\n",
      "WARNING:hyperspy.model:Covariance of the parameters could not be estimated. Estimated parameter standard deviations will be np.nan.\n",
      "WARNING:hyperspy.model:Covariance of the parameters could not be estimated. Estimated parameter standard deviations will be np.nan.\n",
      "WARNING:hyperspy.model:Covariance of the parameters could not be estimated. Estimated parameter standard deviations will be np.nan.\n",
      "WARNING:hyperspy.model:Covariance of the parameters could not be estimated. Estimated parameter standard deviations will be np.nan.\n",
      "WARNING:hyperspy.model:Covariance of the parameters could not be estimated. Estimated parameter standard deviations will be np.nan.\n",
      "WARNING:hyperspy.model:Covariance of the parameters could not be estimated. Estimated parameter standard deviations will be np.nan.\n",
      "WARNING:hyperspy.model:Covariance of the parameters could not be estimated. Estimated parameter standard deviations will be np.nan.\n",
      "WARNING:hyperspy.model:Covariance of the parameters could not be estimated. Estimated parameter standard deviations will be np.nan.\n",
      "WARNING:hyperspy.model:Covariance of the parameters could not be estimated. Estimated parameter standard deviations will be np.nan.\n",
      "WARNING:hyperspy.model:Covariance of the parameters could not be estimated. Estimated parameter standard deviations will be np.nan.\n",
      "WARNING:hyperspy.model:Covariance of the parameters could not be estimated. Estimated parameter standard deviations will be np.nan.\n",
      "WARNING:hyperspy.model:Covariance of the parameters could not be estimated. Estimated parameter standard deviations will be np.nan.\n",
      "WARNING:hyperspy.model:Covariance of the parameters could not be estimated. Estimated parameter standard deviations will be np.nan.\n",
      "WARNING:hyperspy.model:Covariance of the parameters could not be estimated. Estimated parameter standard deviations will be np.nan.\n",
      "WARNING:hyperspy.model:Covariance of the parameters could not be estimated. Estimated parameter standard deviations will be np.nan.\n",
      "WARNING:hyperspy.model:Covariance of the parameters could not be estimated. Estimated parameter standard deviations will be np.nan.\n",
      "WARNING:hyperspy.model:Covariance of the parameters could not be estimated. Estimated parameter standard deviations will be np.nan.\n",
      "WARNING:hyperspy.model:Covariance of the parameters could not be estimated. Estimated parameter standard deviations will be np.nan.\n",
      "WARNING:hyperspy.model:Covariance of the parameters could not be estimated. Estimated parameter standard deviations will be np.nan.\n",
      "WARNING:hyperspy.model:Covariance of the parameters could not be estimated. Estimated parameter standard deviations will be np.nan.\n",
      "WARNING:hyperspy.model:Covariance of the parameters could not be estimated. Estimated parameter standard deviations will be np.nan.\n",
      "WARNING:hyperspy.model:Covariance of the parameters could not be estimated. Estimated parameter standard deviations will be np.nan.\n",
      "WARNING:hyperspy.model:Covariance of the parameters could not be estimated. Estimated parameter standard deviations will be np.nan.\n",
      "WARNING:hyperspy.model:Covariance of the parameters could not be estimated. Estimated parameter standard deviations will be np.nan.\n",
      "WARNING:hyperspy.model:Covariance of the parameters could not be estimated. Estimated parameter standard deviations will be np.nan.\n",
      "WARNING:hyperspy.model:Covariance of the parameters could not be estimated. Estimated parameter standard deviations will be np.nan.\n",
      "WARNING:hyperspy.model:Covariance of the parameters could not be estimated. Estimated parameter standard deviations will be np.nan.\n",
      "WARNING:hyperspy.model:Covariance of the parameters could not be estimated. Estimated parameter standard deviations will be np.nan.\n",
      "WARNING:hyperspy.model:Covariance of the parameters could not be estimated. Estimated parameter standard deviations will be np.nan.\n",
      "WARNING:hyperspy.model:Covariance of the parameters could not be estimated. Estimated parameter standard deviations will be np.nan.\n",
      "WARNING:hyperspy.model:Covariance of the parameters could not be estimated. Estimated parameter standard deviations will be np.nan.\n",
      "WARNING:hyperspy.model:Covariance of the parameters could not be estimated. Estimated parameter standard deviations will be np.nan.\n",
      "WARNING:hyperspy.model:Covariance of the parameters could not be estimated. Estimated parameter standard deviations will be np.nan.\n",
      "WARNING:hyperspy.model:Covariance of the parameters could not be estimated. Estimated parameter standard deviations will be np.nan.\n",
      "WARNING:hyperspy.model:Covariance of the parameters could not be estimated. Estimated parameter standard deviations will be np.nan.\n",
      "WARNING:hyperspy.model:Covariance of the parameters could not be estimated. Estimated parameter standard deviations will be np.nan.\n",
      "WARNING:hyperspy.model:Covariance of the parameters could not be estimated. Estimated parameter standard deviations will be np.nan.\n",
      "WARNING:hyperspy.model:Covariance of the parameters could not be estimated. Estimated parameter standard deviations will be np.nan.\n",
      "WARNING:hyperspy.model:Covariance of the parameters could not be estimated. Estimated parameter standard deviations will be np.nan.\n",
      "WARNING:hyperspy.model:Covariance of the parameters could not be estimated. Estimated parameter standard deviations will be np.nan.\n",
      "WARNING:hyperspy.model:Covariance of the parameters could not be estimated. Estimated parameter standard deviations will be np.nan.\n",
      "WARNING:hyperspy.model:Covariance of the parameters could not be estimated. Estimated parameter standard deviations will be np.nan.\n",
      "WARNING:hyperspy.model:Covariance of the parameters could not be estimated. Estimated parameter standard deviations will be np.nan.\n",
      "WARNING:hyperspy.model:Covariance of the parameters could not be estimated. Estimated parameter standard deviations will be np.nan.\n",
      "WARNING:hyperspy.model:Covariance of the parameters could not be estimated. Estimated parameter standard deviations will be np.nan.\n",
      "WARNING:hyperspy.model:Covariance of the parameters could not be estimated. Estimated parameter standard deviations will be np.nan.\n",
      "WARNING:hyperspy.model:Covariance of the parameters could not be estimated. Estimated parameter standard deviations will be np.nan.\n",
      "WARNING:hyperspy.model:Covariance of the parameters could not be estimated. Estimated parameter standard deviations will be np.nan.\n",
      "WARNING:hyperspy.model:Covariance of the parameters could not be estimated. Estimated parameter standard deviations will be np.nan.\n",
      "WARNING:hyperspy.model:Covariance of the parameters could not be estimated. Estimated parameter standard deviations will be np.nan.\n",
      "WARNING:hyperspy.model:Covariance of the parameters could not be estimated. Estimated parameter standard deviations will be np.nan.\n",
      "WARNING:hyperspy.model:Covariance of the parameters could not be estimated. Estimated parameter standard deviations will be np.nan.\n",
      "WARNING:hyperspy.model:Covariance of the parameters could not be estimated. Estimated parameter standard deviations will be np.nan.\n",
      "WARNING:hyperspy.model:Covariance of the parameters could not be estimated. Estimated parameter standard deviations will be np.nan.\n",
      "WARNING:hyperspy.model:Covariance of the parameters could not be estimated. Estimated parameter standard deviations will be np.nan.\n",
      "WARNING:hyperspy.model:Covariance of the parameters could not be estimated. Estimated parameter standard deviations will be np.nan.\n",
      "WARNING:hyperspy.model:Covariance of the parameters could not be estimated. Estimated parameter standard deviations will be np.nan.\n",
      "WARNING:hyperspy.model:Covariance of the parameters could not be estimated. Estimated parameter standard deviations will be np.nan.\n",
      "WARNING:hyperspy.model:Covariance of the parameters could not be estimated. Estimated parameter standard deviations will be np.nan.\n",
      "WARNING:hyperspy.model:Covariance of the parameters could not be estimated. Estimated parameter standard deviations will be np.nan.\n",
      "WARNING:hyperspy.model:Covariance of the parameters could not be estimated. Estimated parameter standard deviations will be np.nan.\n",
      "WARNING:hyperspy.model:Covariance of the parameters could not be estimated. Estimated parameter standard deviations will be np.nan.\n",
      "WARNING:hyperspy.model:Covariance of the parameters could not be estimated. Estimated parameter standard deviations will be np.nan.\n",
      "WARNING:hyperspy.model:Covariance of the parameters could not be estimated. Estimated parameter standard deviations will be np.nan.\n",
      "WARNING:hyperspy.model:Covariance of the parameters could not be estimated. Estimated parameter standard deviations will be np.nan.\n",
      "WARNING:hyperspy.model:Covariance of the parameters could not be estimated. Estimated parameter standard deviations will be np.nan.\n",
      "WARNING:hyperspy.model:Covariance of the parameters could not be estimated. Estimated parameter standard deviations will be np.nan.\n",
      "WARNING:hyperspy.model:Covariance of the parameters could not be estimated. Estimated parameter standard deviations will be np.nan.\n",
      "WARNING:hyperspy.model:Covariance of the parameters could not be estimated. Estimated parameter standard deviations will be np.nan.\n",
      "WARNING:hyperspy.model:Covariance of the parameters could not be estimated. Estimated parameter standard deviations will be np.nan.\n",
      "WARNING:hyperspy.model:Covariance of the parameters could not be estimated. Estimated parameter standard deviations will be np.nan.\n",
      "WARNING:hyperspy.model:Covariance of the parameters could not be estimated. Estimated parameter standard deviations will be np.nan.\n",
      "WARNING:hyperspy.model:Covariance of the parameters could not be estimated. Estimated parameter standard deviations will be np.nan.\n",
      "WARNING:hyperspy.model:Covariance of the parameters could not be estimated. Estimated parameter standard deviations will be np.nan.\n",
      "WARNING:hyperspy.model:Covariance of the parameters could not be estimated. Estimated parameter standard deviations will be np.nan.\n",
      "WARNING:hyperspy.model:Covariance of the parameters could not be estimated. Estimated parameter standard deviations will be np.nan.\n",
      "WARNING:hyperspy.model:Covariance of the parameters could not be estimated. Estimated parameter standard deviations will be np.nan.\n",
      "WARNING:hyperspy.model:Covariance of the parameters could not be estimated. Estimated parameter standard deviations will be np.nan.\n",
      "WARNING:hyperspy.model:Covariance of the parameters could not be estimated. Estimated parameter standard deviations will be np.nan.\n",
      "WARNING:hyperspy.model:Covariance of the parameters could not be estimated. Estimated parameter standard deviations will be np.nan.\n",
      "WARNING:hyperspy.model:Covariance of the parameters could not be estimated. Estimated parameter standard deviations will be np.nan.\n",
      "WARNING:hyperspy.model:Covariance of the parameters could not be estimated. Estimated parameter standard deviations will be np.nan.\n",
      "WARNING:hyperspy.model:Covariance of the parameters could not be estimated. Estimated parameter standard deviations will be np.nan.\n",
      "WARNING:hyperspy.model:Covariance of the parameters could not be estimated. Estimated parameter standard deviations will be np.nan.\n",
      "WARNING:hyperspy.model:Covariance of the parameters could not be estimated. Estimated parameter standard deviations will be np.nan.\n",
      "WARNING:hyperspy.model:Covariance of the parameters could not be estimated. Estimated parameter standard deviations will be np.nan.\n",
      "WARNING:hyperspy.model:Covariance of the parameters could not be estimated. Estimated parameter standard deviations will be np.nan.\n",
      "WARNING:hyperspy.model:Covariance of the parameters could not be estimated. Estimated parameter standard deviations will be np.nan.\n",
      "WARNING:hyperspy.model:Covariance of the parameters could not be estimated. Estimated parameter standard deviations will be np.nan.\n",
      "WARNING:hyperspy.model:Covariance of the parameters could not be estimated. Estimated parameter standard deviations will be np.nan.\n",
      "WARNING:hyperspy.model:Covariance of the parameters could not be estimated. Estimated parameter standard deviations will be np.nan.\n",
      "WARNING:hyperspy.model:Covariance of the parameters could not be estimated. Estimated parameter standard deviations will be np.nan.\n",
      "WARNING:hyperspy.model:Covariance of the parameters could not be estimated. Estimated parameter standard deviations will be np.nan.\n",
      "WARNING:hyperspy.model:Covariance of the parameters could not be estimated. Estimated parameter standard deviations will be np.nan.\n",
      "WARNING:hyperspy.model:Covariance of the parameters could not be estimated. Estimated parameter standard deviations will be np.nan.\n",
      "WARNING:hyperspy.model:Covariance of the parameters could not be estimated. Estimated parameter standard deviations will be np.nan.\n",
      "WARNING:hyperspy.model:Covariance of the parameters could not be estimated. Estimated parameter standard deviations will be np.nan.\n",
      "WARNING:hyperspy.model:Covariance of the parameters could not be estimated. Estimated parameter standard deviations will be np.nan.\n",
      "WARNING:hyperspy.model:Covariance of the parameters could not be estimated. Estimated parameter standard deviations will be np.nan.\n",
      "WARNING:hyperspy.model:Covariance of the parameters could not be estimated. Estimated parameter standard deviations will be np.nan.\n",
      "WARNING:hyperspy.model:Covariance of the parameters could not be estimated. Estimated parameter standard deviations will be np.nan.\n",
      "WARNING:hyperspy.model:Covariance of the parameters could not be estimated. Estimated parameter standard deviations will be np.nan.\n",
      "WARNING:hyperspy.model:Covariance of the parameters could not be estimated. Estimated parameter standard deviations will be np.nan.\n",
      "WARNING:hyperspy.model:Covariance of the parameters could not be estimated. Estimated parameter standard deviations will be np.nan.\n",
      "WARNING:hyperspy.model:Covariance of the parameters could not be estimated. Estimated parameter standard deviations will be np.nan.\n",
      "WARNING:hyperspy.model:Covariance of the parameters could not be estimated. Estimated parameter standard deviations will be np.nan.\n",
      "WARNING:hyperspy.model:Covariance of the parameters could not be estimated. Estimated parameter standard deviations will be np.nan.\n",
      "WARNING:hyperspy.model:Covariance of the parameters could not be estimated. Estimated parameter standard deviations will be np.nan.\n",
      "WARNING:hyperspy.model:Covariance of the parameters could not be estimated. Estimated parameter standard deviations will be np.nan.\n",
      "WARNING:hyperspy.model:Covariance of the parameters could not be estimated. Estimated parameter standard deviations will be np.nan.\n",
      "WARNING:hyperspy.model:Covariance of the parameters could not be estimated. Estimated parameter standard deviations will be np.nan.\n",
      "WARNING:hyperspy.model:Covariance of the parameters could not be estimated. Estimated parameter standard deviations will be np.nan.\n",
      "WARNING:hyperspy.model:Covariance of the parameters could not be estimated. Estimated parameter standard deviations will be np.nan.\n",
      "WARNING:hyperspy.model:Covariance of the parameters could not be estimated. Estimated parameter standard deviations will be np.nan.\n",
      "WARNING:hyperspy.model:Covariance of the parameters could not be estimated. Estimated parameter standard deviations will be np.nan.\n",
      "WARNING:hyperspy.model:Covariance of the parameters could not be estimated. Estimated parameter standard deviations will be np.nan.\n",
      "WARNING:hyperspy.model:Covariance of the parameters could not be estimated. Estimated parameter standard deviations will be np.nan.\n",
      "WARNING:hyperspy.model:Covariance of the parameters could not be estimated. Estimated parameter standard deviations will be np.nan.\n",
      "WARNING:hyperspy.model:Covariance of the parameters could not be estimated. Estimated parameter standard deviations will be np.nan.\n",
      "WARNING:hyperspy.model:Covariance of the parameters could not be estimated. Estimated parameter standard deviations will be np.nan.\n",
      "WARNING:hyperspy.model:Covariance of the parameters could not be estimated. Estimated parameter standard deviations will be np.nan.\n",
      "WARNING:hyperspy.model:Covariance of the parameters could not be estimated. Estimated parameter standard deviations will be np.nan.\n",
      "WARNING:hyperspy.model:Covariance of the parameters could not be estimated. Estimated parameter standard deviations will be np.nan.\n",
      "WARNING:hyperspy.model:Covariance of the parameters could not be estimated. Estimated parameter standard deviations will be np.nan.\n",
      "WARNING:hyperspy.model:Covariance of the parameters could not be estimated. Estimated parameter standard deviations will be np.nan.\n",
      "WARNING:hyperspy.model:Covariance of the parameters could not be estimated. Estimated parameter standard deviations will be np.nan.\n",
      "WARNING:hyperspy.model:Covariance of the parameters could not be estimated. Estimated parameter standard deviations will be np.nan.\n",
      "WARNING:hyperspy.model:Covariance of the parameters could not be estimated. Estimated parameter standard deviations will be np.nan.\n",
      "WARNING:hyperspy.model:Covariance of the parameters could not be estimated. Estimated parameter standard deviations will be np.nan.\n",
      "WARNING:hyperspy.model:Covariance of the parameters could not be estimated. Estimated parameter standard deviations will be np.nan.\n",
      "WARNING:hyperspy.model:Covariance of the parameters could not be estimated. Estimated parameter standard deviations will be np.nan.\n",
      "WARNING:hyperspy.model:Covariance of the parameters could not be estimated. Estimated parameter standard deviations will be np.nan.\n",
      "WARNING:hyperspy.model:Covariance of the parameters could not be estimated. Estimated parameter standard deviations will be np.nan.\n",
      "WARNING:hyperspy.model:Covariance of the parameters could not be estimated. Estimated parameter standard deviations will be np.nan.\n",
      "WARNING:hyperspy.model:Covariance of the parameters could not be estimated. Estimated parameter standard deviations will be np.nan.\n",
      "WARNING:hyperspy.model:Covariance of the parameters could not be estimated. Estimated parameter standard deviations will be np.nan.\n",
      "WARNING:hyperspy.model:Covariance of the parameters could not be estimated. Estimated parameter standard deviations will be np.nan.\n",
      "WARNING:hyperspy.model:Covariance of the parameters could not be estimated. Estimated parameter standard deviations will be np.nan.\n",
      "WARNING:hyperspy.model:Covariance of the parameters could not be estimated. Estimated parameter standard deviations will be np.nan.\n",
      "WARNING:hyperspy.model:Covariance of the parameters could not be estimated. Estimated parameter standard deviations will be np.nan.\n",
      "WARNING:hyperspy.model:Covariance of the parameters could not be estimated. Estimated parameter standard deviations will be np.nan.\n",
      "WARNING:hyperspy.model:Covariance of the parameters could not be estimated. Estimated parameter standard deviations will be np.nan.\n",
      "WARNING:hyperspy.model:Covariance of the parameters could not be estimated. Estimated parameter standard deviations will be np.nan.\n",
      "WARNING:hyperspy.model:Covariance of the parameters could not be estimated. Estimated parameter standard deviations will be np.nan.\n",
      "WARNING:hyperspy.model:Covariance of the parameters could not be estimated. Estimated parameter standard deviations will be np.nan.\n",
      "WARNING:hyperspy.model:Covariance of the parameters could not be estimated. Estimated parameter standard deviations will be np.nan.\n",
      "WARNING:hyperspy.model:Covariance of the parameters could not be estimated. Estimated parameter standard deviations will be np.nan.\n",
      "WARNING:hyperspy.model:Covariance of the parameters could not be estimated. Estimated parameter standard deviations will be np.nan.\n",
      "WARNING:hyperspy.model:Covariance of the parameters could not be estimated. Estimated parameter standard deviations will be np.nan.\n",
      "WARNING:hyperspy.model:Covariance of the parameters could not be estimated. Estimated parameter standard deviations will be np.nan.\n",
      "WARNING:hyperspy.model:Covariance of the parameters could not be estimated. Estimated parameter standard deviations will be np.nan.\n",
      "WARNING:hyperspy.model:Covariance of the parameters could not be estimated. Estimated parameter standard deviations will be np.nan.\n",
      "WARNING:hyperspy.model:Covariance of the parameters could not be estimated. Estimated parameter standard deviations will be np.nan.\n",
      "WARNING:hyperspy.model:Covariance of the parameters could not be estimated. Estimated parameter standard deviations will be np.nan.\n",
      "WARNING:hyperspy.model:Covariance of the parameters could not be estimated. Estimated parameter standard deviations will be np.nan.\n",
      "WARNING:hyperspy.model:Covariance of the parameters could not be estimated. Estimated parameter standard deviations will be np.nan.\n",
      "WARNING:hyperspy.model:Covariance of the parameters could not be estimated. Estimated parameter standard deviations will be np.nan.\n",
      "WARNING:hyperspy.model:Covariance of the parameters could not be estimated. Estimated parameter standard deviations will be np.nan.\n",
      "WARNING:hyperspy.model:Covariance of the parameters could not be estimated. Estimated parameter standard deviations will be np.nan.\n",
      "WARNING:hyperspy.model:Covariance of the parameters could not be estimated. Estimated parameter standard deviations will be np.nan.\n",
      "WARNING:hyperspy.model:Covariance of the parameters could not be estimated. Estimated parameter standard deviations will be np.nan.\n",
      "WARNING:hyperspy.model:Covariance of the parameters could not be estimated. Estimated parameter standard deviations will be np.nan.\n",
      "WARNING:hyperspy.model:Covariance of the parameters could not be estimated. Estimated parameter standard deviations will be np.nan.\n",
      "WARNING:hyperspy.model:Covariance of the parameters could not be estimated. Estimated parameter standard deviations will be np.nan.\n",
      "WARNING:hyperspy.model:Covariance of the parameters could not be estimated. Estimated parameter standard deviations will be np.nan.\n",
      "WARNING:hyperspy.model:Covariance of the parameters could not be estimated. Estimated parameter standard deviations will be np.nan.\n",
      "WARNING:hyperspy.model:Covariance of the parameters could not be estimated. Estimated parameter standard deviations will be np.nan.\n",
      "WARNING:hyperspy.model:Covariance of the parameters could not be estimated. Estimated parameter standard deviations will be np.nan.\n",
      "WARNING:hyperspy.model:Covariance of the parameters could not be estimated. Estimated parameter standard deviations will be np.nan.\n",
      "WARNING:hyperspy.model:Covariance of the parameters could not be estimated. Estimated parameter standard deviations will be np.nan.\n",
      "WARNING:hyperspy.model:Covariance of the parameters could not be estimated. Estimated parameter standard deviations will be np.nan.\n",
      "WARNING:hyperspy.model:Covariance of the parameters could not be estimated. Estimated parameter standard deviations will be np.nan.\n",
      "WARNING:hyperspy.model:Covariance of the parameters could not be estimated. Estimated parameter standard deviations will be np.nan.\n",
      "WARNING:hyperspy.model:Covariance of the parameters could not be estimated. Estimated parameter standard deviations will be np.nan.\n",
      "WARNING:hyperspy.model:Covariance of the parameters could not be estimated. Estimated parameter standard deviations will be np.nan.\n",
      "WARNING:hyperspy.model:Covariance of the parameters could not be estimated. Estimated parameter standard deviations will be np.nan.\n",
      "WARNING:hyperspy.model:Covariance of the parameters could not be estimated. Estimated parameter standard deviations will be np.nan.\n",
      "WARNING:hyperspy.model:Covariance of the parameters could not be estimated. Estimated parameter standard deviations will be np.nan.\n",
      "WARNING:hyperspy.model:Covariance of the parameters could not be estimated. Estimated parameter standard deviations will be np.nan.\n",
      "WARNING:hyperspy.model:Covariance of the parameters could not be estimated. Estimated parameter standard deviations will be np.nan.\n",
      "WARNING:hyperspy.model:Covariance of the parameters could not be estimated. Estimated parameter standard deviations will be np.nan.\n",
      "WARNING:hyperspy.model:Covariance of the parameters could not be estimated. Estimated parameter standard deviations will be np.nan.\n",
      "WARNING:hyperspy.model:Covariance of the parameters could not be estimated. Estimated parameter standard deviations will be np.nan.\n",
      "WARNING:hyperspy.model:Covariance of the parameters could not be estimated. Estimated parameter standard deviations will be np.nan.\n",
      "WARNING:hyperspy.model:Covariance of the parameters could not be estimated. Estimated parameter standard deviations will be np.nan.\n",
      "WARNING:hyperspy.model:Covariance of the parameters could not be estimated. Estimated parameter standard deviations will be np.nan.\n",
      "WARNING:hyperspy.model:Covariance of the parameters could not be estimated. Estimated parameter standard deviations will be np.nan.\n",
      "WARNING:hyperspy.model:Covariance of the parameters could not be estimated. Estimated parameter standard deviations will be np.nan.\n",
      "WARNING:hyperspy.model:Covariance of the parameters could not be estimated. Estimated parameter standard deviations will be np.nan.\n",
      "WARNING:hyperspy.model:Covariance of the parameters could not be estimated. Estimated parameter standard deviations will be np.nan.\n",
      "WARNING:hyperspy.model:Covariance of the parameters could not be estimated. Estimated parameter standard deviations will be np.nan.\n",
      "WARNING:hyperspy.model:Covariance of the parameters could not be estimated. Estimated parameter standard deviations will be np.nan.\n",
      "WARNING:hyperspy.model:Covariance of the parameters could not be estimated. Estimated parameter standard deviations will be np.nan.\n",
      "WARNING:hyperspy.model:Covariance of the parameters could not be estimated. Estimated parameter standard deviations will be np.nan.\n",
      "WARNING:hyperspy.model:Covariance of the parameters could not be estimated. Estimated parameter standard deviations will be np.nan.\n",
      "WARNING:hyperspy.model:Covariance of the parameters could not be estimated. Estimated parameter standard deviations will be np.nan.\n",
      "WARNING:hyperspy.model:Covariance of the parameters could not be estimated. Estimated parameter standard deviations will be np.nan.\n",
      "WARNING:hyperspy.model:Covariance of the parameters could not be estimated. Estimated parameter standard deviations will be np.nan.\n",
      "WARNING:hyperspy.model:Covariance of the parameters could not be estimated. Estimated parameter standard deviations will be np.nan.\n",
      "WARNING:hyperspy.model:Covariance of the parameters could not be estimated. Estimated parameter standard deviations will be np.nan.\n",
      "WARNING:hyperspy.model:Covariance of the parameters could not be estimated. Estimated parameter standard deviations will be np.nan.\n",
      "WARNING:hyperspy.model:Covariance of the parameters could not be estimated. Estimated parameter standard deviations will be np.nan.\n",
      "WARNING:hyperspy.model:Covariance of the parameters could not be estimated. Estimated parameter standard deviations will be np.nan.\n",
      "WARNING:hyperspy.model:Covariance of the parameters could not be estimated. Estimated parameter standard deviations will be np.nan.\n",
      "WARNING:hyperspy.model:Covariance of the parameters could not be estimated. Estimated parameter standard deviations will be np.nan.\n",
      "WARNING:hyperspy.model:Covariance of the parameters could not be estimated. Estimated parameter standard deviations will be np.nan.\n",
      "WARNING:hyperspy.model:Covariance of the parameters could not be estimated. Estimated parameter standard deviations will be np.nan.\n",
      "WARNING:hyperspy.model:Covariance of the parameters could not be estimated. Estimated parameter standard deviations will be np.nan.\n",
      "WARNING:hyperspy.model:Covariance of the parameters could not be estimated. Estimated parameter standard deviations will be np.nan.\n",
      "WARNING:hyperspy.model:Covariance of the parameters could not be estimated. Estimated parameter standard deviations will be np.nan.\n",
      "WARNING:hyperspy.model:Covariance of the parameters could not be estimated. Estimated parameter standard deviations will be np.nan.\n",
      "WARNING:hyperspy.model:Covariance of the parameters could not be estimated. Estimated parameter standard deviations will be np.nan.\n",
      "WARNING:hyperspy.model:Covariance of the parameters could not be estimated. Estimated parameter standard deviations will be np.nan.\n",
      "WARNING:hyperspy.model:Covariance of the parameters could not be estimated. Estimated parameter standard deviations will be np.nan.\n",
      "WARNING:hyperspy.model:Covariance of the parameters could not be estimated. Estimated parameter standard deviations will be np.nan.\n",
      "WARNING:hyperspy.model:Covariance of the parameters could not be estimated. Estimated parameter standard deviations will be np.nan.\n",
      "WARNING:hyperspy.model:Covariance of the parameters could not be estimated. Estimated parameter standard deviations will be np.nan.\n",
      "WARNING:hyperspy.model:Covariance of the parameters could not be estimated. Estimated parameter standard deviations will be np.nan.\n",
      "WARNING:hyperspy.model:Covariance of the parameters could not be estimated. Estimated parameter standard deviations will be np.nan.\n",
      "WARNING:hyperspy.model:Covariance of the parameters could not be estimated. Estimated parameter standard deviations will be np.nan.\n",
      "WARNING:hyperspy.model:Covariance of the parameters could not be estimated. Estimated parameter standard deviations will be np.nan.\n",
      "WARNING:hyperspy.model:Covariance of the parameters could not be estimated. Estimated parameter standard deviations will be np.nan.\n",
      "WARNING:hyperspy.model:Covariance of the parameters could not be estimated. Estimated parameter standard deviations will be np.nan.\n",
      "WARNING:hyperspy.model:Covariance of the parameters could not be estimated. Estimated parameter standard deviations will be np.nan.\n",
      "WARNING:hyperspy.model:Covariance of the parameters could not be estimated. Estimated parameter standard deviations will be np.nan.\n",
      "WARNING:hyperspy.model:Covariance of the parameters could not be estimated. Estimated parameter standard deviations will be np.nan.\n",
      "WARNING:hyperspy.model:Covariance of the parameters could not be estimated. Estimated parameter standard deviations will be np.nan.\n",
      "WARNING:hyperspy.model:Covariance of the parameters could not be estimated. Estimated parameter standard deviations will be np.nan.\n",
      "WARNING:hyperspy.model:Covariance of the parameters could not be estimated. Estimated parameter standard deviations will be np.nan.\n",
      "WARNING:hyperspy.model:Covariance of the parameters could not be estimated. Estimated parameter standard deviations will be np.nan.\n",
      "WARNING:hyperspy.model:Covariance of the parameters could not be estimated. Estimated parameter standard deviations will be np.nan.\n",
      "WARNING:hyperspy.model:Covariance of the parameters could not be estimated. Estimated parameter standard deviations will be np.nan.\n",
      "WARNING:hyperspy.model:Covariance of the parameters could not be estimated. Estimated parameter standard deviations will be np.nan.\n",
      "WARNING:hyperspy.model:Covariance of the parameters could not be estimated. Estimated parameter standard deviations will be np.nan.\n",
      "WARNING:hyperspy.model:Covariance of the parameters could not be estimated. Estimated parameter standard deviations will be np.nan.\n",
      "WARNING:hyperspy.model:Covariance of the parameters could not be estimated. Estimated parameter standard deviations will be np.nan.\n",
      "WARNING:hyperspy.model:Covariance of the parameters could not be estimated. Estimated parameter standard deviations will be np.nan.\n",
      "WARNING:hyperspy.model:Covariance of the parameters could not be estimated. Estimated parameter standard deviations will be np.nan.\n",
      "WARNING:hyperspy.model:Covariance of the parameters could not be estimated. Estimated parameter standard deviations will be np.nan.\n",
      "WARNING:hyperspy.model:Covariance of the parameters could not be estimated. Estimated parameter standard deviations will be np.nan.\n",
      "WARNING:hyperspy.model:Covariance of the parameters could not be estimated. Estimated parameter standard deviations will be np.nan.\n",
      "WARNING:hyperspy.model:Covariance of the parameters could not be estimated. Estimated parameter standard deviations will be np.nan.\n",
      "WARNING:hyperspy.model:Covariance of the parameters could not be estimated. Estimated parameter standard deviations will be np.nan.\n",
      "WARNING:hyperspy.model:Covariance of the parameters could not be estimated. Estimated parameter standard deviations will be np.nan.\n"
     ]
    }
   ],
   "source": [
    "m.multifit()"
   ]
  },
  {
   "cell_type": "markdown",
   "metadata": {},
   "source": [
    "All of those warnings suggest that something has indeed gone wrong."
   ]
  },
  {
   "cell_type": "code",
   "execution_count": 51,
   "metadata": {},
   "outputs": [
    {
     "data": {
      "application/vnd.jupyter.widget-view+json": {
       "model_id": "f1614c75740e45fc924db357e8965137",
       "version_major": 2,
       "version_minor": 0
      },
      "text/plain": [
       "Canvas(toolbar=Toolbar(toolitems=[('Home', 'Reset original view', 'home', 'home'), ('Back', 'Back to previous …"
      ]
     },
     "metadata": {},
     "output_type": "display_data"
    }
   ],
   "source": [
    "m.red_chisq.get_histogram().plot()"
   ]
  },
  {
   "cell_type": "markdown",
   "metadata": {},
   "source": [
    "The large number of pixels with a high $\\chi_{\\nu}^2$ indicates that something is wrong with the fit"
   ]
  },
  {
   "cell_type": "code",
   "execution_count": 52,
   "metadata": {},
   "outputs": [
    {
     "data": {
      "application/vnd.jupyter.widget-view+json": {
       "model_id": "3679230e9b004ce38f8085557b943e98",
       "version_major": 2,
       "version_minor": 0
      },
      "text/plain": [
       "Canvas(toolbar=Toolbar(toolitems=[('Home', 'Reset original view', 'home', 'home'), ('Back', 'Back to previous …"
      ]
     },
     "metadata": {},
     "output_type": "display_data"
    }
   ],
   "source": [
    "m.red_chisq.plot()"
   ]
  },
  {
   "cell_type": "markdown",
   "metadata": {},
   "source": [
    "It looks like something went wrong when jumping from the first line to the second, probably because the starting parameters copied from the last pixel of the first row do are not suitable for the first pixel of the second row. Let's restore the model and try fitting with a differing starting parameters strategy:"
   ]
  },
  {
   "cell_type": "code",
   "execution_count": 53,
   "metadata": {},
   "outputs": [],
   "source": [
    "m = m.signal.models.restore(\"first line fitted\")"
   ]
  },
  {
   "cell_type": "code",
   "execution_count": 54,
   "metadata": {},
   "outputs": [
    {
     "data": {
      "application/vnd.jupyter.widget-view+json": {
       "model_id": "ae19a53c23584aaabb6ec8cdab6b8309",
       "version_major": 2,
       "version_minor": 0
      },
      "text/plain": [
       "  0%|          | 0/1024 [00:00<?, ?it/s]"
      ]
     },
     "metadata": {},
     "output_type": "display_data"
    }
   ],
   "source": [
    "m.multifit(iterpath=\"serpentine\")"
   ]
  },
  {
   "cell_type": "code",
   "execution_count": 55,
   "metadata": {},
   "outputs": [
    {
     "data": {
      "application/vnd.jupyter.widget-view+json": {
       "model_id": "a2d50dd39cd74c2fab5d0519dd98befd",
       "version_major": 2,
       "version_minor": 0
      },
      "text/plain": [
       "Canvas(toolbar=Toolbar(toolitems=[('Home', 'Reset original view', 'home', 'home'), ('Back', 'Back to previous …"
      ]
     },
     "metadata": {},
     "output_type": "display_data"
    }
   ],
   "source": [
    "m.red_chisq.get_histogram().plot()"
   ]
  },
  {
   "cell_type": "code",
   "execution_count": 56,
   "metadata": {},
   "outputs": [
    {
     "data": {
      "application/vnd.jupyter.widget-view+json": {
       "model_id": "73b5609aaf604da08d73cbfd478fa49f",
       "version_major": 2,
       "version_minor": 0
      },
      "text/plain": [
       "Canvas(toolbar=Toolbar(toolitems=[('Home', 'Reset original view', 'home', 'home'), ('Back', 'Back to previous …"
      ]
     },
     "metadata": {},
     "output_type": "display_data"
    }
   ],
   "source": [
    "m.red_chisq.plot()"
   ]
  },
  {
   "cell_type": "markdown",
   "metadata": {},
   "source": [
    "The fact that there is no contrast shows that this time the fit is good at all pixels in the dataset! This is because with `iterpath=\"serpentine\"` the fitting routine advances one row at the end of each row without retourning to the beginning of the line."
   ]
  },
  {
   "cell_type": "markdown",
   "metadata": {},
   "source": [
    "Let's visualize the results:"
   ]
  },
  {
   "cell_type": "code",
   "execution_count": 57,
   "metadata": {},
   "outputs": [
    {
     "data": {
      "application/vnd.jupyter.widget-view+json": {
       "model_id": "be045c966f104a33ac8b3a2605b2e029",
       "version_major": 2,
       "version_minor": 0
      },
      "text/plain": [
       "Canvas(toolbar=Toolbar(toolitems=[('Home', 'Reset original view', 'home', 'home'), ('Back', 'Back to previous …"
      ]
     },
     "metadata": {},
     "output_type": "display_data"
    },
    {
     "data": {
      "application/vnd.jupyter.widget-view+json": {
       "model_id": "66e3d46f9b0449e495f9f7a120f850d3",
       "version_major": 2,
       "version_minor": 0
      },
      "text/plain": [
       "Canvas(toolbar=Toolbar(toolitems=[('Home', 'Reset original view', 'home', 'home'), ('Back', 'Back to previous …"
      ]
     },
     "metadata": {},
     "output_type": "display_data"
    },
    {
     "data": {
      "application/vnd.jupyter.widget-view+json": {
       "model_id": "adc1d05a12fd4d77854e8554ef800feb",
       "version_major": 2,
       "version_minor": 0
      },
      "text/plain": [
       "Canvas(toolbar=Toolbar(toolitems=[('Home', 'Reset original view', 'home', 'home'), ('Back', 'Back to previous …"
      ]
     },
     "metadata": {},
     "output_type": "display_data"
    },
    {
     "data": {
      "application/vnd.jupyter.widget-view+json": {
       "model_id": "33cb0ea3d0fe4348ae1f59719a9eee57",
       "version_major": 2,
       "version_minor": 0
      },
      "text/plain": [
       "Canvas(toolbar=Toolbar(toolitems=[('Home', 'Reset original view', 'home', 'home'), ('Back', 'Back to previous …"
      ]
     },
     "metadata": {},
     "output_type": "display_data"
    },
    {
     "data": {
      "application/vnd.jupyter.widget-view+json": {
       "model_id": "117c3a060f284c44aaf7e842da8a6991",
       "version_major": 2,
       "version_minor": 0
      },
      "text/plain": [
       "Canvas(toolbar=Toolbar(toolitems=[('Home', 'Reset original view', 'home', 'home'), ('Back', 'Back to previous …"
      ]
     },
     "metadata": {},
     "output_type": "display_data"
    },
    {
     "data": {
      "application/vnd.jupyter.widget-view+json": {
       "model_id": "f47d7c525ca142bd9435235de5a15ec7",
       "version_major": 2,
       "version_minor": 0
      },
      "text/plain": [
       "Canvas(toolbar=Toolbar(toolitems=[('Home', 'Reset original view', 'home', 'home'), ('Back', 'Back to previous …"
      ]
     },
     "metadata": {},
     "output_type": "display_data"
    }
   ],
   "source": [
    "m.plot_results()"
   ]
  },
  {
   "cell_type": "markdown",
   "metadata": {},
   "source": [
    "## Bounds and fixed components"
   ]
  },
  {
   "cell_type": "markdown",
   "metadata": {},
   "source": [
    "Notice the the FWHM of the narrow component sometimes gets negative. It doesn't actually matter, but it makes plotting and analysis more challenging. To fix this issue we can constrain the FWHM of the gaussian:"
   ]
  },
  {
   "cell_type": "code",
   "execution_count": 58,
   "metadata": {},
   "outputs": [],
   "source": [
    "m = m.signal.models.restore(\"first line fitted\")\n",
    "m.components.narrow.fwhm.bmin = 5.5\n",
    "m.components.narrow.fwhm.bmax = 6.5"
   ]
  },
  {
   "cell_type": "code",
   "execution_count": 59,
   "metadata": {},
   "outputs": [
    {
     "data": {
      "application/vnd.jupyter.widget-view+json": {
       "model_id": "dd15c1688a2149b793384973ce7c3fb9",
       "version_major": 2,
       "version_minor": 0
      },
      "text/plain": [
       "  0%|          | 0/1024 [00:00<?, ?it/s]"
      ]
     },
     "metadata": {},
     "output_type": "display_data"
    }
   ],
   "source": [
    "m.multifit(bounded=True, iterpath=\"serpentine\")"
   ]
  },
  {
   "cell_type": "code",
   "execution_count": 67,
   "metadata": {},
   "outputs": [
    {
     "data": {
      "application/vnd.jupyter.widget-view+json": {
       "model_id": "fa637c54b3df435aa3bf4cce973cc5ad",
       "version_major": 2,
       "version_minor": 0
      },
      "text/plain": [
       "Canvas(toolbar=Toolbar(toolitems=[('Home', 'Reset original view', 'home', 'home'), ('Back', 'Back to previous …"
      ]
     },
     "metadata": {},
     "output_type": "display_data"
    }
   ],
   "source": [
    "m.red_chisq.plot()"
   ]
  },
  {
   "cell_type": "code",
   "execution_count": 68,
   "metadata": {},
   "outputs": [
    {
     "data": {
      "application/vnd.jupyter.widget-view+json": {
       "model_id": "e277509cfc5b43929d9ba8d33f2940d0",
       "version_major": 2,
       "version_minor": 0
      },
      "text/plain": [
       "Canvas(toolbar=Toolbar(toolitems=[('Home', 'Reset original view', 'home', 'home'), ('Back', 'Back to previous …"
      ]
     },
     "metadata": {},
     "output_type": "display_data"
    },
    {
     "data": {
      "application/vnd.jupyter.widget-view+json": {
       "model_id": "f686015dbb07446e84005ae09b379f4e",
       "version_major": 2,
       "version_minor": 0
      },
      "text/plain": [
       "Canvas(toolbar=Toolbar(toolitems=[('Home', 'Reset original view', 'home', 'home'), ('Back', 'Back to previous …"
      ]
     },
     "metadata": {},
     "output_type": "display_data"
    },
    {
     "data": {
      "application/vnd.jupyter.widget-view+json": {
       "model_id": "9a1969a85a464e2c94b08f3657950dd4",
       "version_major": 2,
       "version_minor": 0
      },
      "text/plain": [
       "Canvas(toolbar=Toolbar(toolitems=[('Home', 'Reset original view', 'home', 'home'), ('Back', 'Back to previous …"
      ]
     },
     "metadata": {},
     "output_type": "display_data"
    },
    {
     "data": {
      "application/vnd.jupyter.widget-view+json": {
       "model_id": "11d44297191c426a87bc065622e54bdc",
       "version_major": 2,
       "version_minor": 0
      },
      "text/plain": [
       "Canvas(toolbar=Toolbar(toolitems=[('Home', 'Reset original view', 'home', 'home'), ('Back', 'Back to previous …"
      ]
     },
     "metadata": {},
     "output_type": "display_data"
    },
    {
     "data": {
      "application/vnd.jupyter.widget-view+json": {
       "model_id": "cecda5ff399a4ffc904f1f53089c6229",
       "version_major": 2,
       "version_minor": 0
      },
      "text/plain": [
       "Canvas(toolbar=Toolbar(toolitems=[('Home', 'Reset original view', 'home', 'home'), ('Back', 'Back to previous …"
      ]
     },
     "metadata": {},
     "output_type": "display_data"
    },
    {
     "data": {
      "application/vnd.jupyter.widget-view+json": {
       "model_id": "288f2ed1a9f84c99a573bb43f21bd395",
       "version_major": 2,
       "version_minor": 0
      },
      "text/plain": [
       "Canvas(toolbar=Toolbar(toolitems=[('Home', 'Reset original view', 'home', 'home'), ('Back', 'Back to previous …"
      ]
     },
     "metadata": {},
     "output_type": "display_data"
    }
   ],
   "source": [
    "m.plot_results()"
   ]
  },
  {
   "cell_type": "markdown",
   "metadata": {},
   "source": [
    "It worked: there is no sign reversal in the narrow FWHM plot anymore."
   ]
  },
  {
   "cell_type": "markdown",
   "metadata": {},
   "source": [
    "Let's have a look at the histogram of the FWHM parameter of both peaks:"
   ]
  },
  {
   "cell_type": "code",
   "execution_count": 69,
   "metadata": {},
   "outputs": [
    {
     "data": {
      "application/vnd.jupyter.widget-view+json": {
       "model_id": "7664edef4abb443ba66012f1503b9eca",
       "version_major": 2,
       "version_minor": 0
      },
      "text/plain": [
       "Canvas(toolbar=Toolbar(toolitems=[('Home', 'Reset original view', 'home', 'home'), ('Back', 'Back to previous …"
      ]
     },
     "metadata": {},
     "output_type": "display_data"
    }
   ],
   "source": [
    "m.components.narrow.fwhm.as_signal().get_histogram().plot()"
   ]
  },
  {
   "cell_type": "code",
   "execution_count": 70,
   "metadata": {},
   "outputs": [
    {
     "data": {
      "application/vnd.jupyter.widget-view+json": {
       "model_id": "1ec8227572ee4d01b79d12926daef006",
       "version_major": 2,
       "version_minor": 0
      },
      "text/plain": [
       "Canvas(toolbar=Toolbar(toolitems=[('Home', 'Reset original view', 'home', 'home'), ('Back', 'Back to previous …"
      ]
     },
     "metadata": {},
     "output_type": "display_data"
    }
   ],
   "source": [
    "m.components.wide.fwhm.as_signal().get_histogram().plot()"
   ]
  },
  {
   "cell_type": "markdown",
   "metadata": {},
   "source": [
    "The peaky shape of the histogram suggests that the parameter variation is only due to noise. The asymmetry is typical of the bias induced by approximating the Poisson noise with a gaussian (i.e. using weighted least-squares instead of an unbiased estimator such as maximum likelihood).\n",
    "\n",
    "Let's fit again using maximum likelihood:"
   ]
  },
  {
   "cell_type": "code",
   "execution_count": 71,
   "metadata": {},
   "outputs": [
    {
     "name": "stderr",
     "output_type": "stream",
     "text": [
      "/home/francisco/Git/hyperspy/hyperspy/model.py:1567: VisibleDeprecationWarning: The 'iterpath' default will change from 'flyback' to 'serpentine' in HyperSpy version 2.0. Change 'iterpath' to other than None to suppress this warning.\n",
      "  warnings.warn(\n"
     ]
    },
    {
     "data": {
      "application/vnd.jupyter.widget-view+json": {
       "model_id": "61b314b791364135bc5db21e447ab422",
       "version_major": 2,
       "version_minor": 0
      },
      "text/plain": [
       "  0%|          | 0/1024 [00:00<?, ?it/s]"
      ]
     },
     "metadata": {},
     "output_type": "display_data"
    }
   ],
   "source": [
    "m.multifit(optimizer=\"Nelder-Mead\", loss_function=\"ML-poisson\")"
   ]
  },
  {
   "cell_type": "code",
   "execution_count": 72,
   "metadata": {},
   "outputs": [
    {
     "data": {
      "application/vnd.jupyter.widget-view+json": {
       "model_id": "4775f53656a34899bd849410a5421b25",
       "version_major": 2,
       "version_minor": 0
      },
      "text/plain": [
       "Canvas(toolbar=Toolbar(toolitems=[('Home', 'Reset original view', 'home', 'home'), ('Back', 'Back to previous …"
      ]
     },
     "metadata": {},
     "output_type": "display_data"
    }
   ],
   "source": [
    "m.components.narrow.fwhm.as_signal().get_histogram().plot()"
   ]
  },
  {
   "cell_type": "code",
   "execution_count": 73,
   "metadata": {},
   "outputs": [
    {
     "data": {
      "application/vnd.jupyter.widget-view+json": {
       "model_id": "5d511d187dd8477e9b2065cd19268a0c",
       "version_major": 2,
       "version_minor": 0
      },
      "text/plain": [
       "Canvas(toolbar=Toolbar(toolitems=[('Home', 'Reset original view', 'home', 'home'), ('Back', 'Back to previous …"
      ]
     },
     "metadata": {},
     "output_type": "display_data"
    }
   ],
   "source": [
    "m.components.wide.fwhm.as_signal().get_histogram().plot()"
   ]
  },
  {
   "cell_type": "markdown",
   "metadata": {},
   "source": [
    "Now the peaks are more symmetric, confirming that the biased loss function was the issue. Let's check their mean:"
   ]
  },
  {
   "cell_type": "code",
   "execution_count": 74,
   "metadata": {},
   "outputs": [
    {
     "data": {
      "text/plain": [
       "59.99490496867593"
      ]
     },
     "execution_count": 74,
     "metadata": {},
     "output_type": "execute_result"
    }
   ],
   "source": [
    "m.components.wide.fwhm.as_signal().data.mean()"
   ]
  },
  {
   "cell_type": "code",
   "execution_count": 75,
   "metadata": {},
   "outputs": [
    {
     "data": {
      "text/plain": [
       "6.003292092160273"
      ]
     },
     "execution_count": 75,
     "metadata": {},
     "output_type": "execute_result"
    }
   ],
   "source": [
    "m.components.narrow.fwhm.as_signal().data.mean()"
   ]
  },
  {
   "cell_type": "markdown",
   "metadata": {},
   "source": [
    "This is very close to the actual values that in this case are 60 and 6. With this insight we can refit the model setting the "
   ]
  },
  {
   "cell_type": "markdown",
   "metadata": {},
   "source": [
    "This suggests that it would have been better to fix the FWHM of the peaks, let's try:"
   ]
  },
  {
   "cell_type": "code",
   "execution_count": 76,
   "metadata": {},
   "outputs": [],
   "source": [
    "m.store(\"fitted with ML-poisson\")"
   ]
  },
  {
   "cell_type": "code",
   "execution_count": 82,
   "metadata": {},
   "outputs": [],
   "source": [
    "m = m.signal.models.restore(\"new\")"
   ]
  },
  {
   "cell_type": "code",
   "execution_count": 83,
   "metadata": {},
   "outputs": [],
   "source": [
    "m.components.narrow.fwhm.value = 6\n",
    "m.components.narrow.fwhm.free = False\n",
    "m.components.wide.fwhm.value = 60\n",
    "m.components.wide.fwhm.free = False"
   ]
  },
  {
   "cell_type": "code",
   "execution_count": 86,
   "metadata": {},
   "outputs": [
    {
     "data": {
      "application/vnd.jupyter.widget-view+json": {
       "model_id": "ddef71becfe5453abbf908fbd98741b6",
       "version_major": 2,
       "version_minor": 0
      },
      "text/plain": [
       "Canvas(toolbar=Toolbar(toolitems=[('Home', 'Reset original view', 'home', 'home'), ('Back', 'Back to previous …"
      ]
     },
     "metadata": {},
     "output_type": "display_data"
    },
    {
     "data": {
      "application/vnd.jupyter.widget-view+json": {
       "model_id": "3174c876bb924ef384053830ac7601b6",
       "version_major": 2,
       "version_minor": 0
      },
      "text/plain": [
       "Canvas(toolbar=Toolbar(toolitems=[('Home', 'Reset original view', 'home', 'home'), ('Back', 'Back to previous …"
      ]
     },
     "metadata": {},
     "output_type": "display_data"
    }
   ],
   "source": [
    "m.plot()"
   ]
  },
  {
   "cell_type": "code",
   "execution_count": 87,
   "metadata": {},
   "outputs": [],
   "source": [
    "m.signal.axes_manager.indices = (0, 0)"
   ]
  },
  {
   "cell_type": "code",
   "execution_count": 88,
   "metadata": {},
   "outputs": [],
   "source": [
    "m.components.narrow.centre.value = 60\n",
    "m.components.wide.centre.value = 50\n",
    "m.set_parameters_value(\"height\", 100)"
   ]
  },
  {
   "cell_type": "code",
   "execution_count": 89,
   "metadata": {},
   "outputs": [
    {
     "data": {
      "text/plain": [
       "   covar: array([[ 1.02640456e-02,  2.63088576e-03, -6.91533414e-04,\n",
       "        -3.52215309e-02],\n",
       "       [ 2.63088576e-03,  2.63399627e-01,  6.00803510e-04,\n",
       "        -3.59532800e-01],\n",
       "       [-6.91533414e-04,  6.00803510e-04,  1.74966402e-02,\n",
       "        -5.05536492e-03],\n",
       "       [-3.52215309e-02, -3.59532800e-01, -5.05536492e-03,\n",
       "         4.24491308e+00]])\n",
       "     fun: array([-0.05770752, -0.23067977,  0.23108691, ..., -0.96631802,\n",
       "       -0.57732898, -0.60728395])\n",
       " message: 'Both actual and predicted relative reductions in the sum of squares\\n  are at most 0.000000'\n",
       "    nfev: 21\n",
       "  status: 1\n",
       " success: True\n",
       "       x: array([ 48.97472644, 137.8158598 ,  59.99396502,  49.66752157])"
      ]
     },
     "execution_count": 89,
     "metadata": {},
     "output_type": "execute_result"
    }
   ],
   "source": [
    "m.fit()"
   ]
  },
  {
   "cell_type": "code",
   "execution_count": 90,
   "metadata": {},
   "outputs": [
    {
     "data": {
      "application/vnd.jupyter.widget-view+json": {
       "model_id": "a33233dfc67f425e89e6bdc528fc89e1",
       "version_major": 2,
       "version_minor": 0
      },
      "text/plain": [
       "  0%|          | 0/1024 [00:00<?, ?it/s]"
      ]
     },
     "metadata": {},
     "output_type": "display_data"
    }
   ],
   "source": [
    "m.multifit(iterpath=\"serpentine\")"
   ]
  },
  {
   "cell_type": "code",
   "execution_count": 91,
   "metadata": {},
   "outputs": [
    {
     "data": {
      "application/vnd.jupyter.widget-view+json": {
       "model_id": "07147d81febb4a8ca64d60a6f59b8ff9",
       "version_major": 2,
       "version_minor": 0
      },
      "text/plain": [
       "Canvas(toolbar=Toolbar(toolitems=[('Home', 'Reset original view', 'home', 'home'), ('Back', 'Back to previous …"
      ]
     },
     "metadata": {},
     "output_type": "display_data"
    }
   ],
   "source": [
    "m.red_chisq.get_histogram().plot()"
   ]
  },
  {
   "cell_type": "markdown",
   "metadata": {},
   "source": [
    "## Standard deviation"
   ]
  },
  {
   "cell_type": "markdown",
   "metadata": {},
   "source": [
    "We can also insptect the standard deviation maps:"
   ]
  },
  {
   "cell_type": "code",
   "execution_count": 92,
   "metadata": {},
   "outputs": [],
   "source": [
    "narrow_centre_value = m.components.narrow.centre.as_signal()\n",
    "narrow_centre_std = m.components.narrow.centre.as_signal(field=\"std\")"
   ]
  },
  {
   "cell_type": "code",
   "execution_count": 93,
   "metadata": {},
   "outputs": [
    {
     "data": {
      "application/vnd.jupyter.widget-view+json": {
       "model_id": "a14babde0e074df1acbb2162652a60ad",
       "version_major": 2,
       "version_minor": 0
      },
      "text/plain": [
       "Canvas(toolbar=Toolbar(toolitems=[('Home', 'Reset original view', 'home', 'home'), ('Back', 'Back to previous …"
      ]
     },
     "metadata": {},
     "output_type": "display_data"
    },
    {
     "data": {
      "text/plain": [
       "[<AxesSubplot:title={'center':'centre'}, xlabel='x axis (nm)', ylabel='y axis (nm)'>,\n",
       " <AxesSubplot:title={'center':'centre std'}, xlabel='x axis (nm)', ylabel='y axis (nm)'>]"
      ]
     },
     "execution_count": 93,
     "metadata": {},
     "output_type": "execute_result"
    }
   ],
   "source": [
    "hs.plot.plot_images([narrow_centre_value, narrow_centre_std], label=[\"centre\", \"centre std\"], axes_decor=\"off\")"
   ]
  },
  {
   "cell_type": "markdown",
   "metadata": {},
   "source": [
    "Notice how the standard deviation image has a contrast? Is that expected? If yes, what should it be correlated with?"
   ]
  },
  {
   "cell_type": "markdown",
   "metadata": {},
   "source": [
    "Let's now verify that the standard deviation estimation is correct. We know that, if correct, 66% percent of the residuals must fall between a 1 standard deviation interval. Let's use this property to verify the result:"
   ]
  },
  {
   "cell_type": "markdown",
   "metadata": {},
   "source": [
    "The ground truth is actually stored in the signal:\n"
   ]
  },
  {
   "cell_type": "code",
   "execution_count": 94,
   "metadata": {},
   "outputs": [
    {
     "data": {
      "text/plain": [
       "├── first_line_fitted\n",
       "│   ├── components\n",
       "│   │   ├── narrow\n",
       "│   │   └── wide\n",
       "│   ├── date = 2021-04-20 12:49:48\n",
       "│   └── dimensions = (32, 32|1024)\n",
       "├── fitted_with_MLpoisson\n",
       "│   ├── components\n",
       "│   │   ├── narrow\n",
       "│   │   └── wide\n",
       "│   ├── date = 2021-04-20 13:00:09\n",
       "│   └── dimensions = (32, 32|1024)\n",
       "├── ground_truth\n",
       "│   ├── components\n",
       "│   │   ├── narrow\n",
       "│   │   └── wide\n",
       "│   ├── date = 2021-04-20 12:47:51\n",
       "│   └── dimensions = (32, 32|1024)\n",
       "└── new\n",
       "    ├── components\n",
       "    │   ├── narrow\n",
       "    │   └── wide\n",
       "    ├── date = 2021-04-20 12:48:53\n",
       "    └── dimensions = (32, 32|1024)"
      ]
     },
     "execution_count": 94,
     "metadata": {},
     "output_type": "execute_result"
    }
   ],
   "source": [
    "m.signal.models"
   ]
  },
  {
   "cell_type": "code",
   "execution_count": 97,
   "metadata": {},
   "outputs": [],
   "source": [
    "narrow_centre_gt = m.signal.models.restore(\"ground truth\").components.narrow.centre.as_signal()"
   ]
  },
  {
   "cell_type": "code",
   "execution_count": 98,
   "metadata": {},
   "outputs": [],
   "source": [
    "residuals = (narrow_centre_gt - narrow_centre_value).data"
   ]
  },
  {
   "cell_type": "code",
   "execution_count": 99,
   "metadata": {},
   "outputs": [],
   "source": [
    "residuals_in_1sigma = len(residuals[(residuals > -narrow_centre_std.data) & (residuals < narrow_centre_std.data)])"
   ]
  },
  {
   "cell_type": "code",
   "execution_count": 100,
   "metadata": {},
   "outputs": [
    {
     "data": {
      "text/plain": [
       "68.9453125"
      ]
     },
     "execution_count": 100,
     "metadata": {},
     "output_type": "execute_result"
    }
   ],
   "source": [
    "import numpy as np\n",
    "100 * residuals_in_1sigma / np.prod(residuals.shape)"
   ]
  },
  {
   "cell_type": "markdown",
   "metadata": {},
   "source": [
    "That is very close to 66% percent, so it works!"
   ]
  },
  {
   "cell_type": "markdown",
   "metadata": {},
   "source": [
    "## Appendix I: User define components interesting components"
   ]
  },
  {
   "cell_type": "markdown",
   "metadata": {},
   "source": [
    "Lets say we have a slightly stranger signal that we want to fit, like this one:"
   ]
  },
  {
   "cell_type": "code",
   "execution_count": 33,
   "metadata": {},
   "outputs": [],
   "source": [
    "s = hs.load('wobbly_peak.hspy')"
   ]
  },
  {
   "cell_type": "code",
   "execution_count": 34,
   "metadata": {},
   "outputs": [
    {
     "data": {
      "application/javascript": [
       "/* Put everything inside the global mpl namespace */\n",
       "window.mpl = {};\n",
       "\n",
       "\n",
       "mpl.get_websocket_type = function() {\n",
       "    if (typeof(WebSocket) !== 'undefined') {\n",
       "        return WebSocket;\n",
       "    } else if (typeof(MozWebSocket) !== 'undefined') {\n",
       "        return MozWebSocket;\n",
       "    } else {\n",
       "        alert('Your browser does not have WebSocket support.' +\n",
       "              'Please try Chrome, Safari or Firefox ≥ 6. ' +\n",
       "              'Firefox 4 and 5 are also supported but you ' +\n",
       "              'have to enable WebSockets in about:config.');\n",
       "    };\n",
       "}\n",
       "\n",
       "mpl.figure = function(figure_id, websocket, ondownload, parent_element) {\n",
       "    this.id = figure_id;\n",
       "\n",
       "    this.ws = websocket;\n",
       "\n",
       "    this.supports_binary = (this.ws.binaryType != undefined);\n",
       "\n",
       "    if (!this.supports_binary) {\n",
       "        var warnings = document.getElementById(\"mpl-warnings\");\n",
       "        if (warnings) {\n",
       "            warnings.style.display = 'block';\n",
       "            warnings.textContent = (\n",
       "                \"This browser does not support binary websocket messages. \" +\n",
       "                    \"Performance may be slow.\");\n",
       "        }\n",
       "    }\n",
       "\n",
       "    this.imageObj = new Image();\n",
       "\n",
       "    this.context = undefined;\n",
       "    this.message = undefined;\n",
       "    this.canvas = undefined;\n",
       "    this.rubberband_canvas = undefined;\n",
       "    this.rubberband_context = undefined;\n",
       "    this.format_dropdown = undefined;\n",
       "\n",
       "    this.image_mode = 'full';\n",
       "\n",
       "    this.root = $('<div/>');\n",
       "    this._root_extra_style(this.root)\n",
       "    this.root.attr('style', 'display: inline-block');\n",
       "\n",
       "    $(parent_element).append(this.root);\n",
       "\n",
       "    this._init_header(this);\n",
       "    this._init_canvas(this);\n",
       "    this._init_toolbar(this);\n",
       "\n",
       "    var fig = this;\n",
       "\n",
       "    this.waiting = false;\n",
       "\n",
       "    this.ws.onopen =  function () {\n",
       "            fig.send_message(\"supports_binary\", {value: fig.supports_binary});\n",
       "            fig.send_message(\"send_image_mode\", {});\n",
       "            if (mpl.ratio != 1) {\n",
       "                fig.send_message(\"set_dpi_ratio\", {'dpi_ratio': mpl.ratio});\n",
       "            }\n",
       "            fig.send_message(\"refresh\", {});\n",
       "        }\n",
       "\n",
       "    this.imageObj.onload = function() {\n",
       "            if (fig.image_mode == 'full') {\n",
       "                // Full images could contain transparency (where diff images\n",
       "                // almost always do), so we need to clear the canvas so that\n",
       "                // there is no ghosting.\n",
       "                fig.context.clearRect(0, 0, fig.canvas.width, fig.canvas.height);\n",
       "            }\n",
       "            fig.context.drawImage(fig.imageObj, 0, 0);\n",
       "        };\n",
       "\n",
       "    this.imageObj.onunload = function() {\n",
       "        this.ws.close();\n",
       "    }\n",
       "\n",
       "    this.ws.onmessage = this._make_on_message_function(this);\n",
       "\n",
       "    this.ondownload = ondownload;\n",
       "}\n",
       "\n",
       "mpl.figure.prototype._init_header = function() {\n",
       "    var titlebar = $(\n",
       "        '<div class=\"ui-dialog-titlebar ui-widget-header ui-corner-all ' +\n",
       "        'ui-helper-clearfix\"/>');\n",
       "    var titletext = $(\n",
       "        '<div class=\"ui-dialog-title\" style=\"width: 100%; ' +\n",
       "        'text-align: center; padding: 3px;\"/>');\n",
       "    titlebar.append(titletext)\n",
       "    this.root.append(titlebar);\n",
       "    this.header = titletext[0];\n",
       "}\n",
       "\n",
       "\n",
       "\n",
       "mpl.figure.prototype._canvas_extra_style = function(canvas_div) {\n",
       "\n",
       "}\n",
       "\n",
       "\n",
       "mpl.figure.prototype._root_extra_style = function(canvas_div) {\n",
       "\n",
       "}\n",
       "\n",
       "mpl.figure.prototype._init_canvas = function() {\n",
       "    var fig = this;\n",
       "\n",
       "    var canvas_div = $('<div/>');\n",
       "\n",
       "    canvas_div.attr('style', 'position: relative; clear: both; outline: 0');\n",
       "\n",
       "    function canvas_keyboard_event(event) {\n",
       "        return fig.key_event(event, event['data']);\n",
       "    }\n",
       "\n",
       "    canvas_div.keydown('key_press', canvas_keyboard_event);\n",
       "    canvas_div.keyup('key_release', canvas_keyboard_event);\n",
       "    this.canvas_div = canvas_div\n",
       "    this._canvas_extra_style(canvas_div)\n",
       "    this.root.append(canvas_div);\n",
       "\n",
       "    var canvas = $('<canvas/>');\n",
       "    canvas.addClass('mpl-canvas');\n",
       "    canvas.attr('style', \"left: 0; top: 0; z-index: 0; outline: 0\")\n",
       "\n",
       "    this.canvas = canvas[0];\n",
       "    this.context = canvas[0].getContext(\"2d\");\n",
       "\n",
       "    var backingStore = this.context.backingStorePixelRatio ||\n",
       "\tthis.context.webkitBackingStorePixelRatio ||\n",
       "\tthis.context.mozBackingStorePixelRatio ||\n",
       "\tthis.context.msBackingStorePixelRatio ||\n",
       "\tthis.context.oBackingStorePixelRatio ||\n",
       "\tthis.context.backingStorePixelRatio || 1;\n",
       "\n",
       "    mpl.ratio = (window.devicePixelRatio || 1) / backingStore;\n",
       "\n",
       "    var rubberband = $('<canvas/>');\n",
       "    rubberband.attr('style', \"position: absolute; left: 0; top: 0; z-index: 1;\")\n",
       "\n",
       "    var pass_mouse_events = true;\n",
       "\n",
       "    canvas_div.resizable({\n",
       "        start: function(event, ui) {\n",
       "            pass_mouse_events = false;\n",
       "        },\n",
       "        resize: function(event, ui) {\n",
       "            fig.request_resize(ui.size.width, ui.size.height);\n",
       "        },\n",
       "        stop: function(event, ui) {\n",
       "            pass_mouse_events = true;\n",
       "            fig.request_resize(ui.size.width, ui.size.height);\n",
       "        },\n",
       "    });\n",
       "\n",
       "    function mouse_event_fn(event) {\n",
       "        if (pass_mouse_events)\n",
       "            return fig.mouse_event(event, event['data']);\n",
       "    }\n",
       "\n",
       "    rubberband.mousedown('button_press', mouse_event_fn);\n",
       "    rubberband.mouseup('button_release', mouse_event_fn);\n",
       "    // Throttle sequential mouse events to 1 every 20ms.\n",
       "    rubberband.mousemove('motion_notify', mouse_event_fn);\n",
       "\n",
       "    rubberband.mouseenter('figure_enter', mouse_event_fn);\n",
       "    rubberband.mouseleave('figure_leave', mouse_event_fn);\n",
       "\n",
       "    canvas_div.on(\"wheel\", function (event) {\n",
       "        event = event.originalEvent;\n",
       "        event['data'] = 'scroll'\n",
       "        if (event.deltaY < 0) {\n",
       "            event.step = 1;\n",
       "        } else {\n",
       "            event.step = -1;\n",
       "        }\n",
       "        mouse_event_fn(event);\n",
       "    });\n",
       "\n",
       "    canvas_div.append(canvas);\n",
       "    canvas_div.append(rubberband);\n",
       "\n",
       "    this.rubberband = rubberband;\n",
       "    this.rubberband_canvas = rubberband[0];\n",
       "    this.rubberband_context = rubberband[0].getContext(\"2d\");\n",
       "    this.rubberband_context.strokeStyle = \"#000000\";\n",
       "\n",
       "    this._resize_canvas = function(width, height) {\n",
       "        // Keep the size of the canvas, canvas container, and rubber band\n",
       "        // canvas in synch.\n",
       "        canvas_div.css('width', width)\n",
       "        canvas_div.css('height', height)\n",
       "\n",
       "        canvas.attr('width', width * mpl.ratio);\n",
       "        canvas.attr('height', height * mpl.ratio);\n",
       "        canvas.attr('style', 'width: ' + width + 'px; height: ' + height + 'px;');\n",
       "\n",
       "        rubberband.attr('width', width);\n",
       "        rubberband.attr('height', height);\n",
       "    }\n",
       "\n",
       "    // Set the figure to an initial 600x600px, this will subsequently be updated\n",
       "    // upon first draw.\n",
       "    this._resize_canvas(600, 600);\n",
       "\n",
       "    // Disable right mouse context menu.\n",
       "    $(this.rubberband_canvas).bind(\"contextmenu\",function(e){\n",
       "        return false;\n",
       "    });\n",
       "\n",
       "    function set_focus () {\n",
       "        canvas.focus();\n",
       "        canvas_div.focus();\n",
       "    }\n",
       "\n",
       "    window.setTimeout(set_focus, 100);\n",
       "}\n",
       "\n",
       "mpl.figure.prototype._init_toolbar = function() {\n",
       "    var fig = this;\n",
       "\n",
       "    var nav_element = $('<div/>')\n",
       "    nav_element.attr('style', 'width: 100%');\n",
       "    this.root.append(nav_element);\n",
       "\n",
       "    // Define a callback function for later on.\n",
       "    function toolbar_event(event) {\n",
       "        return fig.toolbar_button_onclick(event['data']);\n",
       "    }\n",
       "    function toolbar_mouse_event(event) {\n",
       "        return fig.toolbar_button_onmouseover(event['data']);\n",
       "    }\n",
       "\n",
       "    for(var toolbar_ind in mpl.toolbar_items) {\n",
       "        var name = mpl.toolbar_items[toolbar_ind][0];\n",
       "        var tooltip = mpl.toolbar_items[toolbar_ind][1];\n",
       "        var image = mpl.toolbar_items[toolbar_ind][2];\n",
       "        var method_name = mpl.toolbar_items[toolbar_ind][3];\n",
       "\n",
       "        if (!name) {\n",
       "            // put a spacer in here.\n",
       "            continue;\n",
       "        }\n",
       "        var button = $('<button/>');\n",
       "        button.addClass('ui-button ui-widget ui-state-default ui-corner-all ' +\n",
       "                        'ui-button-icon-only');\n",
       "        button.attr('role', 'button');\n",
       "        button.attr('aria-disabled', 'false');\n",
       "        button.click(method_name, toolbar_event);\n",
       "        button.mouseover(tooltip, toolbar_mouse_event);\n",
       "\n",
       "        var icon_img = $('<span/>');\n",
       "        icon_img.addClass('ui-button-icon-primary ui-icon');\n",
       "        icon_img.addClass(image);\n",
       "        icon_img.addClass('ui-corner-all');\n",
       "\n",
       "        var tooltip_span = $('<span/>');\n",
       "        tooltip_span.addClass('ui-button-text');\n",
       "        tooltip_span.html(tooltip);\n",
       "\n",
       "        button.append(icon_img);\n",
       "        button.append(tooltip_span);\n",
       "\n",
       "        nav_element.append(button);\n",
       "    }\n",
       "\n",
       "    var fmt_picker_span = $('<span/>');\n",
       "\n",
       "    var fmt_picker = $('<select/>');\n",
       "    fmt_picker.addClass('mpl-toolbar-option ui-widget ui-widget-content');\n",
       "    fmt_picker_span.append(fmt_picker);\n",
       "    nav_element.append(fmt_picker_span);\n",
       "    this.format_dropdown = fmt_picker[0];\n",
       "\n",
       "    for (var ind in mpl.extensions) {\n",
       "        var fmt = mpl.extensions[ind];\n",
       "        var option = $(\n",
       "            '<option/>', {selected: fmt === mpl.default_extension}).html(fmt);\n",
       "        fmt_picker.append(option)\n",
       "    }\n",
       "\n",
       "    // Add hover states to the ui-buttons\n",
       "    $( \".ui-button\" ).hover(\n",
       "        function() { $(this).addClass(\"ui-state-hover\");},\n",
       "        function() { $(this).removeClass(\"ui-state-hover\");}\n",
       "    );\n",
       "\n",
       "    var status_bar = $('<span class=\"mpl-message\"/>');\n",
       "    nav_element.append(status_bar);\n",
       "    this.message = status_bar[0];\n",
       "}\n",
       "\n",
       "mpl.figure.prototype.request_resize = function(x_pixels, y_pixels) {\n",
       "    // Request matplotlib to resize the figure. Matplotlib will then trigger a resize in the client,\n",
       "    // which will in turn request a refresh of the image.\n",
       "    this.send_message('resize', {'width': x_pixels, 'height': y_pixels});\n",
       "}\n",
       "\n",
       "mpl.figure.prototype.send_message = function(type, properties) {\n",
       "    properties['type'] = type;\n",
       "    properties['figure_id'] = this.id;\n",
       "    this.ws.send(JSON.stringify(properties));\n",
       "}\n",
       "\n",
       "mpl.figure.prototype.send_draw_message = function() {\n",
       "    if (!this.waiting) {\n",
       "        this.waiting = true;\n",
       "        this.ws.send(JSON.stringify({type: \"draw\", figure_id: this.id}));\n",
       "    }\n",
       "}\n",
       "\n",
       "\n",
       "mpl.figure.prototype.handle_save = function(fig, msg) {\n",
       "    var format_dropdown = fig.format_dropdown;\n",
       "    var format = format_dropdown.options[format_dropdown.selectedIndex].value;\n",
       "    fig.ondownload(fig, format);\n",
       "}\n",
       "\n",
       "\n",
       "mpl.figure.prototype.handle_resize = function(fig, msg) {\n",
       "    var size = msg['size'];\n",
       "    if (size[0] != fig.canvas.width || size[1] != fig.canvas.height) {\n",
       "        fig._resize_canvas(size[0], size[1]);\n",
       "        fig.send_message(\"refresh\", {});\n",
       "    };\n",
       "}\n",
       "\n",
       "mpl.figure.prototype.handle_rubberband = function(fig, msg) {\n",
       "    var x0 = msg['x0'] / mpl.ratio;\n",
       "    var y0 = (fig.canvas.height - msg['y0']) / mpl.ratio;\n",
       "    var x1 = msg['x1'] / mpl.ratio;\n",
       "    var y1 = (fig.canvas.height - msg['y1']) / mpl.ratio;\n",
       "    x0 = Math.floor(x0) + 0.5;\n",
       "    y0 = Math.floor(y0) + 0.5;\n",
       "    x1 = Math.floor(x1) + 0.5;\n",
       "    y1 = Math.floor(y1) + 0.5;\n",
       "    var min_x = Math.min(x0, x1);\n",
       "    var min_y = Math.min(y0, y1);\n",
       "    var width = Math.abs(x1 - x0);\n",
       "    var height = Math.abs(y1 - y0);\n",
       "\n",
       "    fig.rubberband_context.clearRect(\n",
       "        0, 0, fig.canvas.width, fig.canvas.height);\n",
       "\n",
       "    fig.rubberband_context.strokeRect(min_x, min_y, width, height);\n",
       "}\n",
       "\n",
       "mpl.figure.prototype.handle_figure_label = function(fig, msg) {\n",
       "    // Updates the figure title.\n",
       "    fig.header.textContent = msg['label'];\n",
       "}\n",
       "\n",
       "mpl.figure.prototype.handle_cursor = function(fig, msg) {\n",
       "    var cursor = msg['cursor'];\n",
       "    switch(cursor)\n",
       "    {\n",
       "    case 0:\n",
       "        cursor = 'pointer';\n",
       "        break;\n",
       "    case 1:\n",
       "        cursor = 'default';\n",
       "        break;\n",
       "    case 2:\n",
       "        cursor = 'crosshair';\n",
       "        break;\n",
       "    case 3:\n",
       "        cursor = 'move';\n",
       "        break;\n",
       "    }\n",
       "    fig.rubberband_canvas.style.cursor = cursor;\n",
       "}\n",
       "\n",
       "mpl.figure.prototype.handle_message = function(fig, msg) {\n",
       "    fig.message.textContent = msg['message'];\n",
       "}\n",
       "\n",
       "mpl.figure.prototype.handle_draw = function(fig, msg) {\n",
       "    // Request the server to send over a new figure.\n",
       "    fig.send_draw_message();\n",
       "}\n",
       "\n",
       "mpl.figure.prototype.handle_image_mode = function(fig, msg) {\n",
       "    fig.image_mode = msg['mode'];\n",
       "}\n",
       "\n",
       "mpl.figure.prototype.updated_canvas_event = function() {\n",
       "    // Called whenever the canvas gets updated.\n",
       "    this.send_message(\"ack\", {});\n",
       "}\n",
       "\n",
       "// A function to construct a web socket function for onmessage handling.\n",
       "// Called in the figure constructor.\n",
       "mpl.figure.prototype._make_on_message_function = function(fig) {\n",
       "    return function socket_on_message(evt) {\n",
       "        if (evt.data instanceof Blob) {\n",
       "            /* FIXME: We get \"Resource interpreted as Image but\n",
       "             * transferred with MIME type text/plain:\" errors on\n",
       "             * Chrome.  But how to set the MIME type?  It doesn't seem\n",
       "             * to be part of the websocket stream */\n",
       "            evt.data.type = \"image/png\";\n",
       "\n",
       "            /* Free the memory for the previous frames */\n",
       "            if (fig.imageObj.src) {\n",
       "                (window.URL || window.webkitURL).revokeObjectURL(\n",
       "                    fig.imageObj.src);\n",
       "            }\n",
       "\n",
       "            fig.imageObj.src = (window.URL || window.webkitURL).createObjectURL(\n",
       "                evt.data);\n",
       "            fig.updated_canvas_event();\n",
       "            fig.waiting = false;\n",
       "            return;\n",
       "        }\n",
       "        else if (typeof evt.data === 'string' && evt.data.slice(0, 21) == \"data:image/png;base64\") {\n",
       "            fig.imageObj.src = evt.data;\n",
       "            fig.updated_canvas_event();\n",
       "            fig.waiting = false;\n",
       "            return;\n",
       "        }\n",
       "\n",
       "        var msg = JSON.parse(evt.data);\n",
       "        var msg_type = msg['type'];\n",
       "\n",
       "        // Call the  \"handle_{type}\" callback, which takes\n",
       "        // the figure and JSON message as its only arguments.\n",
       "        try {\n",
       "            var callback = fig[\"handle_\" + msg_type];\n",
       "        } catch (e) {\n",
       "            console.log(\"No handler for the '\" + msg_type + \"' message type: \", msg);\n",
       "            return;\n",
       "        }\n",
       "\n",
       "        if (callback) {\n",
       "            try {\n",
       "                // console.log(\"Handling '\" + msg_type + \"' message: \", msg);\n",
       "                callback(fig, msg);\n",
       "            } catch (e) {\n",
       "                console.log(\"Exception inside the 'handler_\" + msg_type + \"' callback:\", e, e.stack, msg);\n",
       "            }\n",
       "        }\n",
       "    };\n",
       "}\n",
       "\n",
       "// from http://stackoverflow.com/questions/1114465/getting-mouse-location-in-canvas\n",
       "mpl.findpos = function(e) {\n",
       "    //this section is from http://www.quirksmode.org/js/events_properties.html\n",
       "    var targ;\n",
       "    if (!e)\n",
       "        e = window.event;\n",
       "    if (e.target)\n",
       "        targ = e.target;\n",
       "    else if (e.srcElement)\n",
       "        targ = e.srcElement;\n",
       "    if (targ.nodeType == 3) // defeat Safari bug\n",
       "        targ = targ.parentNode;\n",
       "\n",
       "    // jQuery normalizes the pageX and pageY\n",
       "    // pageX,Y are the mouse positions relative to the document\n",
       "    // offset() returns the position of the element relative to the document\n",
       "    var x = e.pageX - $(targ).offset().left;\n",
       "    var y = e.pageY - $(targ).offset().top;\n",
       "\n",
       "    return {\"x\": x, \"y\": y};\n",
       "};\n",
       "\n",
       "/*\n",
       " * return a copy of an object with only non-object keys\n",
       " * we need this to avoid circular references\n",
       " * http://stackoverflow.com/a/24161582/3208463\n",
       " */\n",
       "function simpleKeys (original) {\n",
       "  return Object.keys(original).reduce(function (obj, key) {\n",
       "    if (typeof original[key] !== 'object')\n",
       "        obj[key] = original[key]\n",
       "    return obj;\n",
       "  }, {});\n",
       "}\n",
       "\n",
       "mpl.figure.prototype.mouse_event = function(event, name) {\n",
       "    var canvas_pos = mpl.findpos(event)\n",
       "\n",
       "    if (name === 'button_press')\n",
       "    {\n",
       "        this.canvas.focus();\n",
       "        this.canvas_div.focus();\n",
       "    }\n",
       "\n",
       "    var x = canvas_pos.x * mpl.ratio;\n",
       "    var y = canvas_pos.y * mpl.ratio;\n",
       "\n",
       "    this.send_message(name, {x: x, y: y, button: event.button,\n",
       "                             step: event.step,\n",
       "                             guiEvent: simpleKeys(event)});\n",
       "\n",
       "    /* This prevents the web browser from automatically changing to\n",
       "     * the text insertion cursor when the button is pressed.  We want\n",
       "     * to control all of the cursor setting manually through the\n",
       "     * 'cursor' event from matplotlib */\n",
       "    event.preventDefault();\n",
       "    return false;\n",
       "}\n",
       "\n",
       "mpl.figure.prototype._key_event_extra = function(event, name) {\n",
       "    // Handle any extra behaviour associated with a key event\n",
       "}\n",
       "\n",
       "mpl.figure.prototype.key_event = function(event, name) {\n",
       "\n",
       "    // Prevent repeat events\n",
       "    if (name == 'key_press')\n",
       "    {\n",
       "        if (event.which === this._key)\n",
       "            return;\n",
       "        else\n",
       "            this._key = event.which;\n",
       "    }\n",
       "    if (name == 'key_release')\n",
       "        this._key = null;\n",
       "\n",
       "    var value = '';\n",
       "    if (event.ctrlKey && event.which != 17)\n",
       "        value += \"ctrl+\";\n",
       "    if (event.altKey && event.which != 18)\n",
       "        value += \"alt+\";\n",
       "    if (event.shiftKey && event.which != 16)\n",
       "        value += \"shift+\";\n",
       "\n",
       "    value += 'k';\n",
       "    value += event.which.toString();\n",
       "\n",
       "    this._key_event_extra(event, name);\n",
       "\n",
       "    this.send_message(name, {key: value,\n",
       "                             guiEvent: simpleKeys(event)});\n",
       "    return false;\n",
       "}\n",
       "\n",
       "mpl.figure.prototype.toolbar_button_onclick = function(name) {\n",
       "    if (name == 'download') {\n",
       "        this.handle_save(this, null);\n",
       "    } else {\n",
       "        this.send_message(\"toolbar_button\", {name: name});\n",
       "    }\n",
       "};\n",
       "\n",
       "mpl.figure.prototype.toolbar_button_onmouseover = function(tooltip) {\n",
       "    this.message.textContent = tooltip;\n",
       "};\n",
       "mpl.toolbar_items = [[\"Home\", \"Reset original view\", \"fa fa-home icon-home\", \"home\"], [\"Back\", \"Back to  previous view\", \"fa fa-arrow-left icon-arrow-left\", \"back\"], [\"Forward\", \"Forward to next view\", \"fa fa-arrow-right icon-arrow-right\", \"forward\"], [\"\", \"\", \"\", \"\"], [\"Pan\", \"Pan axes with left mouse, zoom with right\", \"fa fa-arrows icon-move\", \"pan\"], [\"Zoom\", \"Zoom to rectangle\", \"fa fa-square-o icon-check-empty\", \"zoom\"], [\"\", \"\", \"\", \"\"], [\"Download\", \"Download plot\", \"fa fa-floppy-o icon-save\", \"download\"]];\n",
       "\n",
       "mpl.extensions = [\"eps\", \"jpeg\", \"pdf\", \"png\", \"ps\", \"raw\", \"svg\", \"tif\"];\n",
       "\n",
       "mpl.default_extension = \"png\";var comm_websocket_adapter = function(comm) {\n",
       "    // Create a \"websocket\"-like object which calls the given IPython comm\n",
       "    // object with the appropriate methods. Currently this is a non binary\n",
       "    // socket, so there is still some room for performance tuning.\n",
       "    var ws = {};\n",
       "\n",
       "    ws.close = function() {\n",
       "        comm.close()\n",
       "    };\n",
       "    ws.send = function(m) {\n",
       "        //console.log('sending', m);\n",
       "        comm.send(m);\n",
       "    };\n",
       "    // Register the callback with on_msg.\n",
       "    comm.on_msg(function(msg) {\n",
       "        //console.log('receiving', msg['content']['data'], msg);\n",
       "        // Pass the mpl event to the overriden (by mpl) onmessage function.\n",
       "        ws.onmessage(msg['content']['data'])\n",
       "    });\n",
       "    return ws;\n",
       "}\n",
       "\n",
       "mpl.mpl_figure_comm = function(comm, msg) {\n",
       "    // This is the function which gets called when the mpl process\n",
       "    // starts-up an IPython Comm through the \"matplotlib\" channel.\n",
       "\n",
       "    var id = msg.content.data.id;\n",
       "    // Get hold of the div created by the display call when the Comm\n",
       "    // socket was opened in Python.\n",
       "    var element = $(\"#\" + id);\n",
       "    var ws_proxy = comm_websocket_adapter(comm)\n",
       "\n",
       "    function ondownload(figure, format) {\n",
       "        window.open(figure.imageObj.src);\n",
       "    }\n",
       "\n",
       "    var fig = new mpl.figure(id, ws_proxy,\n",
       "                           ondownload,\n",
       "                           element.get(0));\n",
       "\n",
       "    // Call onopen now - mpl needs it, as it is assuming we've passed it a real\n",
       "    // web socket which is closed, not our websocket->open comm proxy.\n",
       "    ws_proxy.onopen();\n",
       "\n",
       "    fig.parent_element = element.get(0);\n",
       "    fig.cell_info = mpl.find_output_cell(\"<div id='\" + id + \"'></div>\");\n",
       "    if (!fig.cell_info) {\n",
       "        console.error(\"Failed to find cell for figure\", id, fig);\n",
       "        return;\n",
       "    }\n",
       "\n",
       "    var output_index = fig.cell_info[2]\n",
       "    var cell = fig.cell_info[0];\n",
       "\n",
       "};\n",
       "\n",
       "mpl.figure.prototype.handle_close = function(fig, msg) {\n",
       "    var width = fig.canvas.width/mpl.ratio\n",
       "    fig.root.unbind('remove')\n",
       "\n",
       "    // Update the output cell to use the data from the current canvas.\n",
       "    fig.push_to_output();\n",
       "    var dataURL = fig.canvas.toDataURL();\n",
       "    // Re-enable the keyboard manager in IPython - without this line, in FF,\n",
       "    // the notebook keyboard shortcuts fail.\n",
       "    IPython.keyboard_manager.enable()\n",
       "    $(fig.parent_element).html('<img src=\"' + dataURL + '\" width=\"' + width + '\">');\n",
       "    fig.close_ws(fig, msg);\n",
       "}\n",
       "\n",
       "mpl.figure.prototype.close_ws = function(fig, msg){\n",
       "    fig.send_message('closing', msg);\n",
       "    // fig.ws.close()\n",
       "}\n",
       "\n",
       "mpl.figure.prototype.push_to_output = function(remove_interactive) {\n",
       "    // Turn the data on the canvas into data in the output cell.\n",
       "    var width = this.canvas.width/mpl.ratio\n",
       "    var dataURL = this.canvas.toDataURL();\n",
       "    this.cell_info[1]['text/html'] = '<img src=\"' + dataURL + '\" width=\"' + width + '\">';\n",
       "}\n",
       "\n",
       "mpl.figure.prototype.updated_canvas_event = function() {\n",
       "    // Tell IPython that the notebook contents must change.\n",
       "    IPython.notebook.set_dirty(true);\n",
       "    this.send_message(\"ack\", {});\n",
       "    var fig = this;\n",
       "    // Wait a second, then push the new image to the DOM so\n",
       "    // that it is saved nicely (might be nice to debounce this).\n",
       "    setTimeout(function () { fig.push_to_output() }, 1000);\n",
       "}\n",
       "\n",
       "mpl.figure.prototype._init_toolbar = function() {\n",
       "    var fig = this;\n",
       "\n",
       "    var nav_element = $('<div/>')\n",
       "    nav_element.attr('style', 'width: 100%');\n",
       "    this.root.append(nav_element);\n",
       "\n",
       "    // Define a callback function for later on.\n",
       "    function toolbar_event(event) {\n",
       "        return fig.toolbar_button_onclick(event['data']);\n",
       "    }\n",
       "    function toolbar_mouse_event(event) {\n",
       "        return fig.toolbar_button_onmouseover(event['data']);\n",
       "    }\n",
       "\n",
       "    for(var toolbar_ind in mpl.toolbar_items){\n",
       "        var name = mpl.toolbar_items[toolbar_ind][0];\n",
       "        var tooltip = mpl.toolbar_items[toolbar_ind][1];\n",
       "        var image = mpl.toolbar_items[toolbar_ind][2];\n",
       "        var method_name = mpl.toolbar_items[toolbar_ind][3];\n",
       "\n",
       "        if (!name) { continue; };\n",
       "\n",
       "        var button = $('<button class=\"btn btn-default\" href=\"#\" title=\"' + name + '\"><i class=\"fa ' + image + ' fa-lg\"></i></button>');\n",
       "        button.click(method_name, toolbar_event);\n",
       "        button.mouseover(tooltip, toolbar_mouse_event);\n",
       "        nav_element.append(button);\n",
       "    }\n",
       "\n",
       "    // Add the status bar.\n",
       "    var status_bar = $('<span class=\"mpl-message\" style=\"text-align:right; float: right;\"/>');\n",
       "    nav_element.append(status_bar);\n",
       "    this.message = status_bar[0];\n",
       "\n",
       "    // Add the close button to the window.\n",
       "    var buttongrp = $('<div class=\"btn-group inline pull-right\"></div>');\n",
       "    var button = $('<button class=\"btn btn-mini btn-primary\" href=\"#\" title=\"Stop Interaction\"><i class=\"fa fa-power-off icon-remove icon-large\"></i></button>');\n",
       "    button.click(function (evt) { fig.handle_close(fig, {}); } );\n",
       "    button.mouseover('Stop Interaction', toolbar_mouse_event);\n",
       "    buttongrp.append(button);\n",
       "    var titlebar = this.root.find($('.ui-dialog-titlebar'));\n",
       "    titlebar.prepend(buttongrp);\n",
       "}\n",
       "\n",
       "mpl.figure.prototype._root_extra_style = function(el){\n",
       "    var fig = this\n",
       "    el.on(\"remove\", function(){\n",
       "\tfig.close_ws(fig, {});\n",
       "    });\n",
       "}\n",
       "\n",
       "mpl.figure.prototype._canvas_extra_style = function(el){\n",
       "    // this is important to make the div 'focusable\n",
       "    el.attr('tabindex', 0)\n",
       "    // reach out to IPython and tell the keyboard manager to turn it's self\n",
       "    // off when our div gets focus\n",
       "\n",
       "    // location in version 3\n",
       "    if (IPython.notebook.keyboard_manager) {\n",
       "        IPython.notebook.keyboard_manager.register_events(el);\n",
       "    }\n",
       "    else {\n",
       "        // location in version 2\n",
       "        IPython.keyboard_manager.register_events(el);\n",
       "    }\n",
       "\n",
       "}\n",
       "\n",
       "mpl.figure.prototype._key_event_extra = function(event, name) {\n",
       "    var manager = IPython.notebook.keyboard_manager;\n",
       "    if (!manager)\n",
       "        manager = IPython.keyboard_manager;\n",
       "\n",
       "    // Check for shift+enter\n",
       "    if (event.shiftKey && event.which == 13) {\n",
       "        this.canvas_div.blur();\n",
       "        // select the cell after this one\n",
       "        var index = IPython.notebook.find_cell_index(this.cell_info[0]);\n",
       "        IPython.notebook.select(index + 1);\n",
       "    }\n",
       "}\n",
       "\n",
       "mpl.figure.prototype.handle_save = function(fig, msg) {\n",
       "    fig.ondownload(fig, null);\n",
       "}\n",
       "\n",
       "\n",
       "mpl.find_output_cell = function(html_output) {\n",
       "    // Return the cell and output element which can be found *uniquely* in the notebook.\n",
       "    // Note - this is a bit hacky, but it is done because the \"notebook_saving.Notebook\"\n",
       "    // IPython event is triggered only after the cells have been serialised, which for\n",
       "    // our purposes (turning an active figure into a static one), is too late.\n",
       "    var cells = IPython.notebook.get_cells();\n",
       "    var ncells = cells.length;\n",
       "    for (var i=0; i<ncells; i++) {\n",
       "        var cell = cells[i];\n",
       "        if (cell.cell_type === 'code'){\n",
       "            for (var j=0; j<cell.output_area.outputs.length; j++) {\n",
       "                var data = cell.output_area.outputs[j];\n",
       "                if (data.data) {\n",
       "                    // IPython >= 3 moved mimebundle to data attribute of output\n",
       "                    data = data.data;\n",
       "                }\n",
       "                if (data['text/html'] == html_output) {\n",
       "                    return [cell, data, j];\n",
       "                }\n",
       "            }\n",
       "        }\n",
       "    }\n",
       "}\n",
       "\n",
       "// Register the function which deals with the matplotlib target/channel.\n",
       "// The kernel may be null if the page has been refreshed.\n",
       "if (IPython.notebook.kernel != null) {\n",
       "    IPython.notebook.kernel.comm_manager.register_target('matplotlib', mpl.mpl_figure_comm);\n",
       "}\n"
      ],
      "text/plain": [
       "<IPython.core.display.Javascript object>"
      ]
     },
     "metadata": {},
     "output_type": "display_data"
    },
    {
     "data": {
      "text/html": [
       "<img src=\"data:image/png;base64,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\" width=\"640\">"
      ],
      "text/plain": [
       "<IPython.core.display.HTML object>"
      ]
     },
     "metadata": {},
     "output_type": "display_data"
    }
   ],
   "source": [
    "s.plot()"
   ]
  },
  {
   "cell_type": "markdown",
   "metadata": {},
   "source": [
    "It's (as the name implies) composed of a sinus + gaussian + 2nd degree polynomial. However we don't have a `sin` component in the in-build library, so we'll just write our own:"
   ]
  },
  {
   "cell_type": "code",
   "execution_count": 35,
   "metadata": {},
   "outputs": [],
   "source": [
    "sin = hs.model.components1D.Expression('A*sin(b*x + c)',\n",
    "                                        name='sin',)"
   ]
  },
  {
   "cell_type": "markdown",
   "metadata": {},
   "source": [
    "Then just create and add all the additional components we might need: a gaussian and a polynomial"
   ]
  },
  {
   "cell_type": "code",
   "execution_count": 36,
   "metadata": {
    "collapsed": true,
    "jupyter": {
     "outputs_hidden": true
    }
   },
   "outputs": [],
   "source": [
    "m = s.create_model()\n",
    "gaus = hs.model.components1D.Gaussian()\n",
    "poly = hs.model.components1D.Polynomial(2)\n",
    "m.extend([sin, gaus, poly])"
   ]
  },
  {
   "cell_type": "code",
   "execution_count": 37,
   "metadata": {},
   "outputs": [
    {
     "name": "stdout",
     "output_type": "stream",
     "text": [
      "Components\tParameter\tValue\n",
      "sin\n",
      "\t\tA\t0\n",
      "\t\tb\t0\n",
      "\t\tc\t0\n",
      "Gaussian\n",
      "\t\tA\t1\n",
      "\t\tcentre\t0\n",
      "\t\tsigma\t1\n",
      "Polynomial\n",
      "\t\tcoefficients[0]\t0\n",
      "\t\tcoefficients[1]\t0\n",
      "\t\tcoefficients[2]\t0\n"
     ]
    }
   ],
   "source": [
    "m.print_current_values()"
   ]
  },
  {
   "cell_type": "markdown",
   "metadata": {},
   "source": [
    "The initial values do not seem to be very useful, so let's just plot the model, turn on the widgets, and we'll play until things seem close enough:"
   ]
  },
  {
   "cell_type": "code",
   "execution_count": 38,
   "metadata": {},
   "outputs": [
    {
     "data": {
      "application/javascript": [
       "/* Put everything inside the global mpl namespace */\n",
       "window.mpl = {};\n",
       "\n",
       "\n",
       "mpl.get_websocket_type = function() {\n",
       "    if (typeof(WebSocket) !== 'undefined') {\n",
       "        return WebSocket;\n",
       "    } else if (typeof(MozWebSocket) !== 'undefined') {\n",
       "        return MozWebSocket;\n",
       "    } else {\n",
       "        alert('Your browser does not have WebSocket support.' +\n",
       "              'Please try Chrome, Safari or Firefox ≥ 6. ' +\n",
       "              'Firefox 4 and 5 are also supported but you ' +\n",
       "              'have to enable WebSockets in about:config.');\n",
       "    };\n",
       "}\n",
       "\n",
       "mpl.figure = function(figure_id, websocket, ondownload, parent_element) {\n",
       "    this.id = figure_id;\n",
       "\n",
       "    this.ws = websocket;\n",
       "\n",
       "    this.supports_binary = (this.ws.binaryType != undefined);\n",
       "\n",
       "    if (!this.supports_binary) {\n",
       "        var warnings = document.getElementById(\"mpl-warnings\");\n",
       "        if (warnings) {\n",
       "            warnings.style.display = 'block';\n",
       "            warnings.textContent = (\n",
       "                \"This browser does not support binary websocket messages. \" +\n",
       "                    \"Performance may be slow.\");\n",
       "        }\n",
       "    }\n",
       "\n",
       "    this.imageObj = new Image();\n",
       "\n",
       "    this.context = undefined;\n",
       "    this.message = undefined;\n",
       "    this.canvas = undefined;\n",
       "    this.rubberband_canvas = undefined;\n",
       "    this.rubberband_context = undefined;\n",
       "    this.format_dropdown = undefined;\n",
       "\n",
       "    this.image_mode = 'full';\n",
       "\n",
       "    this.root = $('<div/>');\n",
       "    this._root_extra_style(this.root)\n",
       "    this.root.attr('style', 'display: inline-block');\n",
       "\n",
       "    $(parent_element).append(this.root);\n",
       "\n",
       "    this._init_header(this);\n",
       "    this._init_canvas(this);\n",
       "    this._init_toolbar(this);\n",
       "\n",
       "    var fig = this;\n",
       "\n",
       "    this.waiting = false;\n",
       "\n",
       "    this.ws.onopen =  function () {\n",
       "            fig.send_message(\"supports_binary\", {value: fig.supports_binary});\n",
       "            fig.send_message(\"send_image_mode\", {});\n",
       "            if (mpl.ratio != 1) {\n",
       "                fig.send_message(\"set_dpi_ratio\", {'dpi_ratio': mpl.ratio});\n",
       "            }\n",
       "            fig.send_message(\"refresh\", {});\n",
       "        }\n",
       "\n",
       "    this.imageObj.onload = function() {\n",
       "            if (fig.image_mode == 'full') {\n",
       "                // Full images could contain transparency (where diff images\n",
       "                // almost always do), so we need to clear the canvas so that\n",
       "                // there is no ghosting.\n",
       "                fig.context.clearRect(0, 0, fig.canvas.width, fig.canvas.height);\n",
       "            }\n",
       "            fig.context.drawImage(fig.imageObj, 0, 0);\n",
       "        };\n",
       "\n",
       "    this.imageObj.onunload = function() {\n",
       "        this.ws.close();\n",
       "    }\n",
       "\n",
       "    this.ws.onmessage = this._make_on_message_function(this);\n",
       "\n",
       "    this.ondownload = ondownload;\n",
       "}\n",
       "\n",
       "mpl.figure.prototype._init_header = function() {\n",
       "    var titlebar = $(\n",
       "        '<div class=\"ui-dialog-titlebar ui-widget-header ui-corner-all ' +\n",
       "        'ui-helper-clearfix\"/>');\n",
       "    var titletext = $(\n",
       "        '<div class=\"ui-dialog-title\" style=\"width: 100%; ' +\n",
       "        'text-align: center; padding: 3px;\"/>');\n",
       "    titlebar.append(titletext)\n",
       "    this.root.append(titlebar);\n",
       "    this.header = titletext[0];\n",
       "}\n",
       "\n",
       "\n",
       "\n",
       "mpl.figure.prototype._canvas_extra_style = function(canvas_div) {\n",
       "\n",
       "}\n",
       "\n",
       "\n",
       "mpl.figure.prototype._root_extra_style = function(canvas_div) {\n",
       "\n",
       "}\n",
       "\n",
       "mpl.figure.prototype._init_canvas = function() {\n",
       "    var fig = this;\n",
       "\n",
       "    var canvas_div = $('<div/>');\n",
       "\n",
       "    canvas_div.attr('style', 'position: relative; clear: both; outline: 0');\n",
       "\n",
       "    function canvas_keyboard_event(event) {\n",
       "        return fig.key_event(event, event['data']);\n",
       "    }\n",
       "\n",
       "    canvas_div.keydown('key_press', canvas_keyboard_event);\n",
       "    canvas_div.keyup('key_release', canvas_keyboard_event);\n",
       "    this.canvas_div = canvas_div\n",
       "    this._canvas_extra_style(canvas_div)\n",
       "    this.root.append(canvas_div);\n",
       "\n",
       "    var canvas = $('<canvas/>');\n",
       "    canvas.addClass('mpl-canvas');\n",
       "    canvas.attr('style', \"left: 0; top: 0; z-index: 0; outline: 0\")\n",
       "\n",
       "    this.canvas = canvas[0];\n",
       "    this.context = canvas[0].getContext(\"2d\");\n",
       "\n",
       "    var backingStore = this.context.backingStorePixelRatio ||\n",
       "\tthis.context.webkitBackingStorePixelRatio ||\n",
       "\tthis.context.mozBackingStorePixelRatio ||\n",
       "\tthis.context.msBackingStorePixelRatio ||\n",
       "\tthis.context.oBackingStorePixelRatio ||\n",
       "\tthis.context.backingStorePixelRatio || 1;\n",
       "\n",
       "    mpl.ratio = (window.devicePixelRatio || 1) / backingStore;\n",
       "\n",
       "    var rubberband = $('<canvas/>');\n",
       "    rubberband.attr('style', \"position: absolute; left: 0; top: 0; z-index: 1;\")\n",
       "\n",
       "    var pass_mouse_events = true;\n",
       "\n",
       "    canvas_div.resizable({\n",
       "        start: function(event, ui) {\n",
       "            pass_mouse_events = false;\n",
       "        },\n",
       "        resize: function(event, ui) {\n",
       "            fig.request_resize(ui.size.width, ui.size.height);\n",
       "        },\n",
       "        stop: function(event, ui) {\n",
       "            pass_mouse_events = true;\n",
       "            fig.request_resize(ui.size.width, ui.size.height);\n",
       "        },\n",
       "    });\n",
       "\n",
       "    function mouse_event_fn(event) {\n",
       "        if (pass_mouse_events)\n",
       "            return fig.mouse_event(event, event['data']);\n",
       "    }\n",
       "\n",
       "    rubberband.mousedown('button_press', mouse_event_fn);\n",
       "    rubberband.mouseup('button_release', mouse_event_fn);\n",
       "    // Throttle sequential mouse events to 1 every 20ms.\n",
       "    rubberband.mousemove('motion_notify', mouse_event_fn);\n",
       "\n",
       "    rubberband.mouseenter('figure_enter', mouse_event_fn);\n",
       "    rubberband.mouseleave('figure_leave', mouse_event_fn);\n",
       "\n",
       "    canvas_div.on(\"wheel\", function (event) {\n",
       "        event = event.originalEvent;\n",
       "        event['data'] = 'scroll'\n",
       "        if (event.deltaY < 0) {\n",
       "            event.step = 1;\n",
       "        } else {\n",
       "            event.step = -1;\n",
       "        }\n",
       "        mouse_event_fn(event);\n",
       "    });\n",
       "\n",
       "    canvas_div.append(canvas);\n",
       "    canvas_div.append(rubberband);\n",
       "\n",
       "    this.rubberband = rubberband;\n",
       "    this.rubberband_canvas = rubberband[0];\n",
       "    this.rubberband_context = rubberband[0].getContext(\"2d\");\n",
       "    this.rubberband_context.strokeStyle = \"#000000\";\n",
       "\n",
       "    this._resize_canvas = function(width, height) {\n",
       "        // Keep the size of the canvas, canvas container, and rubber band\n",
       "        // canvas in synch.\n",
       "        canvas_div.css('width', width)\n",
       "        canvas_div.css('height', height)\n",
       "\n",
       "        canvas.attr('width', width * mpl.ratio);\n",
       "        canvas.attr('height', height * mpl.ratio);\n",
       "        canvas.attr('style', 'width: ' + width + 'px; height: ' + height + 'px;');\n",
       "\n",
       "        rubberband.attr('width', width);\n",
       "        rubberband.attr('height', height);\n",
       "    }\n",
       "\n",
       "    // Set the figure to an initial 600x600px, this will subsequently be updated\n",
       "    // upon first draw.\n",
       "    this._resize_canvas(600, 600);\n",
       "\n",
       "    // Disable right mouse context menu.\n",
       "    $(this.rubberband_canvas).bind(\"contextmenu\",function(e){\n",
       "        return false;\n",
       "    });\n",
       "\n",
       "    function set_focus () {\n",
       "        canvas.focus();\n",
       "        canvas_div.focus();\n",
       "    }\n",
       "\n",
       "    window.setTimeout(set_focus, 100);\n",
       "}\n",
       "\n",
       "mpl.figure.prototype._init_toolbar = function() {\n",
       "    var fig = this;\n",
       "\n",
       "    var nav_element = $('<div/>')\n",
       "    nav_element.attr('style', 'width: 100%');\n",
       "    this.root.append(nav_element);\n",
       "\n",
       "    // Define a callback function for later on.\n",
       "    function toolbar_event(event) {\n",
       "        return fig.toolbar_button_onclick(event['data']);\n",
       "    }\n",
       "    function toolbar_mouse_event(event) {\n",
       "        return fig.toolbar_button_onmouseover(event['data']);\n",
       "    }\n",
       "\n",
       "    for(var toolbar_ind in mpl.toolbar_items) {\n",
       "        var name = mpl.toolbar_items[toolbar_ind][0];\n",
       "        var tooltip = mpl.toolbar_items[toolbar_ind][1];\n",
       "        var image = mpl.toolbar_items[toolbar_ind][2];\n",
       "        var method_name = mpl.toolbar_items[toolbar_ind][3];\n",
       "\n",
       "        if (!name) {\n",
       "            // put a spacer in here.\n",
       "            continue;\n",
       "        }\n",
       "        var button = $('<button/>');\n",
       "        button.addClass('ui-button ui-widget ui-state-default ui-corner-all ' +\n",
       "                        'ui-button-icon-only');\n",
       "        button.attr('role', 'button');\n",
       "        button.attr('aria-disabled', 'false');\n",
       "        button.click(method_name, toolbar_event);\n",
       "        button.mouseover(tooltip, toolbar_mouse_event);\n",
       "\n",
       "        var icon_img = $('<span/>');\n",
       "        icon_img.addClass('ui-button-icon-primary ui-icon');\n",
       "        icon_img.addClass(image);\n",
       "        icon_img.addClass('ui-corner-all');\n",
       "\n",
       "        var tooltip_span = $('<span/>');\n",
       "        tooltip_span.addClass('ui-button-text');\n",
       "        tooltip_span.html(tooltip);\n",
       "\n",
       "        button.append(icon_img);\n",
       "        button.append(tooltip_span);\n",
       "\n",
       "        nav_element.append(button);\n",
       "    }\n",
       "\n",
       "    var fmt_picker_span = $('<span/>');\n",
       "\n",
       "    var fmt_picker = $('<select/>');\n",
       "    fmt_picker.addClass('mpl-toolbar-option ui-widget ui-widget-content');\n",
       "    fmt_picker_span.append(fmt_picker);\n",
       "    nav_element.append(fmt_picker_span);\n",
       "    this.format_dropdown = fmt_picker[0];\n",
       "\n",
       "    for (var ind in mpl.extensions) {\n",
       "        var fmt = mpl.extensions[ind];\n",
       "        var option = $(\n",
       "            '<option/>', {selected: fmt === mpl.default_extension}).html(fmt);\n",
       "        fmt_picker.append(option)\n",
       "    }\n",
       "\n",
       "    // Add hover states to the ui-buttons\n",
       "    $( \".ui-button\" ).hover(\n",
       "        function() { $(this).addClass(\"ui-state-hover\");},\n",
       "        function() { $(this).removeClass(\"ui-state-hover\");}\n",
       "    );\n",
       "\n",
       "    var status_bar = $('<span class=\"mpl-message\"/>');\n",
       "    nav_element.append(status_bar);\n",
       "    this.message = status_bar[0];\n",
       "}\n",
       "\n",
       "mpl.figure.prototype.request_resize = function(x_pixels, y_pixels) {\n",
       "    // Request matplotlib to resize the figure. Matplotlib will then trigger a resize in the client,\n",
       "    // which will in turn request a refresh of the image.\n",
       "    this.send_message('resize', {'width': x_pixels, 'height': y_pixels});\n",
       "}\n",
       "\n",
       "mpl.figure.prototype.send_message = function(type, properties) {\n",
       "    properties['type'] = type;\n",
       "    properties['figure_id'] = this.id;\n",
       "    this.ws.send(JSON.stringify(properties));\n",
       "}\n",
       "\n",
       "mpl.figure.prototype.send_draw_message = function() {\n",
       "    if (!this.waiting) {\n",
       "        this.waiting = true;\n",
       "        this.ws.send(JSON.stringify({type: \"draw\", figure_id: this.id}));\n",
       "    }\n",
       "}\n",
       "\n",
       "\n",
       "mpl.figure.prototype.handle_save = function(fig, msg) {\n",
       "    var format_dropdown = fig.format_dropdown;\n",
       "    var format = format_dropdown.options[format_dropdown.selectedIndex].value;\n",
       "    fig.ondownload(fig, format);\n",
       "}\n",
       "\n",
       "\n",
       "mpl.figure.prototype.handle_resize = function(fig, msg) {\n",
       "    var size = msg['size'];\n",
       "    if (size[0] != fig.canvas.width || size[1] != fig.canvas.height) {\n",
       "        fig._resize_canvas(size[0], size[1]);\n",
       "        fig.send_message(\"refresh\", {});\n",
       "    };\n",
       "}\n",
       "\n",
       "mpl.figure.prototype.handle_rubberband = function(fig, msg) {\n",
       "    var x0 = msg['x0'] / mpl.ratio;\n",
       "    var y0 = (fig.canvas.height - msg['y0']) / mpl.ratio;\n",
       "    var x1 = msg['x1'] / mpl.ratio;\n",
       "    var y1 = (fig.canvas.height - msg['y1']) / mpl.ratio;\n",
       "    x0 = Math.floor(x0) + 0.5;\n",
       "    y0 = Math.floor(y0) + 0.5;\n",
       "    x1 = Math.floor(x1) + 0.5;\n",
       "    y1 = Math.floor(y1) + 0.5;\n",
       "    var min_x = Math.min(x0, x1);\n",
       "    var min_y = Math.min(y0, y1);\n",
       "    var width = Math.abs(x1 - x0);\n",
       "    var height = Math.abs(y1 - y0);\n",
       "\n",
       "    fig.rubberband_context.clearRect(\n",
       "        0, 0, fig.canvas.width, fig.canvas.height);\n",
       "\n",
       "    fig.rubberband_context.strokeRect(min_x, min_y, width, height);\n",
       "}\n",
       "\n",
       "mpl.figure.prototype.handle_figure_label = function(fig, msg) {\n",
       "    // Updates the figure title.\n",
       "    fig.header.textContent = msg['label'];\n",
       "}\n",
       "\n",
       "mpl.figure.prototype.handle_cursor = function(fig, msg) {\n",
       "    var cursor = msg['cursor'];\n",
       "    switch(cursor)\n",
       "    {\n",
       "    case 0:\n",
       "        cursor = 'pointer';\n",
       "        break;\n",
       "    case 1:\n",
       "        cursor = 'default';\n",
       "        break;\n",
       "    case 2:\n",
       "        cursor = 'crosshair';\n",
       "        break;\n",
       "    case 3:\n",
       "        cursor = 'move';\n",
       "        break;\n",
       "    }\n",
       "    fig.rubberband_canvas.style.cursor = cursor;\n",
       "}\n",
       "\n",
       "mpl.figure.prototype.handle_message = function(fig, msg) {\n",
       "    fig.message.textContent = msg['message'];\n",
       "}\n",
       "\n",
       "mpl.figure.prototype.handle_draw = function(fig, msg) {\n",
       "    // Request the server to send over a new figure.\n",
       "    fig.send_draw_message();\n",
       "}\n",
       "\n",
       "mpl.figure.prototype.handle_image_mode = function(fig, msg) {\n",
       "    fig.image_mode = msg['mode'];\n",
       "}\n",
       "\n",
       "mpl.figure.prototype.updated_canvas_event = function() {\n",
       "    // Called whenever the canvas gets updated.\n",
       "    this.send_message(\"ack\", {});\n",
       "}\n",
       "\n",
       "// A function to construct a web socket function for onmessage handling.\n",
       "// Called in the figure constructor.\n",
       "mpl.figure.prototype._make_on_message_function = function(fig) {\n",
       "    return function socket_on_message(evt) {\n",
       "        if (evt.data instanceof Blob) {\n",
       "            /* FIXME: We get \"Resource interpreted as Image but\n",
       "             * transferred with MIME type text/plain:\" errors on\n",
       "             * Chrome.  But how to set the MIME type?  It doesn't seem\n",
       "             * to be part of the websocket stream */\n",
       "            evt.data.type = \"image/png\";\n",
       "\n",
       "            /* Free the memory for the previous frames */\n",
       "            if (fig.imageObj.src) {\n",
       "                (window.URL || window.webkitURL).revokeObjectURL(\n",
       "                    fig.imageObj.src);\n",
       "            }\n",
       "\n",
       "            fig.imageObj.src = (window.URL || window.webkitURL).createObjectURL(\n",
       "                evt.data);\n",
       "            fig.updated_canvas_event();\n",
       "            fig.waiting = false;\n",
       "            return;\n",
       "        }\n",
       "        else if (typeof evt.data === 'string' && evt.data.slice(0, 21) == \"data:image/png;base64\") {\n",
       "            fig.imageObj.src = evt.data;\n",
       "            fig.updated_canvas_event();\n",
       "            fig.waiting = false;\n",
       "            return;\n",
       "        }\n",
       "\n",
       "        var msg = JSON.parse(evt.data);\n",
       "        var msg_type = msg['type'];\n",
       "\n",
       "        // Call the  \"handle_{type}\" callback, which takes\n",
       "        // the figure and JSON message as its only arguments.\n",
       "        try {\n",
       "            var callback = fig[\"handle_\" + msg_type];\n",
       "        } catch (e) {\n",
       "            console.log(\"No handler for the '\" + msg_type + \"' message type: \", msg);\n",
       "            return;\n",
       "        }\n",
       "\n",
       "        if (callback) {\n",
       "            try {\n",
       "                // console.log(\"Handling '\" + msg_type + \"' message: \", msg);\n",
       "                callback(fig, msg);\n",
       "            } catch (e) {\n",
       "                console.log(\"Exception inside the 'handler_\" + msg_type + \"' callback:\", e, e.stack, msg);\n",
       "            }\n",
       "        }\n",
       "    };\n",
       "}\n",
       "\n",
       "// from http://stackoverflow.com/questions/1114465/getting-mouse-location-in-canvas\n",
       "mpl.findpos = function(e) {\n",
       "    //this section is from http://www.quirksmode.org/js/events_properties.html\n",
       "    var targ;\n",
       "    if (!e)\n",
       "        e = window.event;\n",
       "    if (e.target)\n",
       "        targ = e.target;\n",
       "    else if (e.srcElement)\n",
       "        targ = e.srcElement;\n",
       "    if (targ.nodeType == 3) // defeat Safari bug\n",
       "        targ = targ.parentNode;\n",
       "\n",
       "    // jQuery normalizes the pageX and pageY\n",
       "    // pageX,Y are the mouse positions relative to the document\n",
       "    // offset() returns the position of the element relative to the document\n",
       "    var x = e.pageX - $(targ).offset().left;\n",
       "    var y = e.pageY - $(targ).offset().top;\n",
       "\n",
       "    return {\"x\": x, \"y\": y};\n",
       "};\n",
       "\n",
       "/*\n",
       " * return a copy of an object with only non-object keys\n",
       " * we need this to avoid circular references\n",
       " * http://stackoverflow.com/a/24161582/3208463\n",
       " */\n",
       "function simpleKeys (original) {\n",
       "  return Object.keys(original).reduce(function (obj, key) {\n",
       "    if (typeof original[key] !== 'object')\n",
       "        obj[key] = original[key]\n",
       "    return obj;\n",
       "  }, {});\n",
       "}\n",
       "\n",
       "mpl.figure.prototype.mouse_event = function(event, name) {\n",
       "    var canvas_pos = mpl.findpos(event)\n",
       "\n",
       "    if (name === 'button_press')\n",
       "    {\n",
       "        this.canvas.focus();\n",
       "        this.canvas_div.focus();\n",
       "    }\n",
       "\n",
       "    var x = canvas_pos.x * mpl.ratio;\n",
       "    var y = canvas_pos.y * mpl.ratio;\n",
       "\n",
       "    this.send_message(name, {x: x, y: y, button: event.button,\n",
       "                             step: event.step,\n",
       "                             guiEvent: simpleKeys(event)});\n",
       "\n",
       "    /* This prevents the web browser from automatically changing to\n",
       "     * the text insertion cursor when the button is pressed.  We want\n",
       "     * to control all of the cursor setting manually through the\n",
       "     * 'cursor' event from matplotlib */\n",
       "    event.preventDefault();\n",
       "    return false;\n",
       "}\n",
       "\n",
       "mpl.figure.prototype._key_event_extra = function(event, name) {\n",
       "    // Handle any extra behaviour associated with a key event\n",
       "}\n",
       "\n",
       "mpl.figure.prototype.key_event = function(event, name) {\n",
       "\n",
       "    // Prevent repeat events\n",
       "    if (name == 'key_press')\n",
       "    {\n",
       "        if (event.which === this._key)\n",
       "            return;\n",
       "        else\n",
       "            this._key = event.which;\n",
       "    }\n",
       "    if (name == 'key_release')\n",
       "        this._key = null;\n",
       "\n",
       "    var value = '';\n",
       "    if (event.ctrlKey && event.which != 17)\n",
       "        value += \"ctrl+\";\n",
       "    if (event.altKey && event.which != 18)\n",
       "        value += \"alt+\";\n",
       "    if (event.shiftKey && event.which != 16)\n",
       "        value += \"shift+\";\n",
       "\n",
       "    value += 'k';\n",
       "    value += event.which.toString();\n",
       "\n",
       "    this._key_event_extra(event, name);\n",
       "\n",
       "    this.send_message(name, {key: value,\n",
       "                             guiEvent: simpleKeys(event)});\n",
       "    return false;\n",
       "}\n",
       "\n",
       "mpl.figure.prototype.toolbar_button_onclick = function(name) {\n",
       "    if (name == 'download') {\n",
       "        this.handle_save(this, null);\n",
       "    } else {\n",
       "        this.send_message(\"toolbar_button\", {name: name});\n",
       "    }\n",
       "};\n",
       "\n",
       "mpl.figure.prototype.toolbar_button_onmouseover = function(tooltip) {\n",
       "    this.message.textContent = tooltip;\n",
       "};\n",
       "mpl.toolbar_items = [[\"Home\", \"Reset original view\", \"fa fa-home icon-home\", \"home\"], [\"Back\", \"Back to  previous view\", \"fa fa-arrow-left icon-arrow-left\", \"back\"], [\"Forward\", \"Forward to next view\", \"fa fa-arrow-right icon-arrow-right\", \"forward\"], [\"\", \"\", \"\", \"\"], [\"Pan\", \"Pan axes with left mouse, zoom with right\", \"fa fa-arrows icon-move\", \"pan\"], [\"Zoom\", \"Zoom to rectangle\", \"fa fa-square-o icon-check-empty\", \"zoom\"], [\"\", \"\", \"\", \"\"], [\"Download\", \"Download plot\", \"fa fa-floppy-o icon-save\", \"download\"]];\n",
       "\n",
       "mpl.extensions = [\"eps\", \"jpeg\", \"pdf\", \"png\", \"ps\", \"raw\", \"svg\", \"tif\"];\n",
       "\n",
       "mpl.default_extension = \"png\";var comm_websocket_adapter = function(comm) {\n",
       "    // Create a \"websocket\"-like object which calls the given IPython comm\n",
       "    // object with the appropriate methods. Currently this is a non binary\n",
       "    // socket, so there is still some room for performance tuning.\n",
       "    var ws = {};\n",
       "\n",
       "    ws.close = function() {\n",
       "        comm.close()\n",
       "    };\n",
       "    ws.send = function(m) {\n",
       "        //console.log('sending', m);\n",
       "        comm.send(m);\n",
       "    };\n",
       "    // Register the callback with on_msg.\n",
       "    comm.on_msg(function(msg) {\n",
       "        //console.log('receiving', msg['content']['data'], msg);\n",
       "        // Pass the mpl event to the overriden (by mpl) onmessage function.\n",
       "        ws.onmessage(msg['content']['data'])\n",
       "    });\n",
       "    return ws;\n",
       "}\n",
       "\n",
       "mpl.mpl_figure_comm = function(comm, msg) {\n",
       "    // This is the function which gets called when the mpl process\n",
       "    // starts-up an IPython Comm through the \"matplotlib\" channel.\n",
       "\n",
       "    var id = msg.content.data.id;\n",
       "    // Get hold of the div created by the display call when the Comm\n",
       "    // socket was opened in Python.\n",
       "    var element = $(\"#\" + id);\n",
       "    var ws_proxy = comm_websocket_adapter(comm)\n",
       "\n",
       "    function ondownload(figure, format) {\n",
       "        window.open(figure.imageObj.src);\n",
       "    }\n",
       "\n",
       "    var fig = new mpl.figure(id, ws_proxy,\n",
       "                           ondownload,\n",
       "                           element.get(0));\n",
       "\n",
       "    // Call onopen now - mpl needs it, as it is assuming we've passed it a real\n",
       "    // web socket which is closed, not our websocket->open comm proxy.\n",
       "    ws_proxy.onopen();\n",
       "\n",
       "    fig.parent_element = element.get(0);\n",
       "    fig.cell_info = mpl.find_output_cell(\"<div id='\" + id + \"'></div>\");\n",
       "    if (!fig.cell_info) {\n",
       "        console.error(\"Failed to find cell for figure\", id, fig);\n",
       "        return;\n",
       "    }\n",
       "\n",
       "    var output_index = fig.cell_info[2]\n",
       "    var cell = fig.cell_info[0];\n",
       "\n",
       "};\n",
       "\n",
       "mpl.figure.prototype.handle_close = function(fig, msg) {\n",
       "    var width = fig.canvas.width/mpl.ratio\n",
       "    fig.root.unbind('remove')\n",
       "\n",
       "    // Update the output cell to use the data from the current canvas.\n",
       "    fig.push_to_output();\n",
       "    var dataURL = fig.canvas.toDataURL();\n",
       "    // Re-enable the keyboard manager in IPython - without this line, in FF,\n",
       "    // the notebook keyboard shortcuts fail.\n",
       "    IPython.keyboard_manager.enable()\n",
       "    $(fig.parent_element).html('<img src=\"' + dataURL + '\" width=\"' + width + '\">');\n",
       "    fig.close_ws(fig, msg);\n",
       "}\n",
       "\n",
       "mpl.figure.prototype.close_ws = function(fig, msg){\n",
       "    fig.send_message('closing', msg);\n",
       "    // fig.ws.close()\n",
       "}\n",
       "\n",
       "mpl.figure.prototype.push_to_output = function(remove_interactive) {\n",
       "    // Turn the data on the canvas into data in the output cell.\n",
       "    var width = this.canvas.width/mpl.ratio\n",
       "    var dataURL = this.canvas.toDataURL();\n",
       "    this.cell_info[1]['text/html'] = '<img src=\"' + dataURL + '\" width=\"' + width + '\">';\n",
       "}\n",
       "\n",
       "mpl.figure.prototype.updated_canvas_event = function() {\n",
       "    // Tell IPython that the notebook contents must change.\n",
       "    IPython.notebook.set_dirty(true);\n",
       "    this.send_message(\"ack\", {});\n",
       "    var fig = this;\n",
       "    // Wait a second, then push the new image to the DOM so\n",
       "    // that it is saved nicely (might be nice to debounce this).\n",
       "    setTimeout(function () { fig.push_to_output() }, 1000);\n",
       "}\n",
       "\n",
       "mpl.figure.prototype._init_toolbar = function() {\n",
       "    var fig = this;\n",
       "\n",
       "    var nav_element = $('<div/>')\n",
       "    nav_element.attr('style', 'width: 100%');\n",
       "    this.root.append(nav_element);\n",
       "\n",
       "    // Define a callback function for later on.\n",
       "    function toolbar_event(event) {\n",
       "        return fig.toolbar_button_onclick(event['data']);\n",
       "    }\n",
       "    function toolbar_mouse_event(event) {\n",
       "        return fig.toolbar_button_onmouseover(event['data']);\n",
       "    }\n",
       "\n",
       "    for(var toolbar_ind in mpl.toolbar_items){\n",
       "        var name = mpl.toolbar_items[toolbar_ind][0];\n",
       "        var tooltip = mpl.toolbar_items[toolbar_ind][1];\n",
       "        var image = mpl.toolbar_items[toolbar_ind][2];\n",
       "        var method_name = mpl.toolbar_items[toolbar_ind][3];\n",
       "\n",
       "        if (!name) { continue; };\n",
       "\n",
       "        var button = $('<button class=\"btn btn-default\" href=\"#\" title=\"' + name + '\"><i class=\"fa ' + image + ' fa-lg\"></i></button>');\n",
       "        button.click(method_name, toolbar_event);\n",
       "        button.mouseover(tooltip, toolbar_mouse_event);\n",
       "        nav_element.append(button);\n",
       "    }\n",
       "\n",
       "    // Add the status bar.\n",
       "    var status_bar = $('<span class=\"mpl-message\" style=\"text-align:right; float: right;\"/>');\n",
       "    nav_element.append(status_bar);\n",
       "    this.message = status_bar[0];\n",
       "\n",
       "    // Add the close button to the window.\n",
       "    var buttongrp = $('<div class=\"btn-group inline pull-right\"></div>');\n",
       "    var button = $('<button class=\"btn btn-mini btn-primary\" href=\"#\" title=\"Stop Interaction\"><i class=\"fa fa-power-off icon-remove icon-large\"></i></button>');\n",
       "    button.click(function (evt) { fig.handle_close(fig, {}); } );\n",
       "    button.mouseover('Stop Interaction', toolbar_mouse_event);\n",
       "    buttongrp.append(button);\n",
       "    var titlebar = this.root.find($('.ui-dialog-titlebar'));\n",
       "    titlebar.prepend(buttongrp);\n",
       "}\n",
       "\n",
       "mpl.figure.prototype._root_extra_style = function(el){\n",
       "    var fig = this\n",
       "    el.on(\"remove\", function(){\n",
       "\tfig.close_ws(fig, {});\n",
       "    });\n",
       "}\n",
       "\n",
       "mpl.figure.prototype._canvas_extra_style = function(el){\n",
       "    // this is important to make the div 'focusable\n",
       "    el.attr('tabindex', 0)\n",
       "    // reach out to IPython and tell the keyboard manager to turn it's self\n",
       "    // off when our div gets focus\n",
       "\n",
       "    // location in version 3\n",
       "    if (IPython.notebook.keyboard_manager) {\n",
       "        IPython.notebook.keyboard_manager.register_events(el);\n",
       "    }\n",
       "    else {\n",
       "        // location in version 2\n",
       "        IPython.keyboard_manager.register_events(el);\n",
       "    }\n",
       "\n",
       "}\n",
       "\n",
       "mpl.figure.prototype._key_event_extra = function(event, name) {\n",
       "    var manager = IPython.notebook.keyboard_manager;\n",
       "    if (!manager)\n",
       "        manager = IPython.keyboard_manager;\n",
       "\n",
       "    // Check for shift+enter\n",
       "    if (event.shiftKey && event.which == 13) {\n",
       "        this.canvas_div.blur();\n",
       "        // select the cell after this one\n",
       "        var index = IPython.notebook.find_cell_index(this.cell_info[0]);\n",
       "        IPython.notebook.select(index + 1);\n",
       "    }\n",
       "}\n",
       "\n",
       "mpl.figure.prototype.handle_save = function(fig, msg) {\n",
       "    fig.ondownload(fig, null);\n",
       "}\n",
       "\n",
       "\n",
       "mpl.find_output_cell = function(html_output) {\n",
       "    // Return the cell and output element which can be found *uniquely* in the notebook.\n",
       "    // Note - this is a bit hacky, but it is done because the \"notebook_saving.Notebook\"\n",
       "    // IPython event is triggered only after the cells have been serialised, which for\n",
       "    // our purposes (turning an active figure into a static one), is too late.\n",
       "    var cells = IPython.notebook.get_cells();\n",
       "    var ncells = cells.length;\n",
       "    for (var i=0; i<ncells; i++) {\n",
       "        var cell = cells[i];\n",
       "        if (cell.cell_type === 'code'){\n",
       "            for (var j=0; j<cell.output_area.outputs.length; j++) {\n",
       "                var data = cell.output_area.outputs[j];\n",
       "                if (data.data) {\n",
       "                    // IPython >= 3 moved mimebundle to data attribute of output\n",
       "                    data = data.data;\n",
       "                }\n",
       "                if (data['text/html'] == html_output) {\n",
       "                    return [cell, data, j];\n",
       "                }\n",
       "            }\n",
       "        }\n",
       "    }\n",
       "}\n",
       "\n",
       "// Register the function which deals with the matplotlib target/channel.\n",
       "// The kernel may be null if the page has been refreshed.\n",
       "if (IPython.notebook.kernel != null) {\n",
       "    IPython.notebook.kernel.comm_manager.register_target('matplotlib', mpl.mpl_figure_comm);\n",
       "}\n"
      ],
      "text/plain": [
       "<IPython.core.display.Javascript object>"
      ]
     },
     "metadata": {},
     "output_type": "display_data"
    },
    {
     "data": {
      "text/html": [
       "<img src=\"data:image/png;base64,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\" width=\"640\">"
      ],
      "text/plain": [
       "<IPython.core.display.HTML object>"
      ]
     },
     "metadata": {},
     "output_type": "display_data"
    },
    {
     "data": {
      "application/vnd.jupyter.widget-view+json": {
       "model_id": "d0291b66f2c641f785c19780c2a54a8b"
      }
     },
     "metadata": {},
     "output_type": "display_data"
    }
   ],
   "source": [
    "m.plot()\n",
    "\n",
    "m.gui()"
   ]
  },
  {
   "cell_type": "markdown",
   "metadata": {},
   "source": [
    "And then fit it and look at the results!"
   ]
  },
  {
   "cell_type": "code",
   "execution_count": 39,
   "metadata": {
    "collapsed": true,
    "jupyter": {
     "outputs_hidden": true
    }
   },
   "outputs": [],
   "source": [
    "m.fit()"
   ]
  },
  {
   "cell_type": "code",
   "execution_count": 40,
   "metadata": {},
   "outputs": [
    {
     "name": "stdout",
     "output_type": "stream",
     "text": [
      "Components\tParameter\tValue\n",
      "sin\n",
      "\t\tA\t-3\n",
      "\t\tb\t0.100033\n",
      "\t\tc\t-0.707963\n",
      "Gaussian\n",
      "\t\tA\t2999\n",
      "\t\tcentre\t149.95\n",
      "\t\tsigma\t49.9833\n",
      "Polynomial\n",
      "\t\tcoefficients[0]\t-2.19049e-11\n",
      "\t\tcoefficients[1]\t0.06002\n",
      "\t\tcoefficients[2]\t3\n"
     ]
    }
   ],
   "source": [
    "m.print_current_values()"
   ]
  },
  {
   "cell_type": "code",
   "execution_count": null,
   "metadata": {
    "collapsed": true,
    "jupyter": {
     "outputs_hidden": true
    }
   },
   "outputs": [],
   "source": []
  },
  {
   "cell_type": "markdown",
   "metadata": {},
   "source": [
    "## Appendix II: Generating the synthetic data"
   ]
  },
  {
   "cell_type": "markdown",
   "metadata": {},
   "source": [
    "<a id='two_peaks'></a>\n",
    "### Two peaks\n",
    "<a href='#top'>[back to top]</a> \n"
   ]
  },
  {
   "cell_type": "code",
   "execution_count": 2,
   "metadata": {},
   "outputs": [
    {
     "data": {
      "application/vnd.jupyter.widget-view+json": {
       "model_id": "94ecb38fb1e04b49989601171e5ad08b",
       "version_major": 2,
       "version_minor": 0
      },
      "text/plain": [
       "HBox(children=(IntProgress(value=0, max=256), HTML(value='')))"
      ]
     },
     "metadata": {},
     "output_type": "display_data"
    },
    {
     "data": {
      "application/vnd.jupyter.widget-view+json": {
       "model_id": "2109cc4eeff240d680e8f5482e6a009f",
       "version_major": 2,
       "version_minor": 0
      },
      "text/plain": [
       "HBox(children=(IntProgress(value=0, max=256), HTML(value='')))"
      ]
     },
     "metadata": {},
     "output_type": "display_data"
    },
    {
     "data": {
      "application/vnd.jupyter.widget-view+json": {
       "model_id": "98b43a2fe1e848e18bd829b49d1fbdc7",
       "version_major": 2,
       "version_minor": 0
      },
      "text/plain": [
       "HBox(children=(IntProgress(value=0, max=256), HTML(value='')))"
      ]
     },
     "metadata": {},
     "output_type": "display_data"
    },
    {
     "data": {
      "application/vnd.jupyter.widget-view+json": {
       "model_id": "00f5bd1fad54484dad88e420850905f1",
       "version_major": 2,
       "version_minor": 0
      },
      "text/plain": [
       "HBox(children=(IntProgress(value=0, max=256), HTML(value='')))"
      ]
     },
     "metadata": {},
     "output_type": "display_data"
    },
    {
     "ename": "TypeError",
     "evalue": "add_poissonian_noise() got an unexpected keyword argument 'random_state'",
     "output_type": "error",
     "traceback": [
      "\u001b[1;31m---------------------------------------------------------------------------\u001b[0m",
      "\u001b[1;31mTypeError\u001b[0m                                 Traceback (most recent call last)",
      "\u001b[1;32m<ipython-input-2-51c70d54e0d5>\u001b[0m in \u001b[0;36m<module>\u001b[1;34m\u001b[0m\n\u001b[0;32m     47\u001b[0m \u001b[0mgs02\u001b[0m\u001b[1;33m.\u001b[0m\u001b[0mheight\u001b[0m\u001b[1;33m.\u001b[0m\u001b[0mmap\u001b[0m\u001b[1;33m[\u001b[0m\u001b[1;34m'is_set'\u001b[0m\u001b[1;33m]\u001b[0m\u001b[1;33m[\u001b[0m\u001b[1;33m:\u001b[0m\u001b[1;33m]\u001b[0m \u001b[1;33m=\u001b[0m \u001b[1;32mTrue\u001b[0m\u001b[1;33m\u001b[0m\u001b[0m\n\u001b[0;32m     48\u001b[0m \u001b[0ms\u001b[0m\u001b[1;33m.\u001b[0m\u001b[0mdata\u001b[0m \u001b[1;33m=\u001b[0m \u001b[0mm0\u001b[0m\u001b[1;33m.\u001b[0m\u001b[0mas_signal\u001b[0m\u001b[1;33m(\u001b[0m\u001b[1;33m)\u001b[0m\u001b[1;33m.\u001b[0m\u001b[0mdata\u001b[0m\u001b[1;33m\u001b[0m\u001b[0m\n\u001b[1;32m---> 49\u001b[1;33m \u001b[0ms\u001b[0m\u001b[1;33m.\u001b[0m\u001b[0madd_poissonian_noise\u001b[0m\u001b[1;33m(\u001b[0m\u001b[0mrandom_state\u001b[0m\u001b[1;33m=\u001b[0m\u001b[1;36m0\u001b[0m\u001b[1;33m)\u001b[0m\u001b[1;33m\u001b[0m\u001b[0m\n\u001b[0m\u001b[0;32m     50\u001b[0m \u001b[0mm0\u001b[0m\u001b[1;33m.\u001b[0m\u001b[0mstore\u001b[0m\u001b[1;33m(\u001b[0m\u001b[1;34m\"ground truth\"\u001b[0m\u001b[1;33m)\u001b[0m\u001b[1;33m\u001b[0m\u001b[0m\n\u001b[0;32m     51\u001b[0m \u001b[0ms\u001b[0m\u001b[1;33m.\u001b[0m\u001b[0msave\u001b[0m\u001b[1;33m(\u001b[0m\u001b[1;34m\"two_peaks.hspy\"\u001b[0m\u001b[1;33m,\u001b[0m \u001b[0moverwrite\u001b[0m\u001b[1;33m=\u001b[0m\u001b[1;32mTrue\u001b[0m\u001b[1;33m)\u001b[0m\u001b[1;33m\u001b[0m\u001b[0m\n",
      "\u001b[1;31mTypeError\u001b[0m: add_poissonian_noise() got an unexpected keyword argument 'random_state'"
     ]
    }
   ],
   "source": [
    "import numpy as np\n",
    "import hyperspy.api as hs\n",
    "\n",
    "domain = 32 #size of the square domain\n",
    "hfactor = 600\n",
    "cent = (domain//2, domain//2)\n",
    "y,x = np.ogrid[-cent[0]:domain-cent[0], -cent[1]:domain-cent[1]]\n",
    "\n",
    "def gaussian2d(x, y, A=1, x0=0, y0=0, sigmax=20, sigmay=10):\n",
    "    return A * np.exp(-((x-x0)**2 / 2 / sigmax ** 2 + (y-y0)**2 / 2 / sigmay ** 2))\n",
    "\n",
    "center_narrow = 50 + 10 * np.sin(3 * np.pi * x / domain) * np.cos(4 * np.pi * y / domain)\n",
    "center_wide = 50 + 10 * (-0.1 * np.sin(3 * np.pi * x / domain) * np.cos(4 * np.pi * y / domain))\n",
    "\n",
    "r = np.sqrt(x**2 + y**2)\n",
    "h_narrow = .5 * (.5 + np.sin(r)**2) * gaussian2d(x, y) *  hfactor\n",
    "h_wide = (.5 + np.cos(r)**2) * gaussian2d(x, y) *  hfactor\n",
    "\n",
    "s = hs.signals.Signal1D(np.ones((domain,domain, 1024)))\n",
    "s.metadata.General.title = 'Two gaussians'\n",
    "s.axes_manager[0].name = \"x\"\n",
    "s.axes_manager[0].units = \"nm\"\n",
    "s.axes_manager[1].name = \"y\"\n",
    "s.axes_manager[1].units = \"nm\"\n",
    "\n",
    "s.axes_manager[2].name = \"Energy\"\n",
    "s.axes_manager[2].name = \"eV\"\n",
    "s.axes_manager[2].scale = 0.1\n",
    "m0 = s.create_model()\n",
    "\n",
    "gs01 = hs.model.components1D.GaussianHF()\n",
    "gs01.name = \"wide\"\n",
    "m0.append(gs01)\n",
    "gs01.fwhm.value = 60\n",
    "gs01.centre.map['values'][:] = center_wide\n",
    "gs01.centre.map['is_set'][:] = True\n",
    "gs01.height.map['values'][:] = h_wide\n",
    "gs01.height.map['is_set'][:] = True\n",
    "\n",
    "gs02 = hs.model.components1D.GaussianHF()\n",
    "gs02.name = \"narrow\"\n",
    "m0.append(gs02)\n",
    "gs02.fwhm.value = 6\n",
    "gs02.centre.map['values'][:] = center_narrow\n",
    "gs02.centre.map['is_set'][:] = True\n",
    "gs02.height.map['values'][:] = h_narrow\n",
    "gs02.height.map['is_set'][:] = True\n",
    "s.data = m0.as_signal().data\n",
    "s.add_poissonian_noise(random_state=0)\n",
    "m0.store(\"ground truth\")\n",
    "s.save(\"two_peaks.hspy\", overwrite=True)"
   ]
  },
  {
   "cell_type": "markdown",
   "metadata": {},
   "source": [
    "<a id='wobbly_peak'></a>\n",
    "### Wobbly peak\n",
    "<a href='#top'>[back to top]</a> \n"
   ]
  },
  {
   "cell_type": "code",
   "execution_count": 7,
   "metadata": {
    "collapsed": true,
    "jupyter": {
     "outputs_hidden": true
    }
   },
   "outputs": [],
   "source": [
    "import numpy as np\n",
    "import hyperspy.api as hs\n",
    "\n",
    "k = 1\n",
    "alpha = 15\n",
    "amp = 3\n",
    "\n",
    "gaus_position = 15\n",
    "gaus_width = 5\n",
    "gaus_A = 300\n",
    "\n",
    "gradient = 0.6\n",
    "offset= 3\n",
    "\n",
    "sin_component = hs.model.components1D.Expression('A * sin(k*x + alpha)', name='sin', k=k,\n",
    "                                               alpha=alpha, A=amp)\n",
    "gaus = hs.model.components1D.Gaussian(A=gaus_A, sigma=gaus_width, centre=gaus_position)\n",
    "\n",
    "poly = hs.model.components1D.Polynomial(1)\n",
    "\n",
    "poly.coefficients.value = (gradient, offset)\n",
    "\n",
    "axis = np.linspace(0, 30, 3000, dtype='double')\n",
    "\n",
    "result = sin_component.function(axis)+ gaus.function(axis) + poly.function(axis)\n",
    "s = hs.signals.Signal1D(result)\n",
    "s.axes_manager[0].name = 'x'\n",
    "s.axes_manager[0].scale = 0.1\n",
    "s.axes_manager[0].offset = 0\n",
    "\n",
    "s.metadata.General.author = 'Tomas Ostasevicius'\n",
    "s.metadata.General.title = 'Sin + poly(2) + Gaussian'\n",
    "s.save('wobbly_peak', overwrite=True)"
   ]
  }
 ],
 "metadata": {
  "kernelspec": {
   "display_name": "Python 3",
   "language": "python",
   "name": "python3"
  },
  "language_info": {
   "codemirror_mode": {
    "name": "ipython",
    "version": 3
   },
   "file_extension": ".py",
   "mimetype": "text/x-python",
   "name": "python",
   "nbconvert_exporter": "python",
   "pygments_lexer": "ipython3",
   "version": "3.7.0"
  },
  "toc-autonumbering": false,
  "toc-showtags": false,
  "widgets": {
   "application/vnd.jupyter.widget-state+json": {
    "state": {
     "0001f1cc435d42e682ac6ff3db61c73f": {
      "model_module": "jupyter-js-widgets",
      "model_module_version": "~2.1.4",
      "model_name": "HBoxModel",
      "state": {
       "_model_module_version": "~2.1.4",
       "_view_module_version": "~2.1.4",
       "children": [
        "IPY_MODEL_4ee8ccf2f8c14cc581659a33647a01ce",
        "IPY_MODEL_2154a814ea224e87a21ce1d2ab24ca01",
        "IPY_MODEL_801f7145905e48aca77f43a82b2c53e2"
       ],
       "layout": "IPY_MODEL_9b4519d5bc984d88a44aef11103810c4"
      }
     },
     "00aa61845cf1413ebf431bd37a545c97": {
      "model_module": "jupyter-js-widgets",
      "model_module_version": "~2.1.4",
      "model_name": "LayoutModel",
      "state": {
       "_model_module_version": "~2.1.4",
       "_view_module_version": "~2.1.4",
       "flex": "0 1 auto",
       "width": "auto"
      }
     },
     "01521e38ec1e4d3abcda16f2fd3de0f2": {
      "model_module": "jupyter-js-widgets",
      "model_module_version": "~2.1.4",
      "model_name": "LayoutModel",
      "state": {
       "_model_module_version": "~2.1.4",
       "_view_module_version": "~2.1.4",
       "display": "flex",
       "flex_flow": "row",
       "justify_content": "space-between"
      }
     },
     "01f5d795fb2a478d8ebca30530f776c1": {
      "model_module": "jupyter-js-widgets",
      "model_module_version": "~2.1.4",
      "model_name": "LayoutModel",
      "state": {
       "_model_module_version": "~2.1.4",
       "_view_module_version": "~2.1.4"
      }
     },
     "0322a73a91b84b24be169c26672b3b8a": {
      "model_module": "jupyter-js-widgets",
      "model_module_version": "~2.1.4",
      "model_name": "LayoutModel",
      "state": {
       "_model_module_version": "~2.1.4",
       "_view_module_version": "~2.1.4"
      }
     },
     "04cb3e13f9644a7c9df6b47cf7518d13": {
      "model_module": "jupyter-js-widgets",
      "model_module_version": "~2.1.4",
      "model_name": "ProgressModel",
      "state": {
       "_model_module_version": "~2.1.4",
       "_view_module_version": "~2.1.4",
       "bar_style": "success",
       "layout": "IPY_MODEL_e65978b142e9431185829bb8c0d38d4c",
       "max": 20,
       "style": "IPY_MODEL_7eac6d537a6749988f9b6ff2fcbeeaa8",
       "value": 20
      }
     },
     "055afbcabf18441db0fd5bc754806e19": {
      "model_module": "jupyter-js-widgets",
      "model_module_version": "~2.1.4",
      "model_name": "LayoutModel",
      "state": {
       "_model_module_version": "~2.1.4",
       "_view_module_version": "~2.1.4",
       "flex": "1 1 auto",
       "width": "auto"
      }
     },
     "05d766f00d834dd5a1954429f54de932": {
      "model_module": "jupyter-js-widgets",
      "model_module_version": "~2.1.4",
      "model_name": "ProgressModel",
      "state": {
       "_model_module_version": "~2.1.4",
       "_view_module_version": "~2.1.4",
       "bar_style": "success",
       "layout": "IPY_MODEL_01f5d795fb2a478d8ebca30530f776c1",
       "max": 20,
       "style": "IPY_MODEL_a3dfeb11274a447d8202516e2bd81ff4",
       "value": 20
      }
     },
     "06b19e3b6060433cbbbd07f28516589d": {
      "model_module": "jupyter-js-widgets",
      "model_module_version": "~2.1.4",
      "model_name": "LayoutModel",
      "state": {
       "_model_module_version": "~2.1.4",
       "_view_module_version": "~2.1.4"
      }
     },
     "084d4d49c86641b0adc3d13fd4186ed9": {
      "model_module": "jupyter-js-widgets",
      "model_module_version": "~2.1.4",
      "model_name": "HTMLModel",
      "state": {
       "_model_module_version": "~2.1.4",
       "_view_module_version": "~2.1.4",
       "layout": "IPY_MODEL_f260d48cda6440ea8da9f20c314d49a8",
       "value": "100% 20/20 [00:00&lt;00:00, 108.36it/s]"
      }
     },
     "0a1231cf61b149fb9de30736245ae931": {
      "model_module": "jupyter-js-widgets",
      "model_module_version": "~2.1.4",
      "model_name": "LayoutModel",
      "state": {
       "_model_module_version": "~2.1.4",
       "_view_module_version": "~2.1.4",
       "flex": "0 1 auto",
       "width": "auto"
      }
     },
     "0a6f93b547f846b98b9954c941885049": {
      "model_module": "jupyter-js-widgets",
      "model_module_version": "~2.1.4",
      "model_name": "VBoxModel",
      "state": {
       "_model_module_version": "~2.1.4",
       "_view_module_version": "~2.1.4",
       "children": [
        "IPY_MODEL_5810626ed24e469f8e9cf75be6fdd1e5",
        "IPY_MODEL_9be467ff5b584f7ebd9c6d88cf869c4b"
       ],
       "layout": "IPY_MODEL_c992884bfd7a4ef9a4a4f33885e7d48b"
      }
     },
     "0d11ef8759da410c9cae2dc013675953": {
      "model_module": "jupyter-js-widgets",
      "model_module_version": "~2.1.4",
      "model_name": "FloatTextModel",
      "state": {
       "_model_module_version": "~2.1.4",
       "_view_module_version": "~2.1.4",
       "description": "min",
       "layout": "IPY_MODEL_b262f9ae421241d8bdaab5b402f03667",
       "value": -10
      }
     },
     "0f7a9a5e506540f5b6ab2b0c532e1580": {
      "model_module": "jupyter-js-widgets",
      "model_module_version": "~2.1.4",
      "model_name": "VBoxModel",
      "state": {
       "_model_module_version": "~2.1.4",
       "_view_module_version": "~2.1.4",
       "children": [
        "IPY_MODEL_cf6b74b335ce4c0d8f006b8f5096e386",
        "IPY_MODEL_c2794a9685c741b290991db56fe18abb",
        "IPY_MODEL_aa469cc4b5714806bb3c3eed14c3700f",
        "IPY_MODEL_1f17ebe48b4c49fe9613344ce09610b2"
       ],
       "layout": "IPY_MODEL_c8027d58387a468cbecab34b5ad23e1e"
      }
     },
     "100a3b526faa44b588b9fe368784867f": {
      "model_module": "jupyter-js-widgets",
      "model_module_version": "~2.1.4",
      "model_name": "ProgressModel",
      "state": {
       "_model_module_version": "~2.1.4",
       "_view_module_version": "~2.1.4",
       "bar_style": "success",
       "layout": "IPY_MODEL_bbc2dcbd5b21488f9c3617696e2a5649",
       "max": 20,
       "style": "IPY_MODEL_657b642ead674063beb35fa2b3b3a959",
       "value": 20
      }
     },
     "1177bd1a8e374a63a84a30e3e9e550ba": {
      "model_module": "jupyter-js-widgets",
      "model_module_version": "~2.1.4",
      "model_name": "ProgressStyleModel",
      "state": {
       "_model_module_version": "~2.1.4",
       "_view_module_version": "~2.1.4"
      }
     },
     "1188e9d965ef4bc0bb5d750a8f95d039": {
      "model_module": "jupyter-js-widgets",
      "model_module_version": "~2.1.4",
      "model_name": "ProgressStyleModel",
      "state": {
       "_model_module_version": "~2.1.4",
       "_view_module_version": "~2.1.4"
      }
     },
     "1220dcbd6ecc4bff95278522234abc18": {
      "model_module": "jupyter-js-widgets",
      "model_module_version": "~2.1.4",
      "model_name": "LayoutModel",
      "state": {
       "_model_module_version": "~2.1.4",
       "_view_module_version": "~2.1.4"
      }
     },
     "146ece6d3ced40698dbd97edc387cf07": {
      "model_module": "jupyter-js-widgets",
      "model_module_version": "~2.1.4",
      "model_name": "LayoutModel",
      "state": {
       "_model_module_version": "~2.1.4",
       "_view_module_version": "~2.1.4"
      }
     },
     "160ef82670f74c75bb170c7bdf3d1525": {
      "model_module": "jupyter-js-widgets",
      "model_module_version": "~2.1.4",
      "model_name": "LayoutModel",
      "state": {
       "_model_module_version": "~2.1.4",
       "_view_module_version": "~2.1.4",
       "flex": "0 1 auto",
       "width": "auto"
      }
     },
     "167b54d2821441c086c82a35968a6f7d": {
      "model_module": "jupyter-js-widgets",
      "model_module_version": "~2.1.4",
      "model_name": "LayoutModel",
      "state": {
       "_model_module_version": "~2.1.4",
       "_view_module_version": "~2.1.4"
      }
     },
     "16831bdb3d714a7fab26bea79fe6eaff": {
      "model_module": "jupyter-js-widgets",
      "model_module_version": "~2.1.4",
      "model_name": "FloatSliderModel",
      "state": {
       "_model_module_version": "~2.1.4",
       "_view_module_version": "~2.1.4",
       "description": "sigma",
       "layout": "IPY_MODEL_c3aadf3d8d9f4ef1afc9803278eed5af",
       "max": 11,
       "min": -9,
       "step": 0.02,
       "value": 11
      }
     },
     "17011c4d56ac4236931482f8576ff585": {
      "model_module": "jupyter-js-widgets",
      "model_module_version": "~2.1.4",
      "model_name": "ProgressModel",
      "state": {
       "_model_module_version": "~2.1.4",
       "_view_module_version": "~2.1.4",
       "bar_style": "success",
       "layout": "IPY_MODEL_a342b4d4644549a39a8ec74f92900fa9",
       "max": 20,
       "style": "IPY_MODEL_77bf76077009430097b15d6cadf7aef8",
       "value": 20
      }
     },
     "18769963bda943639c78922600b094b8": {
      "model_module": "jupyter-js-widgets",
      "model_module_version": "~2.1.4",
      "model_name": "LayoutModel",
      "state": {
       "_model_module_version": "~2.1.4",
       "_view_module_version": "~2.1.4"
      }
     },
     "18ac3257f294442baff8bb1f4ece1423": {
      "model_module": "jupyter-js-widgets",
      "model_module_version": "~2.1.4",
      "model_name": "LayoutModel",
      "state": {
       "_model_module_version": "~2.1.4",
       "_view_module_version": "~2.1.4"
      }
     },
     "18b98bea7db94d83bf2ee8441b3103c2": {
      "model_module": "jupyter-js-widgets",
      "model_module_version": "~2.1.4",
      "model_name": "HBoxModel",
      "state": {
       "_model_module_version": "~2.1.4",
       "_view_module_version": "~2.1.4",
       "children": [
        "IPY_MODEL_1977847f812f45fc884e73f765bae1dc",
        "IPY_MODEL_c4d98f9ed5674385a5ac96bbaa8d76da"
       ],
       "layout": "IPY_MODEL_82bbaec193054547914a5a8a77a368fd"
      }
     },
     "1977847f812f45fc884e73f765bae1dc": {
      "model_module": "jupyter-js-widgets",
      "model_module_version": "~2.1.4",
      "model_name": "ProgressModel",
      "state": {
       "_model_module_version": "~2.1.4",
       "_view_module_version": "~2.1.4",
       "bar_style": "success",
       "layout": "IPY_MODEL_167b54d2821441c086c82a35968a6f7d",
       "max": 20,
       "style": "IPY_MODEL_a95bbad39e534cc5851d028b96194a1c",
       "value": 20
      }
     },
     "19913c8b4da4410a99c281ecf3b368e3": {
      "model_module": "jupyter-js-widgets",
      "model_module_version": "~2.1.4",
      "model_name": "LayoutModel",
      "state": {
       "_model_module_version": "~2.1.4",
       "_view_module_version": "~2.1.4"
      }
     },
     "19e12ad94d2e4755ac404f067e1c672c": {
      "model_module": "jupyter-js-widgets",
      "model_module_version": "~2.1.4",
      "model_name": "ButtonModel",
      "state": {
       "_model_module_version": "~2.1.4",
       "_view_module_version": "~2.1.4",
       "description": "Update",
       "layout": "IPY_MODEL_eca38a06625749529469df81564d59b3",
       "style": "IPY_MODEL_91add381e33f4161aa8a2684abe3b10a",
       "tooltip": "Unlike most other widgets, the multivalue parameter widgets do not update automatically when the value of the changes by other means. Use this button to update the valuesmanually"
      }
     },
     "1b529e6b30944703a9e06f8cd44ec428": {
      "model_module": "jupyter-js-widgets",
      "model_module_version": "~2.1.4",
      "model_name": "LayoutModel",
      "state": {
       "_model_module_version": "~2.1.4",
       "_view_module_version": "~2.1.4",
       "flex": "1 1 auto",
       "width": "auto"
      }
     },
     "1b6a6f0898f94863aaf89a28d4db92ee": {
      "model_module": "jupyter-js-widgets",
      "model_module_version": "~2.1.4",
      "model_name": "LayoutModel",
      "state": {
       "_model_module_version": "~2.1.4",
       "_view_module_version": "~2.1.4",
       "flex": "0 1 auto",
       "width": "auto"
      }
     },
     "1bc0bfcc086d466cb5c278f43d0decdf": {
      "model_module": "jupyter-js-widgets",
      "model_module_version": "~2.1.4",
      "model_name": "HBoxModel",
      "state": {
       "_model_module_version": "~2.1.4",
       "_view_module_version": "~2.1.4",
       "children": [
        "IPY_MODEL_7006c0e1342e4ad09bc90b377fe2a3a4",
        "IPY_MODEL_16831bdb3d714a7fab26bea79fe6eaff",
        "IPY_MODEL_ae7c0cd0fd5f4c20bde54e21c80f3605"
       ],
       "layout": "IPY_MODEL_d07b91a108414bae96ebc1fb3f3c9ab3"
      }
     },
     "1e42c9de022c47b796a01f9dfbab9607": {
      "model_module": "jupyter-js-widgets",
      "model_module_version": "~2.1.4",
      "model_name": "CheckboxModel",
      "state": {
       "_model_module_version": "~2.1.4",
       "_view_module_version": "~2.1.4",
       "description": "active",
       "disabled": false,
       "layout": "IPY_MODEL_afdc67afbf0c4b668c57a0206503df35",
       "value": true
      }
     },
     "1f17ebe48b4c49fe9613344ce09610b2": {
      "model_module": "jupyter-js-widgets",
      "model_module_version": "~2.1.4",
      "model_name": "HBoxModel",
      "state": {
       "_model_module_version": "~2.1.4",
       "_view_module_version": "~2.1.4",
       "children": [
        "IPY_MODEL_b21039632b3546c8bf61a2f9d2ea3a62",
        "IPY_MODEL_31f92d82ca3548c8b134e32445c3e6d1",
        "IPY_MODEL_4bdf33e2558d40f986e70aad42fbb8ae"
       ],
       "layout": "IPY_MODEL_5b4a4d4b3b7d46d5a913d79c2c4b278b"
      }
     },
     "201cc0e31c6143c795ba239377f6ab95": {
      "model_module": "jupyter-js-widgets",
      "model_module_version": "~2.1.4",
      "model_name": "LayoutModel",
      "state": {
       "_model_module_version": "~2.1.4",
       "_view_module_version": "~2.1.4"
      }
     },
     "213bc4ed6338485cb76f1b02837411ce": {
      "model_module": "jupyter-js-widgets",
      "model_module_version": "~2.1.4",
      "model_name": "HBoxModel",
      "state": {
       "_model_module_version": "~2.1.4",
       "_view_module_version": "~2.1.4",
       "children": [
        "IPY_MODEL_7574431bd94f4dc78cc2f4613e6274b8",
        "IPY_MODEL_fc2ca37a21be4e70aaa1cee13f3f182d",
        "IPY_MODEL_e775aafb1e764266a5be997155b89b84"
       ],
       "layout": "IPY_MODEL_60e98bfe061b477c82799401e394827c"
      }
     },
     "2154a814ea224e87a21ce1d2ab24ca01": {
      "model_module": "jupyter-js-widgets",
      "model_module_version": "~2.1.4",
      "model_name": "FloatSliderModel",
      "state": {
       "_model_module_version": "~2.1.4",
       "_view_module_version": "~2.1.4",
       "description": "sigma",
       "layout": "IPY_MODEL_660f0e95be2149618cbe95320f8cd987",
       "max": 13.21025838470534,
       "min": -6.789741615294661,
       "step": 0.02,
       "value": 2.9251487948880377
      }
     },
     "21e6fe97fa504afd8238951295a0f5a0": {
      "model_module": "jupyter-js-widgets",
      "model_module_version": "~2.1.4",
      "model_name": "FloatSliderModel",
      "state": {
       "_model_module_version": "~2.1.4",
       "_view_module_version": "~2.1.4",
       "description": "A",
       "layout": "IPY_MODEL_b20b3c2cc1ac498d9103baa03639419b",
       "max": 29828.621997079612,
       "step": 29.828621997079612,
       "value": 29828.621997079612
      }
     },
     "233f2541a6ac43499cc777385e89952e": {
      "model_module": "jupyter-js-widgets",
      "model_module_version": "~2.1.4",
      "model_name": "HTMLModel",
      "state": {
       "_model_module_version": "~2.1.4",
       "_view_module_version": "~2.1.4",
       "layout": "IPY_MODEL_5dbad9e9d6674d7ba9b1c40c0c1108f9",
       "value": "100% 20/20 [00:00&lt;00:00, 103.23it/s]"
      }
     },
     "23f66b812fd74cf0948167ef911b6690": {
      "model_module": "jupyter-js-widgets",
      "model_module_version": "~2.1.4",
      "model_name": "LayoutModel",
      "state": {
       "_model_module_version": "~2.1.4",
       "_view_module_version": "~2.1.4"
      }
     },
     "24d1804905844050bd4c9553ae10c53b": {
      "model_module": "jupyter-js-widgets",
      "model_module_version": "~2.1.4",
      "model_name": "HBoxModel",
      "state": {
       "_model_module_version": "~2.1.4",
       "_view_module_version": "~2.1.4",
       "children": [
        "IPY_MODEL_ef349aefc4ac48a9963e5b13c057b262",
        "IPY_MODEL_dc974ccbad064b33bdcf7cb4fcb73782"
       ],
       "layout": "IPY_MODEL_23f66b812fd74cf0948167ef911b6690"
      }
     },
     "252989a2ad8a40a4bdaa01870596c981": {
      "model_module": "jupyter-js-widgets",
      "model_module_version": "~2.1.4",
      "model_name": "FloatTextModel",
      "state": {
       "_model_module_version": "~2.1.4",
       "_view_module_version": "~2.1.4",
       "description": "min",
       "layout": "IPY_MODEL_cc2f644cb0884da9b951b600227a51cf"
      }
     },
     "2549910dff714b719d2b6f60f2129529": {
      "model_module": "jupyter-js-widgets",
      "model_module_version": "~2.1.4",
      "model_name": "LayoutModel",
      "state": {
       "_model_module_version": "~2.1.4",
       "_view_module_version": "~2.1.4",
       "flex": "0 1 auto",
       "width": "auto"
      }
     },
     "2564b8c3130b4ba0a83785688ec312ed": {
      "model_module": "jupyter-js-widgets",
      "model_module_version": "~2.1.4",
      "model_name": "HBoxModel",
      "state": {
       "_model_module_version": "~2.1.4",
       "_view_module_version": "~2.1.4",
       "children": [
        "IPY_MODEL_4366eedce97044d5a07d93dde2822213",
        "IPY_MODEL_9f2e095a2f4b444ba9da8df39fd4be70",
        "IPY_MODEL_c18dfa5187384304884a5938439fad73"
       ],
       "layout": "IPY_MODEL_18ac3257f294442baff8bb1f4ece1423"
      }
     },
     "25b56b5cf0824974ad25ca11bc902c3d": {
      "model_module": "jupyter-js-widgets",
      "model_module_version": "~2.1.4",
      "model_name": "LayoutModel",
      "state": {
       "_model_module_version": "~2.1.4",
       "_view_module_version": "~2.1.4",
       "flex": "1 1 auto",
       "width": "auto"
      }
     },
     "2660aa61ffa44ef1b0b50cf1908ba8b3": {
      "model_module": "jupyter-js-widgets",
      "model_module_version": "~2.1.4",
      "model_name": "ProgressModel",
      "state": {
       "_model_module_version": "~2.1.4",
       "_view_module_version": "~2.1.4",
       "bar_style": "success",
       "layout": "IPY_MODEL_cc0030d9297a402ba8448ce47aa1347b",
       "max": 20,
       "style": "IPY_MODEL_eb01392e8f6f45cfb56f3ab200305a97",
       "value": 20
      }
     },
     "26d56513a0034b4dbb79870630945a59": {
      "model_module": "jupyter-js-widgets",
      "model_module_version": "~2.1.4",
      "model_name": "ProgressStyleModel",
      "state": {
       "_model_module_version": "~2.1.4",
       "_view_module_version": "~2.1.4"
      }
     },
     "281d4e892f204960bd1aa6e3e2d6820b": {
      "model_module": "jupyter-js-widgets",
      "model_module_version": "~2.1.4",
      "model_name": "LayoutModel",
      "state": {
       "_model_module_version": "~2.1.4",
       "_view_module_version": "~2.1.4",
       "flex": "0 1 auto",
       "width": "auto"
      }
     },
     "2904096c0fbf467597ad116f17e98c3a": {
      "model_module": "jupyter-js-widgets",
      "model_module_version": "~2.1.4",
      "model_name": "LayoutModel",
      "state": {
       "_model_module_version": "~2.1.4",
       "_view_module_version": "~2.1.4",
       "flex": "0 1 auto",
       "width": "auto"
      }
     },
     "29241957cc744721b4bfb1a6766a6316": {
      "model_module": "jupyter-js-widgets",
      "model_module_version": "~2.1.4",
      "model_name": "HBoxModel",
      "state": {
       "_model_module_version": "~2.1.4",
       "_view_module_version": "~2.1.4",
       "children": [
        "IPY_MODEL_8351808a49454037b82255397ae84182",
        "IPY_MODEL_462559adc0f546a381619cda62da7f84",
        "IPY_MODEL_6c95b00342254ec595bc539f119b2a91"
       ],
       "layout": "IPY_MODEL_9dccc99dc3b94dad962ffeee0ce81de2"
      }
     },
     "293187ceb05546cc859e47885506c30a": {
      "model_module": "jupyter-js-widgets",
      "model_module_version": "~2.1.4",
      "model_name": "FloatTextModel",
      "state": {
       "_model_module_version": "~2.1.4",
       "_view_module_version": "~2.1.4",
       "description": "max",
       "layout": "IPY_MODEL_97cc879c0de54e96983be0dd55ec9483",
       "value": 100
      }
     },
     "2978e6da8b0b4a0ca5eccd6a278ce501": {
      "model_module": "jupyter-js-widgets",
      "model_module_version": "~2.1.4",
      "model_name": "LayoutModel",
      "state": {
       "_model_module_version": "~2.1.4",
       "_view_module_version": "~2.1.4"
      }
     },
     "29a25e11e5234b10a39ff934e4061cf7": {
      "model_module": "jupyter-js-widgets",
      "model_module_version": "~2.1.4",
      "model_name": "LayoutModel",
      "state": {
       "_model_module_version": "~2.1.4",
       "_view_module_version": "~2.1.4",
       "flex": "0 1 auto",
       "width": "auto"
      }
     },
     "29f572505fac4493a66569e55f1885e0": {
      "model_module": "jupyter-js-widgets",
      "model_module_version": "~2.1.4",
      "model_name": "FloatTextModel",
      "state": {
       "_model_module_version": "~2.1.4",
       "_view_module_version": "~2.1.4",
       "description": "max",
       "layout": "IPY_MODEL_db0e4f6e25c244f8bc978eea928e679b",
       "value": 10
      }
     },
     "2bee667f0260445583c2d935b848fb4b": {
      "model_module": "jupyter-js-widgets",
      "model_module_version": "~2.1.4",
      "model_name": "FloatSliderModel",
      "state": {
       "_model_module_version": "~2.1.4",
       "_view_module_version": "~2.1.4",
       "description": "centre",
       "layout": "IPY_MODEL_1b529e6b30944703a9e06f8cd44ec428",
       "max": 102.30000000000001,
       "step": 0.1,
       "value": 52.37483902438423
      }
     },
     "2cd7fdf4e05442a5bb74a145a90d0429": {
      "model_module": "jupyter-js-widgets",
      "model_module_version": "~2.1.4",
      "model_name": "HBoxModel",
      "state": {
       "_model_module_version": "~2.1.4",
       "_view_module_version": "~2.1.4",
       "children": [
        "IPY_MODEL_942858ec718048eab4829c00c1a67980",
        "IPY_MODEL_84b77167fdbe40a486b414aec229118c"
       ],
       "layout": "IPY_MODEL_19913c8b4da4410a99c281ecf3b368e3"
      }
     },
     "2deb604304a84c09a2e65d713546039b": {
      "model_module": "jupyter-js-widgets",
      "model_module_version": "~2.1.4",
      "model_name": "LayoutModel",
      "state": {
       "_model_module_version": "~2.1.4",
       "_view_module_version": "~2.1.4"
      }
     },
     "2f316b0a69994af6b77a57c531ad4f56": {
      "model_module": "jupyter-js-widgets",
      "model_module_version": "~2.1.4",
      "model_name": "LayoutModel",
      "state": {
       "_model_module_version": "~2.1.4",
       "_view_module_version": "~2.1.4",
       "flex": "1 1 auto",
       "width": "auto"
      }
     },
     "2f3a77eb9ce24b41a220019a657eb6c2": {
      "model_module": "jupyter-js-widgets",
      "model_module_version": "~2.1.4",
      "model_name": "LayoutModel",
      "state": {
       "_model_module_version": "~2.1.4",
       "_view_module_version": "~2.1.4"
      }
     },
     "2fd94f2348e5422fb3e8bbc2f9baa33a": {
      "model_module": "jupyter-js-widgets",
      "model_module_version": "~2.1.4",
      "model_name": "LayoutModel",
      "state": {
       "_model_module_version": "~2.1.4",
       "_view_module_version": "~2.1.4"
      }
     },
     "307a7aaf03114cb28f2c9e7f58f7b952": {
      "model_module": "jupyter-js-widgets",
      "model_module_version": "~2.1.4",
      "model_name": "HTMLModel",
      "state": {
       "_model_module_version": "~2.1.4",
       "_view_module_version": "~2.1.4",
       "layout": "IPY_MODEL_ad7708107287436c8fee8c3c77631e2c",
       "value": "100% 20/20 [00:00&lt;00:00, 98.38it/s]"
      }
     },
     "3131c8e494c94c4fa7d83be0d85ece49": {
      "model_module": "jupyter-js-widgets",
      "model_module_version": "~2.1.4",
      "model_name": "HBoxModel",
      "state": {
       "_model_module_version": "~2.1.4",
       "_view_module_version": "~2.1.4",
       "children": [
        "IPY_MODEL_05d766f00d834dd5a1954429f54de932",
        "IPY_MODEL_89d04d1d1f42416eb51e46948bae5252"
       ],
       "layout": "IPY_MODEL_2f3a77eb9ce24b41a220019a657eb6c2"
      }
     },
     "31f92d82ca3548c8b134e32445c3e6d1": {
      "model_module": "jupyter-js-widgets",
      "model_module_version": "~2.1.4",
      "model_name": "FloatSliderModel",
      "state": {
       "_model_module_version": "~2.1.4",
       "_view_module_version": "~2.1.4",
       "description": "centre",
       "layout": "IPY_MODEL_9aa898f0c993470c96f88992c6156d4b",
       "max": 102.30000000000001,
       "step": 0.1,
       "value": 52.37483902438423
      }
     },
     "324bc3cabe2e4f358cc9e995ce786704": {
      "model_module": "jupyter-js-widgets",
      "model_module_version": "~2.1.4",
      "model_name": "FloatTextModel",
      "state": {
       "_model_module_version": "~2.1.4",
       "_view_module_version": "~2.1.4",
       "description": "max",
       "layout": "IPY_MODEL_658e0ed9b3b1449b93d3f704dd328e24",
       "value": 10
      }
     },
     "340f3046f5304ed2ada20c13cc530191": {
      "model_module": "jupyter-js-widgets",
      "model_module_version": "~2.1.4",
      "model_name": "HBoxModel",
      "state": {
       "_model_module_version": "~2.1.4",
       "_view_module_version": "~2.1.4",
       "children": [
        "IPY_MODEL_04cb3e13f9644a7c9df6b47cf7518d13",
        "IPY_MODEL_d855befacd294f8a8acb5f1ac4fb36a4"
       ],
       "layout": "IPY_MODEL_9be27b56687242978bb5389485dba897"
      }
     },
     "345858497a6346e6931fe4bf06c37720": {
      "model_module": "jupyter-js-widgets",
      "model_module_version": "~2.1.4",
      "model_name": "FloatTextModel",
      "state": {
       "_model_module_version": "~2.1.4",
       "_view_module_version": "~2.1.4",
       "description": "min",
       "layout": "IPY_MODEL_e3ea6bbc441348619ecc575011f34bd1"
      }
     },
     "3892d4da5a84447ca7bff56448ebb700": {
      "model_module": "jupyter-js-widgets",
      "model_module_version": "~2.1.4",
      "model_name": "LayoutModel",
      "state": {
       "_model_module_version": "~2.1.4",
       "_view_module_version": "~2.1.4"
      }
     },
     "3be22d964726488a824b711b2dbfd7f3": {
      "model_module": "jupyter-js-widgets",
      "model_module_version": "~2.1.4",
      "model_name": "LayoutModel",
      "state": {
       "_model_module_version": "~2.1.4",
       "_view_module_version": "~2.1.4",
       "flex": "1 1 auto",
       "width": "auto"
      }
     },
     "3c76eb27d201428ba2efe6c1e48d54da": {
      "model_module": "jupyter-js-widgets",
      "model_module_version": "~2.1.4",
      "model_name": "VBoxModel",
      "state": {
       "_model_module_version": "~2.1.4",
       "_view_module_version": "~2.1.4",
       "children": [
        "IPY_MODEL_5f4ae9ae2df2493abfdd1d6b5bd8259f",
        "IPY_MODEL_7a4abb277a37407ab2f172e5a0c15684",
        "IPY_MODEL_1bc0bfcc086d466cb5c278f43d0decdf",
        "IPY_MODEL_5c0262c333c34cffaf33d3ccab7308a9"
       ],
       "layout": "IPY_MODEL_8327adccf48c43d6adadb42d8fe53986"
      }
     },
     "3cffd1eb9779495281acdd4b46c44536": {
      "model_module": "jupyter-js-widgets",
      "model_module_version": "~2.1.4",
      "model_name": "HTMLModel",
      "state": {
       "_model_module_version": "~2.1.4",
       "_view_module_version": "~2.1.4",
       "layout": "IPY_MODEL_7e792aad29a54d23a6f4e3b64ccfb354",
       "value": "100% 20/20 [00:00&lt;00:00, 112.69it/s]"
      }
     },
     "3dd2be683113412b93c04ed5176224af": {
      "model_module": "jupyter-js-widgets",
      "model_module_version": "~2.1.4",
      "model_name": "HBoxModel",
      "state": {
       "_model_module_version": "~2.1.4",
       "_view_module_version": "~2.1.4",
       "children": [
        "IPY_MODEL_e3135c54c61d4087849fcfc69848c9b9",
        "IPY_MODEL_8d16b51a8c9449eab1246a120f0d85c4"
       ],
       "layout": "IPY_MODEL_fd879050c1d94552b35b04244847185e"
      }
     },
     "3dda4dac31d94e1495a1f1b1d6b8c2ac": {
      "model_module": "jupyter-js-widgets",
      "model_module_version": "~2.1.4",
      "model_name": "HBoxModel",
      "state": {
       "_model_module_version": "~2.1.4",
       "_view_module_version": "~2.1.4",
       "children": [
        "IPY_MODEL_2660aa61ffa44ef1b0b50cf1908ba8b3",
        "IPY_MODEL_e1357e76735a4691b7507c66056f732c"
       ],
       "layout": "IPY_MODEL_b4655af0a11c4c0abf919ba70997a977"
      }
     },
     "3fffdb2411de468da90ac88cf5344060": {
      "model_module": "jupyter-js-widgets",
      "model_module_version": "~2.1.4",
      "model_name": "HTMLModel",
      "state": {
       "_model_module_version": "~2.1.4",
       "_view_module_version": "~2.1.4",
       "layout": "IPY_MODEL_d77844638da044ae84ace765a2d4e3e1",
       "value": "100% 20/20 [00:00&lt;00:00, 170.78it/s]"
      }
     },
     "400553852e5f474ba1f6270cc1d6719d": {
      "model_module": "jupyter-js-widgets",
      "model_module_version": "~2.1.4",
      "model_name": "FloatTextModel",
      "state": {
       "_model_module_version": "~2.1.4",
       "_view_module_version": "~2.1.4",
       "description": "min",
       "layout": "IPY_MODEL_29a25e11e5234b10a39ff934e4061cf7"
      }
     },
     "40282a56c99a44c58e250bacf41fad69": {
      "model_module": "jupyter-js-widgets",
      "model_module_version": "~2.1.4",
      "model_name": "LayoutModel",
      "state": {
       "_model_module_version": "~2.1.4",
       "_view_module_version": "~2.1.4",
       "flex": "0 1 auto",
       "width": "auto"
      }
     },
     "409f7f985f844188b0864c911d57dbf3": {
      "model_module": "jupyter-js-widgets",
      "model_module_version": "~2.1.4",
      "model_name": "HBoxModel",
      "state": {
       "_model_module_version": "~2.1.4",
       "_view_module_version": "~2.1.4",
       "children": [
        "IPY_MODEL_100a3b526faa44b588b9fe368784867f",
        "IPY_MODEL_084d4d49c86641b0adc3d13fd4186ed9"
       ],
       "layout": "IPY_MODEL_c8883e59482f4c999db68bbf9661760a"
      }
     },
     "4143e3751ee44db79bfca14521cd2c2a": {
      "model_module": "jupyter-js-widgets",
      "model_module_version": "~2.1.4",
      "model_name": "ProgressStyleModel",
      "state": {
       "_model_module_version": "~2.1.4",
       "_view_module_version": "~2.1.4"
      }
     },
     "4230e9ed5d334888bcc2c4be53431915": {
      "model_module": "jupyter-js-widgets",
      "model_module_version": "~2.1.4",
      "model_name": "LayoutModel",
      "state": {
       "_model_module_version": "~2.1.4",
       "_view_module_version": "~2.1.4",
       "flex": "0 1 auto",
       "width": "auto"
      }
     },
     "42ddf188191f4fe3923e83994187085b": {
      "model_module": "jupyter-js-widgets",
      "model_module_version": "~2.1.4",
      "model_name": "ProgressStyleModel",
      "state": {
       "_model_module_version": "~2.1.4",
       "_view_module_version": "~2.1.4"
      }
     },
     "432e319676c24c0f93a28fc75b781363": {
      "model_module": "jupyter-js-widgets",
      "model_module_version": "~2.1.4",
      "model_name": "HBoxModel",
      "state": {
       "_model_module_version": "~2.1.4",
       "_view_module_version": "~2.1.4",
       "children": [
        "IPY_MODEL_e4f628e665224a2590651e73114b99b5",
        "IPY_MODEL_72979400d97d442f9a70f14bc51afa6e"
       ],
       "layout": "IPY_MODEL_e516fcdfcca74d41ad9eb740fca7c59c"
      }
     },
     "4366eedce97044d5a07d93dde2822213": {
      "model_module": "jupyter-js-widgets",
      "model_module_version": "~2.1.4",
      "model_name": "FloatTextModel",
      "state": {
       "_model_module_version": "~2.1.4",
       "_view_module_version": "~2.1.4",
       "description": "min",
       "layout": "IPY_MODEL_802d57ca59514d668884bda467c2156e",
       "value": 20
      }
     },
     "440aace8e21947a0980a82048b50440c": {
      "model_module": "jupyter-js-widgets",
      "model_module_version": "~2.1.4",
      "model_name": "FloatTextModel",
      "state": {
       "_model_module_version": "~2.1.4",
       "_view_module_version": "~2.1.4",
       "description": "max",
       "layout": "IPY_MODEL_a148d47df79c4d2bb78d1548b5f0b3b5",
       "value": 10
      }
     },
     "462559adc0f546a381619cda62da7f84": {
      "model_module": "jupyter-js-widgets",
      "model_module_version": "~2.1.4",
      "model_name": "FloatSliderModel",
      "state": {
       "_model_module_version": "~2.1.4",
       "_view_module_version": "~2.1.4",
       "description": "2",
       "layout": "IPY_MODEL_b4ede3cf3b874bbda91094e0e6f02aa4",
       "max": 10,
       "min": -10,
       "step": 0.02
      }
     },
     "465536b6f4a04be09f46d271be90138d": {
      "model_module": "jupyter-js-widgets",
      "model_module_version": "~2.1.4",
      "model_name": "ProgressStyleModel",
      "state": {
       "_model_module_version": "~2.1.4",
       "_view_module_version": "~2.1.4"
      }
     },
     "466fd08259eb4f5eb8ed55108ac10f7b": {
      "model_module": "jupyter-js-widgets",
      "model_module_version": "~2.1.4",
      "model_name": "LayoutModel",
      "state": {
       "_model_module_version": "~2.1.4",
       "_view_module_version": "~2.1.4",
       "display": "flex",
       "flex_flow": "row",
       "justify_content": "space-between"
      }
     },
     "482f35464bd546b2b183309a3beafc7e": {
      "model_module": "jupyter-js-widgets",
      "model_module_version": "~2.1.4",
      "model_name": "HBoxModel",
      "state": {
       "_model_module_version": "~2.1.4",
       "_view_module_version": "~2.1.4",
       "children": [
        "IPY_MODEL_252989a2ad8a40a4bdaa01870596c981",
        "IPY_MODEL_6b9de89f1af742b7b29188da412c2ac1",
        "IPY_MODEL_dc49b41fd7d34663a270a0c754a3f2fd"
       ],
       "layout": "IPY_MODEL_5d344beebb6d47828d8e4f941a9ccf16"
      }
     },
     "48be48a7db65421ba179c0abb5753f36": {
      "model_module": "jupyter-js-widgets",
      "model_module_version": "~2.1.4",
      "model_name": "LayoutModel",
      "state": {
       "_model_module_version": "~2.1.4",
       "_view_module_version": "~2.1.4"
      }
     },
     "48d9bc0c026448ee9ae10969f47fe55b": {
      "model_module": "jupyter-js-widgets",
      "model_module_version": "~2.1.4",
      "model_name": "LayoutModel",
      "state": {
       "_model_module_version": "~2.1.4",
       "_view_module_version": "~2.1.4"
      }
     },
     "49301ed0bc95473c96944a7d39811174": {
      "model_module": "jupyter-js-widgets",
      "model_module_version": "~2.1.4",
      "model_name": "HTMLModel",
      "state": {
       "_model_module_version": "~2.1.4",
       "_view_module_version": "~2.1.4",
       "layout": "IPY_MODEL_0322a73a91b84b24be169c26672b3b8a",
       "value": "100% 20/20 [00:00&lt;00:00, 122.71it/s]"
      }
     },
     "4bdf33e2558d40f986e70aad42fbb8ae": {
      "model_module": "jupyter-js-widgets",
      "model_module_version": "~2.1.4",
      "model_name": "FloatTextModel",
      "state": {
       "_model_module_version": "~2.1.4",
       "_view_module_version": "~2.1.4",
       "description": "max",
       "layout": "IPY_MODEL_9292c92de9a044ae9acbc3c505f6067e",
       "value": 102.30000000000001
      }
     },
     "4cbf8e50267b4966b1ec86e2b01deaa5": {
      "model_module": "jupyter-js-widgets",
      "model_module_version": "~2.1.4",
      "model_name": "LayoutModel",
      "state": {
       "_model_module_version": "~2.1.4",
       "_view_module_version": "~2.1.4",
       "flex": "1 1 auto",
       "width": "auto"
      }
     },
     "4d010e85e3344f769d5dce3b7ee8a6c2": {
      "model_module": "jupyter-js-widgets",
      "model_module_version": "~2.1.4",
      "model_name": "HBoxModel",
      "state": {
       "_model_module_version": "~2.1.4",
       "_view_module_version": "~2.1.4",
       "children": [
        "IPY_MODEL_9bdbeeeec9f045cfb8aa78f6628533b7",
        "IPY_MODEL_2bee667f0260445583c2d935b848fb4b",
        "IPY_MODEL_52f7fb0ae1e046c08118a2e9c0101fab"
       ],
       "layout": "IPY_MODEL_1220dcbd6ecc4bff95278522234abc18"
      }
     },
     "4ee8ccf2f8c14cc581659a33647a01ce": {
      "model_module": "jupyter-js-widgets",
      "model_module_version": "~2.1.4",
      "model_name": "FloatTextModel",
      "state": {
       "_model_module_version": "~2.1.4",
       "_view_module_version": "~2.1.4",
       "description": "min",
       "layout": "IPY_MODEL_9c25298fd91342ccab95471a13990302",
       "value": -6.789741615294661
      }
     },
     "50f6c43b4b3a47978f450f5fe3732f20": {
      "model_module": "jupyter-js-widgets",
      "model_module_version": "~2.1.4",
      "model_name": "LayoutModel",
      "state": {
       "_model_module_version": "~2.1.4",
       "_view_module_version": "~2.1.4"
      }
     },
     "51849207c0854212b193d8485d8e59de": {
      "model_module": "jupyter-js-widgets",
      "model_module_version": "~2.1.4",
      "model_name": "ProgressModel",
      "state": {
       "_model_module_version": "~2.1.4",
       "_view_module_version": "~2.1.4",
       "bar_style": "success",
       "layout": "IPY_MODEL_915041b7b3ae49d2b2c136d40c4ef360",
       "max": 20,
       "style": "IPY_MODEL_917ce5b080d344d8a243fb76a92d26fe",
       "value": 20
      }
     },
     "51a368c24d7f45558ac5fd162a06717b": {
      "model_module": "jupyter-js-widgets",
      "model_module_version": "~2.1.4",
      "model_name": "HBoxModel",
      "state": {
       "_model_module_version": "~2.1.4",
       "_view_module_version": "~2.1.4",
       "children": [
        "IPY_MODEL_51849207c0854212b193d8485d8e59de",
        "IPY_MODEL_233f2541a6ac43499cc777385e89952e"
       ],
       "layout": "IPY_MODEL_ef8d0ff171fd4fc7a8fc603854847c2a"
      }
     },
     "52928f4731f042eb9cc45073428495d1": {
      "model_module": "jupyter-js-widgets",
      "model_module_version": "~2.1.4",
      "model_name": "HBoxModel",
      "state": {
       "_model_module_version": "~2.1.4",
       "_view_module_version": "~2.1.4",
       "children": [
        "IPY_MODEL_cacee7d1199d4d6297c07b767d21cf83",
        "IPY_MODEL_bb1956b0ea2c4cff8943d1522be4eb2f",
        "IPY_MODEL_d3e8ea51239d4a5c8240c5cdc88974fc"
       ],
       "layout": "IPY_MODEL_e8e9098c6e6f47c4a05a8f9070cb9ce4"
      }
     },
     "52f7fb0ae1e046c08118a2e9c0101fab": {
      "model_module": "jupyter-js-widgets",
      "model_module_version": "~2.1.4",
      "model_name": "FloatTextModel",
      "state": {
       "_model_module_version": "~2.1.4",
       "_view_module_version": "~2.1.4",
       "description": "max",
       "layout": "IPY_MODEL_c1458ab26bd54919bddb7e0480834362",
       "value": 102.30000000000001
      }
     },
     "54efe1b2ec9c45a284950716eff0d205": {
      "model_module": "jupyter-js-widgets",
      "model_module_version": "~2.1.4",
      "model_name": "FloatSliderModel",
      "state": {
       "_model_module_version": "~2.1.4",
       "_view_module_version": "~2.1.4",
       "description": "A",
       "layout": "IPY_MODEL_8e397ac8275d47f1ab1ad6ccf0bdc233",
       "max": 545.5584819635573,
       "step": 0.5455584819635573,
       "value": 545.5584819635573
      }
     },
     "5571e75e328e468e83e16733c71168be": {
      "model_module": "jupyter-js-widgets",
      "model_module_version": "~2.1.4",
      "model_name": "FloatSliderModel",
      "state": {
       "_model_module_version": "~2.1.4",
       "_view_module_version": "~2.1.4",
       "description": "0",
       "layout": "IPY_MODEL_6492a5c2a322439f979cde5c40ee5a93",
       "max": 10,
       "min": -10,
       "step": 0.02
      }
     },
     "56640dcea8dd455883cb4d9c0593bccd": {
      "model_module": "jupyter-js-widgets",
      "model_module_version": "~2.1.4",
      "model_name": "HBoxModel",
      "state": {
       "_model_module_version": "~2.1.4",
       "_view_module_version": "~2.1.4",
       "children": [
        "IPY_MODEL_b5c65ff4b766488ba3042abc27559c1e",
        "IPY_MODEL_bf360c54a2374052b2e03e565bb40bb0"
       ],
       "layout": "IPY_MODEL_2978e6da8b0b4a0ca5eccd6a278ce501"
      }
     },
     "57506e0f387d45f4a30063fa2273d30f": {
      "model_module": "jupyter-js-widgets",
      "model_module_version": "~2.1.4",
      "model_name": "LayoutModel",
      "state": {
       "_model_module_version": "~2.1.4",
       "_view_module_version": "~2.1.4",
       "flex": "0 1 auto",
       "width": "auto"
      }
     },
     "57f50811685b4980887bf07c543c5fdb": {
      "model_module": "jupyter-js-widgets",
      "model_module_version": "~2.1.4",
      "model_name": "LayoutModel",
      "state": {
       "_model_module_version": "~2.1.4",
       "_view_module_version": "~2.1.4",
       "flex": "1 1 auto",
       "width": "auto"
      }
     },
     "5810626ed24e469f8e9cf75be6fdd1e5": {
      "model_module": "jupyter-js-widgets",
      "model_module_version": "~2.1.4",
      "model_name": "CheckboxModel",
      "state": {
       "_model_module_version": "~2.1.4",
       "_view_module_version": "~2.1.4",
       "description": "active",
       "disabled": false,
       "layout": "IPY_MODEL_2fd94f2348e5422fb3e8bbc2f9baa33a",
       "value": true
      }
     },
     "58157aceb67741ee939afda2e91a4b7f": {
      "model_module": "jupyter-js-widgets",
      "model_module_version": "~2.1.4",
      "model_name": "LayoutModel",
      "state": {
       "_model_module_version": "~2.1.4",
       "_view_module_version": "~2.1.4"
      }
     },
     "582dcd19bc3841efbfac8d41672cb2d7": {
      "model_module": "jupyter-js-widgets",
      "model_module_version": "~2.1.4",
      "model_name": "LayoutModel",
      "state": {
       "_model_module_version": "~2.1.4",
       "_view_module_version": "~2.1.4"
      }
     },
     "5907e7736eb24518978b66b8cbea5c87": {
      "model_module": "jupyter-js-widgets",
      "model_module_version": "~2.1.4",
      "model_name": "VBoxModel",
      "state": {
       "_model_module_version": "~2.1.4",
       "_view_module_version": "~2.1.4",
       "children": [
        "IPY_MODEL_19e12ad94d2e4755ac404f067e1c672c",
        "IPY_MODEL_c10234a3ed2240cfa456637ba6f13d43",
        "IPY_MODEL_6712d96de231411a93ee5cfc30777ba4",
        "IPY_MODEL_29241957cc744721b4bfb1a6766a6316"
       ],
       "layout": "IPY_MODEL_81bb3e4fe41841cb93bb2e9cd69f5a76"
      }
     },
     "5a96933f056e47b38df210372e418dca": {
      "model_module": "jupyter-js-widgets",
      "model_module_version": "~2.1.4",
      "model_name": "LayoutModel",
      "state": {
       "_model_module_version": "~2.1.4",
       "_view_module_version": "~2.1.4"
      }
     },
     "5b4a4d4b3b7d46d5a913d79c2c4b278b": {
      "model_module": "jupyter-js-widgets",
      "model_module_version": "~2.1.4",
      "model_name": "LayoutModel",
      "state": {
       "_model_module_version": "~2.1.4",
       "_view_module_version": "~2.1.4"
      }
     },
     "5b556f3f39ab4642b2d7f8a256b25189": {
      "model_module": "jupyter-js-widgets",
      "model_module_version": "~2.1.4",
      "model_name": "LayoutModel",
      "state": {
       "_model_module_version": "~2.1.4",
       "_view_module_version": "~2.1.4"
      }
     },
     "5c0262c333c34cffaf33d3ccab7308a9": {
      "model_module": "jupyter-js-widgets",
      "model_module_version": "~2.1.4",
      "model_name": "HBoxModel",
      "state": {
       "_model_module_version": "~2.1.4",
       "_view_module_version": "~2.1.4",
       "children": [
        "IPY_MODEL_d92b5e42f8aa413484e64a7b85274f5d",
        "IPY_MODEL_99cca42389684c48a548dcc19f8b361f",
        "IPY_MODEL_fa78681cae9d437b8b0ac5d2fe02cb2b"
       ],
       "layout": "IPY_MODEL_58157aceb67741ee939afda2e91a4b7f"
      }
     },
     "5c6c2a36f69540afa6fa453fab36430a": {
      "model_module": "jupyter-js-widgets",
      "model_module_version": "~2.1.4",
      "model_name": "LayoutModel",
      "state": {
       "_model_module_version": "~2.1.4",
       "_view_module_version": "~2.1.4"
      }
     },
     "5d21a75cd9cc408f89a3831afdad3c6f": {
      "model_module": "jupyter-js-widgets",
      "model_module_version": "~2.1.4",
      "model_name": "LayoutModel",
      "state": {
       "_model_module_version": "~2.1.4",
       "_view_module_version": "~2.1.4"
      }
     },
     "5d344beebb6d47828d8e4f941a9ccf16": {
      "model_module": "jupyter-js-widgets",
      "model_module_version": "~2.1.4",
      "model_name": "LayoutModel",
      "state": {
       "_model_module_version": "~2.1.4",
       "_view_module_version": "~2.1.4"
      }
     },
     "5dbad9e9d6674d7ba9b1c40c0c1108f9": {
      "model_module": "jupyter-js-widgets",
      "model_module_version": "~2.1.4",
      "model_name": "LayoutModel",
      "state": {
       "_model_module_version": "~2.1.4",
       "_view_module_version": "~2.1.4"
      }
     },
     "5e4b15fbd06444e089af5e72309cd875": {
      "model_module": "jupyter-js-widgets",
      "model_module_version": "~2.1.4",
      "model_name": "LayoutModel",
      "state": {
       "_model_module_version": "~2.1.4",
       "_view_module_version": "~2.1.4"
      }
     },
     "5f4ae9ae2df2493abfdd1d6b5bd8259f": {
      "model_module": "jupyter-js-widgets",
      "model_module_version": "~2.1.4",
      "model_name": "CheckboxModel",
      "state": {
       "_model_module_version": "~2.1.4",
       "_view_module_version": "~2.1.4",
       "description": "active",
       "disabled": false,
       "layout": "IPY_MODEL_a6168f41110f434d967c33873e52d186",
       "value": true
      }
     },
     "5f78cb1d13be40fa84d4aed846ebc227": {
      "model_module": "jupyter-js-widgets",
      "model_module_version": "~2.1.4",
      "model_name": "HBoxModel",
      "state": {
       "_model_module_version": "~2.1.4",
       "_view_module_version": "~2.1.4",
       "children": [
        "IPY_MODEL_c63ef44d74a34ba6ab9a01aedfbec86b",
        "IPY_MODEL_7a63ee4a912a4f229e86303b501f804f"
       ],
       "layout": "IPY_MODEL_e5c633475c1a4d8586d54f32c5ae6490"
      }
     },
     "5fc9ab6e663544498bdb60481ec34c7c": {
      "model_module": "jupyter-js-widgets",
      "model_module_version": "~2.1.4",
      "model_name": "LayoutModel",
      "state": {
       "_model_module_version": "~2.1.4",
       "_view_module_version": "~2.1.4",
       "flex": "1 1 auto",
       "width": "auto"
      }
     },
     "60e98bfe061b477c82799401e394827c": {
      "model_module": "jupyter-js-widgets",
      "model_module_version": "~2.1.4",
      "model_name": "LayoutModel",
      "state": {
       "_model_module_version": "~2.1.4",
       "_view_module_version": "~2.1.4"
      }
     },
     "637248a5833a4eca91f619394d0ceaa2": {
      "model_module": "jupyter-js-widgets",
      "model_module_version": "~2.1.4",
      "model_name": "ProgressStyleModel",
      "state": {
       "_model_module_version": "~2.1.4",
       "_view_module_version": "~2.1.4"
      }
     },
     "63e1e1d596c94cf7b64131a72587d306": {
      "model_module": "jupyter-js-widgets",
      "model_module_version": "~2.1.4",
      "model_name": "LayoutModel",
      "state": {
       "_model_module_version": "~2.1.4",
       "_view_module_version": "~2.1.4",
       "flex": "0 1 auto",
       "width": "auto"
      }
     },
     "646302eae7a8497ba9f45712a9f16c45": {
      "model_module": "jupyter-js-widgets",
      "model_module_version": "~2.1.4",
      "model_name": "FloatTextModel",
      "state": {
       "_model_module_version": "~2.1.4",
       "_view_module_version": "~2.1.4",
       "description": "max",
       "layout": "IPY_MODEL_2904096c0fbf467597ad116f17e98c3a",
       "value": 10
      }
     },
     "6492a5c2a322439f979cde5c40ee5a93": {
      "model_module": "jupyter-js-widgets",
      "model_module_version": "~2.1.4",
      "model_name": "LayoutModel",
      "state": {
       "_model_module_version": "~2.1.4",
       "_view_module_version": "~2.1.4",
       "flex": "1 1 auto",
       "width": "auto"
      }
     },
     "6557bfe58b714bd3881c2b256a813f7f": {
      "model_module": "jupyter-js-widgets",
      "model_module_version": "~2.1.4",
      "model_name": "LayoutModel",
      "state": {
       "_model_module_version": "~2.1.4",
       "_view_module_version": "~2.1.4"
      }
     },
     "657b642ead674063beb35fa2b3b3a959": {
      "model_module": "jupyter-js-widgets",
      "model_module_version": "~2.1.4",
      "model_name": "ProgressStyleModel",
      "state": {
       "_model_module_version": "~2.1.4",
       "_view_module_version": "~2.1.4"
      }
     },
     "658e0ed9b3b1449b93d3f704dd328e24": {
      "model_module": "jupyter-js-widgets",
      "model_module_version": "~2.1.4",
      "model_name": "LayoutModel",
      "state": {
       "_model_module_version": "~2.1.4",
       "_view_module_version": "~2.1.4",
       "flex": "0 1 auto",
       "width": "auto"
      }
     },
     "660f0e95be2149618cbe95320f8cd987": {
      "model_module": "jupyter-js-widgets",
      "model_module_version": "~2.1.4",
      "model_name": "LayoutModel",
      "state": {
       "_model_module_version": "~2.1.4",
       "_view_module_version": "~2.1.4",
       "flex": "1 1 auto",
       "width": "auto"
      }
     },
     "6712d96de231411a93ee5cfc30777ba4": {
      "model_module": "jupyter-js-widgets",
      "model_module_version": "~2.1.4",
      "model_name": "HBoxModel",
      "state": {
       "_model_module_version": "~2.1.4",
       "_view_module_version": "~2.1.4",
       "children": [
        "IPY_MODEL_8b72f7bef19945c8b46837ce74f29d5f",
        "IPY_MODEL_9bd80e51d06e4dbfbf2c1b76de2ee558",
        "IPY_MODEL_29f572505fac4493a66569e55f1885e0"
       ],
       "layout": "IPY_MODEL_5d21a75cd9cc408f89a3831afdad3c6f"
      }
     },
     "67b257a9dcd7484cb75dd2b631a695bb": {
      "model_module": "jupyter-js-widgets",
      "model_module_version": "~2.1.4",
      "model_name": "ProgressStyleModel",
      "state": {
       "_model_module_version": "~2.1.4",
       "_view_module_version": "~2.1.4"
      }
     },
     "67c24aa16e824c43a95f5f39b7367f16": {
      "model_module": "jupyter-js-widgets",
      "model_module_version": "~2.1.4",
      "model_name": "LayoutModel",
      "state": {
       "_model_module_version": "~2.1.4",
       "_view_module_version": "~2.1.4",
       "flex": "1 1 auto",
       "width": "auto"
      }
     },
     "6b25c6cda39d4cfdbf97e840cf4c49c2": {
      "model_module": "jupyter-js-widgets",
      "model_module_version": "~2.1.4",
      "model_name": "LayoutModel",
      "state": {
       "_model_module_version": "~2.1.4",
       "_view_module_version": "~2.1.4"
      }
     },
     "6b296823160a46f09b6b239379bdc3fe": {
      "model_module": "jupyter-js-widgets",
      "model_module_version": "~2.1.4",
      "model_name": "FloatTextModel",
      "state": {
       "_model_module_version": "~2.1.4",
       "_view_module_version": "~2.1.4",
       "description": "max",
       "layout": "IPY_MODEL_b7a62eb9fb854ca9b1fa18bfae5ef9df",
       "value": 10
      }
     },
     "6b9de89f1af742b7b29188da412c2ac1": {
      "model_module": "jupyter-js-widgets",
      "model_module_version": "~2.1.4",
      "model_name": "FloatSliderModel",
      "state": {
       "_model_module_version": "~2.1.4",
       "_view_module_version": "~2.1.4",
       "description": "centre",
       "layout": "IPY_MODEL_9cb0ff85f51b418c990e8560f18cdaf5",
       "max": 102.30000000000001,
       "step": 0.1,
       "value": 88.5037849806452
      }
     },
     "6c1a8db16d534946933a5e2d5f5171ae": {
      "model_module": "jupyter-js-widgets",
      "model_module_version": "~2.1.4",
      "model_name": "FloatTextModel",
      "state": {
       "_model_module_version": "~2.1.4",
       "_view_module_version": "~2.1.4",
       "description": "max",
       "layout": "IPY_MODEL_0a1231cf61b149fb9de30736245ae931",
       "value": 102.30000000000001
      }
     },
     "6c95b00342254ec595bc539f119b2a91": {
      "model_module": "jupyter-js-widgets",
      "model_module_version": "~2.1.4",
      "model_name": "FloatTextModel",
      "state": {
       "_model_module_version": "~2.1.4",
       "_view_module_version": "~2.1.4",
       "description": "max",
       "layout": "IPY_MODEL_845eb050c3c848ce9c40125724ac0821",
       "value": 10
      }
     },
     "6cb724d96a764b11a48512748f9341ee": {
      "model_module": "jupyter-js-widgets",
      "model_module_version": "~2.1.4",
      "model_name": "HTMLModel",
      "state": {
       "_model_module_version": "~2.1.4",
       "_view_module_version": "~2.1.4",
       "layout": "IPY_MODEL_b9198829d11d4934b8998ed0128aadbd",
       "value": "100% 20/20 [00:00&lt;00:00, 111.94it/s]"
      }
     },
     "6e4421b7c99a4bdb94520fc172731a06": {
      "model_module": "jupyter-js-widgets",
      "model_module_version": "~2.1.4",
      "model_name": "ProgressStyleModel",
      "state": {
       "_model_module_version": "~2.1.4",
       "_view_module_version": "~2.1.4"
      }
     },
     "6ed223da95c6441a971993e9e7164380": {
      "model_module": "jupyter-js-widgets",
      "model_module_version": "~2.1.4",
      "model_name": "LayoutModel",
      "state": {
       "_model_module_version": "~2.1.4",
       "_view_module_version": "~2.1.4"
      }
     },
     "7006c0e1342e4ad09bc90b377fe2a3a4": {
      "model_module": "jupyter-js-widgets",
      "model_module_version": "~2.1.4",
      "model_name": "FloatTextModel",
      "state": {
       "_model_module_version": "~2.1.4",
       "_view_module_version": "~2.1.4",
       "description": "min",
       "layout": "IPY_MODEL_e0904cc318134d22b089d27197e4b6df",
       "value": -9
      }
     },
     "71015ec5b9564554b74fe3d7e66d1735": {
      "model_module": "jupyter-js-widgets",
      "model_module_version": "~2.1.4",
      "model_name": "VBoxModel",
      "state": {
       "_model_module_version": "~2.1.4",
       "_view_module_version": "~2.1.4",
       "children": [
        "IPY_MODEL_1e42c9de022c47b796a01f9dfbab9607",
        "IPY_MODEL_84ef39dddfe44a20b6daccbc25e19a8b",
        "IPY_MODEL_0001f1cc435d42e682ac6ff3db61c73f",
        "IPY_MODEL_c8ea534c595b4b8c91b5c45a58a09511"
       ],
       "layout": "IPY_MODEL_ac9715e20c774af286361415c72c85b6"
      }
     },
     "714fc4d7929d46cca49db2bac8ef0b16": {
      "model_module": "jupyter-js-widgets",
      "model_module_version": "~2.1.4",
      "model_name": "LayoutModel",
      "state": {
       "_model_module_version": "~2.1.4",
       "_view_module_version": "~2.1.4"
      }
     },
     "72979400d97d442f9a70f14bc51afa6e": {
      "model_module": "jupyter-js-widgets",
      "model_module_version": "~2.1.4",
      "model_name": "HTMLModel",
      "state": {
       "_model_module_version": "~2.1.4",
       "_view_module_version": "~2.1.4",
       "layout": "IPY_MODEL_50f6c43b4b3a47978f450f5fe3732f20",
       "value": "100% 20/20 [00:00&lt;00:00, 131.06it/s]"
      }
     },
     "7538505862fc4657a1c6738cbec141d5": {
      "model_module": "jupyter-js-widgets",
      "model_module_version": "~2.1.4",
      "model_name": "AccordionModel",
      "state": {
       "_model_module_version": "~2.1.4",
       "_titles": {
        "0": "large",
        "1": "small"
       },
       "_view_module_version": "~2.1.4",
       "children": [
        "IPY_MODEL_0f7a9a5e506540f5b6ab2b0c532e1580",
        "IPY_MODEL_71015ec5b9564554b74fe3d7e66d1735"
       ],
       "layout": "IPY_MODEL_201cc0e31c6143c795ba239377f6ab95",
       "selected_index": 1
      }
     },
     "7574431bd94f4dc78cc2f4613e6274b8": {
      "model_module": "jupyter-js-widgets",
      "model_module_version": "~2.1.4",
      "model_name": "FloatTextModel",
      "state": {
       "_model_module_version": "~2.1.4",
       "_view_module_version": "~2.1.4",
       "description": "min",
       "layout": "IPY_MODEL_1b6a6f0898f94863aaf89a28d4db92ee"
      }
     },
     "770159025e6342119d30e99dad84130a": {
      "model_module": "jupyter-js-widgets",
      "model_module_version": "~2.1.4",
      "model_name": "LayoutModel",
      "state": {
       "_model_module_version": "~2.1.4",
       "_view_module_version": "~2.1.4"
      }
     },
     "77a1858a6a354ac688efe70de9501baf": {
      "model_module": "jupyter-js-widgets",
      "model_module_version": "~2.1.4",
      "model_name": "LayoutModel",
      "state": {
       "_model_module_version": "~2.1.4",
       "_view_module_version": "~2.1.4"
      }
     },
     "77bf76077009430097b15d6cadf7aef8": {
      "model_module": "jupyter-js-widgets",
      "model_module_version": "~2.1.4",
      "model_name": "ProgressStyleModel",
      "state": {
       "_model_module_version": "~2.1.4",
       "_view_module_version": "~2.1.4"
      }
     },
     "7918008241c141709d2a4e7f7bfd9ae2": {
      "model_module": "jupyter-js-widgets",
      "model_module_version": "~2.1.4",
      "model_name": "LayoutModel",
      "state": {
       "_model_module_version": "~2.1.4",
       "_view_module_version": "~2.1.4"
      }
     },
     "79cd089a120a4d3bb8dd0974a12aaa73": {
      "model_module": "jupyter-js-widgets",
      "model_module_version": "~2.1.4",
      "model_name": "LayoutModel",
      "state": {
       "_model_module_version": "~2.1.4",
       "_view_module_version": "~2.1.4"
      }
     },
     "79e3599d530e4a75b44ff41c426b5e71": {
      "model_module": "jupyter-js-widgets",
      "model_module_version": "~2.1.4",
      "model_name": "LayoutModel",
      "state": {
       "_model_module_version": "~2.1.4",
       "_view_module_version": "~2.1.4"
      }
     },
     "7a4abb277a37407ab2f172e5a0c15684": {
      "model_module": "jupyter-js-widgets",
      "model_module_version": "~2.1.4",
      "model_name": "HBoxModel",
      "state": {
       "_model_module_version": "~2.1.4",
       "_view_module_version": "~2.1.4",
       "children": [
        "IPY_MODEL_da7215196fd54d46a0def4b127b283b4",
        "IPY_MODEL_b7feb132e8fc4f839223e91ae65ac3fa",
        "IPY_MODEL_293187ceb05546cc859e47885506c30a"
       ],
       "layout": "IPY_MODEL_e533c4680d614cdc81619881513a3c0e"
      }
     },
     "7a63ee4a912a4f229e86303b501f804f": {
      "model_module": "jupyter-js-widgets",
      "model_module_version": "~2.1.4",
      "model_name": "HTMLModel",
      "state": {
       "_model_module_version": "~2.1.4",
       "_view_module_version": "~2.1.4",
       "layout": "IPY_MODEL_96a0676d63134a46866f0c6162929a31",
       "value": "100% 20/20 [00:00&lt;00:00, 118.77it/s]"
      }
     },
     "7b39f3471efc47acafdec7f9c8fe7022": {
      "model_module": "jupyter-js-widgets",
      "model_module_version": "~2.1.4",
      "model_name": "LayoutModel",
      "state": {
       "_model_module_version": "~2.1.4",
       "_view_module_version": "~2.1.4",
       "flex": "0 1 auto",
       "width": "auto"
      }
     },
     "7b5790abbc9847c3a18f586ae0c466c9": {
      "model_module": "jupyter-js-widgets",
      "model_module_version": "~2.1.4",
      "model_name": "FloatSliderModel",
      "state": {
       "_model_module_version": "~2.1.4",
       "_view_module_version": "~2.1.4",
       "description": "centre",
       "layout": "IPY_MODEL_ac60169e30dd44d1990cf728b1b7d327",
       "max": 102.30000000000001,
       "step": 0.1,
       "value": 88.5037849806452
      }
     },
     "7b854a7d1ac84300b73a2935d0989674": {
      "model_module": "jupyter-js-widgets",
      "model_module_version": "~2.1.4",
      "model_name": "LayoutModel",
      "state": {
       "_model_module_version": "~2.1.4",
       "_view_module_version": "~2.1.4"
      }
     },
     "7e333774ccaf462c8adbc8fe61a50895": {
      "model_module": "jupyter-js-widgets",
      "model_module_version": "~2.1.4",
      "model_name": "LayoutModel",
      "state": {
       "_model_module_version": "~2.1.4",
       "_view_module_version": "~2.1.4"
      }
     },
     "7e792aad29a54d23a6f4e3b64ccfb354": {
      "model_module": "jupyter-js-widgets",
      "model_module_version": "~2.1.4",
      "model_name": "LayoutModel",
      "state": {
       "_model_module_version": "~2.1.4",
       "_view_module_version": "~2.1.4"
      }
     },
     "7eac6d537a6749988f9b6ff2fcbeeaa8": {
      "model_module": "jupyter-js-widgets",
      "model_module_version": "~2.1.4",
      "model_name": "ProgressStyleModel",
      "state": {
       "_model_module_version": "~2.1.4",
       "_view_module_version": "~2.1.4"
      }
     },
     "7f73b3b2a6f24a0d890322314ed0483f": {
      "model_module": "jupyter-js-widgets",
      "model_module_version": "~2.1.4",
      "model_name": "FloatTextModel",
      "state": {
       "_model_module_version": "~2.1.4",
       "_view_module_version": "~2.1.4",
       "description": "min",
       "layout": "IPY_MODEL_a32628a430ee4592ac49bf3d148cfd9e",
       "value": -10
      }
     },
     "801f7145905e48aca77f43a82b2c53e2": {
      "model_module": "jupyter-js-widgets",
      "model_module_version": "~2.1.4",
      "model_name": "FloatTextModel",
      "state": {
       "_model_module_version": "~2.1.4",
       "_view_module_version": "~2.1.4",
       "description": "max",
       "layout": "IPY_MODEL_d48e07273fd94343bf80e670b48d071b",
       "value": 13.21025838470534
      }
     },
     "802d57ca59514d668884bda467c2156e": {
      "model_module": "jupyter-js-widgets",
      "model_module_version": "~2.1.4",
      "model_name": "LayoutModel",
      "state": {
       "_model_module_version": "~2.1.4",
       "_view_module_version": "~2.1.4",
       "flex": "0 1 auto",
       "width": "auto"
      }
     },
     "80c0bbce2ab34ca0aa81fa5cb3fb7bed": {
      "model_module": "jupyter-js-widgets",
      "model_module_version": "~2.1.4",
      "model_name": "LayoutModel",
      "state": {
       "_model_module_version": "~2.1.4",
       "_view_module_version": "~2.1.4"
      }
     },
     "81bb3e4fe41841cb93bb2e9cd69f5a76": {
      "model_module": "jupyter-js-widgets",
      "model_module_version": "~2.1.4",
      "model_name": "LayoutModel",
      "state": {
       "_model_module_version": "~2.1.4",
       "_view_module_version": "~2.1.4"
      }
     },
     "820f5b87988d47b699bb99322079f96e": {
      "model_module": "jupyter-js-widgets",
      "model_module_version": "~2.1.4",
      "model_name": "FloatTextModel",
      "state": {
       "_model_module_version": "~2.1.4",
       "_view_module_version": "~2.1.4",
       "description": "min",
       "layout": "IPY_MODEL_e686537e04d94395b8988e6580194e1e"
      }
     },
     "825132f996eb45558506da3d1c523903": {
      "model_module": "jupyter-js-widgets",
      "model_module_version": "~2.1.4",
      "model_name": "FloatSliderModel",
      "state": {
       "_model_module_version": "~2.1.4",
       "_view_module_version": "~2.1.4",
       "description": "A",
       "layout": "IPY_MODEL_055afbcabf18441db0fd5bc754806e19",
       "max": 510,
       "step": 0.51,
       "value": 510
      }
     },
     "82650e25bae448b0adc0c3195aeaff07": {
      "model_module": "jupyter-js-widgets",
      "model_module_version": "~2.1.4",
      "model_name": "ProgressStyleModel",
      "state": {
       "_model_module_version": "~2.1.4",
       "_view_module_version": "~2.1.4"
      }
     },
     "82bbaec193054547914a5a8a77a368fd": {
      "model_module": "jupyter-js-widgets",
      "model_module_version": "~2.1.4",
      "model_name": "LayoutModel",
      "state": {
       "_model_module_version": "~2.1.4",
       "_view_module_version": "~2.1.4"
      }
     },
     "82d37664801f4a189d3751f038fc707e": {
      "model_module": "jupyter-js-widgets",
      "model_module_version": "~2.1.4",
      "model_name": "VBoxModel",
      "state": {
       "_model_module_version": "~2.1.4",
       "_view_module_version": "~2.1.4",
       "children": [
        "IPY_MODEL_da58602f80f0453d8920879372074b2c",
        "IPY_MODEL_dfe334e8385a4bce8855d8d428238f07",
        "IPY_MODEL_e510befc0859413a888a3fc1b0d8ac5e",
        "IPY_MODEL_9cfd4a3c97d74ff6ba8cf19ba3b44315"
       ],
       "layout": "IPY_MODEL_77a1858a6a354ac688efe70de9501baf"
      }
     },
     "831d2a2f91c74e9b93399e9f66734baf": {
      "model_module": "jupyter-js-widgets",
      "model_module_version": "~2.1.4",
      "model_name": "HBoxModel",
      "state": {
       "_model_module_version": "~2.1.4",
       "_view_module_version": "~2.1.4",
       "children": [
        "IPY_MODEL_893ff6ad08054f05b5e1bb7852e61976",
        "IPY_MODEL_b3bdd5e33ed3464e9cc62bb9ea8704c7"
       ],
       "layout": "IPY_MODEL_855a375b8247450181fd3853dc363a76"
      }
     },
     "8327adccf48c43d6adadb42d8fe53986": {
      "model_module": "jupyter-js-widgets",
      "model_module_version": "~2.1.4",
      "model_name": "LayoutModel",
      "state": {
       "_model_module_version": "~2.1.4",
       "_view_module_version": "~2.1.4"
      }
     },
     "8351808a49454037b82255397ae84182": {
      "model_module": "jupyter-js-widgets",
      "model_module_version": "~2.1.4",
      "model_name": "FloatTextModel",
      "state": {
       "_model_module_version": "~2.1.4",
       "_view_module_version": "~2.1.4",
       "description": "min",
       "layout": "IPY_MODEL_eacbf0edb3064d95b0b5e0ea720a6c5d",
       "value": -10
      }
     },
     "83c26e2ceae04f51a01b276bf0c8496f": {
      "model_module": "jupyter-js-widgets",
      "model_module_version": "~2.1.4",
      "model_name": "HTMLModel",
      "state": {
       "_model_module_version": "~2.1.4",
       "_view_module_version": "~2.1.4",
       "layout": "IPY_MODEL_5b556f3f39ab4642b2d7f8a256b25189",
       "value": "100% 20/20 [00:00&lt;00:00, 117.22it/s]"
      }
     },
     "845eb050c3c848ce9c40125724ac0821": {
      "model_module": "jupyter-js-widgets",
      "model_module_version": "~2.1.4",
      "model_name": "LayoutModel",
      "state": {
       "_model_module_version": "~2.1.4",
       "_view_module_version": "~2.1.4",
       "flex": "0 1 auto",
       "width": "auto"
      }
     },
     "84b77167fdbe40a486b414aec229118c": {
      "model_module": "jupyter-js-widgets",
      "model_module_version": "~2.1.4",
      "model_name": "HTMLModel",
      "state": {
       "_model_module_version": "~2.1.4",
       "_view_module_version": "~2.1.4",
       "layout": "IPY_MODEL_7b854a7d1ac84300b73a2935d0989674",
       "value": "100% 20/20 [00:00&lt;00:00, 148.03it/s]"
      }
     },
     "84ef39dddfe44a20b6daccbc25e19a8b": {
      "model_module": "jupyter-js-widgets",
      "model_module_version": "~2.1.4",
      "model_name": "HBoxModel",
      "state": {
       "_model_module_version": "~2.1.4",
       "_view_module_version": "~2.1.4",
       "children": [
        "IPY_MODEL_345858497a6346e6931fe4bf06c37720",
        "IPY_MODEL_54efe1b2ec9c45a284950716eff0d205",
        "IPY_MODEL_9c1a440035f74cd8818867987c52469a"
       ],
       "layout": "IPY_MODEL_b73fdbdd52634b9daa64091fd30a0f5c"
      }
     },
     "850711d1789c4391ba748cfe002d5a28": {
      "model_module": "jupyter-js-widgets",
      "model_module_version": "~2.1.4",
      "model_name": "ProgressStyleModel",
      "state": {
       "_model_module_version": "~2.1.4",
       "_view_module_version": "~2.1.4"
      }
     },
     "855a375b8247450181fd3853dc363a76": {
      "model_module": "jupyter-js-widgets",
      "model_module_version": "~2.1.4",
      "model_name": "LayoutModel",
      "state": {
       "_model_module_version": "~2.1.4",
       "_view_module_version": "~2.1.4"
      }
     },
     "857c3172897d4da7af58995e67172422": {
      "model_module": "jupyter-js-widgets",
      "model_module_version": "~2.1.4",
      "model_name": "LayoutModel",
      "state": {
       "_model_module_version": "~2.1.4",
       "_view_module_version": "~2.1.4"
      }
     },
     "867306ed01d74c98949740fe207a89c7": {
      "model_module": "jupyter-js-widgets",
      "model_module_version": "~2.1.4",
      "model_name": "ProgressModel",
      "state": {
       "_model_module_version": "~2.1.4",
       "_view_module_version": "~2.1.4",
       "bar_style": "success",
       "layout": "IPY_MODEL_18769963bda943639c78922600b094b8",
       "max": 20,
       "style": "IPY_MODEL_1188e9d965ef4bc0bb5d750a8f95d039",
       "value": 20
      }
     },
     "8678c08e0a5040558dc7dae302d80857": {
      "model_module": "jupyter-js-widgets",
      "model_module_version": "~2.1.4",
      "model_name": "LayoutModel",
      "state": {
       "_model_module_version": "~2.1.4",
       "_view_module_version": "~2.1.4",
       "flex": "0 1 auto",
       "width": "auto"
      }
     },
     "87397a6f9af34717a3e3c79a6c90f8dd": {
      "model_module": "jupyter-js-widgets",
      "model_module_version": "~2.1.4",
      "model_name": "LayoutModel",
      "state": {
       "_model_module_version": "~2.1.4",
       "_view_module_version": "~2.1.4",
       "flex": "0 1 auto",
       "width": "auto"
      }
     },
     "87ac5a703a8649c58fd7d091dcf0b98e": {
      "model_module": "jupyter-js-widgets",
      "model_module_version": "~2.1.4",
      "model_name": "FloatSliderModel",
      "state": {
       "_model_module_version": "~2.1.4",
       "_view_module_version": "~2.1.4",
       "description": "c",
       "layout": "IPY_MODEL_94c8145251d5413ba1d2219ae8f133a5",
       "max": 10,
       "min": -10,
       "step": 0.02,
       "value": -0.7079632787410637
      }
     },
     "88aea199c8514c29821cf7b86a9d86a3": {
      "model_module": "jupyter-js-widgets",
      "model_module_version": "~2.1.4",
      "model_name": "HBoxModel",
      "state": {
       "_model_module_version": "~2.1.4",
       "_view_module_version": "~2.1.4",
       "children": [
        "IPY_MODEL_d91313a2738e4cdda812e0ef7aa99e76",
        "IPY_MODEL_49301ed0bc95473c96944a7d39811174"
       ],
       "layout": "IPY_MODEL_9f5cdc54cad649548a1489dbae2b5213"
      }
     },
     "893ff6ad08054f05b5e1bb7852e61976": {
      "model_module": "jupyter-js-widgets",
      "model_module_version": "~2.1.4",
      "model_name": "ProgressModel",
      "state": {
       "_model_module_version": "~2.1.4",
       "_view_module_version": "~2.1.4",
       "bar_style": "success",
       "layout": "IPY_MODEL_714fc4d7929d46cca49db2bac8ef0b16",
       "max": 20,
       "style": "IPY_MODEL_850711d1789c4391ba748cfe002d5a28",
       "value": 20
      }
     },
     "89d04d1d1f42416eb51e46948bae5252": {
      "model_module": "jupyter-js-widgets",
      "model_module_version": "~2.1.4",
      "model_name": "HTMLModel",
      "state": {
       "_model_module_version": "~2.1.4",
       "_view_module_version": "~2.1.4",
       "layout": "IPY_MODEL_6b25c6cda39d4cfdbf97e840cf4c49c2",
       "value": "100% 20/20 [00:00&lt;00:00, 101.50it/s]"
      }
     },
     "8b72f7bef19945c8b46837ce74f29d5f": {
      "model_module": "jupyter-js-widgets",
      "model_module_version": "~2.1.4",
      "model_name": "FloatTextModel",
      "state": {
       "_model_module_version": "~2.1.4",
       "_view_module_version": "~2.1.4",
       "description": "min",
       "layout": "IPY_MODEL_40282a56c99a44c58e250bacf41fad69",
       "value": -10
      }
     },
     "8d16b51a8c9449eab1246a120f0d85c4": {
      "model_module": "jupyter-js-widgets",
      "model_module_version": "~2.1.4",
      "model_name": "HTMLModel",
      "state": {
       "_model_module_version": "~2.1.4",
       "_view_module_version": "~2.1.4",
       "layout": "IPY_MODEL_5c6c2a36f69540afa6fa453fab36430a",
       "value": "100% 20/20 [00:00&lt;00:00, 116.48it/s]"
      }
     },
     "8d6eef56ce634cd0b14ed80df23fb4e6": {
      "model_module": "jupyter-js-widgets",
      "model_module_version": "~2.1.4",
      "model_name": "LayoutModel",
      "state": {
       "_model_module_version": "~2.1.4",
       "_view_module_version": "~2.1.4",
       "display": "flex",
       "flex_flow": "row",
       "justify_content": "space-between"
      }
     },
     "8df1a04c7f074402b8dc5e5f639c96a9": {
      "model_module": "jupyter-js-widgets",
      "model_module_version": "~2.1.4",
      "model_name": "LayoutModel",
      "state": {
       "_model_module_version": "~2.1.4",
       "_view_module_version": "~2.1.4",
       "flex": "0 1 auto",
       "width": "auto"
      }
     },
     "8e397ac8275d47f1ab1ad6ccf0bdc233": {
      "model_module": "jupyter-js-widgets",
      "model_module_version": "~2.1.4",
      "model_name": "LayoutModel",
      "state": {
       "_model_module_version": "~2.1.4",
       "_view_module_version": "~2.1.4",
       "flex": "1 1 auto",
       "width": "auto"
      }
     },
     "8ec15df5fcf4437dbe4b8b2faa3b8f45": {
      "model_module": "jupyter-js-widgets",
      "model_module_version": "~2.1.4",
      "model_name": "FloatSliderModel",
      "state": {
       "_model_module_version": "~2.1.4",
       "_view_module_version": "~2.1.4",
       "description": "sigma",
       "layout": "IPY_MODEL_2f316b0a69994af6b77a57c531ad4f56",
       "max": 39.952469314589244,
       "min": 19.952469314589244,
       "step": 0.02,
       "value": 29.918931899749882
      }
     },
     "8f09019025d64aafa45cf8a516aaea6c": {
      "model_module": "jupyter-js-widgets",
      "model_module_version": "~2.1.4",
      "model_name": "LayoutModel",
      "state": {
       "_model_module_version": "~2.1.4",
       "_view_module_version": "~2.1.4"
      }
     },
     "8f98f1f79a154a43bae99460e9f67679": {
      "model_module": "jupyter-js-widgets",
      "model_module_version": "~2.1.4",
      "model_name": "FloatTextModel",
      "state": {
       "_model_module_version": "~2.1.4",
       "_view_module_version": "~2.1.4",
       "description": "min",
       "layout": "IPY_MODEL_4230e9ed5d334888bcc2c4be53431915"
      }
     },
     "90905eb9cdd14678b1568cb6c48cca70": {
      "model_module": "jupyter-js-widgets",
      "model_module_version": "~2.1.4",
      "model_name": "HBoxModel",
      "state": {
       "_model_module_version": "~2.1.4",
       "_view_module_version": "~2.1.4",
       "children": [
        "IPY_MODEL_cfd468b026ef4d0aac698a2be5497f61",
        "IPY_MODEL_83c26e2ceae04f51a01b276bf0c8496f"
       ],
       "layout": "IPY_MODEL_8f09019025d64aafa45cf8a516aaea6c"
      }
     },
     "90ca3f893aa54a6187fe68d31117d680": {
      "model_module": "jupyter-js-widgets",
      "model_module_version": "~2.1.4",
      "model_name": "FloatTextModel",
      "state": {
       "_model_module_version": "~2.1.4",
       "_view_module_version": "~2.1.4",
       "description": "max",
       "layout": "IPY_MODEL_fb69962a51d7418cbe7607520fb470bb",
       "value": 29828.621997079612
      }
     },
     "915041b7b3ae49d2b2c136d40c4ef360": {
      "model_module": "jupyter-js-widgets",
      "model_module_version": "~2.1.4",
      "model_name": "LayoutModel",
      "state": {
       "_model_module_version": "~2.1.4",
       "_view_module_version": "~2.1.4"
      }
     },
     "917ce5b080d344d8a243fb76a92d26fe": {
      "model_module": "jupyter-js-widgets",
      "model_module_version": "~2.1.4",
      "model_name": "ProgressStyleModel",
      "state": {
       "_model_module_version": "~2.1.4",
       "_view_module_version": "~2.1.4"
      }
     },
     "91add381e33f4161aa8a2684abe3b10a": {
      "model_module": "jupyter-js-widgets",
      "model_module_version": "~2.1.4",
      "model_name": "ButtonStyleModel",
      "state": {
       "_model_module_version": "~2.1.4",
       "_view_module_version": "~2.1.4"
      }
     },
     "9292c92de9a044ae9acbc3c505f6067e": {
      "model_module": "jupyter-js-widgets",
      "model_module_version": "~2.1.4",
      "model_name": "LayoutModel",
      "state": {
       "_model_module_version": "~2.1.4",
       "_view_module_version": "~2.1.4",
       "flex": "0 1 auto",
       "width": "auto"
      }
     },
     "942858ec718048eab4829c00c1a67980": {
      "model_module": "jupyter-js-widgets",
      "model_module_version": "~2.1.4",
      "model_name": "ProgressModel",
      "state": {
       "_model_module_version": "~2.1.4",
       "_view_module_version": "~2.1.4",
       "bar_style": "success",
       "layout": "IPY_MODEL_79e3599d530e4a75b44ff41c426b5e71",
       "max": 20,
       "style": "IPY_MODEL_67b257a9dcd7484cb75dd2b631a695bb",
       "value": 20
      }
     },
     "94c8145251d5413ba1d2219ae8f133a5": {
      "model_module": "jupyter-js-widgets",
      "model_module_version": "~2.1.4",
      "model_name": "LayoutModel",
      "state": {
       "_model_module_version": "~2.1.4",
       "_view_module_version": "~2.1.4",
       "flex": "1 1 auto",
       "width": "auto"
      }
     },
     "96a0676d63134a46866f0c6162929a31": {
      "model_module": "jupyter-js-widgets",
      "model_module_version": "~2.1.4",
      "model_name": "LayoutModel",
      "state": {
       "_model_module_version": "~2.1.4",
       "_view_module_version": "~2.1.4"
      }
     },
     "970b4876abec43678e7789ffb56e459b": {
      "model_module": "jupyter-js-widgets",
      "model_module_version": "~2.1.4",
      "model_name": "LayoutModel",
      "state": {
       "_model_module_version": "~2.1.4",
       "_view_module_version": "~2.1.4"
      }
     },
     "97cc879c0de54e96983be0dd55ec9483": {
      "model_module": "jupyter-js-widgets",
      "model_module_version": "~2.1.4",
      "model_name": "LayoutModel",
      "state": {
       "_model_module_version": "~2.1.4",
       "_view_module_version": "~2.1.4",
       "flex": "0 1 auto",
       "width": "auto"
      }
     },
     "982b93d5a1814e83bffb05bed39ac4da": {
      "model_module": "jupyter-js-widgets",
      "model_module_version": "~2.1.4",
      "model_name": "LayoutModel",
      "state": {
       "_model_module_version": "~2.1.4",
       "_view_module_version": "~2.1.4"
      }
     },
     "99cca42389684c48a548dcc19f8b361f": {
      "model_module": "jupyter-js-widgets",
      "model_module_version": "~2.1.4",
      "model_name": "FloatSliderModel",
      "state": {
       "_model_module_version": "~2.1.4",
       "_view_module_version": "~2.1.4",
       "description": "centre",
       "layout": "IPY_MODEL_3be22d964726488a824b711b2dbfd7f3",
       "max": 299.90000000000003,
       "step": 0.1,
       "value": 149.95000000166183
      }
     },
     "99fd87f6d4fc4d5d974d64652704683e": {
      "model_module": "jupyter-js-widgets",
      "model_module_version": "~2.1.4",
      "model_name": "LayoutModel",
      "state": {
       "_model_module_version": "~2.1.4",
       "_view_module_version": "~2.1.4"
      }
     },
     "9aa898f0c993470c96f88992c6156d4b": {
      "model_module": "jupyter-js-widgets",
      "model_module_version": "~2.1.4",
      "model_name": "LayoutModel",
      "state": {
       "_model_module_version": "~2.1.4",
       "_view_module_version": "~2.1.4",
       "flex": "1 1 auto",
       "width": "auto"
      }
     },
     "9b4519d5bc984d88a44aef11103810c4": {
      "model_module": "jupyter-js-widgets",
      "model_module_version": "~2.1.4",
      "model_name": "LayoutModel",
      "state": {
       "_model_module_version": "~2.1.4",
       "_view_module_version": "~2.1.4"
      }
     },
     "9bd80e51d06e4dbfbf2c1b76de2ee558": {
      "model_module": "jupyter-js-widgets",
      "model_module_version": "~2.1.4",
      "model_name": "FloatSliderModel",
      "state": {
       "_model_module_version": "~2.1.4",
       "_view_module_version": "~2.1.4",
       "description": "1",
       "layout": "IPY_MODEL_bd4e537ca89e4361a6c31c315ad9a6d3",
       "max": 10,
       "min": -10,
       "step": 0.02
      }
     },
     "9bdbeeeec9f045cfb8aa78f6628533b7": {
      "model_module": "jupyter-js-widgets",
      "model_module_version": "~2.1.4",
      "model_name": "FloatTextModel",
      "state": {
       "_model_module_version": "~2.1.4",
       "_view_module_version": "~2.1.4",
       "description": "min",
       "layout": "IPY_MODEL_a0fe448bb1d44e81a35a0794427f8153"
      }
     },
     "9be27b56687242978bb5389485dba897": {
      "model_module": "jupyter-js-widgets",
      "model_module_version": "~2.1.4",
      "model_name": "LayoutModel",
      "state": {
       "_model_module_version": "~2.1.4",
       "_view_module_version": "~2.1.4"
      }
     },
     "9be467ff5b584f7ebd9c6d88cf869c4b": {
      "model_module": "jupyter-js-widgets",
      "model_module_version": "~2.1.4",
      "model_name": "AccordionModel",
      "state": {
       "_model_module_version": "~2.1.4",
       "_titles": {
        "0": "coefficients"
       },
       "_view_module_version": "~2.1.4",
       "children": [
        "IPY_MODEL_5907e7736eb24518978b66b8cbea5c87"
       ],
       "layout": "IPY_MODEL_99fd87f6d4fc4d5d974d64652704683e"
      }
     },
     "9c1a440035f74cd8818867987c52469a": {
      "model_module": "jupyter-js-widgets",
      "model_module_version": "~2.1.4",
      "model_name": "FloatTextModel",
      "state": {
       "_model_module_version": "~2.1.4",
       "_view_module_version": "~2.1.4",
       "description": "max",
       "layout": "IPY_MODEL_00aa61845cf1413ebf431bd37a545c97",
       "value": 545.5584819635573
      }
     },
     "9c25298fd91342ccab95471a13990302": {
      "model_module": "jupyter-js-widgets",
      "model_module_version": "~2.1.4",
      "model_name": "LayoutModel",
      "state": {
       "_model_module_version": "~2.1.4",
       "_view_module_version": "~2.1.4",
       "flex": "0 1 auto",
       "width": "auto"
      }
     },
     "9c5c03c6538f49449e3f0dffab08dd8c": {
      "model_module": "jupyter-js-widgets",
      "model_module_version": "~2.1.4",
      "model_name": "CheckboxModel",
      "state": {
       "_model_module_version": "~2.1.4",
       "_view_module_version": "~2.1.4",
       "description": "active",
       "disabled": false,
       "layout": "IPY_MODEL_80c0bbce2ab34ca0aa81fa5cb3fb7bed",
       "value": true
      }
     },
     "9c7848cbc8d642c7957234d6850aba76": {
      "model_module": "jupyter-js-widgets",
      "model_module_version": "~2.1.4",
      "model_name": "LayoutModel",
      "state": {
       "_model_module_version": "~2.1.4",
       "_view_module_version": "~2.1.4",
       "flex": "0 1 auto",
       "width": "auto"
      }
     },
     "9cb0ff85f51b418c990e8560f18cdaf5": {
      "model_module": "jupyter-js-widgets",
      "model_module_version": "~2.1.4",
      "model_name": "LayoutModel",
      "state": {
       "_model_module_version": "~2.1.4",
       "_view_module_version": "~2.1.4",
       "flex": "1 1 auto",
       "width": "auto"
      }
     },
     "9cfd4a3c97d74ff6ba8cf19ba3b44315": {
      "model_module": "jupyter-js-widgets",
      "model_module_version": "~2.1.4",
      "model_name": "HBoxModel",
      "state": {
       "_model_module_version": "~2.1.4",
       "_view_module_version": "~2.1.4",
       "children": [
        "IPY_MODEL_e570c5a9a6894ec6b9fa1bb84e2c5e68",
        "IPY_MODEL_87ac5a703a8649c58fd7d091dcf0b98e",
        "IPY_MODEL_440aace8e21947a0980a82048b50440c"
       ],
       "layout": "IPY_MODEL_fc26fa25bd8847d6b105548ac0dd055a"
      }
     },
     "9dccc99dc3b94dad962ffeee0ce81de2": {
      "model_module": "jupyter-js-widgets",
      "model_module_version": "~2.1.4",
      "model_name": "LayoutModel",
      "state": {
       "_model_module_version": "~2.1.4",
       "_view_module_version": "~2.1.4"
      }
     },
     "9f2e095a2f4b444ba9da8df39fd4be70": {
      "model_module": "jupyter-js-widgets",
      "model_module_version": "~2.1.4",
      "model_name": "FloatSliderModel",
      "state": {
       "_model_module_version": "~2.1.4",
       "_view_module_version": "~2.1.4",
       "description": "sigma",
       "layout": "IPY_MODEL_5fc9ab6e663544498bdb60481ec34c7c",
       "max": 40,
       "min": 20,
       "step": 0.02,
       "value": 29.918931899749882
      }
     },
     "9f5cdc54cad649548a1489dbae2b5213": {
      "model_module": "jupyter-js-widgets",
      "model_module_version": "~2.1.4",
      "model_name": "LayoutModel",
      "state": {
       "_model_module_version": "~2.1.4",
       "_view_module_version": "~2.1.4"
      }
     },
     "a0fe448bb1d44e81a35a0794427f8153": {
      "model_module": "jupyter-js-widgets",
      "model_module_version": "~2.1.4",
      "model_name": "LayoutModel",
      "state": {
       "_model_module_version": "~2.1.4",
       "_view_module_version": "~2.1.4",
       "flex": "0 1 auto",
       "width": "auto"
      }
     },
     "a148d47df79c4d2bb78d1548b5f0b3b5": {
      "model_module": "jupyter-js-widgets",
      "model_module_version": "~2.1.4",
      "model_name": "LayoutModel",
      "state": {
       "_model_module_version": "~2.1.4",
       "_view_module_version": "~2.1.4",
       "flex": "0 1 auto",
       "width": "auto"
      }
     },
     "a298d02456f64475ac363422c090e065": {
      "model_module": "jupyter-js-widgets",
      "model_module_version": "~2.1.4",
      "model_name": "LayoutModel",
      "state": {
       "_model_module_version": "~2.1.4",
       "_view_module_version": "~2.1.4"
      }
     },
     "a32628a430ee4592ac49bf3d148cfd9e": {
      "model_module": "jupyter-js-widgets",
      "model_module_version": "~2.1.4",
      "model_name": "LayoutModel",
      "state": {
       "_model_module_version": "~2.1.4",
       "_view_module_version": "~2.1.4",
       "flex": "0 1 auto",
       "width": "auto"
      }
     },
     "a342b4d4644549a39a8ec74f92900fa9": {
      "model_module": "jupyter-js-widgets",
      "model_module_version": "~2.1.4",
      "model_name": "LayoutModel",
      "state": {
       "_model_module_version": "~2.1.4",
       "_view_module_version": "~2.1.4"
      }
     },
     "a3dfeb11274a447d8202516e2bd81ff4": {
      "model_module": "jupyter-js-widgets",
      "model_module_version": "~2.1.4",
      "model_name": "ProgressStyleModel",
      "state": {
       "_model_module_version": "~2.1.4",
       "_view_module_version": "~2.1.4"
      }
     },
     "a4f67beaa573441ead4f375587aae072": {
      "model_module": "jupyter-js-widgets",
      "model_module_version": "~2.1.4",
      "model_name": "LayoutModel",
      "state": {
       "_model_module_version": "~2.1.4",
       "_view_module_version": "~2.1.4",
       "display": "flex",
       "flex_flow": "row",
       "justify_content": "space-between"
      }
     },
     "a58d98721e404119b6047e7dc680a5c8": {
      "model_module": "jupyter-js-widgets",
      "model_module_version": "~2.1.4",
      "model_name": "FloatTextModel",
      "state": {
       "_model_module_version": "~2.1.4",
       "_view_module_version": "~2.1.4",
       "description": "min",
       "layout": "IPY_MODEL_bd2a4ad79f3845f69b4d1f0b12707b4b",
       "value": 19.952469314589244
      }
     },
     "a6168f41110f434d967c33873e52d186": {
      "model_module": "jupyter-js-widgets",
      "model_module_version": "~2.1.4",
      "model_name": "LayoutModel",
      "state": {
       "_model_module_version": "~2.1.4",
       "_view_module_version": "~2.1.4"
      }
     },
     "a85fcb27b0f14816be2d36c3eeea59bd": {
      "model_module": "jupyter-js-widgets",
      "model_module_version": "~2.1.4",
      "model_name": "LayoutModel",
      "state": {
       "_model_module_version": "~2.1.4",
       "_view_module_version": "~2.1.4"
      }
     },
     "a8d8f984f97e403aac6bcbc386a5a11f": {
      "model_module": "jupyter-js-widgets",
      "model_module_version": "~2.1.4",
      "model_name": "VBoxModel",
      "state": {
       "_model_module_version": "~2.1.4",
       "_view_module_version": "~2.1.4",
       "children": [
        "IPY_MODEL_b5ca01eda67f49d89332e13cce5a2ccd",
        "IPY_MODEL_eb978d4278ff4ac09e3008bb105610cd",
        "IPY_MODEL_52928f4731f042eb9cc45073428495d1",
        "IPY_MODEL_482f35464bd546b2b183309a3beafc7e"
       ],
       "layout": "IPY_MODEL_a298d02456f64475ac363422c090e065"
      }
     },
     "a90fab514e4c42b09d894d0f6051ad18": {
      "model_module": "jupyter-js-widgets",
      "model_module_version": "~2.1.4",
      "model_name": "LayoutModel",
      "state": {
       "_model_module_version": "~2.1.4",
       "_view_module_version": "~2.1.4"
      }
     },
     "a95bbad39e534cc5851d028b96194a1c": {
      "model_module": "jupyter-js-widgets",
      "model_module_version": "~2.1.4",
      "model_name": "ProgressStyleModel",
      "state": {
       "_model_module_version": "~2.1.4",
       "_view_module_version": "~2.1.4"
      }
     },
     "aa16e47c899d4a3da4a8c7f7d57c897e": {
      "model_module": "jupyter-js-widgets",
      "model_module_version": "~2.1.4",
      "model_name": "FloatSliderModel",
      "state": {
       "_model_module_version": "~2.1.4",
       "_view_module_version": "~2.1.4",
       "description": "b",
       "layout": "IPY_MODEL_f5732b803a964d449684ac1d9fc47618",
       "max": 10,
       "min": -10,
       "step": 0.02,
       "value": 0.10003334452108
      }
     },
     "aa469cc4b5714806bb3c3eed14c3700f": {
      "model_module": "jupyter-js-widgets",
      "model_module_version": "~2.1.4",
      "model_name": "HBoxModel",
      "state": {
       "_model_module_version": "~2.1.4",
       "_view_module_version": "~2.1.4",
       "children": [
        "IPY_MODEL_a58d98721e404119b6047e7dc680a5c8",
        "IPY_MODEL_8ec15df5fcf4437dbe4b8b2faa3b8f45",
        "IPY_MODEL_b14f6e4befad4948966ae071e951cc50"
       ],
       "layout": "IPY_MODEL_970b4876abec43678e7789ffb56e459b"
      }
     },
     "ac60169e30dd44d1990cf728b1b7d327": {
      "model_module": "jupyter-js-widgets",
      "model_module_version": "~2.1.4",
      "model_name": "LayoutModel",
      "state": {
       "_model_module_version": "~2.1.4",
       "_view_module_version": "~2.1.4",
       "flex": "1 1 auto",
       "width": "auto"
      }
     },
     "ac9715e20c774af286361415c72c85b6": {
      "model_module": "jupyter-js-widgets",
      "model_module_version": "~2.1.4",
      "model_name": "LayoutModel",
      "state": {
       "_model_module_version": "~2.1.4",
       "_view_module_version": "~2.1.4"
      }
     },
     "ad7708107287436c8fee8c3c77631e2c": {
      "model_module": "jupyter-js-widgets",
      "model_module_version": "~2.1.4",
      "model_name": "LayoutModel",
      "state": {
       "_model_module_version": "~2.1.4",
       "_view_module_version": "~2.1.4"
      }
     },
     "ae7c0cd0fd5f4c20bde54e21c80f3605": {
      "model_module": "jupyter-js-widgets",
      "model_module_version": "~2.1.4",
      "model_name": "FloatTextModel",
      "state": {
       "_model_module_version": "~2.1.4",
       "_view_module_version": "~2.1.4",
       "description": "max",
       "layout": "IPY_MODEL_57506e0f387d45f4a30063fa2273d30f",
       "value": 11
      }
     },
     "aedc7890c1b1451bb8a4eae2710240e4": {
      "model_module": "jupyter-js-widgets",
      "model_module_version": "~2.1.4",
      "model_name": "ProgressModel",
      "state": {
       "_model_module_version": "~2.1.4",
       "_view_module_version": "~2.1.4",
       "bar_style": "success",
       "layout": "IPY_MODEL_7918008241c141709d2a4e7f7bfd9ae2",
       "max": 20,
       "style": "IPY_MODEL_1177bd1a8e374a63a84a30e3e9e550ba",
       "value": 20
      }
     },
     "afdc67afbf0c4b668c57a0206503df35": {
      "model_module": "jupyter-js-widgets",
      "model_module_version": "~2.1.4",
      "model_name": "LayoutModel",
      "state": {
       "_model_module_version": "~2.1.4",
       "_view_module_version": "~2.1.4"
      }
     },
     "b14f6e4befad4948966ae071e951cc50": {
      "model_module": "jupyter-js-widgets",
      "model_module_version": "~2.1.4",
      "model_name": "FloatTextModel",
      "state": {
       "_model_module_version": "~2.1.4",
       "_view_module_version": "~2.1.4",
       "description": "max",
       "layout": "IPY_MODEL_f73d12dd0f3540489bd768a606103919",
       "value": 39.952469314589244
      }
     },
     "b20b3c2cc1ac498d9103baa03639419b": {
      "model_module": "jupyter-js-widgets",
      "model_module_version": "~2.1.4",
      "model_name": "LayoutModel",
      "state": {
       "_model_module_version": "~2.1.4",
       "_view_module_version": "~2.1.4",
       "flex": "1 1 auto",
       "width": "auto"
      }
     },
     "b21039632b3546c8bf61a2f9d2ea3a62": {
      "model_module": "jupyter-js-widgets",
      "model_module_version": "~2.1.4",
      "model_name": "FloatTextModel",
      "state": {
       "_model_module_version": "~2.1.4",
       "_view_module_version": "~2.1.4",
       "description": "min",
       "layout": "IPY_MODEL_7b39f3471efc47acafdec7f9c8fe7022"
      }
     },
     "b262f9ae421241d8bdaab5b402f03667": {
      "model_module": "jupyter-js-widgets",
      "model_module_version": "~2.1.4",
      "model_name": "LayoutModel",
      "state": {
       "_model_module_version": "~2.1.4",
       "_view_module_version": "~2.1.4",
       "flex": "0 1 auto",
       "width": "auto"
      }
     },
     "b2d11b328ea7484e8f4249e5d7c4bc78": {
      "model_module": "jupyter-js-widgets",
      "model_module_version": "~2.1.4",
      "model_name": "LayoutModel",
      "state": {
       "_model_module_version": "~2.1.4",
       "_view_module_version": "~2.1.4"
      }
     },
     "b3bdd5e33ed3464e9cc62bb9ea8704c7": {
      "model_module": "jupyter-js-widgets",
      "model_module_version": "~2.1.4",
      "model_name": "HTMLModel",
      "state": {
       "_model_module_version": "~2.1.4",
       "_view_module_version": "~2.1.4",
       "layout": "IPY_MODEL_146ece6d3ced40698dbd97edc387cf07",
       "value": "100% 20/20 [00:00&lt;00:00, 79.70it/s]"
      }
     },
     "b4655af0a11c4c0abf919ba70997a977": {
      "model_module": "jupyter-js-widgets",
      "model_module_version": "~2.1.4",
      "model_name": "LayoutModel",
      "state": {
       "_model_module_version": "~2.1.4",
       "_view_module_version": "~2.1.4"
      }
     },
     "b4ede3cf3b874bbda91094e0e6f02aa4": {
      "model_module": "jupyter-js-widgets",
      "model_module_version": "~2.1.4",
      "model_name": "LayoutModel",
      "state": {
       "_model_module_version": "~2.1.4",
       "_view_module_version": "~2.1.4",
       "flex": "1 1 auto",
       "width": "auto"
      }
     },
     "b5c65ff4b766488ba3042abc27559c1e": {
      "model_module": "jupyter-js-widgets",
      "model_module_version": "~2.1.4",
      "model_name": "ProgressModel",
      "state": {
       "_model_module_version": "~2.1.4",
       "_view_module_version": "~2.1.4",
       "bar_style": "success",
       "layout": "IPY_MODEL_fad9ab964c68402699f91ff337812e1b",
       "max": 20,
       "style": "IPY_MODEL_26d56513a0034b4dbb79870630945a59",
       "value": 20
      }
     },
     "b5ca01eda67f49d89332e13cce5a2ccd": {
      "model_module": "jupyter-js-widgets",
      "model_module_version": "~2.1.4",
      "model_name": "CheckboxModel",
      "state": {
       "_model_module_version": "~2.1.4",
       "_view_module_version": "~2.1.4",
       "description": "active",
       "disabled": false,
       "layout": "IPY_MODEL_e7f89c64ad32458a8092a4a268fa4a95",
       "value": true
      }
     },
     "b73fdbdd52634b9daa64091fd30a0f5c": {
      "model_module": "jupyter-js-widgets",
      "model_module_version": "~2.1.4",
      "model_name": "LayoutModel",
      "state": {
       "_model_module_version": "~2.1.4",
       "_view_module_version": "~2.1.4"
      }
     },
     "b7a62eb9fb854ca9b1fa18bfae5ef9df": {
      "model_module": "jupyter-js-widgets",
      "model_module_version": "~2.1.4",
      "model_name": "LayoutModel",
      "state": {
       "_model_module_version": "~2.1.4",
       "_view_module_version": "~2.1.4",
       "flex": "0 1 auto",
       "width": "auto"
      }
     },
     "b7feb132e8fc4f839223e91ae65ac3fa": {
      "model_module": "jupyter-js-widgets",
      "model_module_version": "~2.1.4",
      "model_name": "FloatSliderModel",
      "state": {
       "_model_module_version": "~2.1.4",
       "_view_module_version": "~2.1.4",
       "description": "A",
       "layout": "IPY_MODEL_57f50811685b4980887bf07c543c5fdb",
       "step": 0.1,
       "value": 100
      }
     },
     "b9198829d11d4934b8998ed0128aadbd": {
      "model_module": "jupyter-js-widgets",
      "model_module_version": "~2.1.4",
      "model_name": "LayoutModel",
      "state": {
       "_model_module_version": "~2.1.4",
       "_view_module_version": "~2.1.4"
      }
     },
     "bb1956b0ea2c4cff8943d1522be4eb2f": {
      "model_module": "jupyter-js-widgets",
      "model_module_version": "~2.1.4",
      "model_name": "FloatSliderModel",
      "state": {
       "_model_module_version": "~2.1.4",
       "_view_module_version": "~2.1.4",
       "description": "sigma",
       "layout": "IPY_MODEL_25b56b5cf0824974ad25ca11bc902c3d",
       "max": 11,
       "min": -9,
       "step": 0.02,
       "value": 2.9251487948880377
      }
     },
     "bb52e2e377a142ce85fccfebcf73d8b5": {
      "model_module": "jupyter-js-widgets",
      "model_module_version": "~2.1.4",
      "model_name": "LayoutModel",
      "state": {
       "_model_module_version": "~2.1.4",
       "_view_module_version": "~2.1.4"
      }
     },
     "bbc2dcbd5b21488f9c3617696e2a5649": {
      "model_module": "jupyter-js-widgets",
      "model_module_version": "~2.1.4",
      "model_name": "LayoutModel",
      "state": {
       "_model_module_version": "~2.1.4",
       "_view_module_version": "~2.1.4"
      }
     },
     "bd226476c35047afb3adb480a1bb6cdb": {
      "model_module": "jupyter-js-widgets",
      "model_module_version": "~2.1.4",
      "model_name": "LayoutModel",
      "state": {
       "_model_module_version": "~2.1.4",
       "_view_module_version": "~2.1.4"
      }
     },
     "bd2a4ad79f3845f69b4d1f0b12707b4b": {
      "model_module": "jupyter-js-widgets",
      "model_module_version": "~2.1.4",
      "model_name": "LayoutModel",
      "state": {
       "_model_module_version": "~2.1.4",
       "_view_module_version": "~2.1.4",
       "flex": "0 1 auto",
       "width": "auto"
      }
     },
     "bd4e537ca89e4361a6c31c315ad9a6d3": {
      "model_module": "jupyter-js-widgets",
      "model_module_version": "~2.1.4",
      "model_name": "LayoutModel",
      "state": {
       "_model_module_version": "~2.1.4",
       "_view_module_version": "~2.1.4",
       "flex": "1 1 auto",
       "width": "auto"
      }
     },
     "bf360c54a2374052b2e03e565bb40bb0": {
      "model_module": "jupyter-js-widgets",
      "model_module_version": "~2.1.4",
      "model_name": "HTMLModel",
      "state": {
       "_model_module_version": "~2.1.4",
       "_view_module_version": "~2.1.4",
       "layout": "IPY_MODEL_582dcd19bc3841efbfac8d41672cb2d7",
       "value": "100% 20/20 [00:00&lt;00:00, 93.85it/s]"
      }
     },
     "c086f4773b4e4a77a5abf88e07740803": {
      "model_module": "jupyter-js-widgets",
      "model_module_version": "~2.1.4",
      "model_name": "LayoutModel",
      "state": {
       "_model_module_version": "~2.1.4",
       "_view_module_version": "~2.1.4"
      }
     },
     "c10234a3ed2240cfa456637ba6f13d43": {
      "model_module": "jupyter-js-widgets",
      "model_module_version": "~2.1.4",
      "model_name": "HBoxModel",
      "state": {
       "_model_module_version": "~2.1.4",
       "_view_module_version": "~2.1.4",
       "children": [
        "IPY_MODEL_dfd3b6e694514aef8e1b0e717245b4f9",
        "IPY_MODEL_5571e75e328e468e83e16733c71168be",
        "IPY_MODEL_6b296823160a46f09b6b239379bdc3fe"
       ],
       "layout": "IPY_MODEL_3892d4da5a84447ca7bff56448ebb700"
      }
     },
     "c1458ab26bd54919bddb7e0480834362": {
      "model_module": "jupyter-js-widgets",
      "model_module_version": "~2.1.4",
      "model_name": "LayoutModel",
      "state": {
       "_model_module_version": "~2.1.4",
       "_view_module_version": "~2.1.4",
       "flex": "0 1 auto",
       "width": "auto"
      }
     },
     "c18dfa5187384304884a5938439fad73": {
      "model_module": "jupyter-js-widgets",
      "model_module_version": "~2.1.4",
      "model_name": "FloatTextModel",
      "state": {
       "_model_module_version": "~2.1.4",
       "_view_module_version": "~2.1.4",
       "description": "max",
       "layout": "IPY_MODEL_63e1e1d596c94cf7b64131a72587d306",
       "value": 40
      }
     },
     "c2794a9685c741b290991db56fe18abb": {
      "model_module": "jupyter-js-widgets",
      "model_module_version": "~2.1.4",
      "model_name": "HBoxModel",
      "state": {
       "_model_module_version": "~2.1.4",
       "_view_module_version": "~2.1.4",
       "children": [
        "IPY_MODEL_8f98f1f79a154a43bae99460e9f67679",
        "IPY_MODEL_21e6fe97fa504afd8238951295a0f5a0",
        "IPY_MODEL_90ca3f893aa54a6187fe68d31117d680"
       ],
       "layout": "IPY_MODEL_cee01459586f4830ace93923eaf277a4"
      }
     },
     "c33cf460a93a4ed382f16f8c29c2ef67": {
      "model_module": "jupyter-js-widgets",
      "model_module_version": "~2.1.4",
      "model_name": "FloatSliderModel",
      "state": {
       "_model_module_version": "~2.1.4",
       "_view_module_version": "~2.1.4",
       "description": "A",
       "layout": "IPY_MODEL_67c24aa16e824c43a95f5f39b7367f16",
       "max": 10,
       "min": -10,
       "step": 0.02,
       "value": -2.9999999983521404
      }
     },
     "c3aadf3d8d9f4ef1afc9803278eed5af": {
      "model_module": "jupyter-js-widgets",
      "model_module_version": "~2.1.4",
      "model_name": "LayoutModel",
      "state": {
       "_model_module_version": "~2.1.4",
       "_view_module_version": "~2.1.4",
       "flex": "1 1 auto",
       "width": "auto"
      }
     },
     "c4d98f9ed5674385a5ac96bbaa8d76da": {
      "model_module": "jupyter-js-widgets",
      "model_module_version": "~2.1.4",
      "model_name": "HTMLModel",
      "state": {
       "_model_module_version": "~2.1.4",
       "_view_module_version": "~2.1.4",
       "layout": "IPY_MODEL_a90fab514e4c42b09d894d0f6051ad18",
       "value": "100% 20/20 [00:00&lt;00:00, 144.91it/s]"
      }
     },
     "c57e21a1b4ec405f874eddc997b6d701": {
      "model_module": "jupyter-js-widgets",
      "model_module_version": "~2.1.4",
      "model_name": "HBoxModel",
      "state": {
       "_model_module_version": "~2.1.4",
       "_view_module_version": "~2.1.4",
       "children": [
        "IPY_MODEL_17011c4d56ac4236931482f8576ff585",
        "IPY_MODEL_307a7aaf03114cb28f2c9e7f58f7b952"
       ],
       "layout": "IPY_MODEL_48be48a7db65421ba179c0abb5753f36"
      }
     },
     "c60214d6874640e2bc2a8ea402c67cc9": {
      "model_module": "jupyter-js-widgets",
      "model_module_version": "~2.1.4",
      "model_name": "HBoxModel",
      "state": {
       "_model_module_version": "~2.1.4",
       "_view_module_version": "~2.1.4",
       "children": [
        "IPY_MODEL_867306ed01d74c98949740fe207a89c7",
        "IPY_MODEL_c6d12a92874f4384ab7db8a44b6ea9a9"
       ],
       "layout": "IPY_MODEL_eaf22fa126b4497686859a55cc0469c0"
      }
     },
     "c63ef44d74a34ba6ab9a01aedfbec86b": {
      "model_module": "jupyter-js-widgets",
      "model_module_version": "~2.1.4",
      "model_name": "ProgressModel",
      "state": {
       "_model_module_version": "~2.1.4",
       "_view_module_version": "~2.1.4",
       "bar_style": "success",
       "layout": "IPY_MODEL_fda0aedb791a4529a96b3827cc92a14e",
       "max": 20,
       "style": "IPY_MODEL_42ddf188191f4fe3923e83994187085b",
       "value": 20
      }
     },
     "c68248294afe4446b260925746b36968": {
      "model_module": "jupyter-js-widgets",
      "model_module_version": "~2.1.4",
      "model_name": "ProgressStyleModel",
      "state": {
       "_model_module_version": "~2.1.4",
       "_view_module_version": "~2.1.4"
      }
     },
     "c6d12a92874f4384ab7db8a44b6ea9a9": {
      "model_module": "jupyter-js-widgets",
      "model_module_version": "~2.1.4",
      "model_name": "HTMLModel",
      "state": {
       "_model_module_version": "~2.1.4",
       "_view_module_version": "~2.1.4",
       "layout": "IPY_MODEL_6ed223da95c6441a971993e9e7164380",
       "value": "100% 20/20 [00:00&lt;00:00, 170.26it/s]"
      }
     },
     "c8027d58387a468cbecab34b5ad23e1e": {
      "model_module": "jupyter-js-widgets",
      "model_module_version": "~2.1.4",
      "model_name": "LayoutModel",
      "state": {
       "_model_module_version": "~2.1.4",
       "_view_module_version": "~2.1.4"
      }
     },
     "c804a514c1a64c13aa7a2faffd85ffd3": {
      "model_module": "jupyter-js-widgets",
      "model_module_version": "~2.1.4",
      "model_name": "LayoutModel",
      "state": {
       "_model_module_version": "~2.1.4",
       "_view_module_version": "~2.1.4",
       "flex": "0 1 auto",
       "width": "auto"
      }
     },
     "c806e10a8702424fa182dd090b47ed4b": {
      "model_module": "jupyter-js-widgets",
      "model_module_version": "~2.1.4",
      "model_name": "FloatTextModel",
      "state": {
       "_model_module_version": "~2.1.4",
       "_view_module_version": "~2.1.4",
       "description": "max",
       "layout": "IPY_MODEL_87397a6f9af34717a3e3c79a6c90f8dd",
       "value": 510
      }
     },
     "c8883e59482f4c999db68bbf9661760a": {
      "model_module": "jupyter-js-widgets",
      "model_module_version": "~2.1.4",
      "model_name": "LayoutModel",
      "state": {
       "_model_module_version": "~2.1.4",
       "_view_module_version": "~2.1.4"
      }
     },
     "c8ea534c595b4b8c91b5c45a58a09511": {
      "model_module": "jupyter-js-widgets",
      "model_module_version": "~2.1.4",
      "model_name": "HBoxModel",
      "state": {
       "_model_module_version": "~2.1.4",
       "_view_module_version": "~2.1.4",
       "children": [
        "IPY_MODEL_820f5b87988d47b699bb99322079f96e",
        "IPY_MODEL_7b5790abbc9847c3a18f586ae0c466c9",
        "IPY_MODEL_6c1a8db16d534946933a5e2d5f5171ae"
       ],
       "layout": "IPY_MODEL_f5785ae2d67a4ccfbab24c8d317dbb87"
      }
     },
     "c992884bfd7a4ef9a4a4f33885e7d48b": {
      "model_module": "jupyter-js-widgets",
      "model_module_version": "~2.1.4",
      "model_name": "LayoutModel",
      "state": {
       "_model_module_version": "~2.1.4",
       "_view_module_version": "~2.1.4"
      }
     },
     "cacee7d1199d4d6297c07b767d21cf83": {
      "model_module": "jupyter-js-widgets",
      "model_module_version": "~2.1.4",
      "model_name": "FloatTextModel",
      "state": {
       "_model_module_version": "~2.1.4",
       "_view_module_version": "~2.1.4",
       "description": "min",
       "layout": "IPY_MODEL_f65c443d6dd242e580f3dbdfe06f2237",
       "value": -9
      }
     },
     "cbe7a089a6324d82b801406e1282ac14": {
      "model_module": "jupyter-js-widgets",
      "model_module_version": "~2.1.4",
      "model_name": "HBoxModel",
      "state": {
       "_model_module_version": "~2.1.4",
       "_view_module_version": "~2.1.4",
       "children": [
        "IPY_MODEL_aedc7890c1b1451bb8a4eae2710240e4",
        "IPY_MODEL_3fffdb2411de468da90ac88cf5344060"
       ],
       "layout": "IPY_MODEL_857c3172897d4da7af58995e67172422"
      }
     },
     "cc0030d9297a402ba8448ce47aa1347b": {
      "model_module": "jupyter-js-widgets",
      "model_module_version": "~2.1.4",
      "model_name": "LayoutModel",
      "state": {
       "_model_module_version": "~2.1.4",
       "_view_module_version": "~2.1.4"
      }
     },
     "cc2f644cb0884da9b951b600227a51cf": {
      "model_module": "jupyter-js-widgets",
      "model_module_version": "~2.1.4",
      "model_name": "LayoutModel",
      "state": {
       "_model_module_version": "~2.1.4",
       "_view_module_version": "~2.1.4",
       "flex": "0 1 auto",
       "width": "auto"
      }
     },
     "cee01459586f4830ace93923eaf277a4": {
      "model_module": "jupyter-js-widgets",
      "model_module_version": "~2.1.4",
      "model_name": "LayoutModel",
      "state": {
       "_model_module_version": "~2.1.4",
       "_view_module_version": "~2.1.4"
      }
     },
     "cf6b74b335ce4c0d8f006b8f5096e386": {
      "model_module": "jupyter-js-widgets",
      "model_module_version": "~2.1.4",
      "model_name": "CheckboxModel",
      "state": {
       "_model_module_version": "~2.1.4",
       "_view_module_version": "~2.1.4",
       "description": "active",
       "disabled": false,
       "layout": "IPY_MODEL_06b19e3b6060433cbbbd07f28516589d",
       "value": true
      }
     },
     "cfd468b026ef4d0aac698a2be5497f61": {
      "model_module": "jupyter-js-widgets",
      "model_module_version": "~2.1.4",
      "model_name": "ProgressModel",
      "state": {
       "_model_module_version": "~2.1.4",
       "_view_module_version": "~2.1.4",
       "bar_style": "success",
       "layout": "IPY_MODEL_bd226476c35047afb3adb480a1bb6cdb",
       "max": 20,
       "style": "IPY_MODEL_c68248294afe4446b260925746b36968",
       "value": 20
      }
     },
     "d0291b66f2c641f785c19780c2a54a8b": {
      "model_module": "jupyter-js-widgets",
      "model_module_version": "~2.1.4",
      "model_name": "AccordionModel",
      "state": {
       "_model_module_version": "~2.1.4",
       "_titles": {
        "0": "sin",
        "1": "Gaussian",
        "2": "Polynomial"
       },
       "_view_module_version": "~2.1.4",
       "children": [
        "IPY_MODEL_82d37664801f4a189d3751f038fc707e",
        "IPY_MODEL_3c76eb27d201428ba2efe6c1e48d54da",
        "IPY_MODEL_0a6f93b547f846b98b9954c941885049"
       ],
       "layout": "IPY_MODEL_982b93d5a1814e83bffb05bed39ac4da",
       "selected_index": 2
      }
     },
     "d07b91a108414bae96ebc1fb3f3c9ab3": {
      "model_module": "jupyter-js-widgets",
      "model_module_version": "~2.1.4",
      "model_name": "LayoutModel",
      "state": {
       "_model_module_version": "~2.1.4",
       "_view_module_version": "~2.1.4"
      }
     },
     "d343a8ae529746b38819561f0e42e4b5": {
      "model_module": "jupyter-js-widgets",
      "model_module_version": "~2.1.4",
      "model_name": "VBoxModel",
      "state": {
       "_model_module_version": "~2.1.4",
       "_view_module_version": "~2.1.4",
       "children": [
        "IPY_MODEL_9c5c03c6538f49449e3f0dffab08dd8c",
        "IPY_MODEL_213bc4ed6338485cb76f1b02837411ce",
        "IPY_MODEL_2564b8c3130b4ba0a83785688ec312ed",
        "IPY_MODEL_4d010e85e3344f769d5dce3b7ee8a6c2"
       ],
       "layout": "IPY_MODEL_d4eae8f86a3b4fee97c4c1fac50e218d"
      }
     },
     "d3de36c409d5477982f0670516639040": {
      "model_module": "jupyter-js-widgets",
      "model_module_version": "~2.1.4",
      "model_name": "ProgressModel",
      "state": {
       "_model_module_version": "~2.1.4",
       "_view_module_version": "~2.1.4",
       "bar_style": "success",
       "layout": "IPY_MODEL_770159025e6342119d30e99dad84130a",
       "max": 20,
       "style": "IPY_MODEL_4143e3751ee44db79bfca14521cd2c2a",
       "value": 20
      }
     },
     "d3e8ea51239d4a5c8240c5cdc88974fc": {
      "model_module": "jupyter-js-widgets",
      "model_module_version": "~2.1.4",
      "model_name": "FloatTextModel",
      "state": {
       "_model_module_version": "~2.1.4",
       "_view_module_version": "~2.1.4",
       "description": "max",
       "layout": "IPY_MODEL_160ef82670f74c75bb170c7bdf3d1525",
       "value": 11
      }
     },
     "d40b9d6f08444fbfb6027a8cffdb9708": {
      "model_module": "jupyter-js-widgets",
      "model_module_version": "~2.1.4",
      "model_name": "LayoutModel",
      "state": {
       "_model_module_version": "~2.1.4",
       "_view_module_version": "~2.1.4"
      }
     },
     "d48e07273fd94343bf80e670b48d071b": {
      "model_module": "jupyter-js-widgets",
      "model_module_version": "~2.1.4",
      "model_name": "LayoutModel",
      "state": {
       "_model_module_version": "~2.1.4",
       "_view_module_version": "~2.1.4",
       "flex": "0 1 auto",
       "width": "auto"
      }
     },
     "d4eae8f86a3b4fee97c4c1fac50e218d": {
      "model_module": "jupyter-js-widgets",
      "model_module_version": "~2.1.4",
      "model_name": "LayoutModel",
      "state": {
       "_model_module_version": "~2.1.4",
       "_view_module_version": "~2.1.4"
      }
     },
     "d77844638da044ae84ace765a2d4e3e1": {
      "model_module": "jupyter-js-widgets",
      "model_module_version": "~2.1.4",
      "model_name": "LayoutModel",
      "state": {
       "_model_module_version": "~2.1.4",
       "_view_module_version": "~2.1.4"
      }
     },
     "d855befacd294f8a8acb5f1ac4fb36a4": {
      "model_module": "jupyter-js-widgets",
      "model_module_version": "~2.1.4",
      "model_name": "HTMLModel",
      "state": {
       "_model_module_version": "~2.1.4",
       "_view_module_version": "~2.1.4",
       "layout": "IPY_MODEL_b2d11b328ea7484e8f4249e5d7c4bc78",
       "value": "100% 20/20 [00:00&lt;00:00, 155.92it/s]"
      }
     },
     "d91313a2738e4cdda812e0ef7aa99e76": {
      "model_module": "jupyter-js-widgets",
      "model_module_version": "~2.1.4",
      "model_name": "ProgressModel",
      "state": {
       "_model_module_version": "~2.1.4",
       "_view_module_version": "~2.1.4",
       "bar_style": "success",
       "layout": "IPY_MODEL_79cd089a120a4d3bb8dd0974a12aaa73",
       "max": 20,
       "style": "IPY_MODEL_d97ad647e30c43399b75b3375eaa8373",
       "value": 20
      }
     },
     "d92b5e42f8aa413484e64a7b85274f5d": {
      "model_module": "jupyter-js-widgets",
      "model_module_version": "~2.1.4",
      "model_name": "FloatTextModel",
      "state": {
       "_model_module_version": "~2.1.4",
       "_view_module_version": "~2.1.4",
       "description": "min",
       "layout": "IPY_MODEL_2549910dff714b719d2b6f60f2129529"
      }
     },
     "d97ad647e30c43399b75b3375eaa8373": {
      "model_module": "jupyter-js-widgets",
      "model_module_version": "~2.1.4",
      "model_name": "ProgressStyleModel",
      "state": {
       "_model_module_version": "~2.1.4",
       "_view_module_version": "~2.1.4"
      }
     },
     "d986bf3512fd4a86ad0711f4d2bf0e72": {
      "model_module": "jupyter-js-widgets",
      "model_module_version": "~2.1.4",
      "model_name": "HBoxModel",
      "state": {
       "_model_module_version": "~2.1.4",
       "_view_module_version": "~2.1.4",
       "children": [
        "IPY_MODEL_f24e54b5597e49f4836b55be8bfb83b5",
        "IPY_MODEL_6cb724d96a764b11a48512748f9341ee"
       ],
       "layout": "IPY_MODEL_d40b9d6f08444fbfb6027a8cffdb9708"
      }
     },
     "da58602f80f0453d8920879372074b2c": {
      "model_module": "jupyter-js-widgets",
      "model_module_version": "~2.1.4",
      "model_name": "CheckboxModel",
      "state": {
       "_model_module_version": "~2.1.4",
       "_view_module_version": "~2.1.4",
       "description": "active",
       "disabled": false,
       "layout": "IPY_MODEL_f535b9b05a7b4c6b87ba2d0b6b3c735f",
       "value": true
      }
     },
     "da7215196fd54d46a0def4b127b283b4": {
      "model_module": "jupyter-js-widgets",
      "model_module_version": "~2.1.4",
      "model_name": "FloatTextModel",
      "state": {
       "_model_module_version": "~2.1.4",
       "_view_module_version": "~2.1.4",
       "description": "min",
       "layout": "IPY_MODEL_c804a514c1a64c13aa7a2faffd85ffd3"
      }
     },
     "db0e4f6e25c244f8bc978eea928e679b": {
      "model_module": "jupyter-js-widgets",
      "model_module_version": "~2.1.4",
      "model_name": "LayoutModel",
      "state": {
       "_model_module_version": "~2.1.4",
       "_view_module_version": "~2.1.4",
       "flex": "0 1 auto",
       "width": "auto"
      }
     },
     "dc49b41fd7d34663a270a0c754a3f2fd": {
      "model_module": "jupyter-js-widgets",
      "model_module_version": "~2.1.4",
      "model_name": "FloatTextModel",
      "state": {
       "_model_module_version": "~2.1.4",
       "_view_module_version": "~2.1.4",
       "description": "max",
       "layout": "IPY_MODEL_8678c08e0a5040558dc7dae302d80857",
       "value": 102.30000000000001
      }
     },
     "dc974ccbad064b33bdcf7cb4fcb73782": {
      "model_module": "jupyter-js-widgets",
      "model_module_version": "~2.1.4",
      "model_name": "HTMLModel",
      "state": {
       "_model_module_version": "~2.1.4",
       "_view_module_version": "~2.1.4",
       "layout": "IPY_MODEL_c086f4773b4e4a77a5abf88e07740803",
       "value": "100% 20/20 [00:00&lt;00:00, 154.61it/s]"
      }
     },
     "dfd3b6e694514aef8e1b0e717245b4f9": {
      "model_module": "jupyter-js-widgets",
      "model_module_version": "~2.1.4",
      "model_name": "FloatTextModel",
      "state": {
       "_model_module_version": "~2.1.4",
       "_view_module_version": "~2.1.4",
       "description": "min",
       "layout": "IPY_MODEL_efa89a258aa841d5b8ec8d471747af7b",
       "value": -10
      }
     },
     "dfe334e8385a4bce8855d8d428238f07": {
      "model_module": "jupyter-js-widgets",
      "model_module_version": "~2.1.4",
      "model_name": "HBoxModel",
      "state": {
       "_model_module_version": "~2.1.4",
       "_view_module_version": "~2.1.4",
       "children": [
        "IPY_MODEL_7f73b3b2a6f24a0d890322314ed0483f",
        "IPY_MODEL_c33cf460a93a4ed382f16f8c29c2ef67",
        "IPY_MODEL_646302eae7a8497ba9f45712a9f16c45"
       ],
       "layout": "IPY_MODEL_5e4b15fbd06444e089af5e72309cd875"
      }
     },
     "e0904cc318134d22b089d27197e4b6df": {
      "model_module": "jupyter-js-widgets",
      "model_module_version": "~2.1.4",
      "model_name": "LayoutModel",
      "state": {
       "_model_module_version": "~2.1.4",
       "_view_module_version": "~2.1.4",
       "flex": "0 1 auto",
       "width": "auto"
      }
     },
     "e1357e76735a4691b7507c66056f732c": {
      "model_module": "jupyter-js-widgets",
      "model_module_version": "~2.1.4",
      "model_name": "HTMLModel",
      "state": {
       "_model_module_version": "~2.1.4",
       "_view_module_version": "~2.1.4",
       "layout": "IPY_MODEL_bb52e2e377a142ce85fccfebcf73d8b5",
       "value": "100% 20/20 [00:00&lt;00:00, 134.61it/s]"
      }
     },
     "e13d1c1c7c26426ba78053f9c803f0d1": {
      "model_module": "jupyter-js-widgets",
      "model_module_version": "~2.1.4",
      "model_name": "LayoutModel",
      "state": {
       "_model_module_version": "~2.1.4",
       "_view_module_version": "~2.1.4"
      }
     },
     "e3135c54c61d4087849fcfc69848c9b9": {
      "model_module": "jupyter-js-widgets",
      "model_module_version": "~2.1.4",
      "model_name": "ProgressModel",
      "state": {
       "_model_module_version": "~2.1.4",
       "_view_module_version": "~2.1.4",
       "bar_style": "success",
       "layout": "IPY_MODEL_5a96933f056e47b38df210372e418dca",
       "max": 20,
       "style": "IPY_MODEL_637248a5833a4eca91f619394d0ceaa2",
       "value": 20
      }
     },
     "e3ea6bbc441348619ecc575011f34bd1": {
      "model_module": "jupyter-js-widgets",
      "model_module_version": "~2.1.4",
      "model_name": "LayoutModel",
      "state": {
       "_model_module_version": "~2.1.4",
       "_view_module_version": "~2.1.4",
       "flex": "0 1 auto",
       "width": "auto"
      }
     },
     "e4f628e665224a2590651e73114b99b5": {
      "model_module": "jupyter-js-widgets",
      "model_module_version": "~2.1.4",
      "model_name": "ProgressModel",
      "state": {
       "_model_module_version": "~2.1.4",
       "_view_module_version": "~2.1.4",
       "bar_style": "success",
       "layout": "IPY_MODEL_7e333774ccaf462c8adbc8fe61a50895",
       "max": 20,
       "style": "IPY_MODEL_82650e25bae448b0adc0c3195aeaff07",
       "value": 20
      }
     },
     "e510befc0859413a888a3fc1b0d8ac5e": {
      "model_module": "jupyter-js-widgets",
      "model_module_version": "~2.1.4",
      "model_name": "HBoxModel",
      "state": {
       "_model_module_version": "~2.1.4",
       "_view_module_version": "~2.1.4",
       "children": [
        "IPY_MODEL_0d11ef8759da410c9cae2dc013675953",
        "IPY_MODEL_aa16e47c899d4a3da4a8c7f7d57c897e",
        "IPY_MODEL_324bc3cabe2e4f358cc9e995ce786704"
       ],
       "layout": "IPY_MODEL_6557bfe58b714bd3881c2b256a813f7f"
      }
     },
     "e516fcdfcca74d41ad9eb740fca7c59c": {
      "model_module": "jupyter-js-widgets",
      "model_module_version": "~2.1.4",
      "model_name": "LayoutModel",
      "state": {
       "_model_module_version": "~2.1.4",
       "_view_module_version": "~2.1.4"
      }
     },
     "e533c4680d614cdc81619881513a3c0e": {
      "model_module": "jupyter-js-widgets",
      "model_module_version": "~2.1.4",
      "model_name": "LayoutModel",
      "state": {
       "_model_module_version": "~2.1.4",
       "_view_module_version": "~2.1.4"
      }
     },
     "e570c5a9a6894ec6b9fa1bb84e2c5e68": {
      "model_module": "jupyter-js-widgets",
      "model_module_version": "~2.1.4",
      "model_name": "FloatTextModel",
      "state": {
       "_model_module_version": "~2.1.4",
       "_view_module_version": "~2.1.4",
       "description": "min",
       "layout": "IPY_MODEL_281d4e892f204960bd1aa6e3e2d6820b",
       "value": -10
      }
     },
     "e5c633475c1a4d8586d54f32c5ae6490": {
      "model_module": "jupyter-js-widgets",
      "model_module_version": "~2.1.4",
      "model_name": "LayoutModel",
      "state": {
       "_model_module_version": "~2.1.4",
       "_view_module_version": "~2.1.4"
      }
     },
     "e65978b142e9431185829bb8c0d38d4c": {
      "model_module": "jupyter-js-widgets",
      "model_module_version": "~2.1.4",
      "model_name": "LayoutModel",
      "state": {
       "_model_module_version": "~2.1.4",
       "_view_module_version": "~2.1.4"
      }
     },
     "e686537e04d94395b8988e6580194e1e": {
      "model_module": "jupyter-js-widgets",
      "model_module_version": "~2.1.4",
      "model_name": "LayoutModel",
      "state": {
       "_model_module_version": "~2.1.4",
       "_view_module_version": "~2.1.4",
       "flex": "0 1 auto",
       "width": "auto"
      }
     },
     "e775aafb1e764266a5be997155b89b84": {
      "model_module": "jupyter-js-widgets",
      "model_module_version": "~2.1.4",
      "model_name": "FloatTextModel",
      "state": {
       "_model_module_version": "~2.1.4",
       "_view_module_version": "~2.1.4",
       "description": "max",
       "layout": "IPY_MODEL_9c7848cbc8d642c7957234d6850aba76",
       "value": 10000
      }
     },
     "e7f89c64ad32458a8092a4a268fa4a95": {
      "model_module": "jupyter-js-widgets",
      "model_module_version": "~2.1.4",
      "model_name": "LayoutModel",
      "state": {
       "_model_module_version": "~2.1.4",
       "_view_module_version": "~2.1.4"
      }
     },
     "e8e9098c6e6f47c4a05a8f9070cb9ce4": {
      "model_module": "jupyter-js-widgets",
      "model_module_version": "~2.1.4",
      "model_name": "LayoutModel",
      "state": {
       "_model_module_version": "~2.1.4",
       "_view_module_version": "~2.1.4"
      }
     },
     "eacbf0edb3064d95b0b5e0ea720a6c5d": {
      "model_module": "jupyter-js-widgets",
      "model_module_version": "~2.1.4",
      "model_name": "LayoutModel",
      "state": {
       "_model_module_version": "~2.1.4",
       "_view_module_version": "~2.1.4",
       "flex": "0 1 auto",
       "width": "auto"
      }
     },
     "eaf22fa126b4497686859a55cc0469c0": {
      "model_module": "jupyter-js-widgets",
      "model_module_version": "~2.1.4",
      "model_name": "LayoutModel",
      "state": {
       "_model_module_version": "~2.1.4",
       "_view_module_version": "~2.1.4"
      }
     },
     "eb01392e8f6f45cfb56f3ab200305a97": {
      "model_module": "jupyter-js-widgets",
      "model_module_version": "~2.1.4",
      "model_name": "ProgressStyleModel",
      "state": {
       "_model_module_version": "~2.1.4",
       "_view_module_version": "~2.1.4"
      }
     },
     "eb978d4278ff4ac09e3008bb105610cd": {
      "model_module": "jupyter-js-widgets",
      "model_module_version": "~2.1.4",
      "model_name": "HBoxModel",
      "state": {
       "_model_module_version": "~2.1.4",
       "_view_module_version": "~2.1.4",
       "children": [
        "IPY_MODEL_400553852e5f474ba1f6270cc1d6719d",
        "IPY_MODEL_825132f996eb45558506da3d1c523903",
        "IPY_MODEL_c806e10a8702424fa182dd090b47ed4b"
       ],
       "layout": "IPY_MODEL_e13d1c1c7c26426ba78053f9c803f0d1"
      }
     },
     "eca38a06625749529469df81564d59b3": {
      "model_module": "jupyter-js-widgets",
      "model_module_version": "~2.1.4",
      "model_name": "LayoutModel",
      "state": {
       "_model_module_version": "~2.1.4",
       "_view_module_version": "~2.1.4"
      }
     },
     "edc7e1710b114c96a94b358e731d0bc8": {
      "model_module": "jupyter-js-widgets",
      "model_module_version": "~2.1.4",
      "model_name": "AccordionModel",
      "state": {
       "_model_module_version": "~2.1.4",
       "_titles": {
        "0": "large",
        "1": "small"
       },
       "_view_module_version": "~2.1.4",
       "children": [
        "IPY_MODEL_d343a8ae529746b38819561f0e42e4b5",
        "IPY_MODEL_a8d8f984f97e403aac6bcbc386a5a11f"
       ],
       "layout": "IPY_MODEL_2deb604304a84c09a2e65d713546039b"
      }
     },
     "ef349aefc4ac48a9963e5b13c057b262": {
      "model_module": "jupyter-js-widgets",
      "model_module_version": "~2.1.4",
      "model_name": "ProgressModel",
      "state": {
       "_model_module_version": "~2.1.4",
       "_view_module_version": "~2.1.4",
       "bar_style": "success",
       "layout": "IPY_MODEL_a85fcb27b0f14816be2d36c3eeea59bd",
       "max": 20,
       "style": "IPY_MODEL_465536b6f4a04be09f46d271be90138d",
       "value": 20
      }
     },
     "ef8d0ff171fd4fc7a8fc603854847c2a": {
      "model_module": "jupyter-js-widgets",
      "model_module_version": "~2.1.4",
      "model_name": "LayoutModel",
      "state": {
       "_model_module_version": "~2.1.4",
       "_view_module_version": "~2.1.4"
      }
     },
     "efa89a258aa841d5b8ec8d471747af7b": {
      "model_module": "jupyter-js-widgets",
      "model_module_version": "~2.1.4",
      "model_name": "LayoutModel",
      "state": {
       "_model_module_version": "~2.1.4",
       "_view_module_version": "~2.1.4",
       "flex": "0 1 auto",
       "width": "auto"
      }
     },
     "eff04752bc864350a88c941f2af8f73a": {
      "model_module": "jupyter-js-widgets",
      "model_module_version": "~2.1.4",
      "model_name": "LayoutModel",
      "state": {
       "_model_module_version": "~2.1.4",
       "_view_module_version": "~2.1.4",
       "display": "flex",
       "flex_flow": "row",
       "justify_content": "space-between"
      }
     },
     "f24e54b5597e49f4836b55be8bfb83b5": {
      "model_module": "jupyter-js-widgets",
      "model_module_version": "~2.1.4",
      "model_name": "ProgressModel",
      "state": {
       "_model_module_version": "~2.1.4",
       "_view_module_version": "~2.1.4",
       "bar_style": "success",
       "layout": "IPY_MODEL_fcd066c904fd40818bdfe6975b918eaa",
       "max": 20,
       "style": "IPY_MODEL_6e4421b7c99a4bdb94520fc172731a06",
       "value": 20
      }
     },
     "f260d48cda6440ea8da9f20c314d49a8": {
      "model_module": "jupyter-js-widgets",
      "model_module_version": "~2.1.4",
      "model_name": "LayoutModel",
      "state": {
       "_model_module_version": "~2.1.4",
       "_view_module_version": "~2.1.4"
      }
     },
     "f4f083f1572543569aebb50fb1e67572": {
      "model_module": "jupyter-js-widgets",
      "model_module_version": "~2.1.4",
      "model_name": "HBoxModel",
      "state": {
       "_model_module_version": "~2.1.4",
       "_view_module_version": "~2.1.4",
       "children": [
        "IPY_MODEL_d3de36c409d5477982f0670516639040",
        "IPY_MODEL_3cffd1eb9779495281acdd4b46c44536"
       ],
       "layout": "IPY_MODEL_48d9bc0c026448ee9ae10969f47fe55b"
      }
     },
     "f535b9b05a7b4c6b87ba2d0b6b3c735f": {
      "model_module": "jupyter-js-widgets",
      "model_module_version": "~2.1.4",
      "model_name": "LayoutModel",
      "state": {
       "_model_module_version": "~2.1.4",
       "_view_module_version": "~2.1.4"
      }
     },
     "f5732b803a964d449684ac1d9fc47618": {
      "model_module": "jupyter-js-widgets",
      "model_module_version": "~2.1.4",
      "model_name": "LayoutModel",
      "state": {
       "_model_module_version": "~2.1.4",
       "_view_module_version": "~2.1.4",
       "flex": "1 1 auto",
       "width": "auto"
      }
     },
     "f5785ae2d67a4ccfbab24c8d317dbb87": {
      "model_module": "jupyter-js-widgets",
      "model_module_version": "~2.1.4",
      "model_name": "LayoutModel",
      "state": {
       "_model_module_version": "~2.1.4",
       "_view_module_version": "~2.1.4"
      }
     },
     "f65c443d6dd242e580f3dbdfe06f2237": {
      "model_module": "jupyter-js-widgets",
      "model_module_version": "~2.1.4",
      "model_name": "LayoutModel",
      "state": {
       "_model_module_version": "~2.1.4",
       "_view_module_version": "~2.1.4",
       "flex": "0 1 auto",
       "width": "auto"
      }
     },
     "f73d12dd0f3540489bd768a606103919": {
      "model_module": "jupyter-js-widgets",
      "model_module_version": "~2.1.4",
      "model_name": "LayoutModel",
      "state": {
       "_model_module_version": "~2.1.4",
       "_view_module_version": "~2.1.4",
       "flex": "0 1 auto",
       "width": "auto"
      }
     },
     "fa78681cae9d437b8b0ac5d2fe02cb2b": {
      "model_module": "jupyter-js-widgets",
      "model_module_version": "~2.1.4",
      "model_name": "FloatTextModel",
      "state": {
       "_model_module_version": "~2.1.4",
       "_view_module_version": "~2.1.4",
       "description": "max",
       "layout": "IPY_MODEL_8df1a04c7f074402b8dc5e5f639c96a9",
       "value": 299.90000000000003
      }
     },
     "fad9ab964c68402699f91ff337812e1b": {
      "model_module": "jupyter-js-widgets",
      "model_module_version": "~2.1.4",
      "model_name": "LayoutModel",
      "state": {
       "_model_module_version": "~2.1.4",
       "_view_module_version": "~2.1.4"
      }
     },
     "fb69962a51d7418cbe7607520fb470bb": {
      "model_module": "jupyter-js-widgets",
      "model_module_version": "~2.1.4",
      "model_name": "LayoutModel",
      "state": {
       "_model_module_version": "~2.1.4",
       "_view_module_version": "~2.1.4",
       "flex": "0 1 auto",
       "width": "auto"
      }
     },
     "fc26fa25bd8847d6b105548ac0dd055a": {
      "model_module": "jupyter-js-widgets",
      "model_module_version": "~2.1.4",
      "model_name": "LayoutModel",
      "state": {
       "_model_module_version": "~2.1.4",
       "_view_module_version": "~2.1.4"
      }
     },
     "fc2ca37a21be4e70aaa1cee13f3f182d": {
      "model_module": "jupyter-js-widgets",
      "model_module_version": "~2.1.4",
      "model_name": "FloatSliderModel",
      "state": {
       "_model_module_version": "~2.1.4",
       "_view_module_version": "~2.1.4",
       "description": "A",
       "layout": "IPY_MODEL_4cbf8e50267b4966b1ec86e2b01deaa5",
       "max": 10000,
       "step": 10,
       "value": 10000
      }
     },
     "fcd066c904fd40818bdfe6975b918eaa": {
      "model_module": "jupyter-js-widgets",
      "model_module_version": "~2.1.4",
      "model_name": "LayoutModel",
      "state": {
       "_model_module_version": "~2.1.4",
       "_view_module_version": "~2.1.4"
      }
     },
     "fd879050c1d94552b35b04244847185e": {
      "model_module": "jupyter-js-widgets",
      "model_module_version": "~2.1.4",
      "model_name": "LayoutModel",
      "state": {
       "_model_module_version": "~2.1.4",
       "_view_module_version": "~2.1.4"
      }
     },
     "fda0aedb791a4529a96b3827cc92a14e": {
      "model_module": "jupyter-js-widgets",
      "model_module_version": "~2.1.4",
      "model_name": "LayoutModel",
      "state": {
       "_model_module_version": "~2.1.4",
       "_view_module_version": "~2.1.4"
      }
     }
    },
    "version_major": 1,
    "version_minor": 0
   }
  }
 },
 "nbformat": 4,
 "nbformat_minor": 4
}
